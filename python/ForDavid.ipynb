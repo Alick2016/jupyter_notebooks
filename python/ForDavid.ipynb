{
 "cells": [
  {
   "cell_type": "markdown",
   "metadata": {},
   "source": [
    "# For David"
   ]
  },
  {
   "cell_type": "markdown",
   "metadata": {},
   "source": [
    "David wrote:<br>\n",
    "\"Not sure if this would be the right forum but I'll give it a shot. I'm looking for a program that will take a csv or Excel file and profile the data in it: # of rows, list of column names, worksheet tab (if Excel), max and min in a column, whether a column has all unique values or a histogram of the values (value and count) when there are less than <x> unique values (parameter input into program), whether a column is all numeric, all alpha or alpha numeric, if numeric then average and median values. Thanks!\""
   ]
  },
  {
   "cell_type": "code",
   "execution_count": 66,
   "metadata": {
    "collapsed": true
   },
   "outputs": [],
   "source": [
    "%matplotlib inline\n",
    "import pandas as pd\n",
    "import matplotlib.pyplot as plt\n",
    "import xlrd\n",
    "plt.style.use('ggplot')                      # don't like MATPLOTLIB default style\n",
    "pd.set_option(\"display.max_rows\",50)\n",
    "pd.set_option(\"display.max_columns\",50)\n",
    "pd.set_option('large_repr', 'truncate')"
   ]
  },
  {
   "cell_type": "markdown",
   "metadata": {},
   "source": [
    "### To get the sheet names without opening the file first:"
   ]
  },
  {
   "cell_type": "code",
   "execution_count": 72,
   "metadata": {
    "collapsed": false
   },
   "outputs": [
    {
     "data": {
      "text/plain": [
       "['Data notes', 'Data tab']"
      ]
     },
     "execution_count": 72,
     "metadata": {},
     "output_type": "execute_result"
    }
   ],
   "source": [
    "xls = xlrd.open_workbook('/home/pybokeh/Downloads/2013 - 2014 School Year Staff Salary Information.xlsx', on_demand=True)\n",
    "xls.sheet_names()"
   ]
  },
  {
   "cell_type": "markdown",
   "metadata": {},
   "source": [
    "### Read the Excel file for a specific work sheet name:"
   ]
  },
  {
   "cell_type": "code",
   "execution_count": 17,
   "metadata": {
    "collapsed": false
   },
   "outputs": [],
   "source": [
    "df = pd.read_excel('/home/pybokeh/Downloads/2013 - 2014 School Year Staff Salary Information.xlsx', sheetname='Data tab')"
   ]
  },
  {
   "cell_type": "markdown",
   "metadata": {},
   "source": [
    "### Let's view first 5 rows of the data set (Ohio public education sector salary):"
   ]
  },
  {
   "cell_type": "code",
   "execution_count": 34,
   "metadata": {
    "collapsed": false
   },
   "outputs": [
    {
     "data": {
      "text/html": [
       "<div>\n",
       "<table border=\"1\" class=\"dataframe\">\n",
       "  <thead>\n",
       "    <tr style=\"text-align: right;\">\n",
       "      <th></th>\n",
       "      <th>LAST NAME</th>\n",
       "      <th>FIRST NAME</th>\n",
       "      <th>EDUCATION LEVEL</th>\n",
       "      <th>JOB DESCRIPTION</th>\n",
       "      <th>DISTRICT NAME</th>\n",
       "      <th>SCHOOL NAME</th>\n",
       "      <th>CITY NAME</th>\n",
       "      <th>DAYS WORKED</th>\n",
       "      <th>HOURS WORKED PER DAY</th>\n",
       "      <th>PAY AMOUNT</th>\n",
       "    </tr>\n",
       "  </thead>\n",
       "  <tbody>\n",
       "    <tr>\n",
       "      <th>0</th>\n",
       "      <td>LONGDEN</td>\n",
       "      <td>CHERYL</td>\n",
       "      <td>Masters</td>\n",
       "      <td>Tutor/Small Group Instructor Assignment (Serve...</td>\n",
       "      <td>Ashtabula Area City</td>\n",
       "      <td>Lakeside High School</td>\n",
       "      <td>Ashtabula</td>\n",
       "      <td>185</td>\n",
       "      <td>7.00</td>\n",
       "      <td>23544</td>\n",
       "    </tr>\n",
       "    <tr>\n",
       "      <th>1</th>\n",
       "      <td>SIKES</td>\n",
       "      <td>LINDA</td>\n",
       "      <td>Masters</td>\n",
       "      <td>Counseling Assignment</td>\n",
       "      <td>Yellow Springs Exempted Village</td>\n",
       "      <td>Yellow Springs/McKinney High School</td>\n",
       "      <td>Yellow Springs</td>\n",
       "      <td>194</td>\n",
       "      <td>7.00</td>\n",
       "      <td>80949</td>\n",
       "    </tr>\n",
       "    <tr>\n",
       "      <th>2</th>\n",
       "      <td>SMITH</td>\n",
       "      <td>SHERRY</td>\n",
       "      <td>Masters</td>\n",
       "      <td>Other Professional \u0013 Other Assignment</td>\n",
       "      <td>Greene County ESC</td>\n",
       "      <td>Greene County ESC</td>\n",
       "      <td>Yellow Springs</td>\n",
       "      <td>103</td>\n",
       "      <td>7.50</td>\n",
       "      <td>24322</td>\n",
       "    </tr>\n",
       "    <tr>\n",
       "      <th>3</th>\n",
       "      <td>BALOG</td>\n",
       "      <td>GEORGE</td>\n",
       "      <td>Masters</td>\n",
       "      <td>Teacher Assignment</td>\n",
       "      <td>Dayton City</td>\n",
       "      <td>Stivers School For The Arts</td>\n",
       "      <td>Dayton</td>\n",
       "      <td>200</td>\n",
       "      <td>4.35</td>\n",
       "      <td>36964</td>\n",
       "    </tr>\n",
       "    <tr>\n",
       "      <th>4</th>\n",
       "      <td>BAUER</td>\n",
       "      <td>RICHARD</td>\n",
       "      <td>Masters</td>\n",
       "      <td>Teacher Assignment</td>\n",
       "      <td>North Olmsted City</td>\n",
       "      <td>North Olmsted Middle School</td>\n",
       "      <td>North Olmsted</td>\n",
       "      <td>185</td>\n",
       "      <td>7.50</td>\n",
       "      <td>91187</td>\n",
       "    </tr>\n",
       "  </tbody>\n",
       "</table>\n",
       "</div>"
      ],
      "text/plain": [
       "  LAST NAME FIRST NAME EDUCATION LEVEL  \\\n",
       "0   LONGDEN     CHERYL         Masters   \n",
       "1     SIKES      LINDA         Masters   \n",
       "2     SMITH     SHERRY         Masters   \n",
       "3     BALOG     GEORGE         Masters   \n",
       "4     BAUER    RICHARD         Masters   \n",
       "\n",
       "                                     JOB DESCRIPTION  \\\n",
       "0  Tutor/Small Group Instructor Assignment (Serve...   \n",
       "1                             Counseling Assignment    \n",
       "2             Other Professional \u0013 Other Assignment    \n",
       "3                                 Teacher Assignment   \n",
       "4                                 Teacher Assignment   \n",
       "\n",
       "                     DISTRICT NAME                          SCHOOL NAME  \\\n",
       "0              Ashtabula Area City                 Lakeside High School   \n",
       "1  Yellow Springs Exempted Village  Yellow Springs/McKinney High School   \n",
       "2                Greene County ESC                    Greene County ESC   \n",
       "3                      Dayton City          Stivers School For The Arts   \n",
       "4               North Olmsted City          North Olmsted Middle School   \n",
       "\n",
       "        CITY NAME  DAYS WORKED  HOURS WORKED PER DAY  PAY AMOUNT  \n",
       "0       Ashtabula          185                  7.00       23544  \n",
       "1  Yellow Springs          194                  7.00       80949  \n",
       "2  Yellow Springs          103                  7.50       24322  \n",
       "3          Dayton          200                  4.35       36964  \n",
       "4   North Olmsted          185                  7.50       91187  "
      ]
     },
     "execution_count": 34,
     "metadata": {},
     "output_type": "execute_result"
    }
   ],
   "source": [
    "df.head()"
   ]
  },
  {
   "cell_type": "markdown",
   "metadata": {},
   "source": [
    "### info() gives you total number of rows and column data types:"
   ]
  },
  {
   "cell_type": "code",
   "execution_count": 36,
   "metadata": {
    "collapsed": false
   },
   "outputs": [
    {
     "name": "stdout",
     "output_type": "stream",
     "text": [
      "<class 'pandas.core.frame.DataFrame'>\n",
      "Int64Index: 272731 entries, 0 to 272730\n",
      "Data columns (total 10 columns):\n",
      "LAST NAME               272710 non-null object\n",
      "FIRST NAME              272645 non-null object\n",
      "EDUCATION LEVEL         272731 non-null object\n",
      "JOB DESCRIPTION         272731 non-null object\n",
      "DISTRICT NAME           272638 non-null object\n",
      "SCHOOL NAME             261393 non-null object\n",
      "CITY NAME               261360 non-null object\n",
      "DAYS WORKED             272731 non-null int64\n",
      "HOURS WORKED PER DAY    272731 non-null float64\n",
      "PAY AMOUNT              272731 non-null float64\n",
      "dtypes: float64(2), int64(1), object(7)\n",
      "memory usage: 22.9+ MB\n"
     ]
    }
   ],
   "source": [
    "df.info()"
   ]
  },
  {
   "cell_type": "markdown",
   "metadata": {},
   "source": [
    "### describe() gives you summary statistics on columns that pandas thinks contain numeric value:"
   ]
  },
  {
   "cell_type": "code",
   "execution_count": 37,
   "metadata": {
    "collapsed": false
   },
   "outputs": [
    {
     "data": {
      "text/html": [
       "<div>\n",
       "<table border=\"1\" class=\"dataframe\">\n",
       "  <thead>\n",
       "    <tr style=\"text-align: right;\">\n",
       "      <th></th>\n",
       "      <th>DAYS WORKED</th>\n",
       "      <th>HOURS WORKED PER DAY</th>\n",
       "      <th>PAY AMOUNT</th>\n",
       "    </tr>\n",
       "  </thead>\n",
       "  <tbody>\n",
       "    <tr>\n",
       "      <th>count</th>\n",
       "      <td>272731.000000</td>\n",
       "      <td>272731.000000</td>\n",
       "      <td>272731.000000</td>\n",
       "    </tr>\n",
       "    <tr>\n",
       "      <th>mean</th>\n",
       "      <td>183.154651</td>\n",
       "      <td>6.280681</td>\n",
       "      <td>37425.645525</td>\n",
       "    </tr>\n",
       "    <tr>\n",
       "      <th>std</th>\n",
       "      <td>51.027176</td>\n",
       "      <td>2.170582</td>\n",
       "      <td>27120.181708</td>\n",
       "    </tr>\n",
       "    <tr>\n",
       "      <th>min</th>\n",
       "      <td>0.000000</td>\n",
       "      <td>0.000000</td>\n",
       "      <td>0.000000</td>\n",
       "    </tr>\n",
       "    <tr>\n",
       "      <th>25%</th>\n",
       "      <td>184.000000</td>\n",
       "      <td>6.000000</td>\n",
       "      <td>13825.000000</td>\n",
       "    </tr>\n",
       "    <tr>\n",
       "      <th>50%</th>\n",
       "      <td>185.000000</td>\n",
       "      <td>7.250000</td>\n",
       "      <td>36544.000000</td>\n",
       "    </tr>\n",
       "    <tr>\n",
       "      <th>75%</th>\n",
       "      <td>192.000000</td>\n",
       "      <td>7.500000</td>\n",
       "      <td>59252.500000</td>\n",
       "    </tr>\n",
       "    <tr>\n",
       "      <th>max</th>\n",
       "      <td>365.000000</td>\n",
       "      <td>12.500000</td>\n",
       "      <td>240000.000000</td>\n",
       "    </tr>\n",
       "  </tbody>\n",
       "</table>\n",
       "</div>"
      ],
      "text/plain": [
       "         DAYS WORKED  HOURS WORKED PER DAY     PAY AMOUNT\n",
       "count  272731.000000         272731.000000  272731.000000\n",
       "mean      183.154651              6.280681   37425.645525\n",
       "std        51.027176              2.170582   27120.181708\n",
       "min         0.000000              0.000000       0.000000\n",
       "25%       184.000000              6.000000   13825.000000\n",
       "50%       185.000000              7.250000   36544.000000\n",
       "75%       192.000000              7.500000   59252.500000\n",
       "max       365.000000             12.500000  240000.000000"
      ]
     },
     "execution_count": 37,
     "metadata": {},
     "output_type": "execute_result"
    }
   ],
   "source": [
    "df.describe()"
   ]
  },
  {
   "cell_type": "markdown",
   "metadata": {},
   "source": [
    "### To get an idea what values a particular column has, you can do a value_counts() function:"
   ]
  },
  {
   "cell_type": "code",
   "execution_count": 63,
   "metadata": {
    "collapsed": false
   },
   "outputs": [
    {
     "data": {
      "text/plain": [
       "Teacher Assignment                                                                               110695\n",
       "Vehicle Operating (Bus) Assignment                                                                14186\n",
       "Food Service Assignment                                                                           13757\n",
       "Custodian Assignment                                                                              12008\n",
       "Teaching Aide Assignment                                                                          11907\n",
       "Clerical Assignment                                                                               11650\n",
       "Instructional Paraprofessional Assignment                                                          9533\n",
       "Supplemental Service Teaching Assignment (Serves Students with Disability Conditions Only)         8022\n",
       "Coaching Assignment                                                                                6366\n",
       "Other Professional \u0013 Educational Assignment                                                        5556\n",
       "Monitoring Assignment                                                                              5082\n",
       "Tutor/Small Group Instructor Assignment (Serves Students Without Disability Conditions Only)       4304\n",
       "Advisor Assignment                                                                                 4205\n",
       "Counseling Assignment                                                                              4117\n",
       "Principal Assignment                                                                               3743\n",
       "Remedial Specialist Assignment                                                                     3672\n",
       "Speech and Language Therapist Assignment                                                           2828\n",
       "Psychologist Assignment                                                                            2332\n",
       "Coordinator Assignment                                                                             2243\n",
       "Attendant Assignment                                                                               2181\n",
       "Assistant Principal Assignment                                                                     1988\n",
       "Supervisor/Manager Assignment                                                                      1968\n",
       "Library Aide Assignment                                                                            1787\n",
       "General Maintenance Assignment                                                                     1761\n",
       "Registered Nursing Assignment                                                                      1440\n",
       "                                                                                                  ...  \n",
       "Foreman Assignment                                                                                  234\n",
       "Attendance Officer Assignment                                                                       214\n",
       "Publicity Relations Assignment                                                                      179\n",
       "Other Operative Assignment                                                                          152\n",
       "Other Crafts and Trades Assignment                                                                  133\n",
       "Family and Community Liaison Assignment                                                             128\n",
       "Dispatching Assignment                                                                              127\n",
       "Intern Psychologist Assignment                                                                      110\n",
       "Telephone Operator Assignment                                                                       104\n",
       "Physical Therapy Assistant (PTA) Assignment                                                         102\n",
       "Electrician Assignment                                                                               99\n",
       "Adapted Physical Education Therapist Assignment                                                      98\n",
       "Messenger Assignment                                                                                 83\n",
       "Carpentering Assignment                                                                              80\n",
       "Parent Mentor Assignment                                                                             75\n",
       "Dietitian/Nutritionist Assignment                                                                    74\n",
       "Plumbing Assignment                                                                                  68\n",
       "Audio-Visual Staff                                                                                   61\n",
       "Audiologist Assignment                                                                               45\n",
       "Mobility Therapist Assignment                                                                        32\n",
       "Athletic Trainer Assignment                                                                          30\n",
       "Building Manager Assignment                                                                          28\n",
       "Parent Coordinator Assignment                                                                        25\n",
       "Linkage Coordinator Assignment                                                                       24\n",
       "Visiting Teacher Assignment                                                                           8\n",
       "Name: JOB DESCRIPTION, dtype: int64"
      ]
     },
     "execution_count": 63,
     "metadata": {},
     "output_type": "execute_result"
    }
   ],
   "source": [
    "df['JOB DESCRIPTION'].value_counts()"
   ]
  },
  {
   "cell_type": "code",
   "execution_count": 64,
   "metadata": {
    "collapsed": false
   },
   "outputs": [
    {
     "data": {
      "text/plain": [
       "7.50    56775\n",
       "8.00    53670\n",
       "7.00    40333\n",
       "7.25    14800\n",
       "6.00    10532\n",
       "6.50     9923\n",
       "0.00     9149\n",
       "4.00     7084\n",
       "2.00     6140\n",
       "5.00     5018\n",
       "6.75     4801\n",
       "7.75     4790\n",
       "3.00     4691\n",
       "3.50     3479\n",
       "1.00     3099\n",
       "3.75     2539\n",
       "6.25     2340\n",
       "7.33     2327\n",
       "5.50     2136\n",
       "4.50     2052\n",
       "7.67     1835\n",
       "2.50     1712\n",
       "0.31     1289\n",
       "1.50     1042\n",
       "5.75     1016\n",
       "        ...  \n",
       "1.71        1\n",
       "4.89        1\n",
       "2.06        1\n",
       "3.81        1\n",
       "6.36        1\n",
       "1.49        1\n",
       "7.63        1\n",
       "0.24        1\n",
       "7.11        1\n",
       "5.29        1\n",
       "4.71        1\n",
       "7.77        1\n",
       "6.46        1\n",
       "7.52        1\n",
       "0.52        1\n",
       "9.40        1\n",
       "4.81        1\n",
       "1.52        1\n",
       "6.06        1\n",
       "6.71        1\n",
       "7.41        1\n",
       "0.41        1\n",
       "2.91        1\n",
       "7.28        1\n",
       "7.84        1\n",
       "Name: HOURS WORKED PER DAY, dtype: int64"
      ]
     },
     "execution_count": 64,
     "metadata": {},
     "output_type": "execute_result"
    }
   ],
   "source": [
    "df['HOURS WORKED PER DAY'].value_counts()"
   ]
  },
  {
   "cell_type": "code",
   "execution_count": 65,
   "metadata": {
    "collapsed": false
   },
   "outputs": [
    {
     "data": {
      "text/plain": [
       "184    44601\n",
       "185    38378\n",
       "186    19210\n",
       "260    18383\n",
       "183    17657\n",
       "188     8710\n",
       "187     8638\n",
       "190     8575\n",
       "182     8244\n",
       "261     7655\n",
       "191     6857\n",
       "0       6622\n",
       "195     6430\n",
       "189     5781\n",
       "192     2998\n",
       "200     2400\n",
       "196     2276\n",
       "180     2254\n",
       "220     2047\n",
       "60      1787\n",
       "198     1574\n",
       "194     1528\n",
       "193     1496\n",
       "204     1289\n",
       "178     1237\n",
       "       ...  \n",
       "26        29\n",
       "17        28\n",
       "31        26\n",
       "282       18\n",
       "280       16\n",
       "365       15\n",
       "265       15\n",
       "331       12\n",
       "270        6\n",
       "263        4\n",
       "267        3\n",
       "269        3\n",
       "278        3\n",
       "285        2\n",
       "283        2\n",
       "277        2\n",
       "289        1\n",
       "312        1\n",
       "281        1\n",
       "302        1\n",
       "301        1\n",
       "352        1\n",
       "330        1\n",
       "275        1\n",
       "300        1\n",
       "Name: DAYS WORKED, dtype: int64"
      ]
     },
     "execution_count": 65,
     "metadata": {},
     "output_type": "execute_result"
    }
   ],
   "source": [
    "df['DAYS WORKED'].value_counts()"
   ]
  },
  {
   "cell_type": "markdown",
   "metadata": {},
   "source": [
    "### Filter data down to just teachers that work at least 6 hours per day and at least 180 days out of the year:"
   ]
  },
  {
   "cell_type": "code",
   "execution_count": 42,
   "metadata": {
    "collapsed": false
   },
   "outputs": [],
   "source": [
    "criteria1 = df['JOB DESCRIPTION'] == 'Teacher Assignment'\n",
    "criteria2 = df['HOURS WORKED PER DAY'] >= 6\n",
    "criteria3 = df['DAYS WORKED'] >= 180\n",
    "\n",
    "full_time = df[criteria1 & criteria2 & criteria3]"
   ]
  },
  {
   "cell_type": "markdown",
   "metadata": {},
   "source": [
    "### Create a histogram of full time teachers' pay amount:"
   ]
  },
  {
   "cell_type": "code",
   "execution_count": 69,
   "metadata": {
    "collapsed": false
   },
   "outputs": [
    {
     "data": {
      "image/png": "[encoded data removed]",
      "text/plain": [
       "<matplotlib.figure.Figure at 0x7fd33b74d5f8>"
      ]
     },
     "metadata": {},
     "output_type": "display_data"
    }
   ],
   "source": [
    "full_time['PAY AMOUNT'].plot.hist(bins=15)\n",
    "plt.title('Histogram of Pay Amount')\n",
    "plt.xticks(rotation=270)\n",
    "plt.show()"
   ]
  },
  {
   "cell_type": "code",
   "execution_count": 70,
   "metadata": {
    "collapsed": false
   },
   "outputs": [
    {
     "data": {
      "image/png": "[encoded data removed]",
      "text/plain": [
       "<matplotlib.figure.Figure at 0x7fd33e4edfd0>"
      ]
     },
     "metadata": {},
     "output_type": "display_data"
    }
   ],
   "source": [
    "full_time['PAY AMOUNT'].plot.box()\n",
    "plt.title(\"Box Plot\")\n",
    "plt.show()"
   ]
  },
  {
   "cell_type": "markdown",
   "metadata": {},
   "source": [
    "### Get summary statistics of pay amount that the box plot is based on above:"
   ]
  },
  {
   "cell_type": "code",
   "execution_count": 57,
   "metadata": {
    "collapsed": false
   },
   "outputs": [
    {
     "data": {
      "text/html": [
       "<div>\n",
       "<table border=\"1\" class=\"dataframe\">\n",
       "  <thead>\n",
       "    <tr style=\"text-align: right;\">\n",
       "      <th></th>\n",
       "      <th>DAYS WORKED</th>\n",
       "      <th>HOURS WORKED PER DAY</th>\n",
       "      <th>PAY AMOUNT</th>\n",
       "    </tr>\n",
       "  </thead>\n",
       "  <tbody>\n",
       "    <tr>\n",
       "      <th>count</th>\n",
       "      <td>98488.000000</td>\n",
       "      <td>98488.000000</td>\n",
       "      <td>98488.000000</td>\n",
       "    </tr>\n",
       "    <tr>\n",
       "      <th>mean</th>\n",
       "      <td>186.016428</td>\n",
       "      <td>7.303951</td>\n",
       "      <td>56586.188964</td>\n",
       "    </tr>\n",
       "    <tr>\n",
       "      <th>std</th>\n",
       "      <td>5.954206</td>\n",
       "      <td>0.454304</td>\n",
       "      <td>16484.552564</td>\n",
       "    </tr>\n",
       "    <tr>\n",
       "      <th>min</th>\n",
       "      <td>180.000000</td>\n",
       "      <td>6.000000</td>\n",
       "      <td>0.000000</td>\n",
       "    </tr>\n",
       "    <tr>\n",
       "      <th>25%</th>\n",
       "      <td>184.000000</td>\n",
       "      <td>7.000000</td>\n",
       "      <td>44833.000000</td>\n",
       "    </tr>\n",
       "    <tr>\n",
       "      <th>50%</th>\n",
       "      <td>185.000000</td>\n",
       "      <td>7.500000</td>\n",
       "      <td>57408.000000</td>\n",
       "    </tr>\n",
       "    <tr>\n",
       "      <th>75%</th>\n",
       "      <td>186.000000</td>\n",
       "      <td>7.500000</td>\n",
       "      <td>68255.000000</td>\n",
       "    </tr>\n",
       "    <tr>\n",
       "      <th>max</th>\n",
       "      <td>365.000000</td>\n",
       "      <td>10.000000</td>\n",
       "      <td>173908.000000</td>\n",
       "    </tr>\n",
       "  </tbody>\n",
       "</table>\n",
       "</div>"
      ],
      "text/plain": [
       "        DAYS WORKED  HOURS WORKED PER DAY     PAY AMOUNT\n",
       "count  98488.000000          98488.000000   98488.000000\n",
       "mean     186.016428              7.303951   56586.188964\n",
       "std        5.954206              0.454304   16484.552564\n",
       "min      180.000000              6.000000       0.000000\n",
       "25%      184.000000              7.000000   44833.000000\n",
       "50%      185.000000              7.500000   57408.000000\n",
       "75%      186.000000              7.500000   68255.000000\n",
       "max      365.000000             10.000000  173908.000000"
      ]
     },
     "execution_count": 57,
     "metadata": {},
     "output_type": "execute_result"
    }
   ],
   "source": [
    "full_time.describe()"
   ]
  }
 ],
 "metadata": {
  "kernelspec": {
   "display_name": "Python 3",
   "language": "python",
   "name": "python3"
  },
  "language_info": {
   "codemirror_mode": {
    "name": "ipython",
    "version": 3
   },
   "file_extension": ".py",
   "mimetype": "text/x-python",
   "name": "python",
   "nbconvert_exporter": "python",
   "pygments_lexer": "ipython3",
   "version": "3.4.3"
  }
 },
 "nbformat": 4,
 "nbformat_minor": 0
}

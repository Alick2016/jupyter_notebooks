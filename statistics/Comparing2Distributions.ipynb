{
 "cells": [
  {
   "cell_type": "markdown",
   "metadata": {},
   "source": [
    "<center><h1>Comparing 2 Data Sets Using Python</h1><center>"
   ]
  },
  {
   "cell_type": "markdown",
   "metadata": {},
   "source": [
    "This jupyter notebook will show how to determine if 2 data sets came from the same distribution using the [Mann-Whitney-Wilcoxon Test](https://en.wikipedia.org/wiki/Mann%E2%80%93Whitney_U_test) or [Kolmogorov-Smirnov 2-Sample Test](https://en.wikipedia.org/wiki/Kolmogorov%E2%80%93Smirnov_test).  Since the K-S test assumes the distributions of the data sets are from continuous probability distributions, data sets will be drawn from Normal and Weibull distributions."
   ]
  },
  {
   "cell_type": "code",
   "execution_count": 3,
   "metadata": {
    "collapsed": true,
    "run_control": {
     "read_only": false
    }
   },
   "outputs": [],
   "source": [
    "%matplotlib inline\n",
    "import matplotlib.pyplot as plt\n",
    "import pandas as pd\n",
    "import seaborn as sns"
   ]
  },
  {
   "cell_type": "code",
   "execution_count": 4,
   "metadata": {
    "collapsed": true,
    "run_control": {
     "read_only": false
    }
   },
   "outputs": [],
   "source": [
    "df = pd.read_excel('/home/pybokeh/Downloads/temp.xlsx', sheetname='Claims')"
   ]
  },
  {
   "cell_type": "code",
   "execution_count": 5,
   "metadata": {
    "collapsed": false,
    "run_control": {
     "read_only": false
    }
   },
   "outputs": [
    {
     "data": {
      "image/png": "[encoded data removed]",
      "text/plain": [
       "<matplotlib.figure.Figure at 0x7fc076757b00>"
      ]
     },
     "metadata": {},
     "output_type": "display_data"
    }
   ],
   "source": [
    "df.boxplot(column='DTF', by='GRADE_SHORT')\n",
    "plt.show()"
   ]
  },
  {
   "cell_type": "code",
   "execution_count": 6,
   "metadata": {
    "collapsed": false,
    "run_control": {
     "read_only": false
    }
   },
   "outputs": [
    {
     "data": {
      "image/png": "[encoded data removed]",
      "text/plain": [
       "<matplotlib.figure.Figure at 0x7fc076757400>"
      ]
     },
     "metadata": {},
     "output_type": "display_data"
    }
   ],
   "source": [
    "df.hist(column='DTF', by='GRADE_SHORT')\n",
    "plt.show()"
   ]
  },
  {
   "cell_type": "markdown",
   "metadata": {},
   "source": [
    "## Mann-Whitney-Wilcoxon Test"
   ]
  },
  {
   "cell_type": "code",
   "execution_count": 7,
   "metadata": {
    "collapsed": true,
    "run_control": {
     "read_only": false
    }
   },
   "outputs": [],
   "source": [
    "import scipy.stats as stats"
   ]
  },
  {
   "cell_type": "code",
   "execution_count": 35,
   "metadata": {
    "collapsed": false,
    "run_control": {
     "read_only": false
    }
   },
   "outputs": [],
   "source": [
    "base = df.query(\"GRADE_SHORT == 'BASE'\").MTF\n",
    "tech = df.query(\"GRADE_SHORT == 'TECH'\").MTF\n",
    "_stat, _pvalue = stats.mannwhitneyu(base, tech)"
   ]
  },
  {
   "cell_type": "code",
   "execution_count": 58,
   "metadata": {
    "collapsed": false,
    "run_control": {
     "read_only": false
    }
   },
   "outputs": [
    {
     "name": "stdout",
     "output_type": "stream",
     "text": [
      "Mann-Whitney-Wilcoxon Test result:\n",
      "The 2 data set are significantly different.  p-value: 1.15197452929e-120\n"
     ]
    }
   ],
   "source": [
    "if _pvalue > 0.05:\n",
    "    print(\"Mann-Whitney-Wilcoxon Test result:\")\n",
    "    print(\"The 2 data sets are not significantly different.  p-value:\", _pvalue)\n",
    "else:\n",
    "    print(\"Mann-Whitney-Wilcoxon Test result:\")\n",
    "    print(\"The 2 data set are significantly different.  p-value:\", _pvalue)"
   ]
  },
  {
   "cell_type": "markdown",
   "metadata": {},
   "source": [
    "### Another MWW-test Example"
   ]
  },
  {
   "cell_type": "code",
   "execution_count": 64,
   "metadata": {
    "collapsed": false,
    "run_control": {
     "read_only": false
    }
   },
   "outputs": [
    {
     "data": {
      "image/png": "[encoded data removed]",
      "text/plain": [
       "<matplotlib.figure.Figure at 0x7fc07643c860>"
      ]
     },
     "metadata": {},
     "output_type": "display_data"
    }
   ],
   "source": [
    "import numpy as np\n",
    "\n",
    "sample1 = np.random.normal(0,1,size=1000)\n",
    "\n",
    "plt.hist(x=sample1)\n",
    "plt.show()"
   ]
  },
  {
   "cell_type": "code",
   "execution_count": 65,
   "metadata": {
    "collapsed": false
   },
   "outputs": [
    {
     "data": {
      "image/png": "[encoded data removed]",
      "text/plain": [
       "<matplotlib.figure.Figure at 0x7fc0738ccf28>"
      ]
     },
     "metadata": {},
     "output_type": "display_data"
    }
   ],
   "source": [
    "from random import weibullvariate\n",
    "\n",
    "# I don't know how to generate 2-parameter Weibull from scipy, so using random module instead\n",
    "sample2 = [weibullvariate(1,5) for i in range(1000)]  # generate 1000 random 2-parameter Weibull values\n",
    "\n",
    "plt.hist(x=sample2)\n",
    "plt.show()"
   ]
  },
  {
   "cell_type": "code",
   "execution_count": 66,
   "metadata": {
    "collapsed": false
   },
   "outputs": [],
   "source": [
    "_stat, _pvalue = stats.mannwhitneyu(sample1, sample2)"
   ]
  },
  {
   "cell_type": "code",
   "execution_count": 59,
   "metadata": {
    "collapsed": false
   },
   "outputs": [
    {
     "name": "stdout",
     "output_type": "stream",
     "text": [
      "Mann-Whitney-Wilcoxon Test result:\n",
      "The 2 data set are significantly different.  p-value: 1.15197452929e-120\n"
     ]
    }
   ],
   "source": [
    "if _pvalue > 0.05:\n",
    "    print(\"Mann-Whitney-Wilcoxon Test result:\")\n",
    "    print(\"The 2 data sets are not significantly different.  p-value:\", _pvalue)\n",
    "else:\n",
    "    print(\"Mann-Whitney-Wilcoxon Test result:\")\n",
    "    print(\"The 2 data set are significantly different.  p-value:\", _pvalue)"
   ]
  },
  {
   "cell_type": "markdown",
   "metadata": {},
   "source": [
    "## Kolmogorov–Smirnov 2-Sample Test"
   ]
  },
  {
   "cell_type": "markdown",
   "metadata": {},
   "source": [
    "Per Wikipedia article, the K-S test assumes the 2 distributions are from *continuous* probability distribution."
   ]
  },
  {
   "cell_type": "code",
   "execution_count": 69,
   "metadata": {
    "collapsed": true
   },
   "outputs": [],
   "source": [
    "from scipy.stats import ks_2samp\n",
    "# I don't know how to generate 2-parameter Weibull from scipy, so using random module instead\n",
    "from random import weibullvariate"
   ]
  },
  {
   "cell_type": "code",
   "execution_count": 70,
   "metadata": {
    "collapsed": false
   },
   "outputs": [],
   "source": [
    "sample1 = np.random.normal(0,1,size=1000)\n",
    "sample2 = [weibullvariate(1,5) for i in range(1000)]  # generate 1000 random 2-paramter Weibull values"
   ]
  },
  {
   "cell_type": "code",
   "execution_count": 71,
   "metadata": {
    "collapsed": false
   },
   "outputs": [
    {
     "data": {
      "image/png": "[encoded data removed]",
      "text/plain": [
       "<matplotlib.figure.Figure at 0x7fc0739e24a8>"
      ]
     },
     "metadata": {},
     "output_type": "display_data"
    }
   ],
   "source": [
    "plt.hist(x=sample1)\n",
    "plt.show()"
   ]
  },
  {
   "cell_type": "code",
   "execution_count": 72,
   "metadata": {
    "collapsed": false
   },
   "outputs": [
    {
     "data": {
      "image/png": "[encoded data removed]",
      "text/plain": [
       "<matplotlib.figure.Figure at 0x7fc073b3ee10>"
      ]
     },
     "metadata": {},
     "output_type": "display_data"
    }
   ],
   "source": [
    "plt.hist(x=sample2)\n",
    "plt.show()"
   ]
  },
  {
   "cell_type": "code",
   "execution_count": 63,
   "metadata": {
    "collapsed": false
   },
   "outputs": [
    {
     "name": "stdout",
     "output_type": "stream",
     "text": [
      "Kolmogorov-Smirnov 2-Sample Test result:\n",
      "The 2 data set are significantly different.  p-value: 5.46833634281e-190\n"
     ]
    }
   ],
   "source": [
    "_stat, _pvalue = ks_2samp(sample1, sample2)\n",
    "\n",
    "if _pvalue > 0.05:\n",
    "    print(\"Kolmogorov-Smirnov 2-Sample Test result:\")\n",
    "    print(\"The 2 data sets are not significantly different.  p-value:\", _pvalue)\n",
    "else:\n",
    "    print(\"Kolmogorov-Smirnov 2-Sample Test result:\")\n",
    "    print(\"The 2 data set are significantly different.  p-value:\", _pvalue)"
   ]
  }
 ],
 "metadata": {
  "hide_input": false,
  "kernelspec": {
   "display_name": "Python 3",
   "language": "python",
   "name": "python3"
  },
  "language_info": {
   "codemirror_mode": {
    "name": "ipython",
    "version": 3
   },
   "file_extension": ".py",
   "mimetype": "text/x-python",
   "name": "python",
   "nbconvert_exporter": "python",
   "pygments_lexer": "ipython3",
   "version": "3.5.1"
  }
 },
 "nbformat": 4,
 "nbformat_minor": 0
}

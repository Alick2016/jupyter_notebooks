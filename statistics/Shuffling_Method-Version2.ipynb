{
 "cells": [
  {
   "cell_type": "markdown",
   "metadata": {},
   "source": [
    "# Shuffling Method"
   ]
  },
  {
   "cell_type": "markdown",
   "metadata": {},
   "source": [
    "Inspired by [Statistics for Hackers](https://speakerdeck.com/jakevdp/statistics-for-hackers) by Jake VanderPlas"
   ]
  },
  {
   "cell_type": "markdown",
   "metadata": {},
   "source": [
    "Let's say you have 2 sets of test scores:  \n",
    "    \n",
    "    54, 51, 58, 44, 55, 52, 42, 47, 58, 46  \n",
    "    \n",
    "and  \n",
    "    \n",
    "    54, 73, 53, 70, 73, 68, 52, 65, 65  \n",
    "    \n",
    "The mean of the first set of test scores is 73.5 and the mean of the second set of test scores is 66.9.  \n",
    "The difference between the 2 means is 6.58.\n",
    "\n",
    "Is this difference statistically significant?"
   ]
  },
  {
   "cell_type": "code",
   "execution_count": 1,
   "metadata": {
    "collapsed": true
   },
   "outputs": [],
   "source": [
    "%matplotlib inline\n",
    "import numpy as np                     # library to allow us to use vectorized datastructures\n",
    "import matplotlib.pyplot as plt        # plotting library\n",
    "\n",
    "test1 = [\n",
    "    54, 51, 58, 44, 55, 52, 42, 47, 58, 46\n",
    "]\n",
    "\n",
    "test2 = [\n",
    "    54, 73, 53, 70, 73, 68, 52, 65, 65\n",
    "]\n",
    "\n",
    "test_scores1 = np.array(test1)\n",
    "test_scores2 = np.array(test2)"
   ]
  },
  {
   "cell_type": "markdown",
   "metadata": {},
   "source": [
    "### Test score set 1 mean:"
   ]
  },
  {
   "cell_type": "code",
   "execution_count": 2,
   "metadata": {
    "collapsed": false
   },
   "outputs": [
    {
     "data": {
      "text/plain": [
       "50.700000000000003"
      ]
     },
     "execution_count": 2,
     "metadata": {},
     "output_type": "execute_result"
    }
   ],
   "source": [
    "test_scores1.mean()"
   ]
  },
  {
   "cell_type": "markdown",
   "metadata": {},
   "source": [
    "### Test score set 2 mean:"
   ]
  },
  {
   "cell_type": "code",
   "execution_count": 3,
   "metadata": {
    "collapsed": false
   },
   "outputs": [
    {
     "data": {
      "text/plain": [
       "63.666666666666664"
      ]
     },
     "execution_count": 3,
     "metadata": {},
     "output_type": "execute_result"
    }
   ],
   "source": [
    "test_scores2.mean()"
   ]
  },
  {
   "cell_type": "code",
   "execution_count": 4,
   "metadata": {
    "collapsed": false
   },
   "outputs": [
    {
     "data": {
      "text/plain": [
       "12.966666666666661"
      ]
     },
     "execution_count": 4,
     "metadata": {},
     "output_type": "execute_result"
    }
   ],
   "source": [
    "diff = abs(test_scores1.mean() - test_scores2.mean())\n",
    "diff"
   ]
  },
  {
   "cell_type": "markdown",
   "metadata": {},
   "source": [
    "### Is the difference in the means statistically significant?"
   ]
  },
  {
   "cell_type": "markdown",
   "metadata": {},
   "source": [
    "## Let's apply the shuffling method"
   ]
  },
  {
   "cell_type": "markdown",
   "metadata": {},
   "source": [
    "### Create draw space from which we will sample data from which consists of both test scores"
   ]
  },
  {
   "cell_type": "code",
   "execution_count": 5,
   "metadata": {
    "collapsed": false
   },
   "outputs": [],
   "source": [
    "combined = np.concatenate((test_scores1, test_scores2))"
   ]
  },
  {
   "cell_type": "markdown",
   "metadata": {},
   "source": [
    "### Let's double-check that the list has what we want"
   ]
  },
  {
   "cell_type": "code",
   "execution_count": 6,
   "metadata": {
    "collapsed": false
   },
   "outputs": [
    {
     "data": {
      "text/plain": [
       "array([54, 51, 58, 44, 55, 52, 42, 47, 58, 46, 54, 73, 53, 70, 73, 68, 52,\n",
       "       65, 65])"
      ]
     },
     "execution_count": 6,
     "metadata": {},
     "output_type": "execute_result"
    }
   ],
   "source": [
    "combined"
   ]
  },
  {
   "cell_type": "markdown",
   "metadata": {},
   "source": [
    "### Now we will perform the experiement 10,000 times, picking random numbers from the draw space with replacement.  numpy's random.choice() function is really handy!"
   ]
  },
  {
   "cell_type": "code",
   "execution_count": 7,
   "metadata": {
    "collapsed": false
   },
   "outputs": [],
   "source": [
    "diff_means = np.array([])\n",
    "for i in range(10000):\n",
    "    diff_means = np.append(diff_means, np.random.choice(combined, size=len(test_scores1), replace=True).mean()\n",
    "                           - np.random.choice(combined, size=len(test_scores2), replace=True).mean()\n",
    "                          )"
   ]
  },
  {
   "cell_type": "markdown",
   "metadata": {},
   "source": [
    "### Plot the mean differences in a histogram along with vertical red line where the stated difference lies"
   ]
  },
  {
   "cell_type": "code",
   "execution_count": 8,
   "metadata": {
    "collapsed": false
   },
   "outputs": [
    {
     "data": {
      "image/png": "[encoded data removed]",
      "text/plain": [
       "<matplotlib.figure.Figure at 0x7f7e9decb8d0>"
      ]
     },
     "metadata": {},
     "output_type": "display_data"
    }
   ],
   "source": [
    "fig, ax = plt.subplots(figsize=(10, 6))\n",
    "plt.hist(diff_means, alpha=.5, label='difference')\n",
    "plt.legend(loc='best')\n",
    "plt.xlabel('Difference in the Means', fontsize=15)\n",
    "ax.spines['right'].set_visible(False)\n",
    "ax.spines['left'].set_visible(False)\n",
    "ax.spines['top'].set_visible(False)\n",
    "ax.xaxis.set_ticks_position('bottom')\n",
    "plt.tick_params(axis='both', which='major', labelsize=13)\n",
    "ax.get_yaxis().set_ticks([])\n",
    "plt.axvline(diff, linewidth=2, alpha=0.5, color='red')\n",
    "plt.show()"
   ]
  },
  {
   "cell_type": "code",
   "execution_count": 9,
   "metadata": {
    "collapsed": false
   },
   "outputs": [
    {
     "name": "stdout",
     "output_type": "stream",
     "text": [
      "Out of 10,000 samples, the probability that the difference in the means is >= 12.97 is 0.0014\n"
     ]
    }
   ],
   "source": [
    "# get number of observations greater than the stated difference\n",
    "gt_diff = diff_means[diff_means >= diff]\n",
    "\n",
    "# calculate portion of differences that are greater than or equal to the stated difference\n",
    "p = len(gt_diff) / 10000\n",
    "\n",
    "# print results\n",
    "print('Out of 10,000 samples, the probability that the difference in the means is >= ' + \n",
    "      \"{0:.2f}\".format(diff) + ' is ' + str(p))"
   ]
  },
  {
   "cell_type": "markdown",
   "metadata": {},
   "source": [
    "Since the probability that the difference in the means is greater than or equal to 12.97 is less than 0.05, the difference is significant.  In other words, we have about 1.4% probability that the difference in the means is equal to or greater than 12.97."
   ]
  },
  {
   "cell_type": "markdown",
   "metadata": {},
   "source": [
    "# Calculating 90% Confidence Interval for the Difference In the Means"
   ]
  },
  {
   "cell_type": "markdown",
   "metadata": {},
   "source": [
    "Same shuffling except, instead of taking samples from the \"combined\" list, we take samples from the two individual test score sets (test_scores1 and test_scores2)"
   ]
  },
  {
   "cell_type": "code",
   "execution_count": 22,
   "metadata": {
    "collapsed": true
   },
   "outputs": [],
   "source": [
    "diff_means_conf = np.array([])\n",
    "for i in range(10000):\n",
    "    diff_means_conf = np.append(diff_means_conf, np.random.choice(combined, size=len(test_scores1), replace=True).mean()\n",
    "                           - np.random.choice(combined, size=len(test_scores2), replace=True).mean()\n",
    "                          )"
   ]
  },
  {
   "cell_type": "code",
   "execution_count": 23,
   "metadata": {
    "collapsed": true
   },
   "outputs": [],
   "source": [
    "# sort the difference values in the means\n",
    "diff_means_conf.sort()\n",
    "\n",
    "# set confidence interval and tail values\n",
    "conf_interval = 0.9\n",
    "tails = (1 - conf_interval) / 2\n",
    "\n",
    "# calculate the value that is at the lowest 5% mark out of 10000 = 500\n",
    "lower_bound = int(np.ceil(10000 * tails))\n",
    "\n",
    "# calclate the value that is at the highest 5% mark out of 10000 = 9500\n",
    "upper_bound = int(np.floor(10000 * (1 - tails)))"
   ]
  },
  {
   "cell_type": "code",
   "execution_count": 24,
   "metadata": {
    "collapsed": false
   },
   "outputs": [
    {
     "data": {
      "text/plain": [
       "-7.1555555555555586"
      ]
     },
     "execution_count": 24,
     "metadata": {},
     "output_type": "execute_result"
    }
   ],
   "source": [
    "diff_means_conf[lower_bound]"
   ]
  },
  {
   "cell_type": "code",
   "execution_count": 25,
   "metadata": {
    "collapsed": false
   },
   "outputs": [
    {
     "data": {
      "text/plain": [
       "7.1000000000000014"
      ]
     },
     "execution_count": 25,
     "metadata": {},
     "output_type": "execute_result"
    }
   ],
   "source": [
    "diff_means_conf[upper_bound]"
   ]
  },
  {
   "cell_type": "code",
   "execution_count": 26,
   "metadata": {
    "collapsed": false
   },
   "outputs": [
    {
     "data": {
      "image/png": "[encoded data removed]",
      "text/plain": [
       "<matplotlib.figure.Figure at 0x7f7e9dd4da20>"
      ]
     },
     "metadata": {},
     "output_type": "display_data"
    }
   ],
   "source": [
    "fig, ax = plt.subplots(figsize=(10, 6))\n",
    "plt.hist(diff_means_conf, alpha=.5, label='difference')\n",
    "plt.legend(loc='best')\n",
    "plt.xlabel('Difference in the Means', fontsize=15)\n",
    "ax.spines['right'].set_visible(False)\n",
    "ax.spines['left'].set_visible(False)\n",
    "ax.spines['top'].set_visible(False)\n",
    "ax.xaxis.set_ticks_position('bottom')\n",
    "plt.tick_params(axis='both', which='major', labelsize=13)\n",
    "ax.get_yaxis().set_ticks([])\n",
    "plt.axvline(diff_means_conf[lower_bound], linewidth=2, alpha=0.5, color='red')\n",
    "plt.axvline(diff_means_conf[upper_bound], linewidth=2, alpha=0.5, color='red')\n",
    "plt.show()"
   ]
  },
  {
   "cell_type": "code",
   "execution_count": 27,
   "metadata": {
    "collapsed": false
   },
   "outputs": [
    {
     "name": "stdout",
     "output_type": "stream",
     "text": [
      "With 90% confidence, the true difference between the means will fall between -18.07 and -7.66\n"
     ]
    }
   ],
   "source": [
    "print('With 90% confidence, the true difference between the means will fall between ' + \n",
    "      \"{0:.2f}\".format(diff_means[lower_bound]) + ' and ' + \"{0:.2f}\".format(diff_means[upper_bound]))"
   ]
  }
 ],
 "metadata": {
  "kernelspec": {
   "display_name": "Python 3",
   "language": "python",
   "name": "python3"
  },
  "language_info": {
   "codemirror_mode": {
    "name": "ipython",
    "version": 3
   },
   "file_extension": ".py",
   "mimetype": "text/x-python",
   "name": "python",
   "nbconvert_exporter": "python",
   "pygments_lexer": "ipython3",
   "version": "3.4.3"
  }
 },
 "nbformat": 4,
 "nbformat_minor": 0
}

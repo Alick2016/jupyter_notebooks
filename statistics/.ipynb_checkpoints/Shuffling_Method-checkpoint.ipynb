{
 "cells": [
  {
   "cell_type": "markdown",
   "metadata": {},
   "source": [
    "# Shuffling Method"
   ]
  },
  {
   "cell_type": "markdown",
   "metadata": {},
   "source": [
    "Inspired by [Statistics for Hackers](https://speakerdeck.com/jakevdp/statistics-for-hackers) by Jake VanderPlas"
   ]
  },
  {
   "cell_type": "markdown",
   "metadata": {},
   "source": [
    "Let's say you have 2 sets of test scores:  \n",
    "    \n",
    "    84, 72, 57, 46, 63, 76, 99, 91 \n",
    "    \n",
    "and  \n",
    "    \n",
    "    81, 69, 74, 61, 56, 87, 69, 65, 66, 44, 62, 69  \n",
    "    \n",
    "The mean of the first set of test scores is 73.5 and the mean of the second set of test scores is 66.9.  \n",
    "The difference between the 2 means is 6.58.\n",
    "\n",
    "Is this difference statistically significant?"
   ]
  },
  {
   "cell_type": "code",
   "execution_count": 131,
   "metadata": {
    "collapsed": true
   },
   "outputs": [],
   "source": [
    "%matplotlib inline\n",
    "import numpy as np                     # library to allow us to use vectorized datastructures\n",
    "import matplotlib.pyplot as plt        # plotting library\n",
    "\n",
    "test1 = [\n",
    "    84, 72, 57, 46, 63, 76, 99, 91\n",
    "]\n",
    "\n",
    "test2 = [\n",
    "    81, 69, 74, 61, 56, 87, 69, 65, 66, 44, 62, 69\n",
    "]\n",
    "\n",
    "test_scores1 = np.array(test1)\n",
    "test_scores2 = np.array(test2)"
   ]
  },
  {
   "cell_type": "markdown",
   "metadata": {},
   "source": [
    "### Test score set 1 mean:"
   ]
  },
  {
   "cell_type": "code",
   "execution_count": 132,
   "metadata": {
    "collapsed": false
   },
   "outputs": [
    {
     "data": {
      "text/plain": [
       "73.5"
      ]
     },
     "execution_count": 132,
     "metadata": {},
     "output_type": "execute_result"
    }
   ],
   "source": [
    "test_scores1.mean()"
   ]
  },
  {
   "cell_type": "markdown",
   "metadata": {},
   "source": [
    "### Test score set 2 mean:"
   ]
  },
  {
   "cell_type": "code",
   "execution_count": 133,
   "metadata": {
    "collapsed": false
   },
   "outputs": [
    {
     "data": {
      "text/plain": [
       "66.916666666666671"
      ]
     },
     "execution_count": 133,
     "metadata": {},
     "output_type": "execute_result"
    }
   ],
   "source": [
    "test_scores2.mean()"
   ]
  },
  {
   "cell_type": "code",
   "execution_count": 134,
   "metadata": {
    "collapsed": false
   },
   "outputs": [
    {
     "data": {
      "text/plain": [
       "6.5833333333333286"
      ]
     },
     "execution_count": 134,
     "metadata": {},
     "output_type": "execute_result"
    }
   ],
   "source": [
    "diff = abs(test_scores1.mean() - test_scores2.mean())\n",
    "diff"
   ]
  },
  {
   "cell_type": "markdown",
   "metadata": {},
   "source": [
    "### Is the difference in the means statistically significant?"
   ]
  },
  {
   "cell_type": "markdown",
   "metadata": {},
   "source": [
    "## Let's apply the shuffling method"
   ]
  },
  {
   "cell_type": "markdown",
   "metadata": {},
   "source": [
    "### Create draw space from which we will sample data from which consists of both test scores"
   ]
  },
  {
   "cell_type": "code",
   "execution_count": 135,
   "metadata": {
    "collapsed": false
   },
   "outputs": [],
   "source": [
    "combined = np.concatenate((test_scores1, test_scores2))"
   ]
  },
  {
   "cell_type": "markdown",
   "metadata": {},
   "source": [
    "### Let's double-check that the list has what we want"
   ]
  },
  {
   "cell_type": "code",
   "execution_count": 136,
   "metadata": {
    "collapsed": false
   },
   "outputs": [
    {
     "data": {
      "text/plain": [
       "array([84, 72, 57, 46, 63, 76, 99, 91, 81, 69, 74, 61, 56, 87, 69, 65, 66,\n",
       "       44, 62, 69])"
      ]
     },
     "execution_count": 136,
     "metadata": {},
     "output_type": "execute_result"
    }
   ],
   "source": [
    "combined"
   ]
  },
  {
   "cell_type": "markdown",
   "metadata": {},
   "source": [
    "### Now we will perform the experiement 10,000 times, picking random numbers from the draw space with replacement.  numpy's random.choice() function is really handy!"
   ]
  },
  {
   "cell_type": "code",
   "execution_count": 137,
   "metadata": {
    "collapsed": false
   },
   "outputs": [],
   "source": [
    "diff_means = np.array([])\n",
    "for i in range(10000):\n",
    "    diff_means = np.append(diff_means, np.random.choice(combined, size=len(test_scores1), replace=True).mean()\n",
    "                           - np.random.choice(combined, size=len(test_scores2), replace=True).mean()\n",
    "                          )"
   ]
  },
  {
   "cell_type": "markdown",
   "metadata": {},
   "source": [
    "### Plot the mean differences in a histogram along with vertical red line where the stated difference lies"
   ]
  },
  {
   "cell_type": "code",
   "execution_count": 138,
   "metadata": {
    "collapsed": false
   },
   "outputs": [
    {
     "data": {
      "image/png": "[encoded data removed]",
      "text/plain": [
       "<matplotlib.figure.Figure at 0x7fbf831e8ba8>"
      ]
     },
     "metadata": {},
     "output_type": "display_data"
    }
   ],
   "source": [
    "fig, ax = plt.subplots(figsize=(10, 6))\n",
    "plt.hist(diff_means, alpha=.5, label='difference')\n",
    "plt.legend(loc='best')\n",
    "plt.xlabel('Difference in the Means', fontsize=15)\n",
    "ax.spines['right'].set_visible(False)\n",
    "ax.spines['left'].set_visible(False)\n",
    "ax.spines['top'].set_visible(False)\n",
    "ax.xaxis.set_ticks_position('bottom')\n",
    "plt.tick_params(axis='both', which='major', labelsize=13)\n",
    "ax.get_yaxis().set_ticks([])\n",
    "plt.axvline(diff, linewidth=2, alpha=0.5, color='red')\n",
    "plt.show()"
   ]
  },
  {
   "cell_type": "code",
   "execution_count": 139,
   "metadata": {
    "collapsed": false
   },
   "outputs": [
    {
     "name": "stdout",
     "output_type": "stream",
     "text": [
      "Out of 10,000 samples, the probability that the difference in the means is >= 6.58 is 0.1449\n"
     ]
    }
   ],
   "source": [
    "# get number of observations greater than the stated difference\n",
    "gt_diff = diff_means[diff_means >= diff]\n",
    "\n",
    "# calculate portion of differences that are greater than or equal to the stated difference\n",
    "p = len(gt_diff) / 10000\n",
    "\n",
    "# print results\n",
    "print('Out of 10,000 samples, the probability that the difference in the means is >= ' + \n",
    "      \"{0:.2f}\".format(diff) + ' is ' + str(p))"
   ]
  },
  {
   "cell_type": "markdown",
   "metadata": {},
   "source": [
    "Since the probability is greater than 0.05, the difference is not significant.  In other words, at least 15% of the simulations had difference in the mean >= 6.58.  We want it to be less tha 5% to be considered statistically \"significant\"."
   ]
  },
  {
   "cell_type": "code",
   "execution_count": 140,
   "metadata": {
    "collapsed": true
   },
   "outputs": [],
   "source": [
    "# sort the difference values in the means\n",
    "diff_means.sort()\n",
    "\n",
    "# set confidence interval and tail values\n",
    "conf_interval = 0.9\n",
    "tails = (1 - conf_interval) / 2\n",
    "\n",
    "# calculate the value that is at the lowest 5% mark out of 10000 = 500\n",
    "lower_bound = int(np.ceil(10000 * tails))\n",
    "\n",
    "# calclate the value that is at the highest 5% mark out of 10000 = 9500\n",
    "upper_bound = int(np.floor(10000 * (1 - tails)))"
   ]
  },
  {
   "cell_type": "code",
   "execution_count": 141,
   "metadata": {
    "collapsed": false
   },
   "outputs": [
    {
     "data": {
      "text/plain": [
       "-10.333333333333329"
      ]
     },
     "execution_count": 141,
     "metadata": {},
     "output_type": "execute_result"
    }
   ],
   "source": [
    "diff_means[lower_bound]"
   ]
  },
  {
   "cell_type": "code",
   "execution_count": 142,
   "metadata": {
    "collapsed": false
   },
   "outputs": [
    {
     "data": {
      "text/plain": [
       "10.166666666666671"
      ]
     },
     "execution_count": 142,
     "metadata": {},
     "output_type": "execute_result"
    }
   ],
   "source": [
    "diff_means[upper_bound]"
   ]
  },
  {
   "cell_type": "code",
   "execution_count": 146,
   "metadata": {
    "collapsed": false
   },
   "outputs": [
    {
     "data": {
      "image/png": "[encoded data removed]",
      "text/plain": [
       "<matplotlib.figure.Figure at 0x7fbf83164a90>"
      ]
     },
     "metadata": {},
     "output_type": "display_data"
    }
   ],
   "source": [
    "fig, ax = plt.subplots(figsize=(10, 6))\n",
    "plt.hist(diff_means, alpha=.5, label='difference')\n",
    "plt.legend(loc='best')\n",
    "plt.xlabel('Difference in the Means', fontsize=15)\n",
    "ax.spines['right'].set_visible(False)\n",
    "ax.spines['left'].set_visible(False)\n",
    "ax.spines['top'].set_visible(False)\n",
    "ax.xaxis.set_ticks_position('bottom')\n",
    "plt.tick_params(axis='both', which='major', labelsize=13)\n",
    "ax.get_yaxis().set_ticks([])\n",
    "plt.axvline(diff_means[lower_bound], linewidth=2, alpha=0.5, color='red')\n",
    "plt.axvline(diff_means[upper_bound], linewidth=2, alpha=0.5, color='red')\n",
    "plt.show()"
   ]
  },
  {
   "cell_type": "markdown",
   "metadata": {},
   "source": [
    "With 90% confidence, the true difference between the means will fall between -10.33 and 10.16"
   ]
  }
 ],
 "metadata": {
  "kernelspec": {
   "display_name": "Python 3",
   "language": "python",
   "name": "python3"
  },
  "language_info": {
   "codemirror_mode": {
    "name": "ipython",
    "version": 3
   },
   "file_extension": ".py",
   "mimetype": "text/x-python",
   "name": "python",
   "nbconvert_exporter": "python",
   "pygments_lexer": "ipython3",
   "version": "3.4.3"
  }
 },
 "nbformat": 4,
 "nbformat_minor": 0
}

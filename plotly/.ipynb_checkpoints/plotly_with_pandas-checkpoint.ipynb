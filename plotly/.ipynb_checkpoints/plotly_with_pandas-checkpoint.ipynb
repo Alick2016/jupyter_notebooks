{
 "cells": [
  {
   "cell_type": "markdown",
   "metadata": {},
   "source": [
    "# Creating Plotly Charts Directly from Pandas Data Frame"
   ]
  },
  {
   "cell_type": "markdown",
   "metadata": {},
   "source": [
    "Example was based on Plotly's documentation [here](https://plot.ly/python/offline/).  You need to install cufflinks in order to make plotly plots directly from pandas data frames."
   ]
  },
  {
   "cell_type": "code",
   "execution_count": 23,
   "metadata": {
    "collapsed": false,
    "run_control": {
     "read_only": false
    }
   },
   "outputs": [],
   "source": [
    "import pandas as pd\n",
    "from plotly.offline import download_plotlyjs, init_notebook_mode, iplot\n",
    "from plotly.offline.offline import _plot_html\n",
    "import numpy as np\n",
    "import cufflinks as cf\n",
    "pd.set_option(\"display.max_rows\",1000)\n",
    "init_notebook_mode()"
   ]
  },
  {
   "cell_type": "markdown",
   "metadata": {},
   "source": [
    "**A data frame made up of 5 sets of 10 randomly generated numbers.**"
   ]
  },
  {
   "cell_type": "code",
   "execution_count": 2,
   "metadata": {
    "collapsed": true,
    "run_control": {
     "read_only": false
    }
   },
   "outputs": [],
   "source": [
    "df = pd.DataFrame(np.random.rand(10, 5), columns=['A', 'B', 'C', 'D', 'E'])"
   ]
  },
  {
   "cell_type": "code",
   "execution_count": 3,
   "metadata": {
    "collapsed": false,
    "run_control": {
     "read_only": false
    }
   },
   "outputs": [
    {
     "data": {
      "text/html": [
       "<div>\n",
       "<table border=\"1\" class=\"dataframe\">\n",
       "  <thead>\n",
       "    <tr style=\"text-align: right;\">\n",
       "      <th></th>\n",
       "      <th>A</th>\n",
       "      <th>B</th>\n",
       "      <th>C</th>\n",
       "      <th>D</th>\n",
       "      <th>E</th>\n",
       "    </tr>\n",
       "  </thead>\n",
       "  <tbody>\n",
       "    <tr>\n",
       "      <th>0</th>\n",
       "      <td>0.382469</td>\n",
       "      <td>0.587384</td>\n",
       "      <td>0.853799</td>\n",
       "      <td>0.382812</td>\n",
       "      <td>0.761810</td>\n",
       "    </tr>\n",
       "    <tr>\n",
       "      <th>1</th>\n",
       "      <td>0.756281</td>\n",
       "      <td>0.996098</td>\n",
       "      <td>0.468155</td>\n",
       "      <td>0.863070</td>\n",
       "      <td>0.918683</td>\n",
       "    </tr>\n",
       "    <tr>\n",
       "      <th>2</th>\n",
       "      <td>0.665767</td>\n",
       "      <td>0.460644</td>\n",
       "      <td>0.596937</td>\n",
       "      <td>0.725789</td>\n",
       "      <td>0.882455</td>\n",
       "    </tr>\n",
       "    <tr>\n",
       "      <th>3</th>\n",
       "      <td>0.765439</td>\n",
       "      <td>0.698158</td>\n",
       "      <td>0.918965</td>\n",
       "      <td>0.031202</td>\n",
       "      <td>0.526994</td>\n",
       "    </tr>\n",
       "    <tr>\n",
       "      <th>4</th>\n",
       "      <td>0.390810</td>\n",
       "      <td>0.522242</td>\n",
       "      <td>0.454284</td>\n",
       "      <td>0.641132</td>\n",
       "      <td>0.510746</td>\n",
       "    </tr>\n",
       "    <tr>\n",
       "      <th>5</th>\n",
       "      <td>0.111955</td>\n",
       "      <td>0.853979</td>\n",
       "      <td>0.815376</td>\n",
       "      <td>0.707569</td>\n",
       "      <td>0.736527</td>\n",
       "    </tr>\n",
       "    <tr>\n",
       "      <th>6</th>\n",
       "      <td>0.262383</td>\n",
       "      <td>0.558006</td>\n",
       "      <td>0.234013</td>\n",
       "      <td>0.724331</td>\n",
       "      <td>0.782456</td>\n",
       "    </tr>\n",
       "    <tr>\n",
       "      <th>7</th>\n",
       "      <td>0.866225</td>\n",
       "      <td>0.987110</td>\n",
       "      <td>0.436923</td>\n",
       "      <td>0.265988</td>\n",
       "      <td>0.969788</td>\n",
       "    </tr>\n",
       "    <tr>\n",
       "      <th>8</th>\n",
       "      <td>0.407297</td>\n",
       "      <td>0.041730</td>\n",
       "      <td>0.763959</td>\n",
       "      <td>0.870961</td>\n",
       "      <td>0.322391</td>\n",
       "    </tr>\n",
       "    <tr>\n",
       "      <th>9</th>\n",
       "      <td>0.695335</td>\n",
       "      <td>0.978201</td>\n",
       "      <td>0.586866</td>\n",
       "      <td>0.347028</td>\n",
       "      <td>0.063979</td>\n",
       "    </tr>\n",
       "  </tbody>\n",
       "</table>\n",
       "</div>"
      ],
      "text/plain": [
       "          A         B         C         D         E\n",
       "0  0.382469  0.587384  0.853799  0.382812  0.761810\n",
       "1  0.756281  0.996098  0.468155  0.863070  0.918683\n",
       "2  0.665767  0.460644  0.596937  0.725789  0.882455\n",
       "3  0.765439  0.698158  0.918965  0.031202  0.526994\n",
       "4  0.390810  0.522242  0.454284  0.641132  0.510746\n",
       "5  0.111955  0.853979  0.815376  0.707569  0.736527\n",
       "6  0.262383  0.558006  0.234013  0.724331  0.782456\n",
       "7  0.866225  0.987110  0.436923  0.265988  0.969788\n",
       "8  0.407297  0.041730  0.763959  0.870961  0.322391\n",
       "9  0.695335  0.978201  0.586866  0.347028  0.063979"
      ]
     },
     "execution_count": 3,
     "metadata": {},
     "output_type": "execute_result"
    }
   ],
   "source": [
    "df"
   ]
  },
  {
   "cell_type": "markdown",
   "metadata": {},
   "source": [
    "## Box Plot Example"
   ]
  },
  {
   "cell_type": "code",
   "execution_count": 4,
   "metadata": {
    "collapsed": false,
    "run_control": {
     "read_only": false
    }
   },
   "outputs": [
    {
     "data": {
      "text/html": [
       "<div id=\"a03c1315-c29d-4d17-8db3-23e0f5712e2d\" style=\"height: 500; width: 800px;\" class=\"plotly-graph-div\"></div><script type=\"text/javascript\">window.PLOTLYENV=window.PLOTLYENV || {};window.PLOTLYENV.BASE_URL=\"https://plot.ly\";Plotly.newPlot(\"a03c1315-c29d-4d17-8db3-23e0f5712e2d\", [{\"type\": \"box\", \"y\": [0.38246889283500973, 0.7562811482444016, 0.665767038120217, 0.7654389610831513, 0.39081004263905494, 0.11195529473516652, 0.26238327733750877, 0.866224625570591, 0.4072967057284572, 0.695334974373044], \"marker\": {\"color\": \"rgba(255, 153, 51, 1.0)\"}, \"boxpoints\": false, \"line\": {\"width\": 1.3}, \"name\": \"A\"}, {\"type\": \"box\", \"y\": [0.5873839573169302, 0.9960977741889665, 0.4606436216824661, 0.6981582176898807, 0.5222415971823438, 0.853979364748448, 0.5580059410525539, 0.9871102531373681, 0.04172991844609297, 0.9782013581688309], \"marker\": {\"color\": \"rgba(55, 128, 191, 1.0)\"}, \"boxpoints\": false, \"line\": {\"width\": 1.3}, \"name\": \"B\"}, {\"type\": \"box\", \"y\": [0.8537992185641627, 0.4681554474821077, 0.5969367079546155, 0.9189646712356911, 0.45428400459859486, 0.8153759963905763, 0.2340130909604241, 0.4369228929672262, 0.7639593444052244, 0.5868657568028203], \"marker\": {\"color\": \"rgba(50, 171, 96, 1.0)\"}, \"boxpoints\": false, \"line\": {\"width\": 1.3}, \"name\": \"C\"}, {\"type\": \"box\", \"y\": [0.382811692900067, 0.8630700890160813, 0.7257893580627564, 0.031201510037243918, 0.6411322073912185, 0.7075685832523249, 0.7243310445255049, 0.26598791506705843, 0.8709608725926598, 0.3470282408463752], \"marker\": {\"color\": \"rgba(128, 0, 128, 1.0)\"}, \"boxpoints\": false, \"line\": {\"width\": 1.3}, \"name\": \"D\"}, {\"type\": \"box\", \"y\": [0.7618100303473219, 0.9186825627822585, 0.882454786800419, 0.5269936072049821, 0.5107458072963753, 0.7365270922397028, 0.7824559843669053, 0.9697877372514657, 0.3223914527510512, 0.06397905989735408], \"marker\": {\"color\": \"rgba(219, 64, 82, 1.0)\"}, \"boxpoints\": false, \"line\": {\"width\": 1.3}, \"name\": \"E\"}], {\"plot_bgcolor\": \"#F5F6F9\", \"titlefont\": {\"color\": \"#4D5663\"}, \"yaxis1\": {\"tickfont\": {\"color\": \"#4D5663\"}, \"titlefont\": {\"color\": \"#4D5663\"}, \"title\": \"\", \"zerolinecolor\": \"#E1E5ED\", \"showgrid\": true, \"gridcolor\": \"#E1E5ED\"}, \"height\": 500, \"paper_bgcolor\": \"#F5F6F9\", \"title\": \"Plotly Pandas\", \"xaxis1\": {\"tickfont\": {\"color\": \"#4D5663\"}, \"titlefont\": {\"color\": \"#4D5663\"}, \"title\": \"\", \"zerolinecolor\": \"#E1E5ED\", \"showgrid\": true, \"gridcolor\": \"#E1E5ED\"}, \"width\": 800, \"legend\": {\"bgcolor\": \"#F5F6F9\", \"font\": {\"color\": \"#4D5663\"}}}, {\"linkText\": \"Export to plot.ly\", \"showLink\": true})</script>"
      ],
      "text/plain": [
       "<IPython.core.display.HTML object>"
      ]
     },
     "metadata": {},
     "output_type": "display_data"
    }
   ],
   "source": [
    "iplot(df.iplot(asFigure=True, kind='box', title='Plotly Pandas', dimensions=(800,500)))"
   ]
  },
  {
   "cell_type": "markdown",
   "metadata": {},
   "source": [
    "## Histogram Example"
   ]
  },
  {
   "cell_type": "code",
   "execution_count": 10,
   "metadata": {
    "collapsed": true
   },
   "outputs": [],
   "source": [
    "from bokeh.sampledata.autompg import autompg as df  # sample automotive data"
   ]
  },
  {
   "cell_type": "code",
   "execution_count": 11,
   "metadata": {
    "collapsed": false
   },
   "outputs": [
    {
     "data": {
      "text/html": [
       "<div>\n",
       "<table border=\"1\" class=\"dataframe\">\n",
       "  <thead>\n",
       "    <tr style=\"text-align: right;\">\n",
       "      <th></th>\n",
       "      <th>mpg</th>\n",
       "      <th>cyl</th>\n",
       "      <th>displ</th>\n",
       "      <th>hp</th>\n",
       "      <th>weight</th>\n",
       "      <th>accel</th>\n",
       "      <th>yr</th>\n",
       "      <th>origin</th>\n",
       "      <th>name</th>\n",
       "    </tr>\n",
       "  </thead>\n",
       "  <tbody>\n",
       "    <tr>\n",
       "      <th>0</th>\n",
       "      <td>18.0</td>\n",
       "      <td>8</td>\n",
       "      <td>307.0</td>\n",
       "      <td>130</td>\n",
       "      <td>3504</td>\n",
       "      <td>12.0</td>\n",
       "      <td>70</td>\n",
       "      <td>1</td>\n",
       "      <td>chevrolet chevelle malibu</td>\n",
       "    </tr>\n",
       "    <tr>\n",
       "      <th>1</th>\n",
       "      <td>15.0</td>\n",
       "      <td>8</td>\n",
       "      <td>350.0</td>\n",
       "      <td>165</td>\n",
       "      <td>3693</td>\n",
       "      <td>11.5</td>\n",
       "      <td>70</td>\n",
       "      <td>1</td>\n",
       "      <td>buick skylark 320</td>\n",
       "    </tr>\n",
       "    <tr>\n",
       "      <th>2</th>\n",
       "      <td>18.0</td>\n",
       "      <td>8</td>\n",
       "      <td>318.0</td>\n",
       "      <td>150</td>\n",
       "      <td>3436</td>\n",
       "      <td>11.0</td>\n",
       "      <td>70</td>\n",
       "      <td>1</td>\n",
       "      <td>plymouth satellite</td>\n",
       "    </tr>\n",
       "    <tr>\n",
       "      <th>3</th>\n",
       "      <td>16.0</td>\n",
       "      <td>8</td>\n",
       "      <td>304.0</td>\n",
       "      <td>150</td>\n",
       "      <td>3433</td>\n",
       "      <td>12.0</td>\n",
       "      <td>70</td>\n",
       "      <td>1</td>\n",
       "      <td>amc rebel sst</td>\n",
       "    </tr>\n",
       "    <tr>\n",
       "      <th>4</th>\n",
       "      <td>17.0</td>\n",
       "      <td>8</td>\n",
       "      <td>302.0</td>\n",
       "      <td>140</td>\n",
       "      <td>3449</td>\n",
       "      <td>10.5</td>\n",
       "      <td>70</td>\n",
       "      <td>1</td>\n",
       "      <td>ford torino</td>\n",
       "    </tr>\n",
       "  </tbody>\n",
       "</table>\n",
       "</div>"
      ],
      "text/plain": [
       "    mpg  cyl  displ   hp  weight  accel  yr  origin                       name\n",
       "0  18.0    8  307.0  130    3504   12.0  70       1  chevrolet chevelle malibu\n",
       "1  15.0    8  350.0  165    3693   11.5  70       1          buick skylark 320\n",
       "2  18.0    8  318.0  150    3436   11.0  70       1         plymouth satellite\n",
       "3  16.0    8  304.0  150    3433   12.0  70       1              amc rebel sst\n",
       "4  17.0    8  302.0  140    3449   10.5  70       1                ford torino"
      ]
     },
     "execution_count": 11,
     "metadata": {},
     "output_type": "execute_result"
    }
   ],
   "source": [
    "df.head()"
   ]
  },
  {
   "cell_type": "code",
   "execution_count": 13,
   "metadata": {
    "collapsed": false
   },
   "outputs": [
    {
     "data": {
      "text/html": [
       "<div id=\"6ce21b91-420a-45c6-8b56-a1e22544a727\" style=\"height: 400; width: 600px;\" class=\"plotly-graph-div\"></div><script type=\"text/javascript\">window.PLOTLYENV=window.PLOTLYENV || {};window.PLOTLYENV.BASE_URL=\"https://plot.ly\";Plotly.newPlot(\"6ce21b91-420a-45c6-8b56-a1e22544a727\", [{\"type\": \"histogram\", \"opacity\": 0.8, \"x\": [18.0, 15.0, 18.0, 16.0, 17.0, 15.0, 14.0, 14.0, 14.0, 15.0, 15.0, 14.0, 15.0, 14.0, 24.0, 22.0, 18.0, 21.0, 27.0, 26.0, 25.0, 24.0, 25.0, 26.0, 21.0, 10.0, 10.0, 11.0, 9.0, 27.0, 28.0, 25.0, 19.0, 16.0, 17.0, 19.0, 18.0, 14.0, 14.0, 14.0, 14.0, 12.0, 13.0, 13.0, 18.0, 22.0, 19.0, 18.0, 23.0, 28.0, 30.0, 30.0, 31.0, 35.0, 27.0, 26.0, 24.0, 25.0, 23.0, 20.0, 21.0, 13.0, 14.0, 15.0, 14.0, 17.0, 11.0, 13.0, 12.0, 13.0, 19.0, 15.0, 13.0, 13.0, 14.0, 18.0, 22.0, 21.0, 26.0, 22.0, 28.0, 23.0, 28.0, 27.0, 13.0, 14.0, 13.0, 14.0, 15.0, 12.0, 13.0, 13.0, 14.0, 13.0, 12.0, 13.0, 18.0, 16.0, 18.0, 18.0, 23.0, 26.0, 11.0, 12.0, 13.0, 12.0, 18.0, 20.0, 21.0, 22.0, 18.0, 19.0, 21.0, 26.0, 15.0, 16.0, 29.0, 24.0, 20.0, 19.0, 15.0, 24.0, 20.0, 11.0, 20.0, 19.0, 15.0, 31.0, 26.0, 32.0, 25.0, 16.0, 16.0, 18.0, 16.0, 13.0, 14.0, 14.0, 14.0, 29.0, 26.0, 26.0, 31.0, 32.0, 28.0, 24.0, 26.0, 24.0, 26.0, 31.0, 19.0, 18.0, 15.0, 15.0, 16.0, 15.0, 16.0, 14.0, 17.0, 16.0, 15.0, 18.0, 21.0, 20.0, 13.0, 29.0, 23.0, 20.0, 23.0, 24.0, 25.0, 24.0, 18.0, 29.0, 19.0, 23.0, 23.0, 22.0, 25.0, 33.0, 28.0, 25.0, 25.0, 26.0, 27.0, 17.5, 16.0, 15.5, 14.5, 22.0, 22.0, 24.0, 22.5, 29.0, 24.5, 29.0, 33.0, 20.0, 18.0, 18.5, 17.5, 29.5, 32.0, 28.0, 26.5, 20.0, 13.0, 19.0, 19.0, 16.5, 16.5, 13.0, 13.0, 13.0, 31.5, 30.0, 36.0, 25.5, 33.5, 17.5, 17.0, 15.5, 15.0, 17.5, 20.5, 19.0, 18.5, 16.0, 15.5, 15.5, 16.0, 29.0, 24.5, 26.0, 25.5, 30.5, 33.5, 30.0, 30.5, 22.0, 21.5, 21.5, 43.1, 36.1, 32.8, 39.4, 36.1, 19.9, 19.4, 20.2, 19.2, 20.5, 20.2, 25.1, 20.5, 19.4, 20.6, 20.8, 18.6, 18.1, 19.2, 17.7, 18.1, 17.5, 30.0, 27.5, 27.2, 30.9, 21.1, 23.2, 23.8, 23.9, 20.3, 17.0, 21.6, 16.2, 31.5, 29.5, 21.5, 19.8, 22.3, 20.2, 20.6, 17.0, 17.6, 16.5, 18.2, 16.9, 15.5, 19.2, 18.5, 31.9, 34.1, 35.7, 27.4, 25.4, 23.0, 27.2, 23.9, 34.2, 34.5, 31.8, 37.3, 28.4, 28.8, 26.8, 33.5, 41.5, 38.1, 32.1, 37.2, 28.0, 26.4, 24.3, 19.1, 34.3, 29.8, 31.3, 37.0, 32.2, 46.6, 27.9, 40.8, 44.3, 43.4, 36.4, 30.0, 44.6, 33.8, 29.8, 32.7, 23.7, 35.0, 32.4, 27.2, 26.6, 25.8, 23.5, 30.0, 39.1, 39.0, 35.1, 32.3, 37.0, 37.7, 34.1, 34.7, 34.4, 29.9, 33.0, 33.7, 32.4, 32.9, 31.6, 28.1, 30.7, 25.4, 24.2, 22.4, 26.6, 20.2, 17.6, 28.0, 27.0, 34.0, 31.0, 29.0, 27.0, 24.0, 36.0, 37.0, 31.0, 38.0, 36.0, 36.0, 36.0, 34.0, 38.0, 32.0, 38.0, 25.0, 38.0, 26.0, 22.0, 32.0, 36.0, 27.0, 27.0, 44.0, 32.0, 28.0, 31.0], \"orientation\": \"v\", \"marker\": {\"line\": {\"color\": \"#4D5663\", \"width\": 1.3}, \"color\": \"rgba(255, 153, 51, 1.0)\"}, \"histfunc\": \"count\", \"histnorm\": \"\", \"name\": \"mpg\"}], {\"plot_bgcolor\": \"#F5F6F9\", \"titlefont\": {\"color\": \"#4D5663\"}, \"yaxis1\": {\"tickfont\": {\"color\": \"#4D5663\"}, \"titlefont\": {\"color\": \"#4D5663\"}, \"title\": \"\", \"zerolinecolor\": \"#E1E5ED\", \"showgrid\": true, \"gridcolor\": \"#E1E5ED\"}, \"barmode\": \"overlay\", \"height\": 400, \"title\": \"MPG HIstogram of All Vehicles\", \"paper_bgcolor\": \"#F5F6F9\", \"xaxis1\": {\"tickfont\": {\"color\": \"#4D5663\"}, \"titlefont\": {\"color\": \"#4D5663\"}, \"title\": \"\", \"zerolinecolor\": \"#E1E5ED\", \"showgrid\": true, \"gridcolor\": \"#E1E5ED\"}, \"width\": 600, \"legend\": {\"bgcolor\": \"#F5F6F9\", \"font\": {\"color\": \"#4D5663\"}}}, {\"linkText\": \"Export to plot.ly\", \"showLink\": true})</script>"
      ],
      "text/plain": [
       "<IPython.core.display.HTML object>"
      ]
     },
     "metadata": {},
     "output_type": "display_data"
    }
   ],
   "source": [
    "iplot(df.mpg.iplot(asFigure=True, kind='histogram', title='MPG HIstogram of All Vehicles', dimensions=(600,400)))"
   ]
  },
  {
   "cell_type": "markdown",
   "metadata": {},
   "source": [
    "**OK, so I got a MPG histogram for all vehicles, but what if I want to make multiple histograms by engine cylinder?**"
   ]
  },
  {
   "cell_type": "markdown",
   "metadata": {},
   "source": [
    "**Plotly expects the data sets or series to be in their own column.  But in this case, the data isn't setup that way.  The data is in what we call \"long\" format.  We need to convert the data from long format to wide format.  We can use pandas pivot() method to do this.**"
   ]
  },
  {
   "cell_type": "code",
   "execution_count": 14,
   "metadata": {
    "collapsed": true
   },
   "outputs": [],
   "source": [
    "pivoted = df.pivot(columns='cyl', values='mpg')"
   ]
  },
  {
   "cell_type": "markdown",
   "metadata": {},
   "source": [
    "Here's what the data frame looks like in wide format"
   ]
  },
  {
   "cell_type": "code",
   "execution_count": 27,
   "metadata": {
    "collapsed": false
   },
   "outputs": [
    {
     "data": {
      "text/html": [
       "<div>\n",
       "<table border=\"1\" class=\"dataframe\">\n",
       "  <thead>\n",
       "    <tr style=\"text-align: right;\">\n",
       "      <th>cyl</th>\n",
       "      <th>3</th>\n",
       "      <th>4</th>\n",
       "      <th>5</th>\n",
       "      <th>6</th>\n",
       "      <th>8</th>\n",
       "    </tr>\n",
       "  </thead>\n",
       "  <tbody>\n",
       "    <tr>\n",
       "      <th>0</th>\n",
       "      <td>NaN</td>\n",
       "      <td>NaN</td>\n",
       "      <td>NaN</td>\n",
       "      <td>NaN</td>\n",
       "      <td>18.0</td>\n",
       "    </tr>\n",
       "    <tr>\n",
       "      <th>1</th>\n",
       "      <td>NaN</td>\n",
       "      <td>NaN</td>\n",
       "      <td>NaN</td>\n",
       "      <td>NaN</td>\n",
       "      <td>15.0</td>\n",
       "    </tr>\n",
       "    <tr>\n",
       "      <th>2</th>\n",
       "      <td>NaN</td>\n",
       "      <td>NaN</td>\n",
       "      <td>NaN</td>\n",
       "      <td>NaN</td>\n",
       "      <td>18.0</td>\n",
       "    </tr>\n",
       "    <tr>\n",
       "      <th>3</th>\n",
       "      <td>NaN</td>\n",
       "      <td>NaN</td>\n",
       "      <td>NaN</td>\n",
       "      <td>NaN</td>\n",
       "      <td>16.0</td>\n",
       "    </tr>\n",
       "    <tr>\n",
       "      <th>4</th>\n",
       "      <td>NaN</td>\n",
       "      <td>NaN</td>\n",
       "      <td>NaN</td>\n",
       "      <td>NaN</td>\n",
       "      <td>17.0</td>\n",
       "    </tr>\n",
       "    <tr>\n",
       "      <th>5</th>\n",
       "      <td>NaN</td>\n",
       "      <td>NaN</td>\n",
       "      <td>NaN</td>\n",
       "      <td>NaN</td>\n",
       "      <td>15.0</td>\n",
       "    </tr>\n",
       "    <tr>\n",
       "      <th>6</th>\n",
       "      <td>NaN</td>\n",
       "      <td>NaN</td>\n",
       "      <td>NaN</td>\n",
       "      <td>NaN</td>\n",
       "      <td>14.0</td>\n",
       "    </tr>\n",
       "    <tr>\n",
       "      <th>7</th>\n",
       "      <td>NaN</td>\n",
       "      <td>NaN</td>\n",
       "      <td>NaN</td>\n",
       "      <td>NaN</td>\n",
       "      <td>14.0</td>\n",
       "    </tr>\n",
       "    <tr>\n",
       "      <th>8</th>\n",
       "      <td>NaN</td>\n",
       "      <td>NaN</td>\n",
       "      <td>NaN</td>\n",
       "      <td>NaN</td>\n",
       "      <td>14.0</td>\n",
       "    </tr>\n",
       "    <tr>\n",
       "      <th>9</th>\n",
       "      <td>NaN</td>\n",
       "      <td>NaN</td>\n",
       "      <td>NaN</td>\n",
       "      <td>NaN</td>\n",
       "      <td>15.0</td>\n",
       "    </tr>\n",
       "    <tr>\n",
       "      <th>10</th>\n",
       "      <td>NaN</td>\n",
       "      <td>NaN</td>\n",
       "      <td>NaN</td>\n",
       "      <td>NaN</td>\n",
       "      <td>15.0</td>\n",
       "    </tr>\n",
       "    <tr>\n",
       "      <th>11</th>\n",
       "      <td>NaN</td>\n",
       "      <td>NaN</td>\n",
       "      <td>NaN</td>\n",
       "      <td>NaN</td>\n",
       "      <td>14.0</td>\n",
       "    </tr>\n",
       "    <tr>\n",
       "      <th>12</th>\n",
       "      <td>NaN</td>\n",
       "      <td>NaN</td>\n",
       "      <td>NaN</td>\n",
       "      <td>NaN</td>\n",
       "      <td>15.0</td>\n",
       "    </tr>\n",
       "    <tr>\n",
       "      <th>13</th>\n",
       "      <td>NaN</td>\n",
       "      <td>NaN</td>\n",
       "      <td>NaN</td>\n",
       "      <td>NaN</td>\n",
       "      <td>14.0</td>\n",
       "    </tr>\n",
       "    <tr>\n",
       "      <th>14</th>\n",
       "      <td>NaN</td>\n",
       "      <td>24.0</td>\n",
       "      <td>NaN</td>\n",
       "      <td>NaN</td>\n",
       "      <td>NaN</td>\n",
       "    </tr>\n",
       "    <tr>\n",
       "      <th>15</th>\n",
       "      <td>NaN</td>\n",
       "      <td>NaN</td>\n",
       "      <td>NaN</td>\n",
       "      <td>22.0</td>\n",
       "      <td>NaN</td>\n",
       "    </tr>\n",
       "    <tr>\n",
       "      <th>16</th>\n",
       "      <td>NaN</td>\n",
       "      <td>NaN</td>\n",
       "      <td>NaN</td>\n",
       "      <td>18.0</td>\n",
       "      <td>NaN</td>\n",
       "    </tr>\n",
       "    <tr>\n",
       "      <th>17</th>\n",
       "      <td>NaN</td>\n",
       "      <td>NaN</td>\n",
       "      <td>NaN</td>\n",
       "      <td>21.0</td>\n",
       "      <td>NaN</td>\n",
       "    </tr>\n",
       "    <tr>\n",
       "      <th>18</th>\n",
       "      <td>NaN</td>\n",
       "      <td>27.0</td>\n",
       "      <td>NaN</td>\n",
       "      <td>NaN</td>\n",
       "      <td>NaN</td>\n",
       "    </tr>\n",
       "    <tr>\n",
       "      <th>19</th>\n",
       "      <td>NaN</td>\n",
       "      <td>26.0</td>\n",
       "      <td>NaN</td>\n",
       "      <td>NaN</td>\n",
       "      <td>NaN</td>\n",
       "    </tr>\n",
       "  </tbody>\n",
       "</table>\n",
       "</div>"
      ],
      "text/plain": [
       "cyl   3     4   5     6     8\n",
       "0   NaN   NaN NaN   NaN  18.0\n",
       "1   NaN   NaN NaN   NaN  15.0\n",
       "2   NaN   NaN NaN   NaN  18.0\n",
       "3   NaN   NaN NaN   NaN  16.0\n",
       "4   NaN   NaN NaN   NaN  17.0\n",
       "5   NaN   NaN NaN   NaN  15.0\n",
       "6   NaN   NaN NaN   NaN  14.0\n",
       "7   NaN   NaN NaN   NaN  14.0\n",
       "8   NaN   NaN NaN   NaN  14.0\n",
       "9   NaN   NaN NaN   NaN  15.0\n",
       "10  NaN   NaN NaN   NaN  15.0\n",
       "11  NaN   NaN NaN   NaN  14.0\n",
       "12  NaN   NaN NaN   NaN  15.0\n",
       "13  NaN   NaN NaN   NaN  14.0\n",
       "14  NaN  24.0 NaN   NaN   NaN\n",
       "15  NaN   NaN NaN  22.0   NaN\n",
       "16  NaN   NaN NaN  18.0   NaN\n",
       "17  NaN   NaN NaN  21.0   NaN\n",
       "18  NaN  27.0 NaN   NaN   NaN\n",
       "19  NaN  26.0 NaN   NaN   NaN"
      ]
     },
     "execution_count": 27,
     "metadata": {},
     "output_type": "execute_result"
    }
   ],
   "source": [
    "pivoted.head(20)"
   ]
  },
  {
   "cell_type": "code",
   "execution_count": 25,
   "metadata": {
    "collapsed": false
   },
   "outputs": [
    {
     "data": {
      "text/html": [
       "<div id=\"fe0c1834-f387-463e-b690-3b02d09a756d\" style=\"height: 400; width: 600px;\" class=\"plotly-graph-div\"></div><script type=\"text/javascript\">window.PLOTLYENV=window.PLOTLYENV || {};window.PLOTLYENV.BASE_URL=\"https://plot.ly\";Plotly.newPlot(\"fe0c1834-f387-463e-b690-3b02d09a756d\", [{\"type\": \"histogram\", \"opacity\": 0.8, \"x\": [null, null, null, null, null, null, null, null, null, null, null, null, null, null, null, null, null, null, null, null, null, null, null, null, null, null, null, null, null, null, null, null, null, null, null, null, null, null, null, null, null, null, null, null, null, null, null, null, null, null, null, null, null, null, null, null, null, null, null, null, null, null, null, null, null, null, null, null, null, null, 19.0, null, null, null, null, null, null, null, null, null, null, null, null, null, null, null, null, null, null, null, null, null, null, null, null, null, null, null, null, null, null, null, null, null, null, null, null, null, null, null, 18.0, null, null, null, null, null, null, null, null, null, null, null, null, null, null, null, null, null, null, null, null, null, null, null, null, null, null, null, null, null, null, null, null, null, null, null, null, null, null, null, null, null, null, null, null, null, null, null, null, null, null, null, null, null, null, null, null, null, null, null, null, null, null, null, null, null, null, null, null, null, null, null, null, null, null, null, null, null, null, null, null, null, null, null, null, null, null, null, null, null, null, null, null, null, null, null, null, null, null, null, null, null, null, null, null, null, null, null, null, null, null, null, null, null, null, null, null, null, null, null, null, null, null, null, null, null, null, null, null, null, null, 21.5, null, null, null, null, null, null, null, null, null, null, null, null, null, null, null, null, null, null, null, null, null, null, null, null, null, null, null, null, null, null, null, null, null, null, null, null, null, null, null, null, null, null, null, null, null, null, null, null, null, null, null, null, null, null, null, null, null, null, null, null, null, null, null, null, null, null, null, null, null, null, null, null, null, null, null, null, null, null, null, null, null, null, null, null, null, null, null, null, null, 23.7, null, null, null, null, null, null, null, null, null, null, null, null, null, null, null, null, null, null, null, null, null, null, null, null, null, null, null, null, null, null, null, null, null, null, null, null, null, null, null, null, null, null, null, null, null, null, null, null, null, null, null, null, null, null, null, null, null, null, null, null], \"orientation\": \"v\", \"marker\": {\"line\": {\"color\": \"#4D5663\", \"width\": 1.3}, \"color\": \"rgba(255, 153, 51, 1.0)\"}, \"histfunc\": \"count\", \"histnorm\": \"\", \"name\": 3}, {\"type\": \"histogram\", \"opacity\": 0.8, \"x\": [null, null, null, null, null, null, null, null, null, null, null, null, null, null, 24.0, null, null, null, 27.0, 26.0, 25.0, 24.0, 25.0, 26.0, null, null, null, null, null, 27.0, 28.0, 25.0, null, null, null, null, null, null, null, null, null, null, null, null, null, 22.0, null, null, 23.0, 28.0, 30.0, 30.0, 31.0, 35.0, 27.0, 26.0, 24.0, 25.0, 23.0, 20.0, 21.0, null, null, null, null, null, null, null, null, null, null, null, null, null, null, 18.0, 22.0, 21.0, 26.0, 22.0, 28.0, 23.0, 28.0, 27.0, null, null, null, null, null, null, null, null, null, null, null, null, null, null, null, null, null, 26.0, null, null, null, null, null, 20.0, 21.0, 22.0, null, 19.0, null, 26.0, null, null, 29.0, 24.0, 20.0, 19.0, null, 24.0, null, null, null, null, null, 31.0, 26.0, 32.0, 25.0, null, null, null, null, null, null, null, null, 29.0, 26.0, 26.0, 31.0, 32.0, 28.0, 24.0, 26.0, 24.0, 26.0, 31.0, null, null, null, null, null, null, null, null, null, null, null, null, null, null, null, 29.0, 23.0, null, 23.0, 24.0, 25.0, 24.0, null, 29.0, null, 23.0, 23.0, 22.0, 25.0, 33.0, 28.0, 25.0, 25.0, 26.0, 27.0, null, null, null, null, null, null, null, null, 29.0, 24.5, 29.0, 33.0, null, null, null, null, 29.5, 32.0, 28.0, 26.5, 20.0, null, 19.0, null, null, null, null, null, null, 31.5, 30.0, 36.0, 25.5, 33.5, null, null, null, null, null, null, null, null, null, null, null, null, 29.0, 24.5, 26.0, 25.5, 30.5, 33.5, 30.0, 30.5, null, 21.5, null, 43.1, 36.1, 32.8, 39.4, 36.1, null, null, null, null, null, null, 25.1, null, null, null, null, null, null, null, null, null, null, 30.0, 27.5, 27.2, 30.9, 21.1, 23.2, 23.8, 23.9, null, null, 21.6, null, 31.5, 29.5, null, null, 22.3, null, null, null, null, null, null, null, null, null, null, 31.9, 34.1, 35.7, 27.4, null, null, 27.2, null, 34.2, 34.5, 31.8, 37.3, 28.4, null, null, 33.5, 41.5, 38.1, 32.1, 37.2, 28.0, 26.4, 24.3, null, 34.3, 29.8, 31.3, 37.0, 32.2, 46.6, 27.9, 40.8, 44.3, 43.4, null, 30.0, 44.6, 33.8, 29.8, null, null, 35.0, 32.4, 27.2, 26.6, 25.8, null, 30.0, 39.1, 39.0, 35.1, 32.3, 37.0, 37.7, 34.1, 34.7, 34.4, 29.9, 33.0, 33.7, 32.4, 32.9, 31.6, 28.1, null, null, null, null, null, null, null, 28.0, 27.0, 34.0, 31.0, 29.0, 27.0, 24.0, 36.0, 37.0, 31.0, 38.0, 36.0, 36.0, 36.0, 34.0, 38.0, 32.0, 38.0, null, null, 26.0, null, 32.0, 36.0, 27.0, 27.0, 44.0, 32.0, 28.0, 31.0], \"orientation\": \"v\", \"marker\": {\"line\": {\"color\": \"#4D5663\", \"width\": 1.3}, \"color\": \"rgba(55, 128, 191, 1.0)\"}, \"histfunc\": \"count\", \"histnorm\": \"\", \"name\": 4}, {\"type\": \"histogram\", \"opacity\": 0.8, \"x\": [null, null, null, null, null, null, null, null, null, null, null, null, null, null, null, null, null, null, null, null, null, null, null, null, null, null, null, null, null, null, null, null, null, null, null, null, null, null, null, null, null, null, null, null, null, null, null, null, null, null, null, null, null, null, null, null, null, null, null, null, null, null, null, null, null, null, null, null, null, null, null, null, null, null, null, null, null, null, null, null, null, null, null, null, null, null, null, null, null, null, null, null, null, null, null, null, null, null, null, null, null, null, null, null, null, null, null, null, null, null, null, null, null, null, null, null, null, null, null, null, null, null, null, null, null, null, null, null, null, null, null, null, null, null, null, null, null, null, null, null, null, null, null, null, null, null, null, null, null, null, null, null, null, null, null, null, null, null, null, null, null, null, null, null, null, null, null, null, null, null, null, null, null, null, null, null, null, null, null, null, null, null, null, null, null, null, null, null, null, null, null, null, null, null, null, null, null, null, null, null, null, null, null, null, null, null, null, null, null, null, null, null, null, null, null, null, null, null, null, null, null, null, null, null, null, null, null, null, null, null, null, null, null, null, null, null, null, null, null, null, null, null, null, null, null, null, null, null, null, null, null, null, null, null, null, null, null, null, null, null, null, null, null, null, null, null, null, null, null, null, null, null, 20.3, null, null, null, null, null, null, null, null, null, null, null, null, null, null, null, null, null, null, null, null, null, null, 25.4, null, null, null, null, null, null, null, null, null, null, null, null, null, null, null, null, null, null, null, null, null, null, null, null, null, null, null, null, null, 36.4, null, null, null, null, null, null, null, null, null, null, null, null, null, null, null, null, null, null, null, null, null, null, null, null, null, null, null, null, null, null, null, null, null, null, null, null, null, null, null, null, null, null, null, null, null, null, null, null, null, null, null, null, null, null, null, null, null, null, null, null, null, null, null, null, null, null], \"orientation\": \"v\", \"marker\": {\"line\": {\"color\": \"#4D5663\", \"width\": 1.3}, \"color\": \"rgba(50, 171, 96, 1.0)\"}, \"histfunc\": \"count\", \"histnorm\": \"\", \"name\": 5}, {\"type\": \"histogram\", \"opacity\": 0.8, \"x\": [null, null, null, null, null, null, null, null, null, null, null, null, null, null, null, 22.0, 18.0, 21.0, null, null, null, null, null, null, 21.0, null, null, null, null, null, null, null, 19.0, 16.0, 17.0, 19.0, 18.0, null, null, null, null, null, null, null, 18.0, null, 19.0, 18.0, null, null, null, null, null, null, null, null, null, null, null, null, null, null, null, null, null, null, null, null, null, null, null, null, null, null, null, null, null, null, null, null, null, null, null, null, null, null, null, null, null, null, null, null, null, null, null, null, 18.0, 16.0, 18.0, 18.0, 23.0, null, null, null, null, null, 18.0, null, null, null, null, null, 21.0, null, null, null, null, null, null, null, null, null, 20.0, null, 20.0, 19.0, 15.0, null, null, null, null, 16.0, 16.0, 18.0, null, null, null, null, null, null, null, null, null, null, null, null, null, null, null, null, 19.0, 18.0, 15.0, 15.0, null, null, null, null, 17.0, 16.0, 15.0, 18.0, 21.0, null, null, null, null, 20.0, null, null, null, null, 18.0, null, 19.0, null, null, null, null, null, null, null, null, null, null, null, null, null, null, 22.0, 22.0, 24.0, 22.5, null, null, null, null, 20.0, 18.0, 18.5, 17.5, null, null, null, null, null, null, null, 19.0, 16.5, null, null, null, null, null, null, null, null, null, null, null, null, null, 17.5, 20.5, 19.0, 18.5, null, null, null, null, null, null, null, null, null, null, null, null, 22.0, null, null, null, null, null, null, null, null, null, null, 19.2, 20.5, 20.2, null, 20.5, 19.4, 20.6, 20.8, 18.6, 18.1, null, 17.7, null, null, null, null, null, null, null, null, null, null, null, 17.0, null, 16.2, null, null, 21.5, 19.8, null, 20.2, 20.6, null, null, null, null, null, null, null, null, null, null, null, null, null, null, null, null, null, null, null, null, null, 28.8, 26.8, null, null, null, null, null, null, null, null, 19.1, null, null, null, null, null, null, null, null, null, null, null, null, null, null, null, 32.7, null, null, null, null, null, null, 23.5, null, null, null, null, null, null, null, null, null, null, null, null, null, null, null, null, null, 30.7, 25.4, 24.2, 22.4, null, 20.2, 17.6, null, null, null, null, null, null, null, null, null, null, null, null, null, null, null, null, null, null, 25.0, 38.0, null, 22.0, null, null, null, null, null, null, null, null], \"orientation\": \"v\", \"marker\": {\"line\": {\"color\": \"#4D5663\", \"width\": 1.3}, \"color\": \"rgba(128, 0, 128, 1.0)\"}, \"histfunc\": \"count\", \"histnorm\": \"\", \"name\": 6}, {\"type\": \"histogram\", \"opacity\": 0.8, \"x\": [18.0, 15.0, 18.0, 16.0, 17.0, 15.0, 14.0, 14.0, 14.0, 15.0, 15.0, 14.0, 15.0, 14.0, null, null, null, null, null, null, null, null, null, null, null, 10.0, 10.0, 11.0, 9.0, null, null, null, null, null, null, null, null, 14.0, 14.0, 14.0, 14.0, 12.0, 13.0, 13.0, null, null, null, null, null, null, null, null, null, null, null, null, null, null, null, null, null, 13.0, 14.0, 15.0, 14.0, 17.0, 11.0, 13.0, 12.0, 13.0, null, 15.0, 13.0, 13.0, 14.0, null, null, null, null, null, null, null, null, null, 13.0, 14.0, 13.0, 14.0, 15.0, 12.0, 13.0, 13.0, 14.0, 13.0, 12.0, 13.0, null, null, null, null, null, null, 11.0, 12.0, 13.0, 12.0, null, null, null, null, null, null, null, null, 15.0, 16.0, null, null, null, null, 15.0, null, null, 11.0, null, null, null, null, null, null, null, null, null, null, 16.0, 13.0, 14.0, 14.0, 14.0, null, null, null, null, null, null, null, null, null, null, null, null, null, null, null, 16.0, 15.0, 16.0, 14.0, null, null, null, null, null, 20.0, 13.0, null, null, null, null, null, null, null, null, null, null, null, null, null, null, null, null, null, null, null, null, 17.5, 16.0, 15.5, 14.5, null, null, null, null, null, null, null, null, null, null, null, null, null, null, null, null, null, 13.0, null, null, null, 16.5, 13.0, 13.0, 13.0, null, null, null, null, null, 17.5, 17.0, 15.5, 15.0, null, null, null, null, 16.0, 15.5, 15.5, 16.0, null, null, null, null, null, null, null, null, null, null, null, null, null, null, null, null, 19.9, 19.4, 20.2, null, null, null, null, null, null, null, null, null, null, 19.2, null, 18.1, 17.5, null, null, null, null, null, null, null, null, null, null, null, null, null, null, null, null, null, null, null, 17.0, 17.6, 16.5, 18.2, 16.9, 15.5, 19.2, 18.5, null, null, null, null, null, 23.0, null, 23.9, null, null, null, null, null, null, null, null, null, null, null, null, null, null, null, null, null, null, null, null, null, null, null, null, null, null, null, null, null, null, null, null, null, null, null, null, null, null, null, null, null, null, null, null, null, null, null, null, null, null, null, null, null, null, null, null, null, null, null, null, 26.6, null, null, null, null, null, null, null, null, null, null, null, null, null, null, null, null, null, null, null, null, null, null, null, null, null, null, null, null, null, null, null, null], \"orientation\": \"v\", \"marker\": {\"line\": {\"color\": \"#4D5663\", \"width\": 1.3}, \"color\": \"rgba(219, 64, 82, 1.0)\"}, \"histfunc\": \"count\", \"histnorm\": \"\", \"name\": 8}], {\"plot_bgcolor\": \"#F5F6F9\", \"titlefont\": {\"color\": \"#4D5663\"}, \"yaxis1\": {\"tickfont\": {\"color\": \"#4D5663\"}, \"titlefont\": {\"color\": \"#4D5663\"}, \"title\": \"\", \"zerolinecolor\": \"#E1E5ED\", \"showgrid\": true, \"gridcolor\": \"#E1E5ED\"}, \"barmode\": \"overlay\", \"height\": 400, \"title\": \"MPG HIstogram by Cylinder\", \"paper_bgcolor\": \"#F5F6F9\", \"xaxis1\": {\"tickfont\": {\"color\": \"#4D5663\"}, \"titlefont\": {\"color\": \"#4D5663\"}, \"title\": \"\", \"zerolinecolor\": \"#E1E5ED\", \"showgrid\": true, \"gridcolor\": \"#E1E5ED\"}, \"width\": 600, \"legend\": {\"bgcolor\": \"#F5F6F9\", \"font\": {\"color\": \"#4D5663\"}}}, {\"linkText\": \"Export to plot.ly\", \"showLink\": true})</script>"
      ],
      "text/plain": [
       "<IPython.core.display.HTML object>"
      ]
     },
     "metadata": {},
     "output_type": "display_data"
    }
   ],
   "source": [
    "iplot(pivoted.iplot(asFigure=True, kind='histogram', title='MPG HIstogram by Cylinder', dimensions=(600,400)))"
   ]
  },
  {
   "cell_type": "markdown",
   "metadata": {},
   "source": [
    "# How to extract the javascript of the plotly chart so that you can embed it into your own HTML page"
   ]
  },
  {
   "cell_type": "markdown",
   "metadata": {},
   "source": [
    "Prior to Plotly becoming open-source, we could only save a static image of the plotly chart that we make and own locally.  Now, there are 2 ways where we can obtain the javascript of the plotly chart that we generate."
   ]
  },
  {
   "cell_type": "markdown",
   "metadata": {},
   "source": [
    "### Method 1: utilize the _plot_html() method"
   ]
  },
  {
   "cell_type": "markdown",
   "metadata": {},
   "source": [
    "The _plot_html() method is part of the offline.py module.  You can view the source for offline.py [here](https://github.com/plotly/plotly.py/blob/master/plotly/offline/offline.py)."
   ]
  },
  {
   "cell_type": "code",
   "execution_count": null,
   "metadata": {
    "collapsed": true,
    "run_control": {
     "read_only": false
    }
   },
   "outputs": [],
   "source": [
    "from plotly.offline.offline import _plot_html"
   ]
  },
  {
   "cell_type": "markdown",
   "metadata": {},
   "source": [
    "**Then you just pass in the dict containing the data frame figure data along with 5 other parameters.**"
   ]
  },
  {
   "cell_type": "code",
   "execution_count": 51,
   "metadata": {
    "collapsed": false,
    "run_control": {
     "read_only": false
    }
   },
   "outputs": [
    {
     "name": "stdout",
     "output_type": "stream",
     "text": [
      "Help on function _plot_html in module plotly.offline.offline:\n",
      "\n",
      "_plot_html(figure_or_data, show_link, link_text, validate, default_width, default_height)\n",
      "\n"
     ]
    }
   ],
   "source": [
    "help(_plot_html)"
   ]
  },
  {
   "cell_type": "markdown",
   "metadata": {},
   "source": [
    "**_plot_html() method returns 4 objects, the first object is what we want, which I have called \"plot_html\":**"
   ]
  },
  {
   "cell_type": "code",
   "execution_count": 5,
   "metadata": {
    "collapsed": false,
    "run_control": {
     "read_only": false
    }
   },
   "outputs": [],
   "source": [
    "plot_html, plotdivid, width, height = _plot_html(df.iplot(asFigure=True, kind='box', title='Plotly Pandas', \n",
    "                                                 dimensions=(800,500)), False, \"\", True, '100%', 525)"
   ]
  },
  {
   "cell_type": "markdown",
   "metadata": {},
   "source": [
    "**plot_html contains the html div and javascript source of the plotly chart!**"
   ]
  },
  {
   "cell_type": "code",
   "execution_count": 6,
   "metadata": {
    "collapsed": false,
    "run_control": {
     "read_only": false
    }
   },
   "outputs": [
    {
     "data": {
      "text/plain": [
       "'<div id=\"3ddca694-fc08-4673-8ca5-4390cb66ce05\" style=\"height: 500; width: 800px;\" class=\"plotly-graph-div\"></div><script type=\"text/javascript\">window.PLOTLYENV=window.PLOTLYENV || {};window.PLOTLYENV.BASE_URL=\"https://plot.ly\";Plotly.newPlot(\"3ddca694-fc08-4673-8ca5-4390cb66ce05\", [{\"name\": \"A\", \"boxpoints\": false, \"type\": \"box\", \"y\": [0.6732716691834182, 0.6349509394553967, 0.5473487490410824, 0.9075035676668465, 0.10628214148210324, 0.9220935420709607, 0.7635684901438772, 0.9006398973628477, 0.1846197886366091, 0.8269330148591199], \"marker\": {\"color\": \"rgba(255, 153, 51, 1.0)\"}, \"line\": {\"width\": 1.3}}, {\"name\": \"B\", \"boxpoints\": false, \"type\": \"box\", \"y\": [0.504788206163343, 0.06350084797567845, 0.24676891209094776, 0.8876322554783037, 0.7439898174982591, 0.5053272018742877, 0.7602761176974051, 0.773771726567733, 0.24603836566686133, 0.0018672141514507468], \"marker\": {\"color\": \"rgba(55, 128, 191, 1.0)\"}, \"line\": {\"width\": 1.3}}, {\"name\": \"C\", \"boxpoints\": false, \"type\": \"box\", \"y\": [0.37553789994604514, 0.920630921718846, 0.8316705277561569, 0.18063613228035325, 0.5175704550245958, 0.872467134894656, 0.7132943591754363, 0.05048288798306755, 0.8609652442700003, 0.6615853576994822], \"marker\": {\"color\": \"rgba(50, 171, 96, 1.0)\"}, \"line\": {\"width\": 1.3}}, {\"name\": \"D\", \"boxpoints\": false, \"type\": \"box\", \"y\": [0.21925419622917786, 0.16905952581721517, 0.5365039197627606, 0.2682839512865004, 0.7053301749241517, 0.4402698021665874, 0.45700257831889746, 0.10323911318101342, 0.2933393152546675, 0.9254346214458941], \"marker\": {\"color\": \"rgba(128, 0, 128, 1.0)\"}, \"line\": {\"width\": 1.3}}, {\"name\": \"E\", \"boxpoints\": false, \"type\": \"box\", \"y\": [0.2977714993558902, 0.504041671900864, 0.7449621949240591, 0.3190649545968106, 0.8948039598532427, 0.1212729616909558, 0.3941497534062335, 0.9234875370457548, 0.41976107218509706, 0.979297382623682], \"marker\": {\"color\": \"rgba(219, 64, 82, 1.0)\"}, \"line\": {\"width\": 1.3}}], {\"paper_bgcolor\": \"#F5F6F9\", \"plot_bgcolor\": \"#F5F6F9\", \"title\": \"Plotly Pandas\", \"xaxis1\": {\"gridcolor\": \"#E1E5ED\", \"title\": \"\", \"tickfont\": {\"color\": \"#4D5663\"}, \"titlefont\": {\"color\": \"#4D5663\"}, \"showgrid\": true, \"zerolinecolor\": \"#E1E5ED\"}, \"width\": 800, \"height\": 500, \"legend\": {\"bgcolor\": \"#F5F6F9\", \"font\": {\"color\": \"#4D5663\"}}, \"titlefont\": {\"color\": \"#4D5663\"}, \"yaxis1\": {\"gridcolor\": \"#E1E5ED\", \"title\": \"\", \"tickfont\": {\"color\": \"#4D5663\"}, \"titlefont\": {\"color\": \"#4D5663\"}, \"showgrid\": true, \"zerolinecolor\": \"#E1E5ED\"}}, {\"linkText\": \"\", \"showLink\": false})</script>'"
      ]
     },
     "execution_count": 6,
     "metadata": {},
     "output_type": "execute_result"
    }
   ],
   "source": [
    "plot_html"
   ]
  },
  {
   "cell_type": "markdown",
   "metadata": {},
   "source": [
    "**Now that we have the raw javascript that produces the plotly chart, we pretty much own the plotly chart that we create!**"
   ]
  },
  {
   "cell_type": "markdown",
   "metadata": {},
   "source": [
    "## Build a html page that contains the interactive plotly chart"
   ]
  },
  {
   "cell_type": "code",
   "execution_count": 8,
   "metadata": {
    "collapsed": true,
    "run_control": {
     "read_only": false
    }
   },
   "outputs": [],
   "source": [
    "html_start = \"\"\"\n",
    "<html>\n",
    "<head>\n",
    "  <script src=\"https://cdn.plot.ly/plotly-latest.min.js\"></script>\n",
    "</head>\n",
    "<body>\"\"\"\n",
    "\n",
    "html_end = \"\"\"\n",
    "</body>\n",
    "</html>\"\"\"\n",
    "\n",
    "html_final = html_start + plot_html + html_end"
   ]
  },
  {
   "cell_type": "code",
   "execution_count": 9,
   "metadata": {
    "collapsed": false,
    "run_control": {
     "read_only": false
    }
   },
   "outputs": [
    {
     "name": "stdout",
     "output_type": "stream",
     "text": [
      "\n",
      "<html>\n",
      "<head>\n",
      "  <script src=\"https://cdn.plot.ly/plotly-latest.min.js\"></script>\n",
      "</head>\n",
      "<body><div id=\"3ddca694-fc08-4673-8ca5-4390cb66ce05\" style=\"height: 500; width: 800px;\" class=\"plotly-graph-div\"></div><script type=\"text/javascript\">window.PLOTLYENV=window.PLOTLYENV || {};window.PLOTLYENV.BASE_URL=\"https://plot.ly\";Plotly.newPlot(\"3ddca694-fc08-4673-8ca5-4390cb66ce05\", [{\"name\": \"A\", \"boxpoints\": false, \"type\": \"box\", \"y\": [0.6732716691834182, 0.6349509394553967, 0.5473487490410824, 0.9075035676668465, 0.10628214148210324, 0.9220935420709607, 0.7635684901438772, 0.9006398973628477, 0.1846197886366091, 0.8269330148591199], \"marker\": {\"color\": \"rgba(255, 153, 51, 1.0)\"}, \"line\": {\"width\": 1.3}}, {\"name\": \"B\", \"boxpoints\": false, \"type\": \"box\", \"y\": [0.504788206163343, 0.06350084797567845, 0.24676891209094776, 0.8876322554783037, 0.7439898174982591, 0.5053272018742877, 0.7602761176974051, 0.773771726567733, 0.24603836566686133, 0.0018672141514507468], \"marker\": {\"color\": \"rgba(55, 128, 191, 1.0)\"}, \"line\": {\"width\": 1.3}}, {\"name\": \"C\", \"boxpoints\": false, \"type\": \"box\", \"y\": [0.37553789994604514, 0.920630921718846, 0.8316705277561569, 0.18063613228035325, 0.5175704550245958, 0.872467134894656, 0.7132943591754363, 0.05048288798306755, 0.8609652442700003, 0.6615853576994822], \"marker\": {\"color\": \"rgba(50, 171, 96, 1.0)\"}, \"line\": {\"width\": 1.3}}, {\"name\": \"D\", \"boxpoints\": false, \"type\": \"box\", \"y\": [0.21925419622917786, 0.16905952581721517, 0.5365039197627606, 0.2682839512865004, 0.7053301749241517, 0.4402698021665874, 0.45700257831889746, 0.10323911318101342, 0.2933393152546675, 0.9254346214458941], \"marker\": {\"color\": \"rgba(128, 0, 128, 1.0)\"}, \"line\": {\"width\": 1.3}}, {\"name\": \"E\", \"boxpoints\": false, \"type\": \"box\", \"y\": [0.2977714993558902, 0.504041671900864, 0.7449621949240591, 0.3190649545968106, 0.8948039598532427, 0.1212729616909558, 0.3941497534062335, 0.9234875370457548, 0.41976107218509706, 0.979297382623682], \"marker\": {\"color\": \"rgba(219, 64, 82, 1.0)\"}, \"line\": {\"width\": 1.3}}], {\"paper_bgcolor\": \"#F5F6F9\", \"plot_bgcolor\": \"#F5F6F9\", \"title\": \"Plotly Pandas\", \"xaxis1\": {\"gridcolor\": \"#E1E5ED\", \"title\": \"\", \"tickfont\": {\"color\": \"#4D5663\"}, \"titlefont\": {\"color\": \"#4D5663\"}, \"showgrid\": true, \"zerolinecolor\": \"#E1E5ED\"}, \"width\": 800, \"height\": 500, \"legend\": {\"bgcolor\": \"#F5F6F9\", \"font\": {\"color\": \"#4D5663\"}}, \"titlefont\": {\"color\": \"#4D5663\"}, \"yaxis1\": {\"gridcolor\": \"#E1E5ED\", \"title\": \"\", \"tickfont\": {\"color\": \"#4D5663\"}, \"titlefont\": {\"color\": \"#4D5663\"}, \"showgrid\": true, \"zerolinecolor\": \"#E1E5ED\"}}, {\"linkText\": \"\", \"showLink\": false})</script>\n",
      "</body>\n",
      "</html>\n"
     ]
    }
   ],
   "source": [
    "print(html_final)"
   ]
  },
  {
   "cell_type": "markdown",
   "metadata": {},
   "source": [
    "### Create html page containing your own plotly chart!"
   ]
  },
  {
   "cell_type": "code",
   "execution_count": 10,
   "metadata": {
    "collapsed": true,
    "run_control": {
     "read_only": false
    }
   },
   "outputs": [],
   "source": [
    "f = open('/home/pybokeh/Desktop/plotly_2_html.html', 'w')\n",
    "f.write(html_final)\n",
    "f.close()"
   ]
  },
  {
   "cell_type": "markdown",
   "metadata": {},
   "source": [
    "** Open the sample html page [here](plotly_2_html.html)**."
   ]
  },
  {
   "cell_type": "markdown",
   "metadata": {},
   "source": [
    "### Method 2: Save your jupyter notebook as html, then add the plotly.js source to it."
   ]
  },
  {
   "cell_type": "markdown",
   "metadata": {},
   "source": [
    "With your favorite text editor or IDE, edit your jupyter notebook html file and add the following line to the head tag:"
   ]
  },
  {
   "cell_type": "code",
   "execution_count": null,
   "metadata": {
    "collapsed": true
   },
   "outputs": [],
   "source": [
    "<script src=\"https://cdn.plot.ly/plotly-latest.min.js\"></script\\>"
   ]
  },
  {
   "cell_type": "markdown",
   "metadata": {},
   "source": [
    "**Then save the html file.  That's it!  Your plotly plot should now render within the html page.**"
   ]
  },
  {
   "cell_type": "markdown",
   "metadata": {},
   "source": [
    "### I would imagine people would use Method 1 when they just want to embed the plotly chart in a blog or html page that wasn't made with jupyter notebook."
   ]
  }
 ],
 "metadata": {
  "hide_input": false,
  "kernelspec": {
   "display_name": "Python 3",
   "language": "python",
   "name": "python3"
  },
  "language_info": {
   "codemirror_mode": {
    "name": "ipython",
    "version": 3
   },
   "file_extension": ".py",
   "mimetype": "text/x-python",
   "name": "python",
   "nbconvert_exporter": "python",
   "pygments_lexer": "ipython3",
   "version": "3.5.1"
  }
 },
 "nbformat": 4,
 "nbformat_minor": 0
}

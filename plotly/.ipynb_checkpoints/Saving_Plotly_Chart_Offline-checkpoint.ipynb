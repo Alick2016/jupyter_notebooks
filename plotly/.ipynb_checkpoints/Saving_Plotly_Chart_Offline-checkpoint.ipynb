{
 "cells": [
  {
   "cell_type": "markdown",
   "metadata": {
    "run_control": {
     "read_only": false
    }
   },
   "source": [
    "# How to extract the javascript of the plotly chart so that you can embed it into your own HTML page"
   ]
  },
  {
   "cell_type": "markdown",
   "metadata": {},
   "source": [
    "Prior to Plotly becoming open-source, we could only save a static image of the plotly chart that we make and own locally.  Now, there are 2 ways where we can obtain the javascript of the plotly chart that was generated."
   ]
  },
  {
   "cell_type": "markdown",
   "metadata": {},
   "source": [
    "### Method 1: utilize the _plot_html() method"
   ]
  },
  {
   "cell_type": "markdown",
   "metadata": {},
   "source": [
    "The _plot_html() method is part of the offline.py module.  You can view the source for offline.py [here](https://github.com/plotly/plotly.py/blob/master/plotly/offline/offline.py)."
   ]
  },
  {
   "cell_type": "code",
   "execution_count": 1,
   "metadata": {
    "collapsed": true
   },
   "outputs": [],
   "source": [
    "from plotly.offline.offline import _plot_html"
   ]
  },
  {
   "cell_type": "markdown",
   "metadata": {},
   "source": [
    "**Then you just pass in the dict containing the data frame figure data along with 5 other parameters.**"
   ]
  },
  {
   "cell_type": "code",
   "execution_count": 2,
   "metadata": {
    "collapsed": false
   },
   "outputs": [
    {
     "name": "stdout",
     "output_type": "stream",
     "text": [
      "Help on function _plot_html in module plotly.offline.offline:\n",
      "\n",
      "_plot_html(figure_or_data, show_link, link_text, validate, default_width, default_height)\n",
      "\n"
     ]
    }
   ],
   "source": [
    "help(_plot_html)"
   ]
  },
  {
   "cell_type": "code",
   "execution_count": 6,
   "metadata": {
    "collapsed": false
   },
   "outputs": [],
   "source": [
    "import pandas as pd\n",
    "from plotly.offline import download_plotlyjs, init_notebook_mode, iplot\n",
    "from plotly.offline.offline import _plot_html\n",
    "import numpy as np\n",
    "import cufflinks as cf\n",
    "pd.set_option(\"display.max_rows\",1000)\n",
    "init_notebook_mode()\n",
    "\n",
    "df = pd.DataFrame(np.random.rand(10, 5), columns=['A', 'B', 'C', 'D', 'E'])"
   ]
  },
  {
   "cell_type": "code",
   "execution_count": 7,
   "metadata": {
    "collapsed": false
   },
   "outputs": [
    {
     "data": {
      "text/html": [
       "<div id=\"fcd3b97c-be80-4f9e-9e6e-fc1c39b647f8\" style=\"height: 500; width: 800px;\" class=\"plotly-graph-div\"></div><script type=\"text/javascript\">window.PLOTLYENV=window.PLOTLYENV || {};window.PLOTLYENV.BASE_URL=\"https://plot.ly\";Plotly.newPlot(\"fcd3b97c-be80-4f9e-9e6e-fc1c39b647f8\", [{\"marker\": {\"color\": \"rgba(255, 153, 51, 1.0)\"}, \"boxpoints\": false, \"type\": \"box\", \"line\": {\"width\": 1.3}, \"name\": \"A\", \"y\": [0.513982597717281, 0.40094744122728876, 0.8344805041135147, 0.7961036577134518, 0.4716883104596796, 0.4312253363187064, 0.17622253534636945, 0.9327864479778147, 0.2798675632778259, 0.6122049720273077]}, {\"marker\": {\"color\": \"rgba(55, 128, 191, 1.0)\"}, \"boxpoints\": false, \"type\": \"box\", \"line\": {\"width\": 1.3}, \"name\": \"B\", \"y\": [0.686474623206127, 0.744405392660334, 0.47277512427994217, 0.35989352583404566, 0.12784258721066644, 0.0475537027338121, 0.6523080447432391, 0.021040821440208357, 0.1949597815224593, 0.6851239876960654]}, {\"marker\": {\"color\": \"rgba(50, 171, 96, 1.0)\"}, \"boxpoints\": false, \"type\": \"box\", \"line\": {\"width\": 1.3}, \"name\": \"C\", \"y\": [0.6895445359198071, 0.009752637582247425, 0.32069979195680565, 0.3350187376157516, 0.21846734512842547, 0.5320146618449499, 0.6640661116352577, 0.20683229398624525, 0.22582641061463316, 0.888099576996252]}, {\"marker\": {\"color\": \"rgba(128, 0, 128, 1.0)\"}, \"boxpoints\": false, \"type\": \"box\", \"line\": {\"width\": 1.3}, \"name\": \"D\", \"y\": [0.9742565681593799, 0.7794042553901238, 0.8671090614353029, 0.027619747924864102, 0.9366084980179169, 0.8307294476172914, 0.22951277384938862, 0.48498146477981174, 0.1869945170628814, 0.20117816154810475]}, {\"marker\": {\"color\": \"rgba(219, 64, 82, 1.0)\"}, \"boxpoints\": false, \"type\": \"box\", \"line\": {\"width\": 1.3}, \"name\": \"E\", \"y\": [0.9071570007982315, 0.7105648159135131, 0.12177803010951149, 0.9552160153747138, 0.7103088409836535, 0.1673318540657972, 0.9027409884631736, 0.7037631204120339, 0.6422817838764583, 0.8731892339156272]}], {\"xaxis1\": {\"zerolinecolor\": \"#E1E5ED\", \"showgrid\": true, \"titlefont\": {\"color\": \"#4D5663\"}, \"gridcolor\": \"#E1E5ED\", \"title\": \"\", \"tickfont\": {\"color\": \"#4D5663\"}}, \"paper_bgcolor\": \"#F5F6F9\", \"plot_bgcolor\": \"#F5F6F9\", \"legend\": {\"font\": {\"color\": \"#4D5663\"}, \"bgcolor\": \"#F5F6F9\"}, \"titlefont\": {\"color\": \"#4D5663\"}, \"yaxis1\": {\"zerolinecolor\": \"#E1E5ED\", \"showgrid\": true, \"titlefont\": {\"color\": \"#4D5663\"}, \"gridcolor\": \"#E1E5ED\", \"title\": \"\", \"tickfont\": {\"color\": \"#4D5663\"}}, \"title\": \"Plotly Pandas\", \"height\": 500, \"width\": 800}, {\"showLink\": true, \"linkText\": \"Export to plot.ly\"})</script>"
      ],
      "text/plain": [
       "<IPython.core.display.HTML object>"
      ]
     },
     "metadata": {},
     "output_type": "display_data"
    }
   ],
   "source": [
    "iplot(df.iplot(asFigure=True, kind='box', title='Plotly Pandas', dimensions=(800,500)))"
   ]
  },
  {
   "cell_type": "markdown",
   "metadata": {},
   "source": [
    "**_plot_html() method returns 4 objects, the first object is what we want, which I have called \"plot_html\".**"
   ]
  },
  {
   "cell_type": "markdown",
   "metadata": {},
   "source": [
    "  **After passing in the df.iplot() method and 4 other parameters:**"
   ]
  },
  {
   "cell_type": "code",
   "execution_count": 8,
   "metadata": {
    "collapsed": true
   },
   "outputs": [],
   "source": [
    "plot_html, plotdivid, width, height = _plot_html(df.iplot(asFigure=True, kind='box', title='Plotly Pandas', \n",
    "                                                 dimensions=(800,500)), False, \"\", True, '100%', 525)"
   ]
  },
  {
   "cell_type": "markdown",
   "metadata": {},
   "source": [
    "**I can now get the javascript code that generated the plotly chart:**"
   ]
  },
  {
   "cell_type": "code",
   "execution_count": 9,
   "metadata": {
    "collapsed": false
   },
   "outputs": [
    {
     "data": {
      "text/plain": [
       "'<div id=\"e4476209-655c-4150-a980-447c810769dc\" style=\"height: 500; width: 800px;\" class=\"plotly-graph-div\"></div><script type=\"text/javascript\">window.PLOTLYENV=window.PLOTLYENV || {};window.PLOTLYENV.BASE_URL=\"https://plot.ly\";Plotly.newPlot(\"e4476209-655c-4150-a980-447c810769dc\", [{\"marker\": {\"color\": \"rgba(255, 153, 51, 1.0)\"}, \"boxpoints\": false, \"type\": \"box\", \"line\": {\"width\": 1.3}, \"name\": \"A\", \"y\": [0.513982597717281, 0.40094744122728876, 0.8344805041135147, 0.7961036577134518, 0.4716883104596796, 0.4312253363187064, 0.17622253534636945, 0.9327864479778147, 0.2798675632778259, 0.6122049720273077]}, {\"marker\": {\"color\": \"rgba(55, 128, 191, 1.0)\"}, \"boxpoints\": false, \"type\": \"box\", \"line\": {\"width\": 1.3}, \"name\": \"B\", \"y\": [0.686474623206127, 0.744405392660334, 0.47277512427994217, 0.35989352583404566, 0.12784258721066644, 0.0475537027338121, 0.6523080447432391, 0.021040821440208357, 0.1949597815224593, 0.6851239876960654]}, {\"marker\": {\"color\": \"rgba(50, 171, 96, 1.0)\"}, \"boxpoints\": false, \"type\": \"box\", \"line\": {\"width\": 1.3}, \"name\": \"C\", \"y\": [0.6895445359198071, 0.009752637582247425, 0.32069979195680565, 0.3350187376157516, 0.21846734512842547, 0.5320146618449499, 0.6640661116352577, 0.20683229398624525, 0.22582641061463316, 0.888099576996252]}, {\"marker\": {\"color\": \"rgba(128, 0, 128, 1.0)\"}, \"boxpoints\": false, \"type\": \"box\", \"line\": {\"width\": 1.3}, \"name\": \"D\", \"y\": [0.9742565681593799, 0.7794042553901238, 0.8671090614353029, 0.027619747924864102, 0.9366084980179169, 0.8307294476172914, 0.22951277384938862, 0.48498146477981174, 0.1869945170628814, 0.20117816154810475]}, {\"marker\": {\"color\": \"rgba(219, 64, 82, 1.0)\"}, \"boxpoints\": false, \"type\": \"box\", \"line\": {\"width\": 1.3}, \"name\": \"E\", \"y\": [0.9071570007982315, 0.7105648159135131, 0.12177803010951149, 0.9552160153747138, 0.7103088409836535, 0.1673318540657972, 0.9027409884631736, 0.7037631204120339, 0.6422817838764583, 0.8731892339156272]}], {\"xaxis1\": {\"zerolinecolor\": \"#E1E5ED\", \"showgrid\": true, \"titlefont\": {\"color\": \"#4D5663\"}, \"gridcolor\": \"#E1E5ED\", \"title\": \"\", \"tickfont\": {\"color\": \"#4D5663\"}}, \"paper_bgcolor\": \"#F5F6F9\", \"plot_bgcolor\": \"#F5F6F9\", \"legend\": {\"font\": {\"color\": \"#4D5663\"}, \"bgcolor\": \"#F5F6F9\"}, \"titlefont\": {\"color\": \"#4D5663\"}, \"yaxis1\": {\"zerolinecolor\": \"#E1E5ED\", \"showgrid\": true, \"titlefont\": {\"color\": \"#4D5663\"}, \"gridcolor\": \"#E1E5ED\", \"title\": \"\", \"tickfont\": {\"color\": \"#4D5663\"}}, \"title\": \"Plotly Pandas\", \"height\": 500, \"width\": 800}, {\"showLink\": false, \"linkText\": \"\"})</script>'"
      ]
     },
     "execution_count": 9,
     "metadata": {},
     "output_type": "execute_result"
    }
   ],
   "source": [
    "plot_html"
   ]
  },
  {
   "cell_type": "markdown",
   "metadata": {},
   "source": [
    "**Now that we have the raw javascript that creates our plotly chart, we can embed it into our own html page.**"
   ]
  },
  {
   "cell_type": "code",
   "execution_count": 10,
   "metadata": {
    "collapsed": true
   },
   "outputs": [],
   "source": [
    "html_start = \"\"\"\n",
    "<html>\n",
    "<head>\n",
    "  <script src=\"https://cdn.plot.ly/plotly-latest.min.js\"></script>\n",
    "</head>\n",
    "<body>\"\"\"\n",
    "\n",
    "html_end = \"\"\"\n",
    "</body>\n",
    "</html>\"\"\"\n",
    "\n",
    "html_final = html_start + plot_html + html_end"
   ]
  },
  {
   "cell_type": "code",
   "execution_count": 12,
   "metadata": {
    "collapsed": false
   },
   "outputs": [
    {
     "name": "stdout",
     "output_type": "stream",
     "text": [
      "\n",
      "<html>\n",
      "<head>\n",
      "  <script src=\"https://cdn.plot.ly/plotly-latest.min.js\"></script>\n",
      "</head>\n",
      "<body><div id=\"e4476209-655c-4150-a980-447c810769dc\" style=\"height: 500; width: 800px;\" class=\"plotly-graph-div\"></div><script type=\"text/javascript\">window.PLOTLYENV=window.PLOTLYENV || {};window.PLOTLYENV.BASE_URL=\"https://plot.ly\";Plotly.newPlot(\"e4476209-655c-4150-a980-447c810769dc\", [{\"marker\": {\"color\": \"rgba(255, 153, 51, 1.0)\"}, \"boxpoints\": false, \"type\": \"box\", \"line\": {\"width\": 1.3}, \"name\": \"A\", \"y\": [0.513982597717281, 0.40094744122728876, 0.8344805041135147, 0.7961036577134518, 0.4716883104596796, 0.4312253363187064, 0.17622253534636945, 0.9327864479778147, 0.2798675632778259, 0.6122049720273077]}, {\"marker\": {\"color\": \"rgba(55, 128, 191, 1.0)\"}, \"boxpoints\": false, \"type\": \"box\", \"line\": {\"width\": 1.3}, \"name\": \"B\", \"y\": [0.686474623206127, 0.744405392660334, 0.47277512427994217, 0.35989352583404566, 0.12784258721066644, 0.0475537027338121, 0.6523080447432391, 0.021040821440208357, 0.1949597815224593, 0.6851239876960654]}, {\"marker\": {\"color\": \"rgba(50, 171, 96, 1.0)\"}, \"boxpoints\": false, \"type\": \"box\", \"line\": {\"width\": 1.3}, \"name\": \"C\", \"y\": [0.6895445359198071, 0.009752637582247425, 0.32069979195680565, 0.3350187376157516, 0.21846734512842547, 0.5320146618449499, 0.6640661116352577, 0.20683229398624525, 0.22582641061463316, 0.888099576996252]}, {\"marker\": {\"color\": \"rgba(128, 0, 128, 1.0)\"}, \"boxpoints\": false, \"type\": \"box\", \"line\": {\"width\": 1.3}, \"name\": \"D\", \"y\": [0.9742565681593799, 0.7794042553901238, 0.8671090614353029, 0.027619747924864102, 0.9366084980179169, 0.8307294476172914, 0.22951277384938862, 0.48498146477981174, 0.1869945170628814, 0.20117816154810475]}, {\"marker\": {\"color\": \"rgba(219, 64, 82, 1.0)\"}, \"boxpoints\": false, \"type\": \"box\", \"line\": {\"width\": 1.3}, \"name\": \"E\", \"y\": [0.9071570007982315, 0.7105648159135131, 0.12177803010951149, 0.9552160153747138, 0.7103088409836535, 0.1673318540657972, 0.9027409884631736, 0.7037631204120339, 0.6422817838764583, 0.8731892339156272]}], {\"xaxis1\": {\"zerolinecolor\": \"#E1E5ED\", \"showgrid\": true, \"titlefont\": {\"color\": \"#4D5663\"}, \"gridcolor\": \"#E1E5ED\", \"title\": \"\", \"tickfont\": {\"color\": \"#4D5663\"}}, \"paper_bgcolor\": \"#F5F6F9\", \"plot_bgcolor\": \"#F5F6F9\", \"legend\": {\"font\": {\"color\": \"#4D5663\"}, \"bgcolor\": \"#F5F6F9\"}, \"titlefont\": {\"color\": \"#4D5663\"}, \"yaxis1\": {\"zerolinecolor\": \"#E1E5ED\", \"showgrid\": true, \"titlefont\": {\"color\": \"#4D5663\"}, \"gridcolor\": \"#E1E5ED\", \"title\": \"\", \"tickfont\": {\"color\": \"#4D5663\"}}, \"title\": \"Plotly Pandas\", \"height\": 500, \"width\": 800}, {\"showLink\": false, \"linkText\": \"\"})</script>\n",
      "</body>\n",
      "</html>\n"
     ]
    }
   ],
   "source": [
    "print(html_final)"
   ]
  },
  {
   "cell_type": "markdown",
   "metadata": {},
   "source": [
    "**Now write our html page into a html file:**"
   ]
  },
  {
   "cell_type": "code",
   "execution_count": null,
   "metadata": {
    "collapsed": true
   },
   "outputs": [],
   "source": [
    "f = open('/home/pybokeh/Desktop/plotly_2_html.html', 'w')\n",
    "f.write(html_final)\n",
    "f.close()"
   ]
  },
  {
   "cell_type": "markdown",
   "metadata": {},
   "source": [
    "### Method 2: Save your jupyter notebook as html, then add the plotly.js source to it."
   ]
  },
  {
   "cell_type": "markdown",
   "metadata": {},
   "source": [
    "With your favorite text editor or IDE, edit your jupyter notebook html file and add the following line to the html's head tag:"
   ]
  },
  {
   "cell_type": "code",
   "execution_count": null,
   "metadata": {
    "collapsed": true
   },
   "outputs": [],
   "source": [
    "<script src=\"https://cdn.plot.ly/plotly-latest.min.js\"></script\\>"
   ]
  },
  {
   "cell_type": "markdown",
   "metadata": {},
   "source": [
    "Then save the html file.  That's it!  Your plotly plot should now render within your html page."
   ]
  }
 ],
 "metadata": {
  "hide_input": false,
  "kernelspec": {
   "display_name": "Python 3",
   "language": "python",
   "name": "python3"
  },
  "language_info": {
   "codemirror_mode": {
    "name": "ipython",
    "version": 3
   },
   "file_extension": ".py",
   "mimetype": "text/x-python",
   "name": "python",
   "nbconvert_exporter": "python",
   "pygments_lexer": "ipython3",
   "version": "3.5.1"
  }
 },
 "nbformat": 4,
 "nbformat_minor": 0
}

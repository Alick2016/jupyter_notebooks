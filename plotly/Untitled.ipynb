{
 "cells": [
  {
   "cell_type": "code",
   "execution_count": 2,
   "metadata": {
    "collapsed": false,
    "run_control": {
     "read_only": false
    }
   },
   "outputs": [],
   "source": [
    "import pandas as pd\n",
    "from plotly.offline import download_plotlyjs, init_notebook_mode, iplot\n",
    "import numpy as np\n",
    "import cufflinks as cf\n",
    "init_notebook_mode()"
   ]
  },
  {
   "cell_type": "code",
   "execution_count": 11,
   "metadata": {
    "collapsed": false
   },
   "outputs": [
    {
     "data": {
      "text/html": [
       "<div id=\"7db9dfe4-8e0b-4ac4-b7d7-92d3650e8efa\" style=\"height: 500; width: 600px;\" class=\"plotly-graph-div\"></div><script type=\"text/javascript\">window.PLOTLYENV=window.PLOTLYENV || {};window.PLOTLYENV.BASE_URL=\"https://plot.ly\";Plotly.newPlot(\"7db9dfe4-8e0b-4ac4-b7d7-92d3650e8efa\", [{\"y\": [\"0.00%\", \"0.18%\", \"0.22%\", \"0.30%\", \"0.35%\", \"0.60%\", \"0.68%\"], \"mode\": \"lines\", \"x\": [0, 1, 2, 3, 4, 5, 6], \"text\": \"\", \"type\": \"scatter\", \"line\": {\"width\": 1.3, \"dash\": \"solid\", \"color\": \"rgba(255, 153, 51, 1.0)\"}, \"name\": \"A\"}, {\"y\": [\"0.00%\", \"0.07%\", \"0.11%\", \"0.17%\", \"0.25%\", \"0.30%\", \"0.50%\"], \"mode\": \"lines\", \"x\": [0, 1, 2, 3, 4, 5, 6], \"text\": \"\", \"type\": \"scatter\", \"line\": {\"width\": 1.3, \"dash\": \"solid\", \"color\": \"rgba(55, 128, 191, 1.0)\"}, \"name\": \"B\"}], {\"title\": \"Plotly Line Example\", \"height\": 500, \"width\": 600}, {\"linkText\": \"Export to plot.ly\", \"showLink\": false})</script>"
      ],
      "text/plain": [
       "<IPython.core.display.HTML object>"
      ]
     },
     "metadata": {},
     "output_type": "display_data"
    }
   ],
   "source": [
    "df = pd.read_clipboard()\n",
    "\n",
    "layout = dict(\n",
    "    title='Plotly Line Example',\n",
    "    width=600,\n",
    "    height=500\n",
    ")\n",
    "\n",
    "iplot(df.iplot(asFigure=True, kind='line', layout=layout, dimensions=(600,500)), show_link=False)"
   ]
  }
 ],
 "metadata": {
  "hide_input": false,
  "kernelspec": {
   "display_name": "Python 3",
   "language": "python",
   "name": "python3"
  },
  "language_info": {
   "codemirror_mode": {
    "name": "ipython",
    "version": 3
   },
   "file_extension": ".py",
   "mimetype": "text/x-python",
   "name": "python",
   "nbconvert_exporter": "python",
   "pygments_lexer": "ipython3",
   "version": "3.5.1"
  }
 },
 "nbformat": 4,
 "nbformat_minor": 0
}

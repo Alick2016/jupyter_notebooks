{
 "cells": [
  {
   "cell_type": "markdown",
   "metadata": {},
   "source": [
    "# Creating Plotly Charts Directly from Pandas Data Frame"
   ]
  },
  {
   "cell_type": "markdown",
   "metadata": {},
   "source": [
    "Example was based on Plotly's documentation [here](https://plot.ly/python/offline/)."
   ]
  },
  {
   "cell_type": "code",
   "execution_count": 40,
   "metadata": {
    "collapsed": false,
    "run_control": {
     "read_only": false
    }
   },
   "outputs": [],
   "source": [
    "import pandas as pd\n",
    "from plotly.offline import download_plotlyjs, init_notebook_mode, iplot\n",
    "from plotly.offline.offline import _plot_html\n",
    "import numpy as np\n",
    "import cufflinks as cf\n",
    "init_notebook_mode()"
   ]
  },
  {
   "cell_type": "code",
   "execution_count": 42,
   "metadata": {
    "collapsed": true,
    "run_control": {
     "read_only": false
    }
   },
   "outputs": [],
   "source": [
    "df = pd.DataFrame(np.random.rand(10, 5), columns=['A', 'B', 'C', 'D', 'E'])"
   ]
  },
  {
   "cell_type": "code",
   "execution_count": 43,
   "metadata": {
    "collapsed": false,
    "run_control": {
     "read_only": false
    }
   },
   "outputs": [
    {
     "data": {
      "text/html": [
       "<div>\n",
       "<table border=\"1\" class=\"dataframe\">\n",
       "  <thead>\n",
       "    <tr style=\"text-align: right;\">\n",
       "      <th></th>\n",
       "      <th>A</th>\n",
       "      <th>B</th>\n",
       "      <th>C</th>\n",
       "      <th>D</th>\n",
       "      <th>E</th>\n",
       "    </tr>\n",
       "  </thead>\n",
       "  <tbody>\n",
       "    <tr>\n",
       "      <th>0</th>\n",
       "      <td>0.104552</td>\n",
       "      <td>0.017710</td>\n",
       "      <td>0.567450</td>\n",
       "      <td>0.759273</td>\n",
       "      <td>0.272828</td>\n",
       "    </tr>\n",
       "    <tr>\n",
       "      <th>1</th>\n",
       "      <td>0.572805</td>\n",
       "      <td>0.649572</td>\n",
       "      <td>0.379519</td>\n",
       "      <td>0.900037</td>\n",
       "      <td>0.506955</td>\n",
       "    </tr>\n",
       "    <tr>\n",
       "      <th>2</th>\n",
       "      <td>0.685691</td>\n",
       "      <td>0.603655</td>\n",
       "      <td>0.997109</td>\n",
       "      <td>0.626005</td>\n",
       "      <td>0.621803</td>\n",
       "    </tr>\n",
       "    <tr>\n",
       "      <th>3</th>\n",
       "      <td>0.154402</td>\n",
       "      <td>0.014860</td>\n",
       "      <td>0.212526</td>\n",
       "      <td>0.377701</td>\n",
       "      <td>0.003889</td>\n",
       "    </tr>\n",
       "    <tr>\n",
       "      <th>4</th>\n",
       "      <td>0.584164</td>\n",
       "      <td>0.941482</td>\n",
       "      <td>0.805738</td>\n",
       "      <td>0.498100</td>\n",
       "      <td>0.422466</td>\n",
       "    </tr>\n",
       "    <tr>\n",
       "      <th>5</th>\n",
       "      <td>0.490696</td>\n",
       "      <td>0.687661</td>\n",
       "      <td>0.539855</td>\n",
       "      <td>0.451107</td>\n",
       "      <td>0.407740</td>\n",
       "    </tr>\n",
       "    <tr>\n",
       "      <th>6</th>\n",
       "      <td>0.898253</td>\n",
       "      <td>0.050083</td>\n",
       "      <td>0.029698</td>\n",
       "      <td>0.347610</td>\n",
       "      <td>0.186914</td>\n",
       "    </tr>\n",
       "    <tr>\n",
       "      <th>7</th>\n",
       "      <td>0.961841</td>\n",
       "      <td>0.311318</td>\n",
       "      <td>0.710175</td>\n",
       "      <td>0.994810</td>\n",
       "      <td>0.533737</td>\n",
       "    </tr>\n",
       "    <tr>\n",
       "      <th>8</th>\n",
       "      <td>0.979308</td>\n",
       "      <td>0.936429</td>\n",
       "      <td>0.626192</td>\n",
       "      <td>0.819837</td>\n",
       "      <td>0.467395</td>\n",
       "    </tr>\n",
       "    <tr>\n",
       "      <th>9</th>\n",
       "      <td>0.303530</td>\n",
       "      <td>0.180492</td>\n",
       "      <td>0.688065</td>\n",
       "      <td>0.750115</td>\n",
       "      <td>0.662791</td>\n",
       "    </tr>\n",
       "  </tbody>\n",
       "</table>\n",
       "</div>"
      ],
      "text/plain": [
       "          A         B         C         D         E\n",
       "0  0.104552  0.017710  0.567450  0.759273  0.272828\n",
       "1  0.572805  0.649572  0.379519  0.900037  0.506955\n",
       "2  0.685691  0.603655  0.997109  0.626005  0.621803\n",
       "3  0.154402  0.014860  0.212526  0.377701  0.003889\n",
       "4  0.584164  0.941482  0.805738  0.498100  0.422466\n",
       "5  0.490696  0.687661  0.539855  0.451107  0.407740\n",
       "6  0.898253  0.050083  0.029698  0.347610  0.186914\n",
       "7  0.961841  0.311318  0.710175  0.994810  0.533737\n",
       "8  0.979308  0.936429  0.626192  0.819837  0.467395\n",
       "9  0.303530  0.180492  0.688065  0.750115  0.662791"
      ]
     },
     "execution_count": 43,
     "metadata": {},
     "output_type": "execute_result"
    }
   ],
   "source": [
    "df"
   ]
  },
  {
   "cell_type": "code",
   "execution_count": 44,
   "metadata": {
    "collapsed": false,
    "run_control": {
     "read_only": false
    }
   },
   "outputs": [
    {
     "data": {
      "text/html": [
       "<div id=\"8ba9f9c8-930f-47b0-b4f7-6e6903af4780\" style=\"height: 500; width: 800px;\" class=\"plotly-graph-div\"></div><script type=\"text/javascript\">window.PLOTLYENV=window.PLOTLYENV || {};window.PLOTLYENV.BASE_URL=\"https://plot.ly\";Plotly.newPlot(\"8ba9f9c8-930f-47b0-b4f7-6e6903af4780\", [{\"name\": \"A\", \"type\": \"box\", \"boxpoints\": false, \"line\": {\"width\": 1.3}, \"y\": [0.10455238307682413, 0.5728054716353659, 0.685691161481029, 0.1544017196841111, 0.5841642472088101, 0.49069579193383206, 0.898253059735697, 0.9618405037531345, 0.9793082862476318, 0.30353045044609694], \"marker\": {\"color\": \"rgba(226, 74, 51, 1.0)\"}}, {\"name\": \"B\", \"type\": \"box\", \"boxpoints\": false, \"line\": {\"width\": 1.3}, \"y\": [0.017709739811861303, 0.6495719888433625, 0.6036553990656744, 0.014860136695020731, 0.9414821647035555, 0.6876606152861607, 0.05008285325097328, 0.3113179197449426, 0.9364285326402519, 0.18049193459663382], \"marker\": {\"color\": \"rgba(62, 111, 176, 1.0)\"}}, {\"name\": \"C\", \"type\": \"box\", \"boxpoints\": false, \"line\": {\"width\": 1.3}, \"y\": [0.5674503773995604, 0.37951946969820116, 0.9971089341617816, 0.21252648761457182, 0.80573824048989, 0.5398547662755131, 0.029697654252783368, 0.7101749153257052, 0.6261920939977574, 0.6880650262698689], \"marker\": {\"color\": \"rgba(132, 118, 202, 1.0)\"}}, {\"name\": \"D\", \"type\": \"box\", \"boxpoints\": false, \"line\": {\"width\": 1.3}, \"y\": [0.7592726652890349, 0.9000367493727869, 0.626005181116671, 0.37770122861085187, 0.49809999075880373, 0.4511073342107147, 0.347610304120231, 0.9948095022912707, 0.8198367543674964, 0.7501148015141733], \"marker\": {\"color\": \"rgba(101, 101, 101, 1.0)\"}}, {\"name\": \"E\", \"type\": \"box\", \"boxpoints\": false, \"line\": {\"width\": 1.3}, \"y\": [0.2728283815417937, 0.5069554964009033, 0.6218029220020511, 0.003889039492313895, 0.42246551919454534, 0.40774045483837185, 0.18691402010236635, 0.5337374662150676, 0.46739485934856007, 0.6627905900783685], \"marker\": {\"color\": \"rgba(251, 193, 94, 1.0)\"}}], {\"width\": 800, \"legend\": {\"bgcolor\": \"#FFFFFF\", \"font\": {\"color\": \"#666666\"}}, \"yaxis1\": {\"title\": \"\", \"showgrid\": true, \"tickfont\": {\"color\": \"#666666\"}, \"gridcolor\": \"#F6F6F6\", \"zerolinecolor\": \"#F6F6F6\", \"titlefont\": {\"color\": \"#666666\"}}, \"title\": \"Plotly Pandas\", \"paper_bgcolor\": \"#FFFFFF\", \"plot_bgcolor\": \"#E5E5E5\", \"xaxis1\": {\"title\": \"\", \"showgrid\": true, \"tickfont\": {\"color\": \"#666666\"}, \"gridcolor\": \"#F6F6F6\", \"zerolinecolor\": \"#F6F6F6\", \"titlefont\": {\"color\": \"#666666\"}}, \"height\": 500, \"titlefont\": {\"color\": \"#151516\"}}, {\"linkText\": \"Export to plot.ly\", \"showLink\": true})</script>"
      ],
      "text/plain": [
       "<IPython.core.display.HTML object>"
      ]
     },
     "metadata": {},
     "output_type": "display_data"
    }
   ],
   "source": [
    "iplot(df.iplot(asFigure=True, kind='box', title='Plotly Pandas', dimensions=(800,500)))"
   ]
  },
  {
   "cell_type": "markdown",
   "metadata": {},
   "source": [
    "### How to extract the javascript of the plotly chart so that you can embed it into your own HTML page"
   ]
  },
  {
   "cell_type": "markdown",
   "metadata": {},
   "source": [
    "Typically, we could only save a static image of the plotly chart that we make.  However, I recently found out about a  not-so-well-known method for outputting the HTML containing the javascript that produces the plotly chart.  It's called the **_plot_html()** method.  So essentially, you can \"own\" your very own dynamic, interactive ploty chart!  View source [here](https://github.com/plotly/plotly.py/blob/master/plotly/offline/offline.py)."
   ]
  },
  {
   "cell_type": "code",
   "execution_count": null,
   "metadata": {
    "collapsed": true,
    "run_control": {
     "read_only": false
    }
   },
   "outputs": [],
   "source": [
    "from plotly.offline.offline import _plot_html"
   ]
  },
  {
   "cell_type": "markdown",
   "metadata": {},
   "source": [
    "**Then you just pass in the dict containing the data frame figure data along with 5 other parameters.**"
   ]
  },
  {
   "cell_type": "code",
   "execution_count": 51,
   "metadata": {
    "collapsed": false,
    "run_control": {
     "read_only": false
    }
   },
   "outputs": [
    {
     "name": "stdout",
     "output_type": "stream",
     "text": [
      "Help on function _plot_html in module plotly.offline.offline:\n",
      "\n",
      "_plot_html(figure_or_data, show_link, link_text, validate, default_width, default_height)\n",
      "\n"
     ]
    }
   ],
   "source": [
    "help(_plot_html)"
   ]
  },
  {
   "cell_type": "markdown",
   "metadata": {},
   "source": [
    "**_plot_html() method returns 4 objects, the first object is what we want, which I have called \"plot_html\":**"
   ]
  },
  {
   "cell_type": "code",
   "execution_count": 45,
   "metadata": {
    "collapsed": false,
    "run_control": {
     "read_only": false
    }
   },
   "outputs": [],
   "source": [
    "plot_html, plotdivid, width, height = _plot_html(df.iplot(asFigure=True, kind='box', title='Plotly Pandas', \n",
    "                                                 dimensions=(800,500)), False, \"\", True, '100%', 525)"
   ]
  },
  {
   "cell_type": "markdown",
   "metadata": {},
   "source": [
    "**plot_html contains the html div and javascript source of the plotly chart!**"
   ]
  },
  {
   "cell_type": "code",
   "execution_count": 46,
   "metadata": {
    "collapsed": false,
    "run_control": {
     "read_only": false
    }
   },
   "outputs": [
    {
     "data": {
      "text/plain": [
       "'<div id=\"0f070bea-a407-487c-810a-2e3ce6929e98\" style=\"height: 500; width: 800px;\" class=\"plotly-graph-div\"></div><script type=\"text/javascript\">window.PLOTLYENV=window.PLOTLYENV || {};window.PLOTLYENV.BASE_URL=\"https://plot.ly\";Plotly.newPlot(\"0f070bea-a407-487c-810a-2e3ce6929e98\", [{\"name\": \"A\", \"type\": \"box\", \"boxpoints\": false, \"line\": {\"width\": 1.3}, \"y\": [0.10455238307682413, 0.5728054716353659, 0.685691161481029, 0.1544017196841111, 0.5841642472088101, 0.49069579193383206, 0.898253059735697, 0.9618405037531345, 0.9793082862476318, 0.30353045044609694], \"marker\": {\"color\": \"rgba(226, 74, 51, 1.0)\"}}, {\"name\": \"B\", \"type\": \"box\", \"boxpoints\": false, \"line\": {\"width\": 1.3}, \"y\": [0.017709739811861303, 0.6495719888433625, 0.6036553990656744, 0.014860136695020731, 0.9414821647035555, 0.6876606152861607, 0.05008285325097328, 0.3113179197449426, 0.9364285326402519, 0.18049193459663382], \"marker\": {\"color\": \"rgba(62, 111, 176, 1.0)\"}}, {\"name\": \"C\", \"type\": \"box\", \"boxpoints\": false, \"line\": {\"width\": 1.3}, \"y\": [0.5674503773995604, 0.37951946969820116, 0.9971089341617816, 0.21252648761457182, 0.80573824048989, 0.5398547662755131, 0.029697654252783368, 0.7101749153257052, 0.6261920939977574, 0.6880650262698689], \"marker\": {\"color\": \"rgba(132, 118, 202, 1.0)\"}}, {\"name\": \"D\", \"type\": \"box\", \"boxpoints\": false, \"line\": {\"width\": 1.3}, \"y\": [0.7592726652890349, 0.9000367493727869, 0.626005181116671, 0.37770122861085187, 0.49809999075880373, 0.4511073342107147, 0.347610304120231, 0.9948095022912707, 0.8198367543674964, 0.7501148015141733], \"marker\": {\"color\": \"rgba(101, 101, 101, 1.0)\"}}, {\"name\": \"E\", \"type\": \"box\", \"boxpoints\": false, \"line\": {\"width\": 1.3}, \"y\": [0.2728283815417937, 0.5069554964009033, 0.6218029220020511, 0.003889039492313895, 0.42246551919454534, 0.40774045483837185, 0.18691402010236635, 0.5337374662150676, 0.46739485934856007, 0.6627905900783685], \"marker\": {\"color\": \"rgba(251, 193, 94, 1.0)\"}}], {\"width\": 800, \"legend\": {\"bgcolor\": \"#FFFFFF\", \"font\": {\"color\": \"#666666\"}}, \"yaxis1\": {\"title\": \"\", \"showgrid\": true, \"tickfont\": {\"color\": \"#666666\"}, \"gridcolor\": \"#F6F6F6\", \"zerolinecolor\": \"#F6F6F6\", \"titlefont\": {\"color\": \"#666666\"}}, \"title\": \"Plotly Pandas\", \"paper_bgcolor\": \"#FFFFFF\", \"plot_bgcolor\": \"#E5E5E5\", \"xaxis1\": {\"title\": \"\", \"showgrid\": true, \"tickfont\": {\"color\": \"#666666\"}, \"gridcolor\": \"#F6F6F6\", \"zerolinecolor\": \"#F6F6F6\", \"titlefont\": {\"color\": \"#666666\"}}, \"height\": 500, \"titlefont\": {\"color\": \"#151516\"}}, {\"linkText\": \"\", \"showLink\": false})</script>'"
      ]
     },
     "execution_count": 46,
     "metadata": {},
     "output_type": "execute_result"
    }
   ],
   "source": [
    "plot_html"
   ]
  },
  {
   "cell_type": "markdown",
   "metadata": {},
   "source": [
    "**Now that we have the raw javascript that produces the plotly chart, we pretty much own the plotly chart that we create!**"
   ]
  },
  {
   "cell_type": "markdown",
   "metadata": {},
   "source": [
    "## Build a html page that contains the interactive plotly chart"
   ]
  },
  {
   "cell_type": "code",
   "execution_count": 47,
   "metadata": {
    "collapsed": true,
    "run_control": {
     "read_only": false
    }
   },
   "outputs": [],
   "source": [
    "html_start = \"\"\"\n",
    "<html>\n",
    "<head>\n",
    "  <script src=\"https://cdn.plot.ly/plotly-latest.min.js\"></script>\n",
    "</head>\n",
    "<body>\"\"\"\n",
    "\n",
    "html_end = \"\"\"\n",
    "</body>\n",
    "</html>\"\"\"\n",
    "\n",
    "html_final = html_start + plot_html + html_end"
   ]
  },
  {
   "cell_type": "code",
   "execution_count": 49,
   "metadata": {
    "collapsed": false,
    "run_control": {
     "read_only": false
    }
   },
   "outputs": [
    {
     "name": "stdout",
     "output_type": "stream",
     "text": [
      "\n",
      "<html>\n",
      "<head>\n",
      "  <script src=\"https://cdn.plot.ly/plotly-latest.min.js\"></script>\n",
      "</head>\n",
      "<body><div id=\"0f070bea-a407-487c-810a-2e3ce6929e98\" style=\"height: 500; width: 800px;\" class=\"plotly-graph-div\"></div><script type=\"text/javascript\">window.PLOTLYENV=window.PLOTLYENV || {};window.PLOTLYENV.BASE_URL=\"https://plot.ly\";Plotly.newPlot(\"0f070bea-a407-487c-810a-2e3ce6929e98\", [{\"name\": \"A\", \"type\": \"box\", \"boxpoints\": false, \"line\": {\"width\": 1.3}, \"y\": [0.10455238307682413, 0.5728054716353659, 0.685691161481029, 0.1544017196841111, 0.5841642472088101, 0.49069579193383206, 0.898253059735697, 0.9618405037531345, 0.9793082862476318, 0.30353045044609694], \"marker\": {\"color\": \"rgba(226, 74, 51, 1.0)\"}}, {\"name\": \"B\", \"type\": \"box\", \"boxpoints\": false, \"line\": {\"width\": 1.3}, \"y\": [0.017709739811861303, 0.6495719888433625, 0.6036553990656744, 0.014860136695020731, 0.9414821647035555, 0.6876606152861607, 0.05008285325097328, 0.3113179197449426, 0.9364285326402519, 0.18049193459663382], \"marker\": {\"color\": \"rgba(62, 111, 176, 1.0)\"}}, {\"name\": \"C\", \"type\": \"box\", \"boxpoints\": false, \"line\": {\"width\": 1.3}, \"y\": [0.5674503773995604, 0.37951946969820116, 0.9971089341617816, 0.21252648761457182, 0.80573824048989, 0.5398547662755131, 0.029697654252783368, 0.7101749153257052, 0.6261920939977574, 0.6880650262698689], \"marker\": {\"color\": \"rgba(132, 118, 202, 1.0)\"}}, {\"name\": \"D\", \"type\": \"box\", \"boxpoints\": false, \"line\": {\"width\": 1.3}, \"y\": [0.7592726652890349, 0.9000367493727869, 0.626005181116671, 0.37770122861085187, 0.49809999075880373, 0.4511073342107147, 0.347610304120231, 0.9948095022912707, 0.8198367543674964, 0.7501148015141733], \"marker\": {\"color\": \"rgba(101, 101, 101, 1.0)\"}}, {\"name\": \"E\", \"type\": \"box\", \"boxpoints\": false, \"line\": {\"width\": 1.3}, \"y\": [0.2728283815417937, 0.5069554964009033, 0.6218029220020511, 0.003889039492313895, 0.42246551919454534, 0.40774045483837185, 0.18691402010236635, 0.5337374662150676, 0.46739485934856007, 0.6627905900783685], \"marker\": {\"color\": \"rgba(251, 193, 94, 1.0)\"}}], {\"width\": 800, \"legend\": {\"bgcolor\": \"#FFFFFF\", \"font\": {\"color\": \"#666666\"}}, \"yaxis1\": {\"title\": \"\", \"showgrid\": true, \"tickfont\": {\"color\": \"#666666\"}, \"gridcolor\": \"#F6F6F6\", \"zerolinecolor\": \"#F6F6F6\", \"titlefont\": {\"color\": \"#666666\"}}, \"title\": \"Plotly Pandas\", \"paper_bgcolor\": \"#FFFFFF\", \"plot_bgcolor\": \"#E5E5E5\", \"xaxis1\": {\"title\": \"\", \"showgrid\": true, \"tickfont\": {\"color\": \"#666666\"}, \"gridcolor\": \"#F6F6F6\", \"zerolinecolor\": \"#F6F6F6\", \"titlefont\": {\"color\": \"#666666\"}}, \"height\": 500, \"titlefont\": {\"color\": \"#151516\"}}, {\"linkText\": \"\", \"showLink\": false})</script>\n",
      "</body>\n",
      "</html>\n"
     ]
    }
   ],
   "source": [
    "print(html_final)"
   ]
  },
  {
   "cell_type": "markdown",
   "metadata": {},
   "source": [
    "## Create file/html page containing your own plotly chart!"
   ]
  },
  {
   "cell_type": "code",
   "execution_count": 50,
   "metadata": {
    "collapsed": true,
    "run_control": {
     "read_only": false
    }
   },
   "outputs": [],
   "source": [
    "f = open(r'D:\\downloads\\ploty.html', 'w')\n",
    "f.write(html_final)\n",
    "f.close()"
   ]
  }
 ],
 "metadata": {
  "hide_input": false,
  "kernelspec": {
   "display_name": "Python 3",
   "language": "python",
   "name": "python3"
  },
  "language_info": {
   "codemirror_mode": {
    "name": "ipython",
    "version": 3
   },
   "file_extension": ".py",
   "mimetype": "text/x-python",
   "name": "python",
   "nbconvert_exporter": "python",
   "pygments_lexer": "ipython3",
   "version": "3.5.1"
  }
 },
 "nbformat": 4,
 "nbformat_minor": 0
}

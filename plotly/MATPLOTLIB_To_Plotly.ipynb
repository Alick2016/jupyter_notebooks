{
 "cells": [
  {
   "cell_type": "code",
   "execution_count": 3,
   "metadata": {
    "collapsed": false,
    "run_control": {
     "read_only": false
    }
   },
   "outputs": [
    {
     "data": {
      "text/html": [
       "<div id=\"52cab29b-83e6-4349-ad9b-43e35ea9f301\" style=\"height: 320; width: 480px;\" class=\"plotly-graph-div\"></div><script type=\"text/javascript\">window.PLOTLYENV=window.PLOTLYENV || {};window.PLOTLYENV.BASE_URL=\"https://plot.ly\";Plotly.newPlot(\"52cab29b-83e6-4349-ad9b-43e35ea9f301\", [{\"type\": \"bar\", \"marker\": {\"line\": {\"width\": 0.3}, \"color\": \"#4C72B0\"}, \"y\": [7.0, 17.0, 78.0, 183.0, 218.0, 229.0, 150.0, 76.0, 37.0, 5.0], \"yaxis\": \"y1\", \"opacity\": 1, \"orientation\": \"v\", \"x\": [-2.901336911431939, -2.262897647755119, -1.6244583840782991, -0.9860191204014792, -0.3475798567246593, 0.2908594069521606, 0.9292986706289805, 1.5677379343058004, 2.2061771979826204, 2.84461646165944], \"xaxis\": \"x1\"}], {\"bargap\": 0.0, \"hovermode\": \"closest\", \"height\": 320, \"autosize\": false, \"margin\": {\"b\": 40, \"pad\": 0, \"t\": 31, \"r\": 47, \"l\": 60}, \"yaxis1\": {\"tickfont\": {\"size\": 10.0}, \"type\": \"linear\", \"side\": \"left\", \"nticks\": 6, \"ticks\": \"inside\", \"domain\": [0.0, 1.0], \"anchor\": \"x1\", \"mirror\": \"ticks\", \"zeroline\": false, \"showgrid\": true, \"showline\": true, \"range\": [0.0, 250.0]}, \"width\": 480, \"xaxis1\": {\"tickfont\": {\"size\": 10.0}, \"type\": \"linear\", \"side\": \"bottom\", \"nticks\": 9, \"ticks\": \"inside\", \"domain\": [0.0, 1.0], \"anchor\": \"y1\", \"mirror\": \"ticks\", \"zeroline\": false, \"showgrid\": true, \"showline\": true, \"range\": [-4.0, 4.0]}, \"showlegend\": false}, {\"linkText\": \"Export to plot.ly\", \"showLink\": true})</script>"
      ],
      "text/plain": [
       "<IPython.core.display.HTML object>"
      ]
     },
     "metadata": {},
     "output_type": "display_data"
    }
   ],
   "source": [
    "%matplotlib inline\n",
    "import numpy as np\n",
    "import matplotlib.pyplot as plt\n",
    "from plotly.offline import download_plotlyjs, init_notebook_mode, iplot_mpl\n",
    "import seaborn as sns\n",
    "init_notebook_mode()\n",
    "\n",
    "sample1 = np.random.normal(0,1,size=1000)\n",
    "\n",
    "fig, ax = plt.subplots()\n",
    "plt.hist(x=sample1)\n",
    "iplot_mpl(fig)"
   ]
  }
 ],
 "metadata": {
  "hide_input": false,
  "kernelspec": {
   "display_name": "Python 3",
   "language": "python",
   "name": "python3"
  },
  "language_info": {
   "codemirror_mode": {
    "name": "ipython",
    "version": 3
   },
   "file_extension": ".py",
   "mimetype": "text/x-python",
   "name": "python",
   "nbconvert_exporter": "python",
   "pygments_lexer": "ipython3",
   "version": "3.5.1"
  }
 },
 "nbformat": 4,
 "nbformat_minor": 0
}

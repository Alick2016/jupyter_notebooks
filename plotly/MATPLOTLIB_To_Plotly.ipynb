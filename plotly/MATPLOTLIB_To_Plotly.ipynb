{
 "cells": [
  {
   "cell_type": "code",
   "execution_count": 16,
   "metadata": {
    "collapsed": false,
    "run_control": {
     "read_only": false
    }
   },
   "outputs": [
    {
     "data": {
      "text/html": [
       "<div id=\"eee97c4c-9636-4192-8592-f667fb4b9d80\" style=\"height: 320; width: 480px;\" class=\"plotly-graph-div\"></div><script type=\"text/javascript\">window.PLOTLYENV=window.PLOTLYENV || {};window.PLOTLYENV.BASE_URL=\"https://plot.ly\";Plotly.newPlot(\"eee97c4c-9636-4192-8592-f667fb4b9d80\", [{\"type\": \"bar\", \"marker\": {\"line\": {\"width\": 0.3}, \"color\": \"#4C72B0\"}, \"y\": [11.0, 28.0, 67.0, 145.0, 218.0, 231.0, 165.0, 89.0, 34.0, 12.0], \"yaxis\": \"y1\", \"opacity\": 1, \"orientation\": \"v\", \"x\": [-2.476526505953454, -1.9362135700035212, -1.3959006340535889, -0.8555876981036563, -0.31527476215372396, 0.2250381737962086, 0.7653511097461412, 1.3056640456960735, 1.845976981646006, 2.3862899175959384], \"xaxis\": \"x1\"}], {\"titlefont\": {\"size\": 12.0, \"color\": \"#262626\"}, \"bargap\": 4.440892098500626e-16, \"hovermode\": \"closest\", \"height\": 320, \"autosize\": false, \"margin\": {\"b\": 40, \"pad\": 0, \"t\": 31, \"r\": 47, \"l\": 60}, \"title\": \"Histogram\", \"yaxis1\": {\"tickfont\": {\"size\": 10.0}, \"type\": \"linear\", \"side\": \"left\", \"nticks\": 6, \"ticks\": \"inside\", \"domain\": [0.0, 1.0], \"anchor\": \"x1\", \"mirror\": \"ticks\", \"zeroline\": false, \"showgrid\": true, \"showline\": true, \"range\": [0.0, 250.0]}, \"showlegend\": false, \"xaxis1\": {\"tickfont\": {\"size\": 10.0}, \"type\": \"linear\", \"side\": \"bottom\", \"nticks\": 7, \"ticks\": \"inside\", \"domain\": [0.0, 1.0], \"anchor\": \"y1\", \"mirror\": \"ticks\", \"zeroline\": false, \"showgrid\": true, \"showline\": true, \"range\": [-3.0, 3.0]}, \"width\": 480}, {\"linkText\": \"Export to plot.ly\", \"showLink\": true})</script>"
      ],
      "text/plain": [
       "<IPython.core.display.HTML object>"
      ]
     },
     "metadata": {},
     "output_type": "display_data"
    }
   ],
   "source": [
    "%matplotlib inline\n",
    "import numpy as np\n",
    "import matplotlib.pyplot as plt\n",
    "from plotly.offline import download_plotlyjs, init_notebook_mode, iplot_mpl\n",
    "import seaborn as sns\n",
    "init_notebook_mode()\n",
    "\n",
    "sample1 = np.random.normal(0,1,size=1000)\n",
    "\n",
    "fig, ax = plt.subplots()\n",
    "plt.hist(x=sample1)\n",
    "plt.title('Histogram')\n",
    "iplot_mpl(fig)"
   ]
  }
 ],
 "metadata": {
  "hide_input": false,
  "kernelspec": {
   "display_name": "Python 3",
   "language": "python",
   "name": "python3"
  },
  "language_info": {
   "codemirror_mode": {
    "name": "ipython",
    "version": 3
   },
   "file_extension": ".py",
   "mimetype": "text/x-python",
   "name": "python",
   "nbconvert_exporter": "python",
   "pygments_lexer": "ipython3",
   "version": "3.5.1"
  }
 },
 "nbformat": 4,
 "nbformat_minor": 0
}

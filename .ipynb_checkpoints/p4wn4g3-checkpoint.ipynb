{
 "cells": [
  {
   "cell_type": "code",
   "execution_count": 1,
   "metadata": {
    "code_folding": [],
    "collapsed": false,
    "input_collapsed": false
   },
   "outputs": [
    {
     "name": "stdout",
     "output_type": "stream",
     "text": [
      "ALL YOUR BASE ARE BELONG TO US!"
     ]
    }
   ],
   "source": [
    "import time\n",
    "\n",
    "message = 'ALL YOUR BASE ARE BELONG TO US!'\n",
    "\n",
    "for i in range(1, len(message)+1):\n",
    "    time.sleep(0.3)\n",
    "    print('\\r'+message[:i],end='')"
   ]
  },
  {
   "cell_type": "code",
   "execution_count": 1,
   "metadata": {
    "collapsed": false
   },
   "outputs": [
    {
     "name": "stderr",
     "output_type": "stream",
     "text": [
      "/home/pybokeh/miniconda3/envs/jupyter/lib/python3.5/site-packages/IPython/html.py:14: ShimWarning: The `IPython.html` package has been deprecated. You should import from `notebook` instead. `IPython.html.widgets` has moved to `ipywidgets`.\n",
      "  \"`IPython.html.widgets` has moved to `ipywidgets`.\", ShimWarning)\n"
     ]
    },
    {
     "data": {
      "text/html": [
       "\n",
       "<table border=\"1\">\n",
       "  <tr>\n",
       "    <th>Extension name</th>\n",
       "  </tr>\n",
       "<tr><td>usability/hide_input_all/main</td>\n",
       "<tr><td>usability/codefolding/main</td>\n",
       "\n",
       "</table>\n"
      ],
      "text/plain": [
       "<IPython.core.display.HTML object>"
      ]
     },
     "execution_count": 1,
     "metadata": {},
     "output_type": "execute_result"
    }
   ],
   "source": [
    "from IPython.html.services.config import ConfigManager\n",
    "from IPython.display import HTML\n",
    "ip = get_ipython()\n",
    "cm = ConfigManager(parent=ip, profile_dir=ip.profile_dir.location)\n",
    "extensions =cm.get('notebook')\n",
    "table = \"\"\n",
    "for ext in extensions['load_extensions']:\n",
    "    table += \"<tr><td>%s</td>\\n\" % (ext)\n",
    "\n",
    "top = \"\"\"\n",
    "<table border=\"1\">\n",
    "  <tr>\n",
    "    <th>Extension name</th>\n",
    "  </tr>\n",
    "\"\"\"\n",
    "bottom = \"\"\"\n",
    "</table>\n",
    "\"\"\"\n",
    "HTML(top + table + bottom)"
   ]
  }
 ],
 "metadata": {
  "hide_input": false,
  "kernelspec": {
   "display_name": "Python 3",
   "language": "python",
   "name": "python3"
  },
  "language_info": {
   "codemirror_mode": {
    "name": "ipython",
    "version": 3
   },
   "file_extension": ".py",
   "mimetype": "text/x-python",
   "name": "python",
   "nbconvert_exporter": "python",
   "pygments_lexer": "ipython3",
   "version": "3.5.0"
  }
 },
 "nbformat": 4,
 "nbformat_minor": 0
}

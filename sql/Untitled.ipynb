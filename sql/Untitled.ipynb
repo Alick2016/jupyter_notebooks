{
 "cells": [
  {
   "cell_type": "code",
   "execution_count": 14,
   "metadata": {
    "collapsed": false,
    "run_control": {
     "read_only": false
    }
   },
   "outputs": [
    {
     "name": "stderr",
     "output_type": "stream",
     "text": [
      "Indexing schema. This will take a second...finished!\n"
     ]
    }
   ],
   "source": [
    "%matplotlib inline\n",
    "import pandas as pd\n",
    "from db import DB\n",
    "import seaborn as sns\n",
    "\n",
    "db = DB(filename=\"/home/pybokeh/databases/nba.db\", dbtype=\"sqlite\")"
   ]
  },
  {
   "cell_type": "code",
   "execution_count": 8,
   "metadata": {
    "collapsed": false
   },
   "outputs": [
    {
     "name": "stderr",
     "output_type": "stream",
     "text": [
      "Refreshing schema. Please wait...done!\n"
     ]
    },
    {
     "data": {
      "text/html": [
       "<table>\n",
       "    <tr>\n",
       "        <th>Table</th>\n",
       "        <th>Columns</th>\n",
       "    </tr>\n",
       "    <tr>\n",
       "        <td>player_game_stats</td>\n",
       "        <td>id, name_pos, team_name, GP, GS, MIN, PPG, OFFR, DEFR, RPG, APG, SPG, BPG, TPG, <br>FPG, A2TO, PER</td>\n",
       "    </tr>\n",
       "    <tr>\n",
       "        <td>player_shooting_stats</td>\n",
       "        <td>id, name_pos, team_name, FGM, FGA, FG_Perc, 3PM, 3PA, 3P_Perc, FTM, FTA, FT_Perc<br>, 2PM, 2PA, 2P_Perc, PPS, AFG_Perc</td>\n",
       "    </tr>\n",
       "    <tr>\n",
       "        <td>regular_season_avgs</td>\n",
       "        <td>id, season, team, GP, GS, MIN, FGM-A, FG_Perc, 3PM-A, 3P_Perc, FTM-A, FT_Perc, O<br>R, DR, REB, AST, BLK, STL, PF, TO, PTS</td>\n",
       "    </tr>\n",
       "    <tr>\n",
       "        <td>regular_season_misc_totals</td>\n",
       "        <td>id, season, team, DBLDBL, TRIDBL, DQ, EJECT, TECH, FLAG, AST2TO, STL2TO, RAT, SC<br>EFF, SHEFF</td>\n",
       "    </tr>\n",
       "    <tr>\n",
       "        <td>regular_season_totals</td>\n",
       "        <td>id, season, team, FGM-A, FG_Perc, 3PM-A, 3P_Perc, FTM-A, FT_Perc, OR, DR, REB, A<br>ST, BLK, STL, PF, TO, PTS</td>\n",
       "    </tr>\n",
       "</table>"
      ],
      "text/plain": [
       "+----------------------------+----------------------------------------------------------------------------------+\n",
       "| Table                      | Columns                                                                          |\n",
       "+----------------------------+----------------------------------------------------------------------------------+\n",
       "| player_game_stats          | id, name_pos, team_name, GP, GS, MIN, PPG, OFFR, DEFR, RPG, APG, SPG, BPG, TPG,  |\n",
       "|                            | FPG, A2TO, PER                                                                   |\n",
       "| player_shooting_stats      | id, name_pos, team_name, FGM, FGA, FG_Perc, 3PM, 3PA, 3P_Perc, FTM, FTA, FT_Perc |\n",
       "|                            | , 2PM, 2PA, 2P_Perc, PPS, AFG_Perc                                               |\n",
       "| regular_season_avgs        | id, season, team, GP, GS, MIN, FGM-A, FG_Perc, 3PM-A, 3P_Perc, FTM-A, FT_Perc, O |\n",
       "|                            | R, DR, REB, AST, BLK, STL, PF, TO, PTS                                           |\n",
       "| regular_season_misc_totals | id, season, team, DBLDBL, TRIDBL, DQ, EJECT, TECH, FLAG, AST2TO, STL2TO, RAT, SC |\n",
       "|                            | EFF, SHEFF                                                                       |\n",
       "| regular_season_totals      | id, season, team, FGM-A, FG_Perc, 3PM-A, 3P_Perc, FTM-A, FT_Perc, OR, DR, REB, A |\n",
       "|                            | ST, BLK, STL, PF, TO, PTS                                                        |\n",
       "+----------------------------+----------------------------------------------------------------------------------+"
      ]
     },
     "execution_count": 8,
     "metadata": {},
     "output_type": "execute_result"
    }
   ],
   "source": [
    "db.tables"
   ]
  },
  {
   "cell_type": "code",
   "execution_count": 21,
   "metadata": {
    "collapsed": false
   },
   "outputs": [
    {
     "data": {
      "text/html": [
       "<div>\n",
       "<table border=\"1\" class=\"dataframe\">\n",
       "  <thead>\n",
       "    <tr style=\"text-align: right;\">\n",
       "      <th></th>\n",
       "      <th>name_pos</th>\n",
       "      <th>team_name</th>\n",
       "      <th>FG_Perc</th>\n",
       "    </tr>\n",
       "  </thead>\n",
       "  <tbody>\n",
       "    <tr>\n",
       "      <th>13</th>\n",
       "      <td>Tristan Thompson, C</td>\n",
       "      <td>Cleveland Cavaliers</td>\n",
       "      <td>0.588</td>\n",
       "    </tr>\n",
       "    <tr>\n",
       "      <th>10</th>\n",
       "      <td>Timofey Mozgov, C</td>\n",
       "      <td>Cleveland Cavaliers</td>\n",
       "      <td>0.565</td>\n",
       "    </tr>\n",
       "    <tr>\n",
       "      <th>8</th>\n",
       "      <td>Sasha Kaun, C</td>\n",
       "      <td>Cleveland Cavaliers</td>\n",
       "      <td>0.529</td>\n",
       "    </tr>\n",
       "    <tr>\n",
       "      <th>1</th>\n",
       "      <td>LeBron James, SF</td>\n",
       "      <td>Cleveland Cavaliers</td>\n",
       "      <td>0.520</td>\n",
       "    </tr>\n",
       "    <tr>\n",
       "      <th>0</th>\n",
       "      <td>Richard Jefferson, SF</td>\n",
       "      <td>Cleveland Cavaliers</td>\n",
       "      <td>0.458</td>\n",
       "    </tr>\n",
       "    <tr>\n",
       "      <th>11</th>\n",
       "      <td>Kyrie Irving, PG</td>\n",
       "      <td>Cleveland Cavaliers</td>\n",
       "      <td>0.448</td>\n",
       "    </tr>\n",
       "    <tr>\n",
       "      <th>7</th>\n",
       "      <td>Channing Frye, PF†</td>\n",
       "      <td>Cleveland Cavaliers</td>\n",
       "      <td>0.441</td>\n",
       "    </tr>\n",
       "    <tr>\n",
       "      <th>4</th>\n",
       "      <td>Mo Williams, PG</td>\n",
       "      <td>Cleveland Cavaliers</td>\n",
       "      <td>0.437</td>\n",
       "    </tr>\n",
       "    <tr>\n",
       "      <th>2</th>\n",
       "      <td>Dahntay Jones, SG</td>\n",
       "      <td>Cleveland Cavaliers</td>\n",
       "      <td>0.429</td>\n",
       "    </tr>\n",
       "    <tr>\n",
       "      <th>5</th>\n",
       "      <td>Anderson Varejao, PF†</td>\n",
       "      <td>Cleveland Cavaliers</td>\n",
       "      <td>0.421</td>\n",
       "    </tr>\n",
       "    <tr>\n",
       "      <th>9</th>\n",
       "      <td>Kevin Love, PF</td>\n",
       "      <td>Cleveland Cavaliers</td>\n",
       "      <td>0.419</td>\n",
       "    </tr>\n",
       "    <tr>\n",
       "      <th>6</th>\n",
       "      <td>J.R. Smith, SG</td>\n",
       "      <td>Cleveland Cavaliers</td>\n",
       "      <td>0.415</td>\n",
       "    </tr>\n",
       "    <tr>\n",
       "      <th>3</th>\n",
       "      <td>James Jones, SG</td>\n",
       "      <td>Cleveland Cavaliers</td>\n",
       "      <td>0.408</td>\n",
       "    </tr>\n",
       "    <tr>\n",
       "      <th>15</th>\n",
       "      <td>Matthew Dellavedova, PG</td>\n",
       "      <td>Cleveland Cavaliers</td>\n",
       "      <td>0.405</td>\n",
       "    </tr>\n",
       "    <tr>\n",
       "      <th>12</th>\n",
       "      <td>Iman Shumpert, SG</td>\n",
       "      <td>Cleveland Cavaliers</td>\n",
       "      <td>0.374</td>\n",
       "    </tr>\n",
       "    <tr>\n",
       "      <th>14</th>\n",
       "      <td>Jared Cunningham, SG†</td>\n",
       "      <td>Cleveland Cavaliers</td>\n",
       "      <td>0.352</td>\n",
       "    </tr>\n",
       "    <tr>\n",
       "      <th>16</th>\n",
       "      <td>Joe Harris, SG</td>\n",
       "      <td>Cleveland Cavaliers</td>\n",
       "      <td>0.250</td>\n",
       "    </tr>\n",
       "  </tbody>\n",
       "</table>\n",
       "</div>"
      ],
      "text/plain": [
       "                   name_pos            team_name  FG_Perc\n",
       "13      Tristan Thompson, C  Cleveland Cavaliers    0.588\n",
       "10        Timofey Mozgov, C  Cleveland Cavaliers    0.565\n",
       "8             Sasha Kaun, C  Cleveland Cavaliers    0.529\n",
       "1          LeBron James, SF  Cleveland Cavaliers    0.520\n",
       "0     Richard Jefferson, SF  Cleveland Cavaliers    0.458\n",
       "11         Kyrie Irving, PG  Cleveland Cavaliers    0.448\n",
       "7        Channing Frye, PF†  Cleveland Cavaliers    0.441\n",
       "4           Mo Williams, PG  Cleveland Cavaliers    0.437\n",
       "2         Dahntay Jones, SG  Cleveland Cavaliers    0.429\n",
       "5     Anderson Varejao, PF†  Cleveland Cavaliers    0.421\n",
       "9            Kevin Love, PF  Cleveland Cavaliers    0.419\n",
       "6            J.R. Smith, SG  Cleveland Cavaliers    0.415\n",
       "3           James Jones, SG  Cleveland Cavaliers    0.408\n",
       "15  Matthew Dellavedova, PG  Cleveland Cavaliers    0.405\n",
       "12        Iman Shumpert, SG  Cleveland Cavaliers    0.374\n",
       "14    Jared Cunningham, SG†  Cleveland Cavaliers    0.352\n",
       "16           Joe Harris, SG  Cleveland Cavaliers    0.250"
      ]
     },
     "execution_count": 21,
     "metadata": {},
     "output_type": "execute_result"
    }
   ],
   "source": [
    "sql = '''\n",
    "select *\n",
    "\n",
    "from player_shooting_stats\n",
    "\n",
    "where\n",
    "team_name like '%Cav%'\n",
    "\n",
    "'''\n",
    "\n",
    "db.query(sql)[['name_pos','team_name','FG_Perc']].sort_values(by='FG_Perc', ascending=False)"
   ]
  },
  {
   "cell_type": "code",
   "execution_count": null,
   "metadata": {
    "collapsed": true
   },
   "outputs": [],
   "source": []
  }
 ],
 "metadata": {
  "hide_input": false,
  "kernelspec": {
   "display_name": "Python 3",
   "language": "python",
   "name": "python3"
  },
  "language_info": {
   "codemirror_mode": {
    "name": "ipython",
    "version": 3
   },
   "file_extension": ".py",
   "mimetype": "text/x-python",
   "name": "python",
   "nbconvert_exporter": "python",
   "pygments_lexer": "ipython3",
   "version": "3.5.1"
  }
 },
 "nbformat": 4,
 "nbformat_minor": 0
}

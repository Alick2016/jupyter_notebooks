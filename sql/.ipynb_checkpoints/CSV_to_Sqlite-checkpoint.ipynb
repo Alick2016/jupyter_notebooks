{
 "cells": [
  {
   "cell_type": "code",
   "execution_count": 2,
   "metadata": {
    "collapsed": false
   },
   "outputs": [],
   "source": [
    "import pandas as pd\n",
    "pd.set_option('display.max_columns', 15)\n",
    "ohio = pd.read_csv(r'C:\\Documents and Settings\\ma17151\\Desktop\\2012-2013_School_Year Staff_Information.csv',\n",
    "                   converters={'PAY AMOUNT': lambda x: float(x.replace('$', '').replace(',',''))})"
   ]
  },
  {
   "cell_type": "code",
   "execution_count": 5,
   "metadata": {
    "collapsed": false
   },
   "outputs": [],
   "source": [
    "import sqlite3\n",
    "\n",
    "conn = sqlite3.connect('/home/pybokeh/webapps/www/server/db/myDB')    \n",
    "c = conn.cursor()\n",
    "\n",
    "multiple_rows = ohio.values\n",
    "c.executemany('INSERT INTO ohio_education_workers VALUES (?,?,?,?,?,?,?,?,?,?,?)', multiple_rows)\n",
    "\n",
    "conn.commit()\n",
    "conn.close()"
   ]
  }
 ],
 "metadata": {
  "kernelspec": {
   "display_name": "Python 3",
   "language": "python",
   "name": "python3"
  },
  "language_info": {
   "codemirror_mode": {
    "name": "ipython",
    "version": 3
   },
   "file_extension": ".py",
   "mimetype": "text/x-python",
   "name": "python",
   "nbconvert_exporter": "python",
   "pygments_lexer": "ipython3",
   "version": "3.4.3"
  }
 },
 "nbformat": 4,
 "nbformat_minor": 0
}

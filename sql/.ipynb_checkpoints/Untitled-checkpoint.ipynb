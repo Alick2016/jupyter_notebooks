{
 "cells": [
  {
   "cell_type": "code",
   "execution_count": null,
   "metadata": {
    "collapsed": true
   },
   "outputs": [],
   "source": []
  },
  {
   "cell_type": "code",
   "execution_count": 2,
   "metadata": {
    "collapsed": false,
    "run_control": {
     "read_only": false
    }
   },
   "outputs": [
    {
     "name": "stderr",
     "output_type": "stream",
     "text": [
      "Indexing schema. This will take a second...finished!\n"
     ]
    }
   ],
   "source": [
    "import pandas as pd\n",
    "from db import DB\n",
    "\n",
    "db = DB(filename=\"/home/pybokeh/data\", dbtype=\"sqlite\")"
   ]
  },
  {
   "cell_type": "code",
   "execution_count": null,
   "metadata": {
    "collapsed": true
   },
   "outputs": [],
   "source": []
  },
  {
   "cell_type": "code",
   "execution_count": 3,
   "metadata": {
    "collapsed": false
   },
   "outputs": [
    {
     "data": {
      "text/plain": [
       "['__class__',\n",
       " '__delattr__',\n",
       " '__delete__',\n",
       " '__dict__',\n",
       " '__dir__',\n",
       " '__doc__',\n",
       " '__eq__',\n",
       " '__format__',\n",
       " '__ge__',\n",
       " '__getattribute__',\n",
       " '__gt__',\n",
       " '__hash__',\n",
       " '__init__',\n",
       " '__le__',\n",
       " '__lt__',\n",
       " '__module__',\n",
       " '__ne__',\n",
       " '__new__',\n",
       " '__reduce__',\n",
       " '__reduce_ex__',\n",
       " '__repr__',\n",
       " '__setattr__',\n",
       " '__sizeof__',\n",
       " '__str__',\n",
       " '__subclasshook__',\n",
       " '__weakref__',\n",
       " '_apply_handlebars',\n",
       " '_assign_limit',\n",
       " '_create_sqlite_metatable',\n",
       " '_exclude_system_tables',\n",
       " '_query_templates',\n",
       " '_tables',\n",
       " '_try_command',\n",
       " 'con',\n",
       " 'cur',\n",
       " 'dbname',\n",
       " 'dbtype',\n",
       " 'driver',\n",
       " 'filename',\n",
       " 'find_column',\n",
       " 'find_table',\n",
       " 'handlebars',\n",
       " 'hostname',\n",
       " 'keys_per_column',\n",
       " 'limit',\n",
       " 'load_credentials',\n",
       " 'password',\n",
       " 'port',\n",
       " 'query',\n",
       " 'query_from_file',\n",
       " 'refresh_schema',\n",
       " 'save_credentials',\n",
       " 'schemas',\n",
       " 'tables',\n",
       " 'to_redshift',\n",
       " 'username']"
      ]
     },
     "execution_count": 3,
     "metadata": {},
     "output_type": "execute_result"
    }
   ],
   "source": [
    "dir(db)"
   ]
  }
 ],
 "metadata": {
  "hide_input": false,
  "kernelspec": {
   "display_name": "Python 3",
   "language": "python",
   "name": "python3"
  },
  "language_info": {
   "codemirror_mode": {
    "name": "ipython",
    "version": 3
   },
   "file_extension": ".py",
   "mimetype": "text/x-python",
   "name": "python",
   "nbconvert_exporter": "python",
   "pygments_lexer": "ipython3",
   "version": "3.5.1"
  }
 },
 "nbformat": 4,
 "nbformat_minor": 0
}

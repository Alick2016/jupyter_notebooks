{
 "cells": [
  {
   "cell_type": "markdown",
   "metadata": {},
   "source": [
    "## Download the zip file in memory, then extract"
   ]
  },
  {
   "cell_type": "code",
   "execution_count": 1,
   "metadata": {
    "collapsed": false,
    "run_control": {
     "read_only": false
    }
   },
   "outputs": [
    {
     "name": "stdout",
     "output_type": "stream",
     "text": [
      "zip download and extraction complete\n"
     ]
    }
   ],
   "source": [
    "from io import BytesIO\n",
    "from zipfile import ZipFile\n",
    "from urllib import request\n",
    "\n",
    "url = request.urlopen('http://www-odi.nhtsa.dot.gov/downloads/folders/Complaints/FLAT_CMPL.zip')\n",
    "zipfile_in_memory = ZipFile(BytesIO(url.read()))\n",
    "zipfile_in_memory.extractall('/home/pybokeh/temp/')\n",
    "zipfile_in_memory.close()\n",
    "print(\"zip download and extraction complete\")"
   ]
  },
  {
   "cell_type": "markdown",
   "metadata": {},
   "source": [
    "## Normal imports"
   ]
  },
  {
   "cell_type": "code",
   "execution_count": 59,
   "metadata": {
    "collapsed": true,
    "run_control": {
     "read_only": false
    }
   },
   "outputs": [],
   "source": [
    "import sqlite3\n",
    "import pandas as pd\n",
    "import datetime as dt\n",
    "import numpy as np\n",
    "pd.set_option(\"display.max_rows\",1000)\n",
    "pd.set_option(\"display.max_columns\",50)\n",
    "pd.set_option('max_colwidth',40)"
   ]
  },
  {
   "cell_type": "markdown",
   "metadata": {},
   "source": [
    "## Since the flat file doesn't contain column headers, had to create one"
   ]
  },
  {
   "cell_type": "code",
   "execution_count": 11,
   "metadata": {
    "collapsed": true,
    "run_control": {
     "read_only": false
    }
   },
   "outputs": [],
   "source": [
    "columns = [\n",
    "    'CMPLID',\n",
    "    'ODINO',\n",
    "    'MFR_NAME',\n",
    "    'MAKETXT',\n",
    "    'MODELTXT',\n",
    "    'YEARTXT',\n",
    "    'CRASH',\n",
    "    'FAILDATE',\n",
    "    'FIRE',\n",
    "    'INJURED',\n",
    "    'DEATHS',\n",
    "    'COMPDESC',\n",
    "    'CITY',\n",
    "    'STATE',\n",
    "    'VIN',\n",
    "    'DATEA',\n",
    "    'LDATE',\n",
    "    'MILES',\n",
    "    'OCCURENCES',\n",
    "    'CDESCR',\n",
    "    'CMPL_TYPE',\n",
    "    'POLICE_RPT_YN',\n",
    "    'PURCH_DT',\n",
    "    'ORIG_OWNER_YN',\n",
    "    'ANTI_BRAKES_YN',\n",
    "    'CRUISE_CONT_YN',\n",
    "    'NUM_CYLS',\n",
    "    'DRIVE_TRAIN',\n",
    "    'FUEL_SYS',\n",
    "    'FUEL_TYPE',\n",
    "    'TRANS_TYPE',\n",
    "    'VEH_SPEED',\n",
    "    'DOT',\n",
    "    'TIRE_SIZE',\n",
    "    'LOC_OF_TIRE',\n",
    "    'TIRE_FAIL_TYPE',\n",
    "    'ORIG_EQUIP_YN',\n",
    "    'MANUF_DT',\n",
    "    'SEAT_TYPE',\n",
    "    'RESTRAINT_TYPE',\n",
    "    'DEALER_NAME',\n",
    "    'DEALER_TEL',\n",
    "    'DEALER_CITY',\n",
    "    'DEALER_STATE',\n",
    "    'DEALER_ZIP',\n",
    "    'PROD_TYPE',\n",
    "    'REPAIRED_YN',\n",
    "    'MEDICAL_ATTN',\n",
    "    'VEHICLES_TOWED_YN'\n",
    "]"
   ]
  },
  {
   "cell_type": "markdown",
   "metadata": {},
   "source": [
    "## Connect to the sqlite3 database and read in the flat file in chunks"
   ]
  },
  {
   "cell_type": "code",
   "execution_count": 62,
   "metadata": {
    "collapsed": false,
    "run_control": {
     "read_only": false
    },
    "scrolled": true
   },
   "outputs": [
    {
     "name": "stdout",
     "output_type": "stream",
     "text": [
      "395 seconds: completed 1280000 rows"
     ]
    }
   ],
   "source": [
    "conn = sqlite3.connect('/home/pybokeh/temp/nhtsa.db')\n",
    "\n",
    "start = dt.datetime.now()\n",
    "chunksize = 20000\n",
    "j = 0\n",
    "\n",
    "for df in pd.read_csv('/home/pybokeh/temp/FLAT_CMPL.txt', names=columns, dtype=object, chunksize=chunksize, \n",
    "                      delimiter='\\t', iterator=True, encoding='ISO-8859-1', error_bad_lines=False):    \n",
    "    j+=1\n",
    "    print('\\r'+'{} seconds: completed {} rows'.format((dt.datetime.now() - start).seconds, j*chunksize),end='')\n",
    "\n",
    "    df.to_sql('complaints', conn, flavor='sqlite', if_exists='append', index=False)"
   ]
  },
  {
   "cell_type": "code",
   "execution_count": 63,
   "metadata": {
    "collapsed": false,
    "run_control": {
     "read_only": false
    }
   },
   "outputs": [],
   "source": [
    "sample = pd.read_sql_query('SELECT MFR_NAME, MAKETXT, MODELTXT, YEARTXT, CRASH, FIRE, INJURED, DEATHS, '\n",
    "                           'COMPDESC, MILES, LDATE, OCCURENCES, CDESCR '\n",
    "                           \n",
    "                           'FROM complaints '\n",
    "                           \n",
    "                           'WHERE '\n",
    "                           \"LDATE like '2016%' \"\n",
    "                           \"AND MAKETXT IN('HONDA','ACURA') \"\n",
    "                           \"AND (CRASH = 'Y' \"\n",
    "                           \"OR FIRE = 'Y' \"\n",
    "                           \"OR INJURED = 'Y' \"\n",
    "                           \"OR DEATHS = 'Y' \"\n",
    "                           \"OR MEDICAL_ATTN = 'Y' \"\n",
    "                           \"OR VEHICLES_TOWED_YN = 'Y') \"\n",
    "                           'limit 5', conn)"
   ]
  },
  {
   "cell_type": "code",
   "execution_count": 64,
   "metadata": {
    "collapsed": false,
    "run_control": {
     "read_only": false
    }
   },
   "outputs": [
    {
     "data": {
      "text/html": [
       "<div>\n",
       "<table border=\"1\" class=\"dataframe\">\n",
       "  <thead>\n",
       "    <tr style=\"text-align: right;\">\n",
       "      <th></th>\n",
       "      <th>MFR_NAME</th>\n",
       "      <th>MAKETXT</th>\n",
       "      <th>MODELTXT</th>\n",
       "      <th>YEARTXT</th>\n",
       "      <th>CRASH</th>\n",
       "      <th>FIRE</th>\n",
       "      <th>INJURED</th>\n",
       "      <th>DEATHS</th>\n",
       "      <th>COMPDESC</th>\n",
       "      <th>MILES</th>\n",
       "      <th>LDATE</th>\n",
       "      <th>OCCURENCES</th>\n",
       "      <th>CDESCR</th>\n",
       "    </tr>\n",
       "  </thead>\n",
       "  <tbody>\n",
       "    <tr>\n",
       "      <th>0</th>\n",
       "      <td>Honda (American Honda Motor Co.)</td>\n",
       "      <td>HONDA</td>\n",
       "      <td>CIVIC</td>\n",
       "      <td>2008</td>\n",
       "      <td>Y</td>\n",
       "      <td>N</td>\n",
       "      <td>0</td>\n",
       "      <td>0</td>\n",
       "      <td>WHEELS</td>\n",
       "      <td>109000</td>\n",
       "      <td>20160106</td>\n",
       "      <td>None</td>\n",
       "      <td>TL* THE CONTACT OWNED A 2008 HONDA C...</td>\n",
       "    </tr>\n",
       "    <tr>\n",
       "      <th>1</th>\n",
       "      <td>Honda (American Honda Motor Co.)</td>\n",
       "      <td>HONDA</td>\n",
       "      <td>CIVIC</td>\n",
       "      <td>2008</td>\n",
       "      <td>Y</td>\n",
       "      <td>N</td>\n",
       "      <td>0</td>\n",
       "      <td>0</td>\n",
       "      <td>AIR BAGS</td>\n",
       "      <td>109000</td>\n",
       "      <td>20160106</td>\n",
       "      <td>None</td>\n",
       "      <td>TL* THE CONTACT OWNED A 2008 HONDA C...</td>\n",
       "    </tr>\n",
       "    <tr>\n",
       "      <th>2</th>\n",
       "      <td>Honda (American Honda Motor Co.)</td>\n",
       "      <td>HONDA</td>\n",
       "      <td>CIVIC</td>\n",
       "      <td>2008</td>\n",
       "      <td>Y</td>\n",
       "      <td>N</td>\n",
       "      <td>0</td>\n",
       "      <td>0</td>\n",
       "      <td>STEERING</td>\n",
       "      <td>109000</td>\n",
       "      <td>20160106</td>\n",
       "      <td>None</td>\n",
       "      <td>TL* THE CONTACT OWNED A 2008 HONDA C...</td>\n",
       "    </tr>\n",
       "    <tr>\n",
       "      <th>3</th>\n",
       "      <td>Honda (American Honda Motor Co.)</td>\n",
       "      <td>ACURA</td>\n",
       "      <td>MDX</td>\n",
       "      <td>2003</td>\n",
       "      <td>N</td>\n",
       "      <td>Y</td>\n",
       "      <td>None</td>\n",
       "      <td>None</td>\n",
       "      <td>ELECTRICAL SYSTEM</td>\n",
       "      <td>136000</td>\n",
       "      <td>20160107</td>\n",
       "      <td>None</td>\n",
       "      <td>THE HEATED SEAT FUNCTION IN OUR ACUR...</td>\n",
       "    </tr>\n",
       "    <tr>\n",
       "      <th>4</th>\n",
       "      <td>Honda (American Honda Motor Co.)</td>\n",
       "      <td>HONDA</td>\n",
       "      <td>CR-V</td>\n",
       "      <td>2007</td>\n",
       "      <td>Y</td>\n",
       "      <td>N</td>\n",
       "      <td>0</td>\n",
       "      <td>0</td>\n",
       "      <td>STEERING</td>\n",
       "      <td>107</td>\n",
       "      <td>20160108</td>\n",
       "      <td>None</td>\n",
       "      <td>POWER STEERING HORSE CRACK AND LEAKA...</td>\n",
       "    </tr>\n",
       "  </tbody>\n",
       "</table>\n",
       "</div>"
      ],
      "text/plain": [
       "                           MFR_NAME MAKETXT MODELTXT YEARTXT CRASH FIRE  \\\n",
       "0  Honda (American Honda Motor Co.)   HONDA    CIVIC    2008     Y    N   \n",
       "1  Honda (American Honda Motor Co.)   HONDA    CIVIC    2008     Y    N   \n",
       "2  Honda (American Honda Motor Co.)   HONDA    CIVIC    2008     Y    N   \n",
       "3  Honda (American Honda Motor Co.)   ACURA      MDX    2003     N    Y   \n",
       "4  Honda (American Honda Motor Co.)   HONDA     CR-V    2007     Y    N   \n",
       "\n",
       "  INJURED DEATHS           COMPDESC   MILES     LDATE OCCURENCES  \\\n",
       "0       0      0             WHEELS  109000  20160106       None   \n",
       "1       0      0           AIR BAGS  109000  20160106       None   \n",
       "2       0      0           STEERING  109000  20160106       None   \n",
       "3    None   None  ELECTRICAL SYSTEM  136000  20160107       None   \n",
       "4       0      0           STEERING     107  20160108       None   \n",
       "\n",
       "                                    CDESCR  \n",
       "0  TL* THE CONTACT OWNED A 2008 HONDA C...  \n",
       "1  TL* THE CONTACT OWNED A 2008 HONDA C...  \n",
       "2  TL* THE CONTACT OWNED A 2008 HONDA C...  \n",
       "3  THE HEATED SEAT FUNCTION IN OUR ACUR...  \n",
       "4  POWER STEERING HORSE CRACK AND LEAKA...  "
      ]
     },
     "execution_count": 64,
     "metadata": {},
     "output_type": "execute_result"
    }
   ],
   "source": [
    "sample"
   ]
  },
  {
   "cell_type": "code",
   "execution_count": 65,
   "metadata": {
    "collapsed": false,
    "run_control": {
     "read_only": false
    }
   },
   "outputs": [
    {
     "name": "stdout",
     "output_type": "stream",
     "text": [
      "2008 HONDA CIVIC TL* THE CONTACT OWNED A 2008 HONDA CIVIC. WHILE DRIVING 30 MPH IN INCLEMENT WEATHER, THE WHEELS AND THE STEERING COLUMN SEIZED. AS A RESULT, THE CONTACT CRASHED INTO A GUARDRAIL. THE AIR BAGS FAILED TO DEPLOY. THE VEHICLE WAS DESTROYED AND TOWED TO A SALVAGE YARD. A POLICE REPORT WAS FILED AND THERE WERE NO INJURIES. THE MANUFACTURER WAS NOTIFIED. THE FAILURE MILEAGE WAS APPROXIMATELY 109,000.\n",
      "****************************************************************\n",
      "2008 HONDA CIVIC TL* THE CONTACT OWNED A 2008 HONDA CIVIC. WHILE DRIVING 30 MPH IN INCLEMENT WEATHER, THE WHEELS AND THE STEERING COLUMN SEIZED. AS A RESULT, THE CONTACT CRASHED INTO A GUARDRAIL. THE AIR BAGS FAILED TO DEPLOY. THE VEHICLE WAS DESTROYED AND TOWED TO A SALVAGE YARD. A POLICE REPORT WAS FILED AND THERE WERE NO INJURIES. THE MANUFACTURER WAS NOTIFIED. THE FAILURE MILEAGE WAS APPROXIMATELY 109,000.\n",
      "****************************************************************\n",
      "2008 HONDA CIVIC TL* THE CONTACT OWNED A 2008 HONDA CIVIC. WHILE DRIVING 30 MPH IN INCLEMENT WEATHER, THE WHEELS AND THE STEERING COLUMN SEIZED. AS A RESULT, THE CONTACT CRASHED INTO A GUARDRAIL. THE AIR BAGS FAILED TO DEPLOY. THE VEHICLE WAS DESTROYED AND TOWED TO A SALVAGE YARD. A POLICE REPORT WAS FILED AND THERE WERE NO INJURIES. THE MANUFACTURER WAS NOTIFIED. THE FAILURE MILEAGE WAS APPROXIMATELY 109,000.\n",
      "****************************************************************\n",
      "2003 ACURA MDX THE HEATED SEAT FUNCTION IN OUR ACURA MALFUNCTIONED AND CAUSED THE SEAT TO MELT AND BURN THROUGH THE ENTIRE UPHOLSTERY DOWN TO THE SEAT SUPPORTS.  THE ELECTRICAL MALFUNCTION ALSO TRAVELED TO THE ENTERTAINMENT SYSTEM AND TOTALLY MELTED THE DVD SCREEN. THE FABRIC ON THE CEILING OF THE VEHICLE WAS ALSO SIGNIFICANTLY DAMAGED AND HAS BECOME UNDONE AND FRAYED AND BURNED.  THE CAR IS ALSO COVERED IN A DARK FILM/SOOT THAT HAS A BURNED SMELL.  LUCKILY NO ONE WAS IN THE VEHICLE WHEN THIS OCCURRED, AS IT HAPPENED OVERNIGHT.  IT WAS PARKED IN OUR UNCOVERED DRIVEWAY WITH NO OTHER VEHICLES NEARBY.\n",
      "****************************************************************\n",
      "2007 HONDA CR-V POWER STEERING HORSE CRACK AND LEAKAGE ALL POWER STEERING FLUID MAKE THE CAR CANNOT TURNING (OUT OF CONTROL) AND GETTING ACCIDENT. HOPE HONDA WILL RECALL IT BECAUSE I SEE ALOT COMPLAIN ABOUT THIS. MY FRIENDS HAVE CHEVROLET, TOYOTA, KIA, AND MERCEDES NOTTHING PROBLEMS. I BOUGHT THIS CR-V 07 BRAND NEW JUST 107000 MILES AND GETTING ACCIDENT. I USE THE CAR ON A CITY STREET HONDA PLEASE RECALL THIS. I HAVE SOME PICTURES ABOUT THIS HORSE.\n",
      "****************************************************************\n"
     ]
    }
   ],
   "source": [
    "for year, make, model, cdescr in sample[['YEARTXT','MAKETXT','MODELTXT','CDESCR']].values:\n",
    "    print(year + ' ' + make + ' ' + model + ' ' + cdescr)\n",
    "    print(\"****************************************************************\")"
   ]
  }
 ],
 "metadata": {
  "hide_input": false,
  "kernelspec": {
   "display_name": "Python 3",
   "language": "python",
   "name": "python3"
  },
  "language_info": {
   "codemirror_mode": {
    "name": "ipython",
    "version": 3
   },
   "file_extension": ".py",
   "mimetype": "text/x-python",
   "name": "python",
   "nbconvert_exporter": "python",
   "pygments_lexer": "ipython3",
   "version": "3.5.1"
  }
 },
 "nbformat": 4,
 "nbformat_minor": 0
}

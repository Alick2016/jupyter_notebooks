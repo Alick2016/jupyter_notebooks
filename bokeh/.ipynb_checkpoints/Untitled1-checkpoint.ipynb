{
 "cells": [
  {
   "cell_type": "code",
   "execution_count": 1,
   "metadata": {
    "collapsed": false,
    "run_control": {
     "read_only": false
    }
   },
   "outputs": [
    {
     "data": {
      "text/html": [
       "\n",
       "    <div class=\"bk-banner\">\n",
       "        <a href=\"http://bokeh.pydata.org\" target=\"_blank\" class=\"bk-logo bk-logo-small bk-logo-notebook\"></a>\n",
       "        <span id=\"e05bb4b0-e8a7-4626-a600-fc5de66e1400\">Loading BokehJS ...</span>\n",
       "    </div>"
      ]
     },
     "metadata": {},
     "output_type": "display_data"
    },
    {
     "data": {
      "application/javascript": [
       "\n",
       "(function(global) {\n",
       "  function now() {\n",
       "    return new Date();\n",
       "  }\n",
       "\n",
       "  if (typeof (window._bokeh_onload_callbacks) === \"undefined\") {\n",
       "    window._bokeh_onload_callbacks = [];\n",
       "  }\n",
       "\n",
       "  function run_callbacks() {\n",
       "    window._bokeh_onload_callbacks.forEach(function(callback) { callback() });\n",
       "    delete window._bokeh_onload_callbacks\n",
       "    console.info(\"Bokeh: all callbacks have finished\");\n",
       "  }\n",
       "\n",
       "  function load_libs(js_urls, callback) {\n",
       "    window._bokeh_onload_callbacks.push(callback);\n",
       "    if (window._bokeh_is_loading > 0) {\n",
       "      console.log(\"Bokeh: BokehJS is being loaded, scheduling callback at\", now());\n",
       "      return null;\n",
       "    }\n",
       "    if (js_urls == null || js_urls.length === 0) {\n",
       "      run_callbacks();\n",
       "      return null;\n",
       "    }\n",
       "    console.log(\"Bokeh: BokehJS not loaded, scheduling load and callback at\", now());\n",
       "    window._bokeh_is_loading = js_urls.length;\n",
       "    for (var i = 0; i < js_urls.length; i++) {\n",
       "      var url = js_urls[i];\n",
       "      var s = document.createElement('script');\n",
       "      s.src = url;\n",
       "      s.async = false;\n",
       "      s.onreadystatechange = s.onload = function() {\n",
       "        window._bokeh_is_loading--;\n",
       "        if (window._bokeh_is_loading === 0) {\n",
       "          console.log(\"Bokeh: all BokehJS libraries loaded\");\n",
       "          run_callbacks()\n",
       "        }\n",
       "      };\n",
       "      s.onerror = function() {\n",
       "        console.warn(\"failed to load library \" + url);\n",
       "      };\n",
       "      console.log(\"Bokeh: injecting script tag for BokehJS library: \", url);\n",
       "      document.getElementsByTagName(\"head\")[0].appendChild(s);\n",
       "    }\n",
       "  };\n",
       "\n",
       "  var js_urls = ['https://cdn.pydata.org/bokeh/release/bokeh-0.11.1.min.js', 'https://cdn.pydata.org/bokeh/release/bokeh-widgets-0.11.1.min.js', 'https://cdn.pydata.org/bokeh/release/bokeh-compiler-0.11.1.min.js'];\n",
       "\n",
       "  var inline_js = [\n",
       "    function(Bokeh) {\n",
       "      Bokeh.set_log_level(\"info\");\n",
       "    },\n",
       "    \n",
       "    function(Bokeh) {\n",
       "      Bokeh.$(\"#e05bb4b0-e8a7-4626-a600-fc5de66e1400\").text(\"BokehJS successfully loaded\");\n",
       "    },\n",
       "    function(Bokeh) {\n",
       "      console.log(\"Bokeh: injecting CSS: https://cdn.pydata.org/bokeh/release/bokeh-0.11.1.min.css\");\n",
       "      Bokeh.embed.inject_css(\"https://cdn.pydata.org/bokeh/release/bokeh-0.11.1.min.css\");\n",
       "      console.log(\"Bokeh: injecting CSS: https://cdn.pydata.org/bokeh/release/bokeh-widgets-0.11.1.min.css\");\n",
       "      Bokeh.embed.inject_css(\"https://cdn.pydata.org/bokeh/release/bokeh-widgets-0.11.1.min.css\");\n",
       "    }\n",
       "  ];\n",
       "\n",
       "  function run_inline_js() {\n",
       "    for (var i = 0; i < inline_js.length; i++) {\n",
       "      inline_js[i](window.Bokeh);\n",
       "    }\n",
       "  }\n",
       "\n",
       "  if (window._bokeh_is_loading === 0) {\n",
       "    console.log(\"Bokeh: BokehJS loaded, going straight to plotting\");\n",
       "    run_inline_js();\n",
       "  } else {\n",
       "    load_libs(js_urls, function() {\n",
       "      console.log(\"Bokeh: BokehJS plotting callback run at\", now());\n",
       "      run_inline_js();\n",
       "    });\n",
       "  }\n",
       "}(this));"
      ]
     },
     "metadata": {},
     "output_type": "display_data"
    }
   ],
   "source": [
    "import numpy as np\n",
    "import pandas as pd\n",
    "from bokeh.charts import Line, output_notebook, show, ColumnDataSource\n",
    "from bokeh.models import HoverTool\n",
    "output_notebook()"
   ]
  },
  {
   "cell_type": "code",
   "execution_count": 2,
   "metadata": {
    "collapsed": false
   },
   "outputs": [
    {
     "data": {
      "text/html": [
       "\n",
       "\n",
       "    <div class=\"plotdiv\" id=\"7bdb66f5-a4ac-45a0-b9d5-e506b34be37f\"></div>\n",
       "<script type=\"text/javascript\">\n",
       "  \n",
       "  (function(global) {\n",
       "    function now() {\n",
       "      return new Date();\n",
       "    }\n",
       "  \n",
       "    if (typeof (window._bokeh_onload_callbacks) === \"undefined\") {\n",
       "      window._bokeh_onload_callbacks = [];\n",
       "    }\n",
       "  \n",
       "    function run_callbacks() {\n",
       "      window._bokeh_onload_callbacks.forEach(function(callback) { callback() });\n",
       "      delete window._bokeh_onload_callbacks\n",
       "      console.info(\"Bokeh: all callbacks have finished\");\n",
       "    }\n",
       "  \n",
       "    function load_libs(js_urls, callback) {\n",
       "      window._bokeh_onload_callbacks.push(callback);\n",
       "      if (window._bokeh_is_loading > 0) {\n",
       "        console.log(\"Bokeh: BokehJS is being loaded, scheduling callback at\", now());\n",
       "        return null;\n",
       "      }\n",
       "      if (js_urls == null || js_urls.length === 0) {\n",
       "        run_callbacks();\n",
       "        return null;\n",
       "      }\n",
       "      console.log(\"Bokeh: BokehJS not loaded, scheduling load and callback at\", now());\n",
       "      window._bokeh_is_loading = js_urls.length;\n",
       "      for (var i = 0; i < js_urls.length; i++) {\n",
       "        var url = js_urls[i];\n",
       "        var s = document.createElement('script');\n",
       "        s.src = url;\n",
       "        s.async = false;\n",
       "        s.onreadystatechange = s.onload = function() {\n",
       "          window._bokeh_is_loading--;\n",
       "          if (window._bokeh_is_loading === 0) {\n",
       "            console.log(\"Bokeh: all BokehJS libraries loaded\");\n",
       "            run_callbacks()\n",
       "          }\n",
       "        };\n",
       "        s.onerror = function() {\n",
       "          console.warn(\"failed to load library \" + url);\n",
       "        };\n",
       "        console.log(\"Bokeh: injecting script tag for BokehJS library: \", url);\n",
       "        document.getElementsByTagName(\"head\")[0].appendChild(s);\n",
       "      }\n",
       "    };var element = document.getElementById(\"7bdb66f5-a4ac-45a0-b9d5-e506b34be37f\");\n",
       "    if (element == null) {\n",
       "      console.log(\"Bokeh: ERROR: autoload.js configured with elementid '7bdb66f5-a4ac-45a0-b9d5-e506b34be37f' but no matching script tag was found. \")\n",
       "      return false;\n",
       "    }\n",
       "  \n",
       "    var js_urls = [];\n",
       "  \n",
       "    var inline_js = [\n",
       "      function(Bokeh) {\n",
       "        Bokeh.$(function() {\n",
       "            var docs_json = {\"83a4119d-11cb-47cf-8f70-ce7eaf46e872\":{\"roots\":{\"references\":[{\"attributes\":{\"data_source\":{\"id\":\"5ed00b2b-5b17-4df0-ba80-9e7fd35ee40f\",\"type\":\"ColumnDataSource\"},\"glyph\":{\"id\":\"42740dee-d355-4206-992a-08c1cf1aa5b2\",\"type\":\"Line\"},\"hover_glyph\":null,\"nonselection_glyph\":null,\"selection_glyph\":null},\"id\":\"d3b74986-7b12-4c38-9bfb-5f986bb9ab91\",\"type\":\"GlyphRenderer\"},{\"attributes\":{\"data_source\":{\"id\":\"4d873245-34be-4039-ae0f-f7776b9259f5\",\"type\":\"ColumnDataSource\"},\"glyph\":{\"id\":\"0f76f154-417e-4400-ac3d-a73cc6fe573c\",\"type\":\"Line\"},\"hover_glyph\":null,\"nonselection_glyph\":null,\"selection_glyph\":null},\"id\":\"29854b92-b26c-4df4-8d76-43c8546ddf27\",\"type\":\"GlyphRenderer\"},{\"attributes\":{\"legends\":[[\"A\",[{\"id\":\"29854b92-b26c-4df4-8d76-43c8546ddf27\",\"type\":\"GlyphRenderer\"}]],[\"B\",[{\"id\":\"71bb5c30-47f5-40af-8d8b-dc8c725cb947\",\"type\":\"GlyphRenderer\"}]],[\"C\",[{\"id\":\"d3b74986-7b12-4c38-9bfb-5f986bb9ab91\",\"type\":\"GlyphRenderer\"}]],[\"D\",[{\"id\":\"d1d0402e-d4ab-4654-9034-23a40fc2c821\",\"type\":\"GlyphRenderer\"}]],[\"E\",[{\"id\":\"943ddf1f-ae06-4100-82b0-9ad7ec2c2581\",\"type\":\"GlyphRenderer\"}]]],\"location\":\"top_left\",\"plot\":{\"id\":\"84b79073-f282-4748-b43d-98e252c81f06\",\"subtype\":\"Chart\",\"type\":\"Plot\"}},\"id\":\"0d1d7eae-34b8-4b20-9eea-742cddd81188\",\"type\":\"Legend\"},{\"attributes\":{\"callback\":null,\"column_names\":[\"x_values\",\"y_values\"],\"data\":{\"chart_index\":[{\"series\":\"E\"},{\"series\":\"E\"},{\"series\":\"E\"},{\"series\":\"E\"},{\"series\":\"E\"},{\"series\":\"E\"},{\"series\":\"E\"},{\"series\":\"E\"},{\"series\":\"E\"},{\"series\":\"E\"}],\"series\":[\"E\",\"E\",\"E\",\"E\",\"E\",\"E\",\"E\",\"E\",\"E\",\"E\"],\"x_values\":[0,1,2,3,4,5,6,7,8,9],\"y_values\":[0.18566625872768894,0.42063053048977794,0.3900040789206659,0.814909046638952,0.752994175276994,0.015718123814440155,0.10882994443691774,0.7891710813214301,0.07197584093918086,0.33970162533355164]}},\"id\":\"d86eddb5-2b3b-45fb-8267-2535d430285e\",\"type\":\"ColumnDataSource\"},{\"attributes\":{},\"id\":\"a27baf23-f7df-4849-be69-dfd6d64a52f6\",\"type\":\"BasicTicker\"},{\"attributes\":{\"line_color\":{\"value\":\"#df5320\"},\"line_width\":{\"value\":2},\"x\":{\"field\":\"x_values\"},\"y\":{\"field\":\"y_values\"}},\"id\":\"514e2c19-ac87-40b2-b1d9-b79cc8413cd8\",\"type\":\"Line\"},{\"attributes\":{\"callback\":null,\"column_names\":[\"x_values\",\"y_values\"],\"data\":{\"chart_index\":[{\"series\":\"C\"},{\"series\":\"C\"},{\"series\":\"C\"},{\"series\":\"C\"},{\"series\":\"C\"},{\"series\":\"C\"},{\"series\":\"C\"},{\"series\":\"C\"},{\"series\":\"C\"},{\"series\":\"C\"}],\"series\":[\"C\",\"C\",\"C\",\"C\",\"C\",\"C\",\"C\",\"C\",\"C\",\"C\"],\"x_values\":[0,1,2,3,4,5,6,7,8,9],\"y_values\":[0.42868971019658675,0.5910798546595377,0.35797302515412877,0.4054570945947643,0.7623337648674253,0.6311038489453313,0.034473600633799784,0.4667259004258101,0.07463235472678342,0.3043192869872057]}},\"id\":\"5ed00b2b-5b17-4df0-ba80-9e7fd35ee40f\",\"type\":\"ColumnDataSource\"},{\"attributes\":{},\"id\":\"f27fd5ca-5192-494d-abef-ececa24031ba\",\"type\":\"BasicTickFormatter\"},{\"attributes\":{},\"id\":\"2be7c8ad-0359-4244-8598-90719ac08ec2\",\"type\":\"BasicTickFormatter\"},{\"attributes\":{\"callback\":null,\"column_names\":[\"x_values\",\"y_values\"],\"data\":{\"chart_index\":[{\"series\":\"D\"},{\"series\":\"D\"},{\"series\":\"D\"},{\"series\":\"D\"},{\"series\":\"D\"},{\"series\":\"D\"},{\"series\":\"D\"},{\"series\":\"D\"},{\"series\":\"D\"},{\"series\":\"D\"}],\"series\":[\"D\",\"D\",\"D\",\"D\",\"D\",\"D\",\"D\",\"D\",\"D\",\"D\"],\"x_values\":[0,1,2,3,4,5,6,7,8,9],\"y_values\":[0.7729192380873358,0.5183697209139506,0.732622937126928,0.10962322049938633,0.860606742716669,0.30363444870007983,0.46719609301182696,0.5336738914340091,0.8292827278478342,0.9429465475346883]}},\"id\":\"37ac8850-3eae-4f1f-870c-1465d2bc7d75\",\"type\":\"ColumnDataSource\"},{\"attributes\":{\"callback\":null,\"end\":9.9,\"start\":-0.9},\"id\":\"73e48ade-eb98-4b63-b647-f10460362451\",\"type\":\"Range1d\"},{\"attributes\":{\"plot\":{\"id\":\"84b79073-f282-4748-b43d-98e252c81f06\",\"subtype\":\"Chart\",\"type\":\"Plot\"},\"ticker\":{\"id\":\"404c007d-e6b0-4717-985d-59232caf83b2\",\"type\":\"BasicTicker\"}},\"id\":\"c3ac89bd-ec65-4a7e-81c5-b64f066533df\",\"type\":\"Grid\"},{\"attributes\":{\"callback\":null,\"column_names\":[\"x_values\",\"y_values\"],\"data\":{\"chart_index\":[{\"series\":\"A\"},{\"series\":\"A\"},{\"series\":\"A\"},{\"series\":\"A\"},{\"series\":\"A\"},{\"series\":\"A\"},{\"series\":\"A\"},{\"series\":\"A\"},{\"series\":\"A\"},{\"series\":\"A\"}],\"series\":[\"A\",\"A\",\"A\",\"A\",\"A\",\"A\",\"A\",\"A\",\"A\",\"A\"],\"x_values\":[0,1,2,3,4,5,6,7,8,9],\"y_values\":[0.11796750216110208,0.06703735975006109,0.7990683311379682,0.8591504189814841,0.8864812258982385,0.7504707435062006,0.7386889886468816,0.16478382514712964,0.03739859364456277,0.3394254471101491]}},\"id\":\"4d873245-34be-4039-ae0f-f7776b9259f5\",\"type\":\"ColumnDataSource\"},{\"attributes\":{\"callback\":null,\"plot\":{\"id\":\"84b79073-f282-4748-b43d-98e252c81f06\",\"subtype\":\"Chart\",\"type\":\"Plot\"},\"tooltips\":[[\"index\",\"$index\"],[\"(x,y)\",\"($x, $y)\"],[\"desc\",\"@desc\"]]},\"id\":\"e4062faa-ac50-41dd-b0fa-592f25890f19\",\"type\":\"HoverTool\"},{\"attributes\":{},\"id\":\"4dd89d82-95b9-45d1-aece-6c4eabd33809\",\"type\":\"ToolEvents\"},{\"attributes\":{\"callback\":null,\"end\":1.0930526788361894,\"start\":-0.08222138118753707},\"id\":\"97b12370-ac43-4647-9b44-91d23e293bd9\",\"type\":\"Range1d\"},{\"attributes\":{\"dimension\":1,\"plot\":{\"id\":\"84b79073-f282-4748-b43d-98e252c81f06\",\"subtype\":\"Chart\",\"type\":\"Plot\"},\"ticker\":{\"id\":\"a27baf23-f7df-4849-be69-dfd6d64a52f6\",\"type\":\"BasicTicker\"}},\"id\":\"30845bd5-ac19-4e72-8940-3daa86cde5b2\",\"type\":\"Grid\"},{\"attributes\":{\"data_source\":{\"id\":\"37ac8850-3eae-4f1f-870c-1465d2bc7d75\",\"type\":\"ColumnDataSource\"},\"glyph\":{\"id\":\"514e2c19-ac87-40b2-b1d9-b79cc8413cd8\",\"type\":\"Line\"},\"hover_glyph\":null,\"nonselection_glyph\":null,\"selection_glyph\":null},\"id\":\"d1d0402e-d4ab-4654-9034-23a40fc2c821\",\"type\":\"GlyphRenderer\"},{\"attributes\":{\"callback\":null,\"column_names\":[\"x_values\",\"y_values\"],\"data\":{\"chart_index\":[{\"series\":\"B\"},{\"series\":\"B\"},{\"series\":\"B\"},{\"series\":\"B\"},{\"series\":\"B\"},{\"series\":\"B\"},{\"series\":\"B\"},{\"series\":\"B\"},{\"series\":\"B\"},{\"series\":\"B\"}],\"series\":[\"B\",\"B\",\"B\",\"B\",\"B\",\"B\",\"B\",\"B\",\"B\",\"B\"],\"x_values\":[0,1,2,3,4,5,6,7,8,9],\"y_values\":[0.40507270188564004,0.9242113929643796,0.6291057316762952,0.8714277384166298,0.9951131738342123,0.839352771593606,0.1459828694144274,0.6766809917380687,0.13922520945657235,0.8586230977864787]}},\"id\":\"0165c3a6-2a23-4d1e-ab3a-3b8ae540a847\",\"type\":\"ColumnDataSource\"},{\"attributes\":{\"axis_label\":\"Languages\",\"formatter\":{\"id\":\"f27fd5ca-5192-494d-abef-ececa24031ba\",\"type\":\"BasicTickFormatter\"},\"plot\":{\"id\":\"84b79073-f282-4748-b43d-98e252c81f06\",\"subtype\":\"Chart\",\"type\":\"Plot\"},\"ticker\":{\"id\":\"a27baf23-f7df-4849-be69-dfd6d64a52f6\",\"type\":\"BasicTicker\"}},\"id\":\"cbaeb191-1f6f-4e1f-b1f3-b04daf4cbee3\",\"type\":\"LinearAxis\"},{\"attributes\":{\"below\":[{\"id\":\"2b182a0c-2746-4b32-83fb-44f4ffd1f08f\",\"type\":\"LinearAxis\"}],\"left\":[{\"id\":\"cbaeb191-1f6f-4e1f-b1f3-b04daf4cbee3\",\"type\":\"LinearAxis\"}],\"legend\":\"top_left\",\"plot_height\":500,\"renderers\":[{\"id\":\"29854b92-b26c-4df4-8d76-43c8546ddf27\",\"type\":\"GlyphRenderer\"},{\"id\":\"71bb5c30-47f5-40af-8d8b-dc8c725cb947\",\"type\":\"GlyphRenderer\"},{\"id\":\"d3b74986-7b12-4c38-9bfb-5f986bb9ab91\",\"type\":\"GlyphRenderer\"},{\"id\":\"d1d0402e-d4ab-4654-9034-23a40fc2c821\",\"type\":\"GlyphRenderer\"},{\"id\":\"943ddf1f-ae06-4100-82b0-9ad7ec2c2581\",\"type\":\"GlyphRenderer\"},{\"id\":\"0d1d7eae-34b8-4b20-9eea-742cddd81188\",\"type\":\"Legend\"},{\"id\":\"2b182a0c-2746-4b32-83fb-44f4ffd1f08f\",\"type\":\"LinearAxis\"},{\"id\":\"cbaeb191-1f6f-4e1f-b1f3-b04daf4cbee3\",\"type\":\"LinearAxis\"},{\"id\":\"c3ac89bd-ec65-4a7e-81c5-b64f066533df\",\"type\":\"Grid\"},{\"id\":\"30845bd5-ac19-4e72-8940-3daa86cde5b2\",\"type\":\"Grid\"}],\"title\":\"Bokeh Line Example\",\"title_text_font_size\":{\"value\":\"14pt\"},\"tool_events\":{\"id\":\"4dd89d82-95b9-45d1-aece-6c4eabd33809\",\"type\":\"ToolEvents\"},\"tools\":[{\"id\":\"e4062faa-ac50-41dd-b0fa-592f25890f19\",\"type\":\"HoverTool\"}],\"x_mapper_type\":\"auto\",\"x_range\":{\"id\":\"73e48ade-eb98-4b63-b647-f10460362451\",\"type\":\"Range1d\"},\"xscale\":\"auto\",\"y_mapper_type\":\"auto\",\"y_range\":{\"id\":\"97b12370-ac43-4647-9b44-91d23e293bd9\",\"type\":\"Range1d\"},\"yscale\":\"auto\"},\"id\":\"84b79073-f282-4748-b43d-98e252c81f06\",\"subtype\":\"Chart\",\"type\":\"Plot\"},{\"attributes\":{\"data_source\":{\"id\":\"0165c3a6-2a23-4d1e-ab3a-3b8ae540a847\",\"type\":\"ColumnDataSource\"},\"glyph\":{\"id\":\"02fd9597-37da-40a1-a5f2-8bd2e278e1cc\",\"type\":\"Line\"},\"hover_glyph\":null,\"nonselection_glyph\":null,\"selection_glyph\":null},\"id\":\"71bb5c30-47f5-40af-8d8b-dc8c725cb947\",\"type\":\"GlyphRenderer\"},{\"attributes\":{\"axis_label\":\"index\",\"formatter\":{\"id\":\"2be7c8ad-0359-4244-8598-90719ac08ec2\",\"type\":\"BasicTickFormatter\"},\"plot\":{\"id\":\"84b79073-f282-4748-b43d-98e252c81f06\",\"subtype\":\"Chart\",\"type\":\"Plot\"},\"ticker\":{\"id\":\"404c007d-e6b0-4717-985d-59232caf83b2\",\"type\":\"BasicTicker\"}},\"id\":\"2b182a0c-2746-4b32-83fb-44f4ffd1f08f\",\"type\":\"LinearAxis\"},{\"attributes\":{\"line_color\":{\"value\":\"#00ad9c\"},\"line_width\":{\"value\":2},\"x\":{\"field\":\"x_values\"},\"y\":{\"field\":\"y_values\"}},\"id\":\"23397732-e7fc-4a52-a76f-636fb9ba22a0\",\"type\":\"Line\"},{\"attributes\":{},\"id\":\"404c007d-e6b0-4717-985d-59232caf83b2\",\"type\":\"BasicTicker\"},{\"attributes\":{\"data_source\":{\"id\":\"d86eddb5-2b3b-45fb-8267-2535d430285e\",\"type\":\"ColumnDataSource\"},\"glyph\":{\"id\":\"23397732-e7fc-4a52-a76f-636fb9ba22a0\",\"type\":\"Line\"},\"hover_glyph\":null,\"nonselection_glyph\":null,\"selection_glyph\":null},\"id\":\"943ddf1f-ae06-4100-82b0-9ad7ec2c2581\",\"type\":\"GlyphRenderer\"},{\"attributes\":{\"line_color\":{\"value\":\"#f22c40\"},\"line_width\":{\"value\":2},\"x\":{\"field\":\"x_values\"},\"y\":{\"field\":\"y_values\"}},\"id\":\"0f76f154-417e-4400-ac3d-a73cc6fe573c\",\"type\":\"Line\"},{\"attributes\":{\"line_color\":{\"value\":\"#5ab738\"},\"line_width\":{\"value\":2},\"x\":{\"field\":\"x_values\"},\"y\":{\"field\":\"y_values\"}},\"id\":\"02fd9597-37da-40a1-a5f2-8bd2e278e1cc\",\"type\":\"Line\"},{\"attributes\":{\"line_color\":{\"value\":\"#407ee7\"},\"line_width\":{\"value\":2},\"x\":{\"field\":\"x_values\"},\"y\":{\"field\":\"y_values\"}},\"id\":\"42740dee-d355-4206-992a-08c1cf1aa5b2\",\"type\":\"Line\"}],\"root_ids\":[\"84b79073-f282-4748-b43d-98e252c81f06\"]},\"title\":\"Bokeh Application\",\"version\":\"0.11.1\"}};\n",
       "            var render_items = [{\"docid\":\"83a4119d-11cb-47cf-8f70-ce7eaf46e872\",\"elementid\":\"7bdb66f5-a4ac-45a0-b9d5-e506b34be37f\",\"modelid\":\"84b79073-f282-4748-b43d-98e252c81f06\",\"notebook_comms_target\":\"1fedd703-c2c7-4139-9d5a-2b4480550ef8\"}];\n",
       "            \n",
       "            Bokeh.embed.embed_items(docs_json, render_items);\n",
       "        });\n",
       "      },\n",
       "      function(Bokeh) {\n",
       "      }\n",
       "    ];\n",
       "  \n",
       "    function run_inline_js() {\n",
       "      for (var i = 0; i < inline_js.length; i++) {\n",
       "        inline_js[i](window.Bokeh);\n",
       "      }\n",
       "    }\n",
       "  \n",
       "    if (window._bokeh_is_loading === 0) {\n",
       "      console.log(\"Bokeh: BokehJS loaded, going straight to plotting\");\n",
       "      run_inline_js();\n",
       "    } else {\n",
       "      load_libs(js_urls, function() {\n",
       "        console.log(\"Bokeh: BokehJS plotting callback run at\", now());\n",
       "        run_inline_js();\n",
       "      });\n",
       "    }\n",
       "  }(this));\n",
       "</script>"
      ]
     },
     "metadata": {},
     "output_type": "display_data"
    },
    {
     "data": {
      "text/html": [
       "<p><code>&lt;Bokeh Notebook handle for <strong>In[2]</strong>&gt;</code></p>"
      ],
      "text/plain": [
       "<bokeh.io._CommsHandle at 0x7fd0c02ba1d0>"
      ]
     },
     "execution_count": 2,
     "metadata": {},
     "output_type": "execute_result"
    }
   ],
   "source": [
    "df = pd.DataFrame(np.random.rand(10, 5), columns=['A', 'B', 'C', 'D', 'E'])\n",
    "\n",
    "hover = HoverTool(\n",
    "        tooltips=[\n",
    "            (\"index\", \"$index\"),\n",
    "            (\"(x,y)\", \"($x, $y)\"),\n",
    "            (\"desc\", \"@desc\"),\n",
    "        ]\n",
    "    )\n",
    "\n",
    "line = Line(df, title=\"Bokeh Line Example\", legend=\"top_left\", ylabel='Languages', \n",
    "            plot_width=600, plot_height=500, tools=[hover])\n",
    "show(line)"
   ]
  }
 ],
 "metadata": {
  "hide_input": false,
  "kernelspec": {
   "display_name": "Python 3",
   "language": "python",
   "name": "python3"
  },
  "language_info": {
   "codemirror_mode": {
    "name": "ipython",
    "version": 3
   },
   "file_extension": ".py",
   "mimetype": "text/x-python",
   "name": "python",
   "nbconvert_exporter": "python",
   "pygments_lexer": "ipython3",
   "version": "3.5.1"
  }
 },
 "nbformat": 4,
 "nbformat_minor": 0
}

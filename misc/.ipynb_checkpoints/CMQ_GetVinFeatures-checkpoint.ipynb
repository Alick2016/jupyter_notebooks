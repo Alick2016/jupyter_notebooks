{
 "cells": [
  {
   "cell_type": "markdown",
   "metadata": {},
   "source": [
    "<center><img src=\"http://xpo38498/www/images/honda_logo_small.jpg\"></center>"
   ]
  },
  {
   "cell_type": "markdown",
   "metadata": {},
   "source": [
    "<h2 align=\"center\">Script that obtains features information for a particular VIN</h2>"
   ]
  },
  {
   "cell_type": "markdown",
   "metadata": {},
   "source": [
    "#### This script will connect to Core MQ server and execute the SQL:"
   ]
  },
  {
   "cell_type": "code",
   "execution_count": 1,
   "metadata": {
    "collapsed": false,
    "run_control": {
     "read_only": false
    }
   },
   "outputs": [],
   "source": [
    "import pyodbc                # Needed to connect to ODBC data sources\n",
    "import base64                # Needed to de-fuzzy my encrypted password\n",
    "\n",
    "def getVinFeatures(txtVIN):\n",
    "    # Get password and \"de-fuzzy\" it\n",
    "    pw_file = open(r'D:\\webapps\\_server\\pyodbc\\encrypt.txt', 'r')\n",
    "    pw = base64.b64decode(pw_file.read())\n",
    "    userid = 'rb10'\n",
    "    pw_file.close()\n",
    "\n",
    "    cnxn_string = 'DSN=your_dsn;UID=' + userid + ';PWD=' + pw\n",
    "\n",
    "    cnxn = pyodbc.connect(cnxn_string)\n",
    "    cursor = cnxn.cursor()\n",
    "\n",
    "    sql = \"\"\"\n",
    "SELECT\n",
    "FEATURES.MDL_YR,\n",
    "FEATURES.FCTRY_CD,\n",
    "FEATURES.MDL_NM,\n",
    "FEATURES.\"DOORS\",\n",
    "FEATURES.\"ENGINE CYLINDERS\",\n",
    "FEATURES.\"TRANSMISSION\",\n",
    "FEATURES.\"GRADE SHORT\",\n",
    "FEATURES.\"GRADE LONG\",\n",
    "FEATURES.DEST_CD\n",
    "\n",
    "FROM CMQ.V_FACT_VHCL_PRDN_SLS PROD\n",
    "\n",
    "INNER JOIN CMQ.V_DIM_MTO_FEATURE_PIVOT FEATURES\n",
    "ON PROD.MTO_SK = FEATURES.MTO_SK\n",
    "\n",
    "WHERE\n",
    "PROD.VIN_NO = ?\n",
    "\"\"\"\n",
    "\n",
    "    try:\n",
    "        cursor.execute(sql, txtVIN)\n",
    "    except:\n",
    "        print \"There was an error in your SQL\"\n",
    "\n",
    "    resultset = cursor.fetchone()\n",
    "\n",
    "    # Close connections\n",
    "    cursor.close()\n",
    "    cnxn.close()\n",
    "    \n",
    "    return resultset"
   ]
  },
  {
   "cell_type": "markdown",
   "metadata": {},
   "source": [
    "#### Print the features of the VIN:"
   ]
  },
  {
   "cell_type": "code",
   "execution_count": 2,
   "metadata": {
    "collapsed": false,
    "run_control": {
     "read_only": false
    }
   },
   "outputs": [
    {
     "name": "stdout",
     "output_type": "stream",
     "text": [
      "Model Year: 2012\n",
      "Factory Code: MAP\n",
      "Model Name: TL\n",
      "Door Qty: 4\n",
      "Engine Cyl: 6\n",
      "Trans Type: A/T\n",
      "Grade Short: ADVANCE\n",
      "Grade Long: ADV-L NAVI\n",
      "Grade Long: KA\n"
     ]
    }
   ],
   "source": [
    "features = getVinFeatures('191234RWEKJLKEJR')\n",
    "print \"Model Year:\", features[0]\n",
    "print \"Factory Code:\", features[1]\n",
    "print \"Model Name:\", features[2]\n",
    "print \"Door Qty:\", features[3]\n",
    "print \"Engine Cyl:\", features[4]\n",
    "print \"Trans Type:\", features[5]\n",
    "print \"Grade Short:\", features[6]\n",
    "print \"Grade Long:\", features[7]\n",
    "print \"Grade Long:\", features[8]"
   ]
  }
 ],
 "metadata": {
  "hide_input": false,
  "kernelspec": {
   "display_name": "Python 3",
   "language": "python",
   "name": "python3"
  },
  "language_info": {
   "codemirror_mode": {
    "name": "ipython",
    "version": 3
   },
   "file_extension": ".py",
   "mimetype": "text/x-python",
   "name": "python",
   "nbconvert_exporter": "python",
   "pygments_lexer": "ipython3",
   "version": "3.5.1"
  }
 },
 "nbformat": 4,
 "nbformat_minor": 0
}

{
 "cells": [
  {
   "cell_type": "markdown",
   "metadata": {},
   "source": [
    "# Three Types of Machine Learning Tasks"
   ]
  },
  {
   "cell_type": "markdown",
   "metadata": {},
   "source": [
    "1. Supervised learning\n",
    "    - with discrete data, it is classification task\n",
    "        - Classification is identifying group membership\n",
    "            - Example: email spam filtering; good emails vs spam emails\n",
    "    - with continuous data, it is regression task\n",
    "        - Regression involves estimating or predicting a response\n",
    "            - Example: relationship between SAT scores and studying time\n",
    "2. Unsupervised learning\n",
    "    - discovering structures in unlabeled data\n",
    "3. Reinforcement learning\n",
    "    - Example: chess engine"
   ]
  },
  {
   "cell_type": "markdown",
   "metadata": {},
   "source": [
    "Regression involves estimating or predicting a response"
   ]
  }
 ],
 "metadata": {
  "hide_input": false,
  "kernelspec": {
   "display_name": "Python 3",
   "language": "python",
   "name": "python3"
  },
  "language_info": {
   "codemirror_mode": {
    "name": "ipython",
    "version": 3
   },
   "file_extension": ".py",
   "mimetype": "text/x-python",
   "name": "python",
   "nbconvert_exporter": "python",
   "pygments_lexer": "ipython3",
   "version": "3.4.5"
  }
 },
 "nbformat": 4,
 "nbformat_minor": 1
}

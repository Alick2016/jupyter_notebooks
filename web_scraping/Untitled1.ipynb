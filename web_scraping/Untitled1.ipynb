{
 "cells": [
  {
   "cell_type": "code",
   "execution_count": 5,
   "metadata": {
    "collapsed": true
   },
   "outputs": [],
   "source": [
    "import requests\n",
    "from bs4 import BeautifulSoup\n",
    "import sqlite3\n",
    "import re\n",
    "from datetime import datetime\n",
    "\n",
    "startTime = datetime.now()\n",
    "\n",
    "base_url = 'http://espn.go.com'\n",
    "\n",
    "teams_url = 'http://espn.go.com/nba/teams'\n",
    "html_teams = requests.get(teams_url)"
   ]
  },
  {
   "cell_type": "code",
   "execution_count": 8,
   "metadata": {
    "collapsed": false,
    "run_control": {
     "read_only": false
    }
   },
   "outputs": [],
   "source": [
    "soup_teams = BeautifulSoup(html_teams.text,'lxml')\n",
    "\n",
    "urls = soup_teams.find_all(href=re.compile('/nba/teams/stats'))\n",
    "\n",
    "team_urls = [base_url+url['href'] for url in urls]"
   ]
  },
  {
   "cell_type": "code",
   "execution_count": 9,
   "metadata": {
    "collapsed": false
   },
   "outputs": [
    {
     "data": {
      "text/plain": [
       "['http://espn.go.com/nba/teams/stats?team=bos',\n",
       " 'http://espn.go.com/nba/teams/stats?team=bkn',\n",
       " 'http://espn.go.com/nba/teams/stats?team=nyk',\n",
       " 'http://espn.go.com/nba/teams/stats?team=phi',\n",
       " 'http://espn.go.com/nba/teams/stats?team=tor',\n",
       " 'http://espn.go.com/nba/teams/stats?team=gsw',\n",
       " 'http://espn.go.com/nba/teams/stats?team=lac',\n",
       " 'http://espn.go.com/nba/teams/stats?team=lal',\n",
       " 'http://espn.go.com/nba/teams/stats?team=pho',\n",
       " 'http://espn.go.com/nba/teams/stats?team=sac',\n",
       " 'http://espn.go.com/nba/teams/stats?team=chi',\n",
       " 'http://espn.go.com/nba/teams/stats?team=cle',\n",
       " 'http://espn.go.com/nba/teams/stats?team=det',\n",
       " 'http://espn.go.com/nba/teams/stats?team=ind',\n",
       " 'http://espn.go.com/nba/teams/stats?team=mil',\n",
       " 'http://espn.go.com/nba/teams/stats?team=dal',\n",
       " 'http://espn.go.com/nba/teams/stats?team=hou',\n",
       " 'http://espn.go.com/nba/teams/stats?team=mem',\n",
       " 'http://espn.go.com/nba/teams/stats?team=nor',\n",
       " 'http://espn.go.com/nba/teams/stats?team=sas',\n",
       " 'http://espn.go.com/nba/teams/stats?team=atl',\n",
       " 'http://espn.go.com/nba/teams/stats?team=cha',\n",
       " 'http://espn.go.com/nba/teams/stats?team=mia',\n",
       " 'http://espn.go.com/nba/teams/stats?team=orl',\n",
       " 'http://espn.go.com/nba/teams/stats?team=was',\n",
       " 'http://espn.go.com/nba/teams/stats?team=den',\n",
       " 'http://espn.go.com/nba/teams/stats?team=min',\n",
       " 'http://espn.go.com/nba/teams/stats?team=okc',\n",
       " 'http://espn.go.com/nba/teams/stats?team=por',\n",
       " 'http://espn.go.com/nba/teams/stats?team=uth']"
      ]
     },
     "execution_count": 9,
     "metadata": {},
     "output_type": "execute_result"
    }
   ],
   "source": [
    "team_urls"
   ]
  }
 ],
 "metadata": {
  "hide_input": false,
  "kernelspec": {
   "display_name": "Python 3",
   "language": "python",
   "name": "python3"
  },
  "language_info": {
   "codemirror_mode": {
    "name": "ipython",
    "version": 3
   },
   "file_extension": ".py",
   "mimetype": "text/x-python",
   "name": "python",
   "nbconvert_exporter": "python",
   "pygments_lexer": "ipython3",
   "version": "3.5.1"
  }
 },
 "nbformat": 4,
 "nbformat_minor": 0
}

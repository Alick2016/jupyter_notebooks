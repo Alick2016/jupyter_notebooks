{
 "cells": [
  {
   "cell_type": "markdown",
   "metadata": {},
   "source": [
    "<center><h1>Web Scraping Kijiji</h1><h3>Using Python and Beautiful Soup</h3></center>"
   ]
  },
  {
   "cell_type": "code",
   "execution_count": 41,
   "metadata": {
    "collapsed": true
   },
   "outputs": [],
   "source": [
    "import pandas as pd\n",
    "from IPython.display import HTML\n",
    "from bs4 import BeautifulSoup\n",
    "import urllib.request as request\n",
    "from ipywidgets import interact\n",
    "pd.set_option(\"display.max_rows\",1000)\n",
    "pd.set_option(\"display.max_columns\",20)\n",
    "pd.set_option(\"display.max_colwidth\", 200)"
   ]
  },
  {
   "cell_type": "markdown",
   "metadata": {},
   "source": [
    "### For this exercise, I will only be scraping the Toronto listings"
   ]
  },
  {
   "cell_type": "code",
   "execution_count": 42,
   "metadata": {
    "collapsed": false
   },
   "outputs": [],
   "source": [
    "base_url = 'http://www.kijiji.ca'\n",
    "toronto_url = 'http://www.kijiji.ca/h-city-of-toronto/1700273'\n",
    "html_kijiji = request.urlopen(toronto_url)\n",
    "\n",
    "soup_kijiji = BeautifulSoup(html_kijiji, 'lxml')"
   ]
  },
  {
   "cell_type": "markdown",
   "metadata": {},
   "source": [
    "Since I will be creating a drop-down widget containing all the listing categories, I looked at the source page to find where I can find a complete list of all available categories.  I found that I need to grab all the **&lt;a&gt;** elements that have a class attribute equals to **\"category-selected\"**"
   ]
  },
  {
   "cell_type": "code",
   "execution_count": 43,
   "metadata": {
    "collapsed": false
   },
   "outputs": [],
   "source": [
    "div_categories = soup_kijiji.find_all('a', class_='category-selected')"
   ]
  },
  {
   "cell_type": "markdown",
   "metadata": {},
   "source": [
    "### Let's look at the first 20 rows of the category list:"
   ]
  },
  {
   "cell_type": "code",
   "execution_count": 44,
   "metadata": {
    "collapsed": false
   },
   "outputs": [
    {
     "data": {
      "text/plain": [
       "[<a class=\"category-selected\" data-id=\"10\" href=\"/b-buy-sell/city-of-toronto/c10l1700273\">buy and sell</a>,\n",
       " <a class=\"category-selected\" data-id=\"72\" href=\"/b-services/city-of-toronto/c72l1700273\">services</a>,\n",
       " <a class=\"category-selected\" data-id=\"27\" href=\"/b-cars-vehicles/city-of-toronto/c27l1700273\">cars &amp; vehicles</a>,\n",
       " <a class=\"category-selected\" data-id=\"112\" href=\"/b-pets/city-of-toronto/c112l1700273\">pets</a>,\n",
       " <a class=\"category-selected\" data-id=\"800\" href=\"/b-vacation-rentals/c800l1700273\">vacation rentals</a>,\n",
       " <a class=\"category-selected\" data-id=\"1\" href=\"/b-community/city-of-toronto/c1l1700273\">community</a>,\n",
       " <a class=\"category-selected\" data-id=\"34\" href=\"/b-real-estate/city-of-toronto/c34l1700273\">real estate</a>,\n",
       " <a class=\"category-selected\" data-id=\"45\" href=\"/b-jobs/city-of-toronto/c45l1700273\">jobs</a>,\n",
       " <a class=\"category-selected\" data-id=\"218\" href=\"/b-resumes/city-of-toronto/c218l1700273\">resumes</a>,\n",
       " <a class=\"category-selected\" data-id=\"63\" href=\"/b-personals/city-of-toronto/c63l1700273\">personals</a>,\n",
       " <a class=\"category-selected\" data-id=\"10\" href=\"/b-buy-sell/city-of-toronto/c10l1700273\" id=\"category10\">buy and sell</a>,\n",
       " <a class=\"category-selected\" data-id=\"12\" href=\"/b-art-collectibles/city-of-toronto/c12l1700273\">art, collectibles</a>,\n",
       " <a class=\"category-selected\" data-id=\"767\" href=\"/b-audio/city-of-toronto/c767l1700273\">audio</a>,\n",
       " <a class=\"category-selected\" data-id=\"253\" href=\"/b-baby-items/city-of-toronto/c253l1700273\">baby items</a>,\n",
       " <a class=\"category-selected\" data-id=\"644\" href=\"/b-bikes/city-of-toronto/c644l1700273\">bikes</a>,\n",
       " <a class=\"category-selected\" data-id=\"109\" href=\"/b-books/city-of-toronto/c109l1700273\">books</a>,\n",
       " <a class=\"category-selected\" data-id=\"145\" href=\"/b-business-industrial/city-of-toronto/c145l1700273\">business, industrial</a>,\n",
       " <a class=\"category-selected\" data-id=\"103\" href=\"/b-camera-camcorder-lens/city-of-toronto/c103l1700273\">cameras, camcorders</a>,\n",
       " <a class=\"category-selected\" data-id=\"104\" href=\"/b-cd-dvd-blu-ray/city-of-toronto/c104l1700273\">cds, dvds, blu-ray</a>,\n",
       " <a class=\"category-selected\" data-id=\"274\" href=\"/b-clothing/city-of-toronto/c274l1700273\">clothing</a>]"
      ]
     },
     "execution_count": 44,
     "metadata": {},
     "output_type": "execute_result"
    }
   ],
   "source": [
    "div_categories[:20]"
   ]
  },
  {
   "cell_type": "markdown",
   "metadata": {},
   "source": [
    "From above, we can see the category listings over on the right: \"buy and sell\", \"services\", \"cars and vehicles\", etc"
   ]
  },
  {
   "cell_type": "markdown",
   "metadata": {},
   "source": [
    "### Now I will create a Python dictionary to map all the category listings to its respective URL"
   ]
  },
  {
   "cell_type": "code",
   "execution_count": 45,
   "metadata": {
    "collapsed": true
   },
   "outputs": [],
   "source": [
    "categories = {}\n",
    "for item in div_categories:\n",
    "    categories[item.get_text()] = base_url + item['href']"
   ]
  },
  {
   "cell_type": "markdown",
   "metadata": {},
   "source": [
    "### Let's see what the dictionary looks like:"
   ]
  },
  {
   "cell_type": "code",
   "execution_count": 46,
   "metadata": {
    "collapsed": false
   },
   "outputs": [
    {
     "data": {
      "text/plain": [
       "{'(more categories...)': 'http://www.kijiji.ca/b-resumes/city-of-toronto/c218l1700273',\n",
       " 'ATVs, snowmobiles': 'http://www.kijiji.ca/b-atv-snowmobile/city-of-toronto/c171l1700273',\n",
       " 'Canada': 'http://www.kijiji.ca/b-vacation-rentals-canada/c801l1700273',\n",
       " 'Caribbean': 'http://www.kijiji.ca/b-vacation-rentals-caribbean/c803l1700273',\n",
       " 'Mexico': 'http://www.kijiji.ca/b-vacation-rentals-mexico/c804l1700273',\n",
       " 'Other Countries': 'http://www.kijiji.ca/b-vacation-rentals-other-countries/c805l1700273',\n",
       " 'RVs, campers, trailers': 'http://www.kijiji.ca/b-rv-camper-trailer/city-of-toronto/c172l1700273',\n",
       " 'SUVs': 'http://www.kijiji.ca/b-cars-trucks/city-of-toronto/suv+crossover/c174l1700273a138',\n",
       " 'USA': 'http://www.kijiji.ca/b-vacation-rentals-usa/c802l1700273',\n",
       " 'accessories': 'http://www.kijiji.ca/b-pet-accessories/city-of-toronto/c115l1700273',\n",
       " 'accounting, mgmt': 'http://www.kijiji.ca/b-accounting-management-jobs/city-of-toronto/c58l1700273',\n",
       " 'activities, groups': 'http://www.kijiji.ca/b-activities-groups/city-of-toronto/c7l1700273',\n",
       " 'animal, pet services': 'http://www.kijiji.ca/b-pet-services/city-of-toronto/c143l1700273',\n",
       " 'apartments, condos': 'http://www.kijiji.ca/b-apartments-condos/city-of-toronto/c37l1700273',\n",
       " 'art, collectibles': 'http://www.kijiji.ca/b-art-collectibles/city-of-toronto/c12l1700273',\n",
       " 'artists, musicians': 'http://www.kijiji.ca/b-artists-musicians/city-of-toronto/c2l1700273',\n",
       " 'audio': 'http://www.kijiji.ca/b-audio/city-of-toronto/c767l1700273',\n",
       " 'auto parts, tires': 'http://www.kijiji.ca/b-auto-parts-tires/city-of-toronto/c31l1700273',\n",
       " 'automotive services': 'http://www.kijiji.ca/b-automotive-services/city-of-toronto/c142l1700273',\n",
       " 'baby items': 'http://www.kijiji.ca/b-baby-items/city-of-toronto/c253l1700273',\n",
       " 'bar, food, hospitality': 'http://www.kijiji.ca/b-bar-food-hospitality-jobs/city-of-toronto/c60l1700273',\n",
       " 'bikes': 'http://www.kijiji.ca/b-bikes/city-of-toronto/c644l1700273',\n",
       " 'birds for sale': 'http://www.kijiji.ca/b-birds/city-of-toronto/c135l1700273',\n",
       " 'boats, watercraft': 'http://www.kijiji.ca/b-boat-watercraft/city-of-toronto/c29l1700273',\n",
       " 'books': 'http://www.kijiji.ca/b-books/city-of-toronto/c109l1700273',\n",
       " 'business, industrial': 'http://www.kijiji.ca/b-business-industrial/city-of-toronto/c145l1700273',\n",
       " 'buy and sell': 'http://www.kijiji.ca/b-buy-sell/city-of-toronto/c10l1700273',\n",
       " 'cameras, camcorders': 'http://www.kijiji.ca/b-camera-camcorder-lens/city-of-toronto/c103l1700273',\n",
       " 'cars': 'http://www.kijiji.ca/b-cars-trucks/city-of-toronto/convertible__coupe__hatchback__other+body+type__sedan__wagon/c174l1700273a138',\n",
       " 'cars & vehicles': 'http://www.kijiji.ca/b-cars-vehicles/city-of-toronto/c27l1700273',\n",
       " 'cats, kittens for sale': 'http://www.kijiji.ca/b-cats-kittens/city-of-toronto/c125l1700273',\n",
       " 'cds, dvds, blu-ray': 'http://www.kijiji.ca/b-cd-dvd-blu-ray/city-of-toronto/c104l1700273',\n",
       " 'child care': 'http://www.kijiji.ca/b-childcare-resumes/city-of-toronto/c225l1700273',\n",
       " 'childcare, nanny': 'http://www.kijiji.ca/b-childcare-nanny-service/city-of-toronto/c84l1700273',\n",
       " 'classes, lessons': 'http://www.kijiji.ca/b-classes-lessons/city-of-toronto/c4l1700273',\n",
       " 'classic cars': 'http://www.kijiji.ca/b-classic-cars/city-of-toronto/c122l1700273',\n",
       " 'cleaners, cleaning': 'http://www.kijiji.ca/b-cleaners-cleaning-service/city-of-toronto/c160l1700273',\n",
       " 'cleaning, housekeeper': 'http://www.kijiji.ca/b-cleaning-housekeeper-jobs/city-of-toronto/c146l1700273',\n",
       " 'clothing': 'http://www.kijiji.ca/b-clothing/city-of-toronto/c274l1700273',\n",
       " 'commercial, office space': 'http://www.kijiji.ca/b-commercial-office-space/city-of-toronto/c40l1700273',\n",
       " 'community': 'http://www.kijiji.ca/b-community/city-of-toronto/c1l1700273',\n",
       " 'computer accessories': 'http://www.kijiji.ca/b-computer-accessories/city-of-toronto/c128l1700273',\n",
       " 'computers': 'http://www.kijiji.ca/b-computer/city-of-toronto/c16l1700273',\n",
       " 'condos for sale': 'http://www.kijiji.ca/b-condo-for-sale/city-of-toronto/c643l1700273',\n",
       " 'construction, trades': 'http://www.kijiji.ca/b-construction-trades-resumes/city-of-toronto/c224l1700273',\n",
       " 'customer service': 'http://www.kijiji.ca/b-customer-service-jobs/city-of-toronto/c147l1700273',\n",
       " 'dogs, puppies for sale': 'http://www.kijiji.ca/b-dogs-puppies/city-of-toronto/c126l1700273',\n",
       " 'driver, security': 'http://www.kijiji.ca/b-driver-security-jobs/city-of-toronto/c148l1700273',\n",
       " 'electronics': 'http://www.kijiji.ca/b-electronics/city-of-toronto/c15l1700273',\n",
       " 'entertainment': 'http://www.kijiji.ca/b-entertainment/city-of-toronto/c165l1700273',\n",
       " 'equestrian, livestock accessories': 'http://www.kijiji.ca/b-equestrian-livestock-accessories/city-of-toronto/c14996002l1700273',\n",
       " 'events': 'http://www.kijiji.ca/b-events/city-of-toronto/c289l1700273',\n",
       " 'financial, legal': 'http://www.kijiji.ca/b-financial-legal/city-of-toronto/c131l1700273',\n",
       " 'fish for sale': 'http://www.kijiji.ca/b-fish/city-of-toronto/c14654003l1700273',\n",
       " 'fitness, personal trainer': 'http://www.kijiji.ca/b-fitness-personal-trainer/city-of-toronto/c83l1700273',\n",
       " 'friendship, networking': 'http://www.kijiji.ca/b-friendship-networking/city-of-toronto/c634l1700273',\n",
       " 'furniture': 'http://www.kijiji.ca/b-furniture/city-of-toronto/c235l1700273',\n",
       " 'garage sales': 'http://www.kijiji.ca/b-garage-sale-yard-sale/city-of-toronto/c638l1700273',\n",
       " 'general labour': 'http://www.kijiji.ca/b-general-labour-resumes/city-of-toronto/c230l1700273',\n",
       " 'graphic, web design': 'http://www.kijiji.ca/b-graphic-web-design-jobs/city-of-toronto/c152l1700273',\n",
       " 'hair stylist, salon': 'http://www.kijiji.ca/b-hair-stylist-salon-jobs/city-of-toronto/c150l1700273',\n",
       " 'health, beauty': 'http://www.kijiji.ca/b-health-beauty/city-of-toronto/c166l1700273',\n",
       " 'health, special needs': 'http://www.kijiji.ca/b-health-special-needs/city-of-toronto/c140l1700273',\n",
       " 'healthcare': 'http://www.kijiji.ca/b-healthcare-jobs/city-of-toronto/c898l1700273',\n",
       " 'heavy equipment': 'http://www.kijiji.ca/b-heavy-equipment/city-of-toronto/c301l1700273',\n",
       " 'hobbies, crafts': 'http://www.kijiji.ca/b-hobbies-craft/city-of-toronto/c139l1700273',\n",
       " 'home - indoor': 'http://www.kijiji.ca/b-home-indoor/city-of-toronto/c717l1700273',\n",
       " 'home - outdoor': 'http://www.kijiji.ca/b-home-outdoor/city-of-toronto/c19l1700273',\n",
       " 'home appliances': 'http://www.kijiji.ca/b-home-appliance/city-of-toronto/c107l1700273',\n",
       " 'home renovation materials': 'http://www.kijiji.ca/b-home-renovation/city-of-toronto/c727l1700273',\n",
       " 'horses, ponies for sale': 'http://www.kijiji.ca/b-horses-ponies/city-of-toronto/c14996001l1700273',\n",
       " 'house rental': 'http://www.kijiji.ca/b-house-rental/city-of-toronto/c43l1700273',\n",
       " 'houses for sale': 'http://www.kijiji.ca/b-house-for-sale/city-of-toronto/c35l1700273',\n",
       " 'jewellery, watches': 'http://www.kijiji.ca/b-jewelry-watch/city-of-toronto/c133l1700273',\n",
       " 'jobs': 'http://www.kijiji.ca/b-jobs/city-of-toronto/c45l1700273',\n",
       " 'land for sale': 'http://www.kijiji.ca/b-land-for-sale/city-of-toronto/c641l1700273',\n",
       " 'livestock for sale': 'http://www.kijiji.ca/b-livestock/city-of-toronto/c217l1700273',\n",
       " 'long lost relationships': 'http://www.kijiji.ca/b-long-lost-relationships/city-of-toronto/c635l1700273',\n",
       " 'lost & found': 'http://www.kijiji.ca/b-lost-and-found/city-of-toronto/c120l1700273',\n",
       " 'missed connections': 'http://www.kijiji.ca/b-missed-connections/city-of-toronto/c636l1700273',\n",
       " 'motorcycles': 'http://www.kijiji.ca/b-motorcycles/city-of-toronto/c30l1700273',\n",
       " 'moving, storage': 'http://www.kijiji.ca/b-moving-storage/city-of-toronto/c144l1700273',\n",
       " 'music lessons': 'http://www.kijiji.ca/b-music-lessons/city-of-toronto/c86l1700273',\n",
       " 'musical instruments': 'http://www.kijiji.ca/b-musical-instrument/city-of-toronto/c17l1700273',\n",
       " 'new cars & trucks': 'http://www.kijiji.ca//kijiji.unhaggle.com',\n",
       " 'office mgr, receptionist': 'http://www.kijiji.ca/b-office-manager-receptionist-jobs/city-of-toronto/c46l1700273',\n",
       " 'other': 'http://www.kijiji.ca/b-other-jobs/city-of-toronto/c62l1700273',\n",
       " 'other pets for sale': 'http://www.kijiji.ca/b-other-pets/city-of-toronto/c114l1700273',\n",
       " 'over': 'http://www.kijiji.ca/b-cars-trucks/city-of-toronto/convertible__coupe__hatchback__other+body+type__sedan__wagon/c174l1700273a138?price=5000__',\n",
       " 'part time, students': 'http://www.kijiji.ca/b-part-time-student-jobs/city-of-toronto/c59l1700273',\n",
       " 'personals': 'http://www.kijiji.ca/b-personals/city-of-toronto/c63l1700273',\n",
       " 'pets': 'http://www.kijiji.ca/b-pets/city-of-toronto/c112l1700273',\n",
       " 'phones': 'http://www.kijiji.ca/b-phone-tablet/city-of-toronto/c132l1700273',\n",
       " 'photography, video': 'http://www.kijiji.ca/b-photography-video/city-of-toronto/c168l1700273',\n",
       " 'programmers, computer': 'http://www.kijiji.ca/b-programmer-computer-jobs/city-of-toronto/c54l1700273',\n",
       " 'real estate': 'http://www.kijiji.ca/b-real-estate/city-of-toronto/c34l1700273',\n",
       " 'real estate services': 'http://www.kijiji.ca/b-real-estate-service/city-of-toronto/c170l1700273',\n",
       " 'reptiles & amphibians for sale': 'http://www.kijiji.ca/b-reptiles-amphibians/city-of-toronto/c14654004l1700273',\n",
       " 'resumes': 'http://www.kijiji.ca/b-resumes/city-of-toronto/c218l1700273',\n",
       " 'rideshare': 'http://www.kijiji.ca/b-rideshare-carpool/city-of-toronto/c5l1700273',\n",
       " 'room rental, roommates': 'http://www.kijiji.ca/b-room-rental-roommate/city-of-toronto/c36l1700273',\n",
       " 'sales, retail sales': 'http://www.kijiji.ca/b-sales-retail-jobs/city-of-toronto/c61l1700273',\n",
       " 'services': 'http://www.kijiji.ca/b-services/city-of-toronto/c72l1700273',\n",
       " 'short term rentals': 'http://www.kijiji.ca/b-short-term-rental/city-of-toronto/c42l1700273',\n",
       " 'skilled trades': 'http://www.kijiji.ca/b-skilled-trades/city-of-toronto/c76l1700273',\n",
       " 'small animals for sale': 'http://www.kijiji.ca/b-small-animals/city-of-toronto/c14654005l1700273',\n",
       " 'sporting goods, exercise': 'http://www.kijiji.ca/b-sporting-goods-exercise/city-of-toronto/c111l1700273',\n",
       " 'storage, parking': 'http://www.kijiji.ca/b-storage-parking/city-of-toronto/c39l1700273',\n",
       " 'tickets': 'http://www.kijiji.ca/b-tickets/city-of-toronto/c14l1700273',\n",
       " 'tools': 'http://www.kijiji.ca/b-tool/city-of-toronto/c110l1700273',\n",
       " 'toys, games': 'http://www.kijiji.ca/b-toys-games/city-of-toronto/c108l1700273',\n",
       " 'travel, vacations': 'http://www.kijiji.ca/b-travel-vacations/city-of-toronto/c302l1700273',\n",
       " 'trucks': 'http://www.kijiji.ca/b-cars-trucks/city-of-toronto/pickup+truck/c174l1700273a138',\n",
       " 'tutors, languages': 'http://www.kijiji.ca/b-tutor-language-lessons/city-of-toronto/c169l1700273',\n",
       " 'tv, media, fashion': 'http://www.kijiji.ca/b-tv-media-fashion-jobs/city-of-toronto/c55l1700273',\n",
       " 'under': 'http://www.kijiji.ca/b-cars-trucks/city-of-toronto/convertible__coupe__hatchback__other+body+type__sedan__wagon/c174l1700273a138?price=__5000',\n",
       " 'used cars & trucks': 'http://www.kijiji.ca/b-cars-trucks/city-of-toronto/c174l1700273',\n",
       " 'vacation rentals': 'http://www.kijiji.ca/b-vacation-rentals/c800l1700273',\n",
       " 'vans': 'http://www.kijiji.ca/b-cars-trucks/city-of-toronto/mini+van/c174l1700273a138',\n",
       " 'video games, consoles': 'http://www.kijiji.ca/b-video-games-consoles/city-of-toronto/c141l1700273',\n",
       " 'volunteers': 'http://www.kijiji.ca/b-volunteers/city-of-toronto/c3l1700273',\n",
       " 'wedding': 'http://www.kijiji.ca/b-wedding-service/city-of-toronto/c79l1700273'}"
      ]
     },
     "execution_count": 46,
     "metadata": {},
     "output_type": "execute_result"
    }
   ],
   "source": [
    "categories"
   ]
  },
  {
   "cell_type": "markdown",
   "metadata": {},
   "source": [
    "### Now, I will make a list of just the keys from the category dictionary I created earlier:"
   ]
  },
  {
   "cell_type": "code",
   "execution_count": 47,
   "metadata": {
    "collapsed": false
   },
   "outputs": [],
   "source": [
    "category_list = [key for key in categories.keys()]"
   ]
  },
  {
   "cell_type": "markdown",
   "metadata": {},
   "source": [
    "### Now the fun part.  Below, I am using Jupyter interact decorator to create a drop-down widget.  I will pass the category_list that I just made to it.  The rest of the function is grabbing the listing's image url, title, description, price, etc., from which I will make a pandas data frame which is then outputted to the screen."
   ]
  },
  {
   "cell_type": "code",
   "execution_count": 58,
   "metadata": {
    "collapsed": false
   },
   "outputs": [
    {
     "name": "stdout",
     "output_type": "stream",
     "text": [
      "http://www.kijiji.ca/b-cars-trucks/city-of-toronto/convertible__coupe__hatchback__other+body+type__sedan__wagon/c174l1700273a138\n"
     ]
    },
    {
     "data": {
      "text/html": [
       "<table border=\"1\" class=\"dataframe\">\n",
       "  <thead>\n",
       "    <tr style=\"text-align: right;\">\n",
       "      <th></th>\n",
       "      <th>Image</th>\n",
       "      <th>Title</th>\n",
       "      <th>Comment</th>\n",
       "      <th>Details</th>\n",
       "      <th>Price</th>\n",
       "    </tr>\n",
       "  </thead>\n",
       "  <tbody>\n",
       "    <tr>\n",
       "      <th>0</th>\n",
       "      <td><img src='http://i.ebayimg.com/00/s/NDgwWDY0MA==/z/JOUAAOSwnipWXqlM/$_2.JPG'></td>\n",
       "      <td>2002 Lexus LS 430*LUXURY&PREMIUM PKG*100% APPROVED!</td>\n",
       "      <td>TAKE ANY VEHICLE TO YOUR MECHANIC PRIOR TO PURCHASE! THAT IS HOW CONFIDENT WE ARE! ****** IN-HOUSE FINANCING AVAILABLE! ALWAYS APPROVED! ****** CAR PROOF ON HAND! -LUXURY PACKAGE -PREMIUM PACKAGE -…</td>\n",
       "      <td>197000km | Automatic | $ Financing Available</td>\n",
       "      <td>6900</td>\n",
       "    </tr>\n",
       "    <tr>\n",
       "      <th>1</th>\n",
       "      <td><img src='http://i.ebayimg.com/00/s/NzY4WDEwMjQ=/z/GOUAAOSwp5JWYWis/$_2.JPG'></td>\n",
       "      <td>2014 Volkswagen Jetta 2.0L*ALLOYS*SUNROOF*HTD SEATS*</td>\n",
       "      <td>Leading Edge Motor Cars Inc. VIEW MORE INFO AT WWW.LEMC.CA *UNBELIEVABLE VALUE*VW JETTA COMFORTLINE*<50,000KM*GOLD ON LATTE MACHIATTO CLOTH*ECONOMICAL INLINE 4CYL ENGINE DELIVERS 115HP*SMOOTHLY…</td>\n",
       "      <td>47973km | Automatic</td>\n",
       "      <td>11977</td>\n",
       "    </tr>\n",
       "    <tr>\n",
       "      <th>2</th>\n",
       "      <td><img src='http://i.ebayimg.com/00/s/NDgwWDY0MA==/z/Ur8AAOSwwE5WYdeh/$_2.JPG'></td>\n",
       "      <td>2012 Audi A4 2.0T Premium Plus PKG -AWD - BLUETOOTH</td>\n",
       "      <td>**** LOCATION - 10731 YONGE ST. RICHMOND HILL, ON. UNIT 5. L4C-3E1. PHONE: 905-237-9115 ***2012 Audi A4 2.0T QUATRRO - LEATHER SUNROOF - BLUETOOTH- PREMIUM SOUND SYSTEM - AUTOMATIC TRANSMISSION - ...</td>\n",
       "      <td>75234km | Automatic | CarProof</td>\n",
       "      <td>21995</td>\n",
       "    </tr>\n",
       "    <tr>\n",
       "      <th>3</th>\n",
       "      <td><img src='http://i.ebayimg.com/00/s/NDgwWDY0MA==/z/9~sAAOSwlV9WTGBX/$_2.JPG'></td>\n",
       "      <td>2008 Mazda CX-7 NEEDS ENGINE !!!  $2500.00 FIRM !!!</td>\n",
       "      <td>Gold on black SUV Auto 2.3l-T - 4 cyl. buckets tilt alloys power windows power mirrors power door locks keyless cd cruise air tint Needs engine - $2500.00 FIRM !!! WWW.AMBERMOTORS.CA JUST ARRIVED…</td>\n",
       "      <td>187721km | Automatic</td>\n",
       "      <td>2500</td>\n",
       "    </tr>\n",
       "    <tr>\n",
       "      <th>4</th>\n",
       "      <td><img src='http://i.ebayimg.com/00/s/MTAyNFg3Njg=/z/MDwAAOSwI-BWFi4U/$_2.JPG'></td>\n",
       "      <td>1985 Rolls-Royce SILVER SPIRIT SILVER SPIRIT ANTIQUE CLASSIC</td>\n",
       "      <td>LOOKING FOR A COLLECTOR'S CAR!! WELL YOU FOUND ME!! I AM A 1985 ROLLS-ROYCE SILVER SPIRIT AND YOU ARE IN FOR A TREAT!! I WOULD LOVE TO JOIN YOUR COLLECTION AND AM SURE I WILL FIT RIGHT IN!! PLEASE…</td>\n",
       "      <td>109017km | Automatic</td>\n",
       "      <td>24998</td>\n",
       "    </tr>\n",
       "    <tr>\n",
       "      <th>5</th>\n",
       "      <td><img src='http://i.ebayimg.com/00/s/NDUwWDgwMA==/z/YYkAAOSwNphWZPKP/$_2.JPG'></td>\n",
       "      <td>2000 Mazda 626 LX Sedan</td>\n",
       "      <td>one owner, gently driven, road worthy, some rust, cracked front windshield on passenger side does not obstruct vision, many new parts including fuel pump, exhaust, brakes recently done, good rubber,…</td>\n",
       "      <td>163000km | Automatic</td>\n",
       "      <td>500</td>\n",
       "    </tr>\n",
       "    <tr>\n",
       "      <th>6</th>\n",
       "      <td><img src='http://i.ebayimg.com/00/s/NTU5WDgwMA==/z/N-EAAOSwp5JWZPHc/$_2.JPG'></td>\n",
       "      <td>Volkswagen Jetta Red on Black</td>\n",
       "      <td>Volkswagen Jetta Runs great ONLY 165kms...... Never been in an accident Everything is original Very cheap on gas and insurance Power everything Black leather seats Power Sunroof Heated seats Power…</td>\n",
       "      <td>165000km | Automatic</td>\n",
       "      <td>3350</td>\n",
       "    </tr>\n",
       "    <tr>\n",
       "      <th>7</th>\n",
       "      <td><img src='http://i.ebayimg.com/00/s/NDUwWDgwMA==/z/vjQAAOSw8-tWZPFv/$_2.JPG'></td>\n",
       "      <td>2008 Subaru Impreza 2.5 i Hatchback</td>\n",
       "      <td>Car in very good conditon, no accident at all , well kept.Tinted windows. ONLY 103K km. looking to upgrade to a SUV email or call after 5pm on weekdays. Always available before ad deleted.</td>\n",
       "      <td>103600km | Automatic</td>\n",
       "      <td>9000</td>\n",
       "    </tr>\n",
       "    <tr>\n",
       "      <th>8</th>\n",
       "      <td><img src='http://i.ebayimg.com/00/s/NjAwWDgwMA==/z/Gv8AAOSwnH1WZPDX/$_2.JPG'></td>\n",
       "      <td>2000 HONDA CIVIC SPECIAL EDITION SEDAN</td>\n",
       "      <td>2000 HONDA CIVIC SPECIAL EDITION SEDAN AUTOMATIC TRANSMISSION 1.6L 4CYL ORIGINAL OWNERS ORIGINAL 221,000KM POWER LOCKS POWER STEERING TILT STEERING CRUISE CONTROL A/C STEERING WHEEL COVER WINTER ...</td>\n",
       "      <td>221000km | Automatic</td>\n",
       "      <td>1850</td>\n",
       "    </tr>\n",
       "    <tr>\n",
       "      <th>9</th>\n",
       "      <td><img src='http://i.ebayimg.com/00/s/NDUwWDgwMA==/z/FNEAAOSwfZ1WZO~p/$_2.JPG'></td>\n",
       "      <td>2009 Pontiac Vibe Hatchback - Toyota Matrix</td>\n",
       "      <td>Car in perfect working condition, regularly serviced and looked after. Keyless entry, all power options, cruise control, ABS, adjustable steering wheel, sunroof, 115 V built in inverter ( very handy…</td>\n",
       "      <td>142860km | Automatic</td>\n",
       "      <td>6490</td>\n",
       "    </tr>\n",
       "    <tr>\n",
       "      <th>10</th>\n",
       "      <td><img src='http://i.ebayimg.com/00/s/NjA5WDgwMA==/z/UugAAOSwxN5WZPCL/$_2.JPG'></td>\n",
       "      <td>2002 HONDA CIVIC Si COUPE *LOW KM* *ONE OWNER*</td>\n",
       "      <td>One owner, excellent condition, low mileage, very well maintained and always had regular maintenance done on time. No known current mechanical issues as we reecently had front end servicing done ...</td>\n",
       "      <td>162229km | Automatic</td>\n",
       "      <td>1800</td>\n",
       "    </tr>\n",
       "    <tr>\n",
       "      <th>11</th>\n",
       "      <td><img src='http://i.ebayimg.com/00/s/MjQwWDMyMA==/z/vOcAAOSw9mFWGxgv/$_2.JPG'></td>\n",
       "      <td>2006 Volkswagen Passat 3.6  4MOTION</td>\n",
       "      <td>VW CERTIFIED, LUXURY & safe, black ext. and int., all leather, well maintained by Dealers, NEW transmission and exhaust ($6,000 done months ago, reliable and smooth ride, powerful, roomy and…</td>\n",
       "      <td>178100km | Automatic</td>\n",
       "      <td>6900</td>\n",
       "    </tr>\n",
       "    <tr>\n",
       "      <th>12</th>\n",
       "      <td><img src='http://i.ebayimg.com/00/s/NDUwWDgwMA==/z/D40AAOSwnH1WZPA4/$_2.JPG'></td>\n",
       "      <td>2006 Nissan Sentra Sports Sedan</td>\n",
       "      <td>REDUCED PRICE $2,000 OR BEST OFFER. 2006 Nissan Sentra SE 1.8L Engine. Perfect first car for daily commuters. Automatic, A/C. Keyless entry, Remote trunk access. Regularly maintained & Good on gas.…</td>\n",
       "      <td>173000km | Automatic</td>\n",
       "      <td>2000</td>\n",
       "    </tr>\n",
       "    <tr>\n",
       "      <th>13</th>\n",
       "      <td><img src='http://i.ebayimg.com/00/s/NjAwWDgwMA==/z/sE4AAOSwnipWZPAg/$_2.JPG'></td>\n",
       "      <td>2006 Dodge Magnum sxt trade for sled or cash...</td>\n",
       "      <td>I need to free up some space on the property before winter hits and I am looking to sell this nice 2006 dodge magnum sxt 3.5L highout 5 spd automatic, rear wheel drive car... its an all around great…</td>\n",
       "      <td>229315km | Automatic</td>\n",
       "      <td>0</td>\n",
       "    </tr>\n",
       "    <tr>\n",
       "      <th>14</th>\n",
       "      <td><img src='http://i.ebayimg.com/00/s/NTM0WDgwMA==/z/DT8AAOSwbdpWZO8K/$_2.JPG'></td>\n",
       "      <td>2006 Saab 9-2X Aero 2.5L Wagon (Subaru WRX Wagon in Saab skin)</td>\n",
       "      <td>I'm selling my '06 Saab 9-2x Aero 5spd in Arctic Silver. The car is super rare with only 235 cars with the 5-speed manual transmission and the 2.5L engine ever sold - it's commonly referred to as…</td>\n",
       "      <td>233000km | Manual</td>\n",
       "      <td>12900</td>\n",
       "    </tr>\n",
       "    <tr>\n",
       "      <th>15</th>\n",
       "      <td><img src='http://i.ebayimg.com/00/s/NDgwWDY0MA==/z/HUUAAOSwNphWZO7z/$_2.JPG'></td>\n",
       "      <td>2004 NISSAN MAXIMA SL ***FULLY LOADED***ONLY 166,000KM***</td>\n",
       "      <td>AUTO LINK MOTORS PROUD OMVIC & UCDA CERTIFIED DEALERSHIP 1614 Military Trail, Toronto. (647)618-8256 {2004 NISSAN MAXIMA 3.5SL} >Gorgeous Leather Fully Loaded Interior For All >Original Owners ...</td>\n",
       "      <td>166000km | Automatic</td>\n",
       "      <td>3995</td>\n",
       "    </tr>\n",
       "    <tr>\n",
       "      <th>16</th>\n",
       "      <td><img src='http://i.ebayimg.com/00/s/NTkxWDgwMA==/z/h3MAAOSwnipWZO5M/$_2.JPG'></td>\n",
       "      <td>2010 Toyota Camry LE Sedan</td>\n",
       "      <td>6 speed auto/ select shift, rust proof, factory remote starter, power seat, electrochomic mirror, am/fm cd mp3, factory service, remote keyless entry, factory winter mats, power window, lock.…</td>\n",
       "      <td>97000km | Automatic</td>\n",
       "      <td>10999</td>\n",
       "    </tr>\n",
       "    <tr>\n",
       "      <th>17</th>\n",
       "      <td><img src='http://i.ebayimg.com/00/s/ODAwWDQ1MA==/z/GBIAAOSwv-NWZOWu/$_2.JPG'></td>\n",
       "      <td>2004 Dodge Neon Sedan</td>\n",
       "      <td>Car is still driven every day. Never had serious problems with this car and it was always maintained and oil changes were always done on time, last oil change has been done by the end of November.…</td>\n",
       "      <td>198000km | Manual</td>\n",
       "      <td>600</td>\n",
       "    </tr>\n",
       "    <tr>\n",
       "      <th>18</th>\n",
       "      <td><img src='//ca.classistatic.com/static/V/1762/img/placeholder.gif'></td>\n",
       "      <td>2009 Toyota Corolla Safety & E-test  $ 9990</td>\n",
       "      <td>2009 Toyota Corolla Safety & E-test $ 8990 Clean car inside & outside,70km, rims, 4cyl, loaded, AC, CD, no rust, body, engine, & transmission are in good shape Phone # (416)398-5877.Rashid Motorsfor…</td>\n",
       "      <td>70000km | Automatic</td>\n",
       "      <td>9990</td>\n",
       "    </tr>\n",
       "    <tr>\n",
       "      <th>19</th>\n",
       "      <td><img src='http://i.ebayimg.com/00/s/NjAwWDgwMA==/z/ukIAAOSwnH1WZOvi/$_2.JPG'></td>\n",
       "      <td>2011 Volkswagen GTI MUST SELL!</td>\n",
       "      <td>Selling my Volkswagen Gti. Reason that I am selling is because I need to buy a truck for work Only upgrade is my intake - CTS TURBO Car is wired and comes a sub and amp Car is well maintained , oil…</td>\n",
       "      <td>132000km | Manual</td>\n",
       "      <td>15500</td>\n",
       "    </tr>\n",
       "    <tr>\n",
       "      <th>20</th>\n",
       "      <td><img src='http://i.ebayimg.com/00/s/NTU4WDgwMA==/z/RtoAAOSwYHxWG8a0/$_2.JPG'></td>\n",
       "      <td>2003 Lexus Other sport addition Sedan</td>\n",
       "      <td>it is an lexus IS 300</td>\n",
       "      <td>20100km | Automatic</td>\n",
       "      <td>4500</td>\n",
       "    </tr>\n",
       "    <tr>\n",
       "      <th>21</th>\n",
       "      <td><img src='http://i.ebayimg.com/00/s/NDgwWDY0MA==/z/uqEAAOSwf-VWZOnV/$_2.JPG'></td>\n",
       "      <td>CLEAN 2008 Honda Accord V6 EX-L</td>\n",
       "      <td>I'm selling my 2008 Honda Accord V6 fully loaded - Green color Has heated black Leather seats Sunroof, AUX, starter, LED lights, window and hood visors Drives great, very fuel efficient and Honda's…</td>\n",
       "      <td>179345km | Automatic</td>\n",
       "      <td>7500</td>\n",
       "    </tr>\n",
       "    <tr>\n",
       "      <th>22</th>\n",
       "      <td><img src='http://i.ebayimg.com/00/s/NzY4WDEwMjQ=/z/yQIAAOSwnipWZM3w/$_2.JPG'></td>\n",
       "      <td>1997 Honda Civic Safety & E-Test Sedan</td>\n",
       "      <td>Clean car inside & outside,300km, rims, 4cyl, loaded, AC, CD, no rust, body, engine, & transmission are in good shape Phone # (416)398-5877.Rashid Motors for more info,http://rashidmotors.webs.com/</td>\n",
       "      <td>300000km | Automatic</td>\n",
       "      <td>1490</td>\n",
       "    </tr>\n",
       "    <tr>\n",
       "      <th>23</th>\n",
       "      <td><img src='http://i.ebayimg.com/00/s/NDgwWDY0MA==/z/bGIAAOSwf-VWZOZn/$_2.JPG'></td>\n",
       "      <td>2007 HYUNDAI ACCENT GS HATCHBACK SUPER FUEL EFFICIENCY*</td>\n",
       "      <td>AUTO LINK MOTORS PROUD OMVIC & UCDA CERTIFIED DEALERSHIP 1614 Military Trail, Toronto. (647)618-8256 {2007 HYUNDAI ACCENT HATCHBACK} >No Rust Vehicle >New Battery, New Alternator, New Serpentine ...</td>\n",
       "      <td>84000km | Manual</td>\n",
       "      <td>2995</td>\n",
       "    </tr>\n",
       "    <tr>\n",
       "      <th>24</th>\n",
       "      <td><img src='http://i.ebayimg.com/00/s/MTU3WDE1Nw==/z/nIkAAOSw8-tWZOWJ/$_2.JPG'></td>\n",
       "      <td>Mazda 3 2004</td>\n",
       "      <td>Good condition Mechanically sound with regular oil changes Clutch was replaced at 195000 Comes with winter and summer tires Asking 1700</td>\n",
       "      <td>211000km | Manual</td>\n",
       "      <td>1700</td>\n",
       "    </tr>\n",
       "  </tbody>\n",
       "</table>"
      ],
      "text/plain": [
       "<IPython.core.display.HTML object>"
      ]
     },
     "metadata": {},
     "output_type": "display_data"
    }
   ],
   "source": [
    "pages = ['page-1', 'page-2', 'page-3', 'page-4', 'page-5', 'page-6', 'page-7', 'page-8', 'page-9']\n",
    "\n",
    "@interact\n",
    "def kijiji_listings(category = sorted(category_list), page = sorted(pages)):\n",
    "    if page == 'page-1':\n",
    "        print(categories[category])\n",
    "        html_cars = request.urlopen(categories[category])\n",
    "    else:\n",
    "        url = categories[category]\n",
    "        last_forward_slash = url.rfind('/')\n",
    "        beginning_url = url[:last_forward_slash+1]\n",
    "        ending_url = url[forward_slash:]\n",
    "        print(beginning_url + page + ending_url)\n",
    "        html_cars = request.urlopen(beginning_url + page + ending_url)\n",
    "\n",
    "    soup_cars = BeautifulSoup(html_cars, 'lxml')\n",
    "    \n",
    "    #tables = soup_cars.find_all('table',  class_ = re.compile('regular-ad|top-'))\n",
    "    tables = soup_cars.find_all('table')\n",
    "    \n",
    "    img_urls = []\n",
    "    for table in tables[1:]:\n",
    "        for row in table.find_all('td', class_='image'):\n",
    "            try:\n",
    "                img_urls.append(\"<img src='\" + row.div.img['src'] + \"'>\")\n",
    "            except:\n",
    "                img_urls.append(\"<img src='\" + row.img['src'] + \"'>\")\n",
    "                \n",
    "    titles = []\n",
    "    for table in tables[1:]:\n",
    "        for row in table.find_all('td', class_='description'):\n",
    "            titles.append(row.a.get_text().strip())\n",
    "            \n",
    "    comments = []\n",
    "    for table in tables[1:]:\n",
    "        for row in table.find_all('td', class_='description'):\n",
    "            comments.append(row.p.get_text().strip())\n",
    "            \n",
    "    details = []\n",
    "    for table in tables[1:]:\n",
    "        for row in table.find_all('td', class_='description'):\n",
    "            for item in row.find_all('p', class_='details'):\n",
    "                details.append(item.get_text().strip())\n",
    "    \n",
    "    prices = []\n",
    "    for table in tables[1:]:\n",
    "        for row in table.find_all('td', class_='price'):\n",
    "            try:\n",
    "                prices.append(float(row.get_text().replace('$','').replace(',','').strip()))\n",
    "            except:\n",
    "                prices.append(0.0)\n",
    "    \n",
    "    try:\n",
    "        df = pd.DataFrame({'Price':prices, 'Image':img_urls, 'Title':titles, 'Comment':comments, 'Details':details})\n",
    "        # Arrange the columns in a certain order\n",
    "        df = df[['Image','Title','Comment','Details','Price']]\n",
    "    # Some category listings don't have a price and title, so this script would bomb unless we leave them out\n",
    "    except:\n",
    "        df = pd.DataFrame({'Image':img_urls, 'Comment':comments, 'Details':details})\n",
    "        # Arrange the columns in a certain order\n",
    "        df = df[['Image','Comment','Details']]\n",
    "\n",
    "    \n",
    "    return HTML(df.to_html(escape=False))  # if escape is set to True, the images won't be rendered"
   ]
  },
  {
   "cell_type": "markdown",
   "metadata": {},
   "source": [
    "<br><br><br><br><br><br><br><br><br><br><br><br><br><br><br><br><br>"
   ]
  }
 ],
 "metadata": {
  "hide_input": false,
  "kernelspec": {
   "display_name": "Python 3",
   "language": "python",
   "name": "python3"
  },
  "language_info": {
   "codemirror_mode": {
    "name": "ipython",
    "version": 3
   },
   "file_extension": ".py",
   "mimetype": "text/x-python",
   "name": "python",
   "nbconvert_exporter": "python",
   "pygments_lexer": "ipython3",
   "version": "3.4.3"
  }
 },
 "nbformat": 4,
 "nbformat_minor": 0
}

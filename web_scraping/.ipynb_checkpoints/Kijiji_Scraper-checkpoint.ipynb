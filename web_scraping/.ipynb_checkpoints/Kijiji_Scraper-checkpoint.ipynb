{
 "cells": [
  {
   "cell_type": "markdown",
   "metadata": {},
   "source": [
    "<center><h1>Web Scraping Kijiji</h1><h3>Using Python and Beautiful Soup</h3></center>"
   ]
  },
  {
   "cell_type": "code",
   "execution_count": 3,
   "metadata": {
    "collapsed": true
   },
   "outputs": [],
   "source": [
    "import pandas as pd\n",
    "from IPython.display import HTML\n",
    "from bs4 import BeautifulSoup\n",
    "import urllib.request as request\n",
    "from ipywidgets import interact\n",
    "pd.set_option(\"display.max_rows\",1000)\n",
    "pd.set_option(\"display.max_columns\",20)\n",
    "pd.set_option(\"display.max_colwidth\", 200)"
   ]
  },
  {
   "cell_type": "markdown",
   "metadata": {},
   "source": [
    "### For this exercise, I will only be scraping the Toronto listings"
   ]
  },
  {
   "cell_type": "code",
   "execution_count": 4,
   "metadata": {
    "collapsed": false
   },
   "outputs": [],
   "source": [
    "base_url = 'http://www.kijiji.ca'\n",
    "toronto_url = 'http://www.kijiji.ca/h-city-of-toronto/1700273'\n",
    "html_kijiji = request.urlopen(toronto_url)\n",
    "\n",
    "soup_kijiji = BeautifulSoup(html_kijiji, 'lxml')"
   ]
  },
  {
   "cell_type": "markdown",
   "metadata": {},
   "source": [
    "Since I will be creating a drop-down widget containing all the listing categories, I looked at the source page to find where I can find a complete list of all available categories.  I found that I need to grab all the **&lt;a&gt;** elements that have a class attribute equals to **\"category-selected\"**"
   ]
  },
  {
   "cell_type": "code",
   "execution_count": 5,
   "metadata": {
    "collapsed": false
   },
   "outputs": [],
   "source": [
    "div_categories = soup_kijiji.find_all('a', class_='category-selected')"
   ]
  },
  {
   "cell_type": "markdown",
   "metadata": {},
   "source": [
    "### Let's look at the first 20 rows of the category list:"
   ]
  },
  {
   "cell_type": "code",
   "execution_count": 6,
   "metadata": {
    "collapsed": false
   },
   "outputs": [
    {
     "data": {
      "text/plain": [
       "[<a class=\"category-selected\" data-id=\"10\" href=\"/b-buy-sell/city-of-toronto/c10l1700273\">buy and sell</a>,\n",
       " <a class=\"category-selected\" data-id=\"72\" href=\"/b-services/city-of-toronto/c72l1700273\">services</a>,\n",
       " <a class=\"category-selected\" data-id=\"27\" href=\"/b-cars-vehicles/city-of-toronto/c27l1700273\">cars &amp; vehicles</a>,\n",
       " <a class=\"category-selected\" data-id=\"112\" href=\"/b-pets/city-of-toronto/c112l1700273\">pets</a>,\n",
       " <a class=\"category-selected\" data-id=\"800\" href=\"/b-vacation-rentals/c800l1700273\">vacation rentals</a>,\n",
       " <a class=\"category-selected\" data-id=\"1\" href=\"/b-community/city-of-toronto/c1l1700273\">community</a>,\n",
       " <a class=\"category-selected\" data-id=\"34\" href=\"/b-real-estate/city-of-toronto/c34l1700273\">real estate</a>,\n",
       " <a class=\"category-selected\" data-id=\"45\" href=\"/b-jobs/city-of-toronto/c45l1700273\">jobs</a>,\n",
       " <a class=\"category-selected\" data-id=\"218\" href=\"/b-resumes/city-of-toronto/c218l1700273\">resumes</a>,\n",
       " <a class=\"category-selected\" data-id=\"63\" href=\"/b-personals/city-of-toronto/c63l1700273\">personals</a>,\n",
       " <a class=\"category-selected\" data-id=\"10\" href=\"/b-buy-sell/city-of-toronto/c10l1700273\" id=\"category10\">buy and sell</a>,\n",
       " <a class=\"category-selected\" data-id=\"12\" href=\"/b-art-collectibles/city-of-toronto/c12l1700273\">art, collectibles</a>,\n",
       " <a class=\"category-selected\" data-id=\"767\" href=\"/b-audio/city-of-toronto/c767l1700273\">audio</a>,\n",
       " <a class=\"category-selected\" data-id=\"253\" href=\"/b-baby-items/city-of-toronto/c253l1700273\">baby items</a>,\n",
       " <a class=\"category-selected\" data-id=\"644\" href=\"/b-bikes/city-of-toronto/c644l1700273\">bikes</a>,\n",
       " <a class=\"category-selected\" data-id=\"109\" href=\"/b-books/city-of-toronto/c109l1700273\">books</a>,\n",
       " <a class=\"category-selected\" data-id=\"145\" href=\"/b-business-industrial/city-of-toronto/c145l1700273\">business, industrial</a>,\n",
       " <a class=\"category-selected\" data-id=\"103\" href=\"/b-camera-camcorder-lens/city-of-toronto/c103l1700273\">cameras, camcorders</a>,\n",
       " <a class=\"category-selected\" data-id=\"104\" href=\"/b-cd-dvd-blu-ray/city-of-toronto/c104l1700273\">cds, dvds, blu-ray</a>,\n",
       " <a class=\"category-selected\" data-id=\"274\" href=\"/b-clothing/city-of-toronto/c274l1700273\">clothing</a>]"
      ]
     },
     "execution_count": 6,
     "metadata": {},
     "output_type": "execute_result"
    }
   ],
   "source": [
    "div_categories[:20]"
   ]
  },
  {
   "cell_type": "markdown",
   "metadata": {},
   "source": [
    "From above, we can see the category listings over on the right: \"buy and sell\", \"services\", \"cars and vehicles\", etc"
   ]
  },
  {
   "cell_type": "markdown",
   "metadata": {},
   "source": [
    "### Now I will create a Python dictionary to map all the category listings to its respective URL"
   ]
  },
  {
   "cell_type": "code",
   "execution_count": 7,
   "metadata": {
    "collapsed": true
   },
   "outputs": [],
   "source": [
    "categories = {}\n",
    "for item in div_categories:\n",
    "    categories[item.get_text()] = base_url + item['href']"
   ]
  },
  {
   "cell_type": "markdown",
   "metadata": {},
   "source": [
    "### Let's see what the dictionary looks like:"
   ]
  },
  {
   "cell_type": "code",
   "execution_count": 8,
   "metadata": {
    "collapsed": false
   },
   "outputs": [
    {
     "data": {
      "text/plain": [
       "{'(more categories...)': 'http://www.kijiji.ca/b-resumes/city-of-toronto/c218l1700273',\n",
       " 'ATVs, snowmobiles': 'http://www.kijiji.ca/b-atv-snowmobile/city-of-toronto/c171l1700273',\n",
       " 'Canada': 'http://www.kijiji.ca/b-vacation-rentals-canada/c801l1700273',\n",
       " 'Caribbean': 'http://www.kijiji.ca/b-vacation-rentals-caribbean/c803l1700273',\n",
       " 'Mexico': 'http://www.kijiji.ca/b-vacation-rentals-mexico/c804l1700273',\n",
       " 'Other Countries': 'http://www.kijiji.ca/b-vacation-rentals-other-countries/c805l1700273',\n",
       " 'RVs, campers, trailers': 'http://www.kijiji.ca/b-rv-camper-trailer/city-of-toronto/c172l1700273',\n",
       " 'SUVs': 'http://www.kijiji.ca/b-cars-trucks/city-of-toronto/suv+crossover/c174l1700273a138',\n",
       " 'USA': 'http://www.kijiji.ca/b-vacation-rentals-usa/c802l1700273',\n",
       " 'accessories': 'http://www.kijiji.ca/b-pet-accessories/city-of-toronto/c115l1700273',\n",
       " 'accounting, mgmt': 'http://www.kijiji.ca/b-accounting-management-jobs/city-of-toronto/c58l1700273',\n",
       " 'activities, groups': 'http://www.kijiji.ca/b-activities-groups/city-of-toronto/c7l1700273',\n",
       " 'animal, pet services': 'http://www.kijiji.ca/b-pet-services/city-of-toronto/c143l1700273',\n",
       " 'apartments, condos': 'http://www.kijiji.ca/b-apartments-condos/city-of-toronto/c37l1700273',\n",
       " 'art, collectibles': 'http://www.kijiji.ca/b-art-collectibles/city-of-toronto/c12l1700273',\n",
       " 'artists, musicians': 'http://www.kijiji.ca/b-artists-musicians/city-of-toronto/c2l1700273',\n",
       " 'audio': 'http://www.kijiji.ca/b-audio/city-of-toronto/c767l1700273',\n",
       " 'auto parts, tires': 'http://www.kijiji.ca/b-auto-parts-tires/city-of-toronto/c31l1700273',\n",
       " 'automotive services': 'http://www.kijiji.ca/b-automotive-services/city-of-toronto/c142l1700273',\n",
       " 'baby items': 'http://www.kijiji.ca/b-baby-items/city-of-toronto/c253l1700273',\n",
       " 'bar, food, hospitality': 'http://www.kijiji.ca/b-bar-food-hospitality-jobs/city-of-toronto/c60l1700273',\n",
       " 'bikes': 'http://www.kijiji.ca/b-bikes/city-of-toronto/c644l1700273',\n",
       " 'birds for sale': 'http://www.kijiji.ca/b-birds/city-of-toronto/c135l1700273',\n",
       " 'boats, watercraft': 'http://www.kijiji.ca/b-boat-watercraft/city-of-toronto/c29l1700273',\n",
       " 'books': 'http://www.kijiji.ca/b-books/city-of-toronto/c109l1700273',\n",
       " 'business, industrial': 'http://www.kijiji.ca/b-business-industrial/city-of-toronto/c145l1700273',\n",
       " 'buy and sell': 'http://www.kijiji.ca/b-buy-sell/city-of-toronto/c10l1700273',\n",
       " 'cameras, camcorders': 'http://www.kijiji.ca/b-camera-camcorder-lens/city-of-toronto/c103l1700273',\n",
       " 'cars': 'http://www.kijiji.ca/b-cars-trucks/city-of-toronto/convertible__coupe__hatchback__other+body+type__sedan__wagon/c174l1700273a138',\n",
       " 'cars & vehicles': 'http://www.kijiji.ca/b-cars-vehicles/city-of-toronto/c27l1700273',\n",
       " 'cats, kittens for sale': 'http://www.kijiji.ca/b-cats-kittens/city-of-toronto/c125l1700273',\n",
       " 'cds, dvds, blu-ray': 'http://www.kijiji.ca/b-cd-dvd-blu-ray/city-of-toronto/c104l1700273',\n",
       " 'child care': 'http://www.kijiji.ca/b-childcare-resumes/city-of-toronto/c225l1700273',\n",
       " 'childcare, nanny': 'http://www.kijiji.ca/b-childcare-nanny-service/city-of-toronto/c84l1700273',\n",
       " 'classes, lessons': 'http://www.kijiji.ca/b-classes-lessons/city-of-toronto/c4l1700273',\n",
       " 'classic cars': 'http://www.kijiji.ca/b-classic-cars/city-of-toronto/c122l1700273',\n",
       " 'cleaners, cleaning': 'http://www.kijiji.ca/b-cleaners-cleaning-service/city-of-toronto/c160l1700273',\n",
       " 'cleaning, housekeeper': 'http://www.kijiji.ca/b-cleaning-housekeeper-jobs/city-of-toronto/c146l1700273',\n",
       " 'clothing': 'http://www.kijiji.ca/b-clothing/city-of-toronto/c274l1700273',\n",
       " 'commercial, office space': 'http://www.kijiji.ca/b-commercial-office-space/city-of-toronto/c40l1700273',\n",
       " 'community': 'http://www.kijiji.ca/b-community/city-of-toronto/c1l1700273',\n",
       " 'computer accessories': 'http://www.kijiji.ca/b-computer-accessories/city-of-toronto/c128l1700273',\n",
       " 'computers': 'http://www.kijiji.ca/b-computer/city-of-toronto/c16l1700273',\n",
       " 'condos for sale': 'http://www.kijiji.ca/b-condo-for-sale/city-of-toronto/c643l1700273',\n",
       " 'construction, trades': 'http://www.kijiji.ca/b-construction-trades-resumes/city-of-toronto/c224l1700273',\n",
       " 'customer service': 'http://www.kijiji.ca/b-customer-service-jobs/city-of-toronto/c147l1700273',\n",
       " 'dogs, puppies for sale': 'http://www.kijiji.ca/b-dogs-puppies/city-of-toronto/c126l1700273',\n",
       " 'driver, security': 'http://www.kijiji.ca/b-driver-security-jobs/city-of-toronto/c148l1700273',\n",
       " 'electronics': 'http://www.kijiji.ca/b-electronics/city-of-toronto/c15l1700273',\n",
       " 'entertainment': 'http://www.kijiji.ca/b-entertainment/city-of-toronto/c165l1700273',\n",
       " 'equestrian, livestock accessories': 'http://www.kijiji.ca/b-equestrian-livestock-accessories/city-of-toronto/c14996002l1700273',\n",
       " 'events': 'http://www.kijiji.ca/b-events/city-of-toronto/c289l1700273',\n",
       " 'financial, legal': 'http://www.kijiji.ca/b-financial-legal/city-of-toronto/c131l1700273',\n",
       " 'fish for sale': 'http://www.kijiji.ca/b-fish/city-of-toronto/c14654003l1700273',\n",
       " 'fitness, personal trainer': 'http://www.kijiji.ca/b-fitness-personal-trainer/city-of-toronto/c83l1700273',\n",
       " 'friendship, networking': 'http://www.kijiji.ca/b-friendship-networking/city-of-toronto/c634l1700273',\n",
       " 'furniture': 'http://www.kijiji.ca/b-furniture/city-of-toronto/c235l1700273',\n",
       " 'garage sales': 'http://www.kijiji.ca/b-garage-sale-yard-sale/city-of-toronto/c638l1700273',\n",
       " 'general labour': 'http://www.kijiji.ca/b-general-labour-resumes/city-of-toronto/c230l1700273',\n",
       " 'graphic, web design': 'http://www.kijiji.ca/b-graphic-web-design-jobs/city-of-toronto/c152l1700273',\n",
       " 'hair stylist, salon': 'http://www.kijiji.ca/b-hair-stylist-salon-jobs/city-of-toronto/c150l1700273',\n",
       " 'health, beauty': 'http://www.kijiji.ca/b-health-beauty/city-of-toronto/c166l1700273',\n",
       " 'health, special needs': 'http://www.kijiji.ca/b-health-special-needs/city-of-toronto/c140l1700273',\n",
       " 'healthcare': 'http://www.kijiji.ca/b-healthcare-jobs/city-of-toronto/c898l1700273',\n",
       " 'heavy equipment': 'http://www.kijiji.ca/b-heavy-equipment/city-of-toronto/c301l1700273',\n",
       " 'hobbies, crafts': 'http://www.kijiji.ca/b-hobbies-craft/city-of-toronto/c139l1700273',\n",
       " 'home - indoor': 'http://www.kijiji.ca/b-home-indoor/city-of-toronto/c717l1700273',\n",
       " 'home - outdoor': 'http://www.kijiji.ca/b-home-outdoor/city-of-toronto/c19l1700273',\n",
       " 'home appliances': 'http://www.kijiji.ca/b-home-appliance/city-of-toronto/c107l1700273',\n",
       " 'home renovation materials': 'http://www.kijiji.ca/b-home-renovation/city-of-toronto/c727l1700273',\n",
       " 'horses, ponies for sale': 'http://www.kijiji.ca/b-horses-ponies/city-of-toronto/c14996001l1700273',\n",
       " 'house rental': 'http://www.kijiji.ca/b-house-rental/city-of-toronto/c43l1700273',\n",
       " 'houses for sale': 'http://www.kijiji.ca/b-house-for-sale/city-of-toronto/c35l1700273',\n",
       " 'jewellery, watches': 'http://www.kijiji.ca/b-jewelry-watch/city-of-toronto/c133l1700273',\n",
       " 'jobs': 'http://www.kijiji.ca/b-jobs/city-of-toronto/c45l1700273',\n",
       " 'land for sale': 'http://www.kijiji.ca/b-land-for-sale/city-of-toronto/c641l1700273',\n",
       " 'livestock for sale': 'http://www.kijiji.ca/b-livestock/city-of-toronto/c217l1700273',\n",
       " 'long lost relationships': 'http://www.kijiji.ca/b-long-lost-relationships/city-of-toronto/c635l1700273',\n",
       " 'lost & found': 'http://www.kijiji.ca/b-lost-and-found/city-of-toronto/c120l1700273',\n",
       " 'missed connections': 'http://www.kijiji.ca/b-missed-connections/city-of-toronto/c636l1700273',\n",
       " 'motorcycles': 'http://www.kijiji.ca/b-motorcycles/city-of-toronto/c30l1700273',\n",
       " 'moving, storage': 'http://www.kijiji.ca/b-moving-storage/city-of-toronto/c144l1700273',\n",
       " 'music lessons': 'http://www.kijiji.ca/b-music-lessons/city-of-toronto/c86l1700273',\n",
       " 'musical instruments': 'http://www.kijiji.ca/b-musical-instrument/city-of-toronto/c17l1700273',\n",
       " 'new cars & trucks': 'http://www.kijiji.ca//kijiji.unhaggle.com',\n",
       " 'office mgr, receptionist': 'http://www.kijiji.ca/b-office-manager-receptionist-jobs/city-of-toronto/c46l1700273',\n",
       " 'other': 'http://www.kijiji.ca/b-other-jobs/city-of-toronto/c62l1700273',\n",
       " 'other pets for sale': 'http://www.kijiji.ca/b-other-pets/city-of-toronto/c114l1700273',\n",
       " 'over': 'http://www.kijiji.ca/b-cars-trucks/city-of-toronto/convertible__coupe__hatchback__other+body+type__sedan__wagon/c174l1700273a138?price=5000__',\n",
       " 'part time, students': 'http://www.kijiji.ca/b-part-time-student-jobs/city-of-toronto/c59l1700273',\n",
       " 'personals': 'http://www.kijiji.ca/b-personals/city-of-toronto/c63l1700273',\n",
       " 'pets': 'http://www.kijiji.ca/b-pets/city-of-toronto/c112l1700273',\n",
       " 'phones': 'http://www.kijiji.ca/b-phone-tablet/city-of-toronto/c132l1700273',\n",
       " 'photography, video': 'http://www.kijiji.ca/b-photography-video/city-of-toronto/c168l1700273',\n",
       " 'programmers, computer': 'http://www.kijiji.ca/b-programmer-computer-jobs/city-of-toronto/c54l1700273',\n",
       " 'real estate': 'http://www.kijiji.ca/b-real-estate/city-of-toronto/c34l1700273',\n",
       " 'real estate services': 'http://www.kijiji.ca/b-real-estate-service/city-of-toronto/c170l1700273',\n",
       " 'reptiles & amphibians for sale': 'http://www.kijiji.ca/b-reptiles-amphibians/city-of-toronto/c14654004l1700273',\n",
       " 'resumes': 'http://www.kijiji.ca/b-resumes/city-of-toronto/c218l1700273',\n",
       " 'rideshare': 'http://www.kijiji.ca/b-rideshare-carpool/city-of-toronto/c5l1700273',\n",
       " 'room rental, roommates': 'http://www.kijiji.ca/b-room-rental-roommate/city-of-toronto/c36l1700273',\n",
       " 'sales, retail sales': 'http://www.kijiji.ca/b-sales-retail-jobs/city-of-toronto/c61l1700273',\n",
       " 'services': 'http://www.kijiji.ca/b-services/city-of-toronto/c72l1700273',\n",
       " 'short term rentals': 'http://www.kijiji.ca/b-short-term-rental/city-of-toronto/c42l1700273',\n",
       " 'skilled trades': 'http://www.kijiji.ca/b-skilled-trades/city-of-toronto/c76l1700273',\n",
       " 'small animals for sale': 'http://www.kijiji.ca/b-small-animals/city-of-toronto/c14654005l1700273',\n",
       " 'sporting goods, exercise': 'http://www.kijiji.ca/b-sporting-goods-exercise/city-of-toronto/c111l1700273',\n",
       " 'storage, parking': 'http://www.kijiji.ca/b-storage-parking/city-of-toronto/c39l1700273',\n",
       " 'tickets': 'http://www.kijiji.ca/b-tickets/city-of-toronto/c14l1700273',\n",
       " 'tools': 'http://www.kijiji.ca/b-tool/city-of-toronto/c110l1700273',\n",
       " 'toys, games': 'http://www.kijiji.ca/b-toys-games/city-of-toronto/c108l1700273',\n",
       " 'travel, vacations': 'http://www.kijiji.ca/b-travel-vacations/city-of-toronto/c302l1700273',\n",
       " 'trucks': 'http://www.kijiji.ca/b-cars-trucks/city-of-toronto/pickup+truck/c174l1700273a138',\n",
       " 'tutors, languages': 'http://www.kijiji.ca/b-tutor-language-lessons/city-of-toronto/c169l1700273',\n",
       " 'tv, media, fashion': 'http://www.kijiji.ca/b-tv-media-fashion-jobs/city-of-toronto/c55l1700273',\n",
       " 'under': 'http://www.kijiji.ca/b-cars-trucks/city-of-toronto/convertible__coupe__hatchback__other+body+type__sedan__wagon/c174l1700273a138?price=__5000',\n",
       " 'used cars & trucks': 'http://www.kijiji.ca/b-cars-trucks/city-of-toronto/c174l1700273',\n",
       " 'vacation rentals': 'http://www.kijiji.ca/b-vacation-rentals/c800l1700273',\n",
       " 'vans': 'http://www.kijiji.ca/b-cars-trucks/city-of-toronto/mini+van/c174l1700273a138',\n",
       " 'video games, consoles': 'http://www.kijiji.ca/b-video-games-consoles/city-of-toronto/c141l1700273',\n",
       " 'volunteers': 'http://www.kijiji.ca/b-volunteers/city-of-toronto/c3l1700273',\n",
       " 'wedding': 'http://www.kijiji.ca/b-wedding-service/city-of-toronto/c79l1700273'}"
      ]
     },
     "execution_count": 8,
     "metadata": {},
     "output_type": "execute_result"
    }
   ],
   "source": [
    "categories"
   ]
  },
  {
   "cell_type": "markdown",
   "metadata": {},
   "source": [
    "### Now, I will make a list of just the keys from the category dictionary I created earlier:"
   ]
  },
  {
   "cell_type": "code",
   "execution_count": 9,
   "metadata": {
    "collapsed": false
   },
   "outputs": [],
   "source": [
    "category_list = [key for key in categories.keys()]"
   ]
  },
  {
   "cell_type": "markdown",
   "metadata": {},
   "source": [
    "### Now the fun part.  Below, I am using Jupyter interact decorator to create a drop-down widget.  I will pass the category_list that I just made to it.  The rest of the function is grabbing the listing's image url, title, description, price, etc., from which I will make a pandas data frame which is then outputted to the screen."
   ]
  },
  {
   "cell_type": "markdown",
   "metadata": {},
   "source": [
    "Unfortunately, this does NOT work for all listing categories, since some categories may not have a title or description, or some other reason.  But it works for most categories, especially categories that entail selling items."
   ]
  },
  {
   "cell_type": "code",
   "execution_count": 17,
   "metadata": {
    "collapsed": false
   },
   "outputs": [
    {
     "data": {
      "text/html": [
       "<table border=\"1\" class=\"dataframe\">\n",
       "  <thead>\n",
       "    <tr style=\"text-align: right;\">\n",
       "      <th></th>\n",
       "      <th>Image</th>\n",
       "      <th>Title</th>\n",
       "      <th>Comment</th>\n",
       "      <th>Details</th>\n",
       "      <th>Price</th>\n",
       "    </tr>\n",
       "  </thead>\n",
       "  <tbody>\n",
       "    <tr>\n",
       "      <th>0</th>\n",
       "      <td><img src='http://i.ebayimg.com/00/s/MzAwWDM3NQ==/z/kJkAAOSwcBhWYuzG/$_2.JPG'></td>\n",
       "      <td>BOXING DAY sale BRAND NEW BEATS by Dr Dre Headphones WARRANTY</td>\n",
       "      <td>EARLY BOXING DAY SALE! ===================== PRICES LOWER THEN BLACK FRIDAY! =============================== LIMITED QUANTITY ================ WHY WAIT IN LINE? GET THE DEALS EARLY!…</td>\n",
       "      <td></td>\n",
       "      <td>75.00</td>\n",
       "    </tr>\n",
       "    <tr>\n",
       "      <th>1</th>\n",
       "      <td><img src='http://i.ebayimg.com/00/s/MzYwWDQ4MQ==/z/190AAOSwqu9U1aVk/$_2.JPG'></td>\n",
       "      <td>★iTOUCH 4 AND 5 REPAIR★ ON THE SPOT - 6 REPAIR CENTERS +WARRANTY</td>\n",
       "      <td>Do you currently have an iTouch with a broken LCD digitizer screen? we can repair battery charging port and headphone jack. We use factory original parts and repairs are done on the spot with 3…</td>\n",
       "      <td></td>\n",
       "      <td>39.99</td>\n",
       "    </tr>\n",
       "    <tr>\n",
       "      <th>2</th>\n",
       "      <td><img src='http://i.ebayimg.com/00/s/NjAwWDgwMA==/z/bXAAAOSw7FRWXNH6/$_2.JPG'></td>\n",
       "      <td>Clairtone Cabinet Stereo</td>\n",
       "      <td>Clairtone Cabinet Stereo - model number S 403; Walnut Cabinet. Complete with manuals and wiring diagrams. Needle assembly missing from record player. Unit in need of a good home. Make offer.</td>\n",
       "      <td></td>\n",
       "      <td>0.00</td>\n",
       "    </tr>\n",
       "    <tr>\n",
       "      <th>3</th>\n",
       "      <td><img src='http://i.ebayimg.com/00/s/MTM4WDM2NQ==/z/2eIAAOSwf-VWVKKi/$_2.JPG'></td>\n",
       "      <td>Harman Kardon AVR 1600 Home Theatre Cinema, with Speaker Package</td>\n",
       "      <td>*Note: All pics taken from Harman/Kardon Site. Entire set in brand new condition, including all manuals. Retail price approx $2150.Will only sell as entire set. Down sized from House to 1 BR condo .…</td>\n",
       "      <td></td>\n",
       "      <td>1700.00</td>\n",
       "    </tr>\n",
       "    <tr>\n",
       "      <th>4</th>\n",
       "      <td><img src='http://i.ebayimg.com/00/s/ODAwWDYwMA==/z/2bUAAOSwhcJWHA5u/$_2.JPG'></td>\n",
       "      <td>Beats Solo 2 HD Headphones</td>\n",
       "      <td>Beats Solo2 HD Headphones Used in good condition Price negotiable (no low ballers)</td>\n",
       "      <td></td>\n",
       "      <td>160.00</td>\n",
       "    </tr>\n",
       "    <tr>\n",
       "      <th>5</th>\n",
       "      <td><img src='http://i.ebayimg.com/00/s/ODAwWDYwMA==/z/kc8AAOSwwE5WZOUa/$_2.JPG'></td>\n",
       "      <td>MLB Toronto Blue Jays BIGR Audio Headphones New</td>\n",
       "      <td>Description Up for sale is a brand new (unopened) BIGR Blue Jays headphones. Officially Licensed by Major League Baseball Properties. Ready for Smart Phones: The headphones come with a cable with…</td>\n",
       "      <td></td>\n",
       "      <td>150.00</td>\n",
       "    </tr>\n",
       "    <tr>\n",
       "      <th>6</th>\n",
       "      <td><img src='http://i.ebayimg.com/00/s/MjM2WDIxMw==/z/pgIAAOSwpDdVPkQq/$_2.JPG'></td>\n",
       "      <td>JBL J55i Black SEALED box #Premium #High-Performance Headphone</td>\n",
       "      <td>Brand new in sealed box, high-performance; premium quality metal plate; considerable mid-range to low price; semi- professional DJ w/ original Harman & Kardon™ engineering; unique styles 360°…</td>\n",
       "      <td></td>\n",
       "      <td>80.00</td>\n",
       "    </tr>\n",
       "    <tr>\n",
       "      <th>7</th>\n",
       "      <td><img src='http://ssli.ebayimg.com/00/s/NDU3WDQ2MA==/z/ykwAAOSw5ZBWOmFF/$_2.JPG'></td>\n",
       "      <td>USED BEATS DR DRE SOLO 2.0 HEADPHONES BLACK</td>\n",
       "      <td>ON-EAR Model #: B0518 Current Retail Value : $220 (IF NEW) Source: amazon.ca USED TESTED - WORKING 14 DAY WARRANTY AUCTIONMAXX FREIGHT & SURPLUS LIQUIDATORS 200</td>\n",
       "      <td></td>\n",
       "      <td>90.00</td>\n",
       "    </tr>\n",
       "    <tr>\n",
       "      <th>8</th>\n",
       "      <td><img src='http://i.ebayimg.com/00/s/MzMxWDgwMA==/z/6d4AAOSwf-VWZN~f/$_2.JPG'></td>\n",
       "      <td>YAMAHA HTR-5063  7.1 CHANNEL 630 WATT HOME THEATRE 3D RECEIVER</td>\n",
       "      <td>MODEL: YAMAHA HTR-5063 NATURAL SOUND RECEIVER Excellent A condition. Powerful and perfectly working A condition. **Receiver only as pictured...no remote.Any cable,satellite, universal remote can ...</td>\n",
       "      <td></td>\n",
       "      <td>220.00</td>\n",
       "    </tr>\n",
       "    <tr>\n",
       "      <th>9</th>\n",
       "      <td><img src='http://i.ebayimg.com/00/s/NzY4WDEwMjQ=/z/wDAAAOSwgQ9VuFOt/$_2.JPG'></td>\n",
       "      <td>Sony On Ear Headphones White</td>\n",
       "      <td>New unopened with voice control original price $49.99 + tax</td>\n",
       "      <td></td>\n",
       "      <td>30.00</td>\n",
       "    </tr>\n",
       "    <tr>\n",
       "      <th>10</th>\n",
       "      <td><img src='http://i.ebayimg.com/00/s/ODAwWDYwMA==/z/SwQAAOSw7FRWZN3D/$_2.JPG'></td>\n",
       "      <td>Jbl iPhone 4 speaker dock</td>\n",
       "      <td>Sellin my my jbl on stage 400p. Used but in real good condition. Don't use it so I'm looking to sell it. This has a hookup for a iPhone 4 or use a aux cord in the back. 100 takes it Product…</td>\n",
       "      <td></td>\n",
       "      <td>100.00</td>\n",
       "    </tr>\n",
       "    <tr>\n",
       "      <th>11</th>\n",
       "      <td><img src='http://i.ebayimg.com/00/s/ODAwWDYwMA==/z/vacAAOSwp5JWZN28/$_2.JPG'></td>\n",
       "      <td>Old School LEGACY amp Series 2 LA320</td>\n",
       "      <td>Bought it for n old school car audio project that never happened. Actually a pretty good hard hitting amp for bck in the day that outshines a lot of the generic crap out there. 2 channel bridgeable…</td>\n",
       "      <td></td>\n",
       "      <td>60.00</td>\n",
       "    </tr>\n",
       "    <tr>\n",
       "      <th>12</th>\n",
       "      <td><img src='http://i.ebayimg.com/00/s/ODAwWDYwMA==/z/uacAAOSwAKxWZN2G/$_2.JPG'></td>\n",
       "      <td>Beats by dre solo 2 headphones</td>\n",
       "      <td>Looking to sell my beats by dre solo 2 headphones. Used only twice but in brand new condition. Comes with box and everything inside. 120 firm</td>\n",
       "      <td></td>\n",
       "      <td>120.00</td>\n",
       "    </tr>\n",
       "    <tr>\n",
       "      <th>13</th>\n",
       "      <td><img src='http://i.ebayimg.com/00/s/ODAwWDYwMA==/z/XxMAAOSwfZ1WZNtG/$_2.JPG'></td>\n",
       "      <td>Old School Alpine 3210 & band graphic eq with 2 built in amps</td>\n",
       "      <td>I bought this a while ago for an old school car audio project I was going to do but plans change and sadly its not going to happen. This is a pretty cool and rare item. They certainly dont make…</td>\n",
       "      <td></td>\n",
       "      <td>100.00</td>\n",
       "    </tr>\n",
       "    <tr>\n",
       "      <th>14</th>\n",
       "      <td><img src='http://ssli.ebayimg.com/00/s/NjgyWDEwMjQ=/z/JAIAAOSwcBhWVmOn/$_2.JPG'></td>\n",
       "      <td>Ceiling speakers wall speakers home theatre speakers</td>\n",
       "      <td>Quality Products Affordable Price Excellent sound quality at low volumes Use for home theater or multi-room audio applications Frequency Response 60Hz – 20kHz Max Power 60 Watts Sensitivity (1w/1m...</td>\n",
       "      <td></td>\n",
       "      <td>44.99</td>\n",
       "    </tr>\n",
       "    <tr>\n",
       "      <th>15</th>\n",
       "      <td><img src='http://i.ebayimg.com/00/s/ODAwWDQ0OQ==/z/eDsAAOSwbdpWZNnW/$_2.JPG'></td>\n",
       "      <td>Beats studio Headphones Red</td>\n",
       "      <td>Brand New Original Package Box no open Original price $329 plus Tax You safe more than $70 Dual-mode Adaptive Noise Canceling Iconic Beats sound Durable and foldable 20 hour rechargeable battery ...</td>\n",
       "      <td></td>\n",
       "      <td>300.00</td>\n",
       "    </tr>\n",
       "    <tr>\n",
       "      <th>16</th>\n",
       "      <td><img src='http://i.ebayimg.com/00/s/MjI1WDIyNQ==/z/UpkAAOSwf-VWZNkf/$_2.JPG'></td>\n",
       "      <td>BEATS,SONY,MARLEY,PANASONIC ETC HEADPHONES ON SALE</td>\n",
       "      <td>NOORI EXTENSION WE HAVE GREAT PRICES ON BEATS KLIPSCH APPLE SONY PANASONIC MARLEY EARPHONES AND HEADPHONES FOR CELLPHONES AND PC WE WILL BEAT ANY PRICE NO ONE WILL BE DISAPPOINTED BUISNESS HOURS:…</td>\n",
       "      <td></td>\n",
       "      <td>0.00</td>\n",
       "    </tr>\n",
       "    <tr>\n",
       "      <th>17</th>\n",
       "      <td><img src='http://i.ebayimg.com/00/s/ODAwWDYwMA==/z/UCgAAOSwAKxWZNg-/$_2.JPG'></td>\n",
       "      <td>Pioneer 4x6 Speakers TS-G4643R Brand new in box</td>\n",
       "      <td>I had a VW bug that I was going to install these in the dash but decided not to cut it up and they have just sat in a closet since. The reviews on these were 4.5 and everyone said theysound really…</td>\n",
       "      <td></td>\n",
       "      <td>60.00</td>\n",
       "    </tr>\n",
       "    <tr>\n",
       "      <th>18</th>\n",
       "      <td><img src='http://i.ebayimg.com/00/s/MzQxWDgwMA==/z/JhkAAOSwwE5WY6aZ/$_2.JPG'></td>\n",
       "      <td>YAMAHA HTR-5063  7.1 CHANNEL 630 WATT HOME THEATRE 3D RECEIVER</td>\n",
       "      <td>MODEL: YAMAHA HTR-5063 NATURAL SOUND RECEIVER Excellent A condition. Powerful and perfectly working A condition. **Receiver only as pictured...no remote.Any cable,satellite, universal remote can ...</td>\n",
       "      <td></td>\n",
       "      <td>220.00</td>\n",
       "    </tr>\n",
       "    <tr>\n",
       "      <th>19</th>\n",
       "      <td><img src='http://i.ebayimg.com/00/s/ODAwWDYwMA==/z/RC8AAOSwbdpWZNby/$_2.JPG'></td>\n",
       "      <td>Beats by Dr. Dre. Solo 2 On-Ear Headphones Black</td>\n",
       "      <td>Unopened brand new. Still in it's orignal plastic wrap. Got as gift but already own headphones I prefer. Link to product on Best Buy.…</td>\n",
       "      <td></td>\n",
       "      <td>190.00</td>\n",
       "    </tr>\n",
       "    <tr>\n",
       "      <th>20</th>\n",
       "      <td><img src='http://ssli.ebayimg.com/00/s/NjAwWDYwMA==/z/t7wAAOSwkZhWS-gC/$_2.JPG'></td>\n",
       "      <td>Speaker Mount and Speaker Stands</td>\n",
       "      <td>Speaker Stands Spiral Bands - starting FROM $3.99 Cable Management Optical/HDMI/RCA Cables Wall Plates - $4.50 & Up Banana Plugs TV Wall Mounts - $19.99 & Up Desk Mounts TV Carts TV Floor Stands D...</td>\n",
       "      <td></td>\n",
       "      <td>8.99</td>\n",
       "    </tr>\n",
       "    <tr>\n",
       "      <th>21</th>\n",
       "      <td><img src='http://i.ebayimg.com/00/s/NjAwWDgwMA==/z/gRsAAOSwnipWZNaj/$_2.JPG'></td>\n",
       "      <td>Sennheiser ME66 Mini Shotgun Microphone</td>\n",
       "      <td>Super-cardioid/lobar microphone head suitable for K6 and K6P powering modules. For reporting, film, and broadcast location applications, as well as for picking up quiet signals in noisy or…</td>\n",
       "      <td></td>\n",
       "      <td>250.00</td>\n",
       "    </tr>\n",
       "    <tr>\n",
       "      <th>22</th>\n",
       "      <td><img src='http://i.ebayimg.com/00/s/NDg5WDUwNw==/z/RLUAAOSwLVZVxtdq/$_2.JPG'></td>\n",
       "      <td>Sony MDR-XD100 Stereo Headphones 9.5/10</td>\n",
       "      <td>Retail Store Price = $69.95 + $5.99 shipping+tax http://www.amazon.com/Sony-MDR-XD100-Headphones-Discontinued-Manufacturer/dp/B0007N55NM/ref=pd_sim_sbs_23_3?ie=UTF8&refRID=1VMAYHYBFRYW2XPM549N</td>\n",
       "      <td></td>\n",
       "      <td>25.00</td>\n",
       "    </tr>\n",
       "    <tr>\n",
       "      <th>23</th>\n",
       "      <td><img src='http://i.ebayimg.com/00/s/MjI1WDIyNQ==/z/e3YAAOSwDNdVxtUF/$_2.JPG'></td>\n",
       "      <td>Creative Headphone HN-700(7.5/10)</td>\n",
       "      <td>Compact, foldable design for easier packing and travelling Gold-plated miniplug and oxygen-free copper cabling deliver maximum audio</td>\n",
       "      <td></td>\n",
       "      <td>15.00</td>\n",
       "    </tr>\n",
       "  </tbody>\n",
       "</table>"
      ],
      "text/plain": [
       "<IPython.core.display.HTML object>"
      ]
     },
     "metadata": {},
     "output_type": "display_data"
    }
   ],
   "source": [
    "@interact\n",
    "def kijiji_listings(category = sorted(category_list)):\n",
    "    html_cars = request.urlopen(categories[category])\n",
    "\n",
    "    soup_cars = BeautifulSoup(html_cars, 'lxml')\n",
    "    \n",
    "    #tables = soup_cars.find_all('table',  class_ = re.compile('regular-ad|top-'))\n",
    "    tables = soup_cars.find_all('table')\n",
    "    \n",
    "    img_urls = []\n",
    "    for table in tables[1:]:\n",
    "        for row in table.find_all('td', class_='image'):\n",
    "            try:\n",
    "                img_urls.append(\"<img src='\" + row.div.img['src'] + \"'>\")\n",
    "            except:\n",
    "                img_urls.append(\"<img src='\" + row.img['src'] + \"'>\")\n",
    "                \n",
    "    titles = []\n",
    "    for table in tables[1:]:\n",
    "        for row in table.find_all('td', class_='description'):\n",
    "            titles.append(row.a.get_text().strip())\n",
    "            \n",
    "    comments = []\n",
    "    for table in tables[1:]:\n",
    "        for row in table.find_all('td', class_='description'):\n",
    "            comments.append(row.p.get_text().strip())\n",
    "            \n",
    "    details = []\n",
    "    for table in tables[1:]:\n",
    "        for row in table.find_all('td', class_='description'):\n",
    "            for item in row.find_all('p', class_='details'):\n",
    "                details.append(item.get_text().strip())\n",
    "    \n",
    "    prices = []\n",
    "    for table in tables[1:]:\n",
    "        for row in table.find_all('td', class_='price'):\n",
    "            try:\n",
    "                prices.append(float(row.get_text().replace('$','').replace(',','').strip()))\n",
    "            except:\n",
    "                prices.append(0.0)\n",
    "            \n",
    "    df = pd.DataFrame({'Price':prices, 'Image':img_urls, 'Title':titles, 'Comment':comments, 'Details':details})\n",
    "    # Arrange the columns in a certain order\n",
    "    df = df[['Image','Title','Comment','Details','Price']]\n",
    "\n",
    "    \n",
    "    return HTML(df.to_html(escape=False))  # if escape is set to True, the images won't be rendered"
   ]
  },
  {
   "cell_type": "markdown",
   "metadata": {},
   "source": [
    "<br><br><br><br><br><br><br><br><br><br><br><br><br><br><br><br><br>"
   ]
  }
 ],
 "metadata": {
  "hide_input": false,
  "kernelspec": {
   "display_name": "Python 3",
   "language": "python",
   "name": "python3"
  },
  "language_info": {
   "codemirror_mode": {
    "name": "ipython",
    "version": 3
   },
   "file_extension": ".py",
   "mimetype": "text/x-python",
   "name": "python",
   "nbconvert_exporter": "python",
   "pygments_lexer": "ipython3",
   "version": "3.4.3"
  }
 },
 "nbformat": 4,
 "nbformat_minor": 0
}

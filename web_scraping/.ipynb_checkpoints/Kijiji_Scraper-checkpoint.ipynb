{
 "cells": [
  {
   "cell_type": "markdown",
   "metadata": {},
   "source": [
    "<center><h1>Web Scraping Kijiji</h1><h3>Using Python and Beautiful Soup</h3></center>"
   ]
  },
  {
   "cell_type": "code",
   "execution_count": 41,
   "metadata": {
    "collapsed": true
   },
   "outputs": [],
   "source": [
    "import pandas as pd\n",
    "from IPython.display import HTML\n",
    "from bs4 import BeautifulSoup\n",
    "import urllib.request as request\n",
    "from ipywidgets import interact\n",
    "pd.set_option(\"display.max_rows\",1000)\n",
    "pd.set_option(\"display.max_columns\",20)\n",
    "pd.set_option(\"display.max_colwidth\", 200)"
   ]
  },
  {
   "cell_type": "markdown",
   "metadata": {},
   "source": [
    "### For this exercise, I will only be scraping the Toronto listings"
   ]
  },
  {
   "cell_type": "code",
   "execution_count": 42,
   "metadata": {
    "collapsed": false
   },
   "outputs": [],
   "source": [
    "base_url = 'http://www.kijiji.ca'\n",
    "toronto_url = 'http://www.kijiji.ca/h-city-of-toronto/1700273'\n",
    "html_kijiji = request.urlopen(toronto_url)\n",
    "\n",
    "soup_kijiji = BeautifulSoup(html_kijiji, 'lxml')"
   ]
  },
  {
   "cell_type": "markdown",
   "metadata": {},
   "source": [
    "Since I will be creating a drop-down widget containing all the listing categories, I looked at the source page to find where I can find a complete list of all available categories.  I found that I need to grab all the **&lt;a&gt;** elements that have a class attribute equals to **\"category-selected\"**"
   ]
  },
  {
   "cell_type": "code",
   "execution_count": 43,
   "metadata": {
    "collapsed": false
   },
   "outputs": [],
   "source": [
    "div_categories = soup_kijiji.find_all('a', class_='category-selected')"
   ]
  },
  {
   "cell_type": "markdown",
   "metadata": {},
   "source": [
    "### Let's look at the first 20 rows of the category list:"
   ]
  },
  {
   "cell_type": "code",
   "execution_count": 44,
   "metadata": {
    "collapsed": false
   },
   "outputs": [
    {
     "data": {
      "text/plain": [
       "[<a class=\"category-selected\" data-id=\"10\" href=\"/b-buy-sell/city-of-toronto/c10l1700273\">buy and sell</a>,\n",
       " <a class=\"category-selected\" data-id=\"72\" href=\"/b-services/city-of-toronto/c72l1700273\">services</a>,\n",
       " <a class=\"category-selected\" data-id=\"27\" href=\"/b-cars-vehicles/city-of-toronto/c27l1700273\">cars &amp; vehicles</a>,\n",
       " <a class=\"category-selected\" data-id=\"112\" href=\"/b-pets/city-of-toronto/c112l1700273\">pets</a>,\n",
       " <a class=\"category-selected\" data-id=\"800\" href=\"/b-vacation-rentals/c800l1700273\">vacation rentals</a>,\n",
       " <a class=\"category-selected\" data-id=\"1\" href=\"/b-community/city-of-toronto/c1l1700273\">community</a>,\n",
       " <a class=\"category-selected\" data-id=\"34\" href=\"/b-real-estate/city-of-toronto/c34l1700273\">real estate</a>,\n",
       " <a class=\"category-selected\" data-id=\"45\" href=\"/b-jobs/city-of-toronto/c45l1700273\">jobs</a>,\n",
       " <a class=\"category-selected\" data-id=\"218\" href=\"/b-resumes/city-of-toronto/c218l1700273\">resumes</a>,\n",
       " <a class=\"category-selected\" data-id=\"63\" href=\"/b-personals/city-of-toronto/c63l1700273\">personals</a>,\n",
       " <a class=\"category-selected\" data-id=\"10\" href=\"/b-buy-sell/city-of-toronto/c10l1700273\" id=\"category10\">buy and sell</a>,\n",
       " <a class=\"category-selected\" data-id=\"12\" href=\"/b-art-collectibles/city-of-toronto/c12l1700273\">art, collectibles</a>,\n",
       " <a class=\"category-selected\" data-id=\"767\" href=\"/b-audio/city-of-toronto/c767l1700273\">audio</a>,\n",
       " <a class=\"category-selected\" data-id=\"253\" href=\"/b-baby-items/city-of-toronto/c253l1700273\">baby items</a>,\n",
       " <a class=\"category-selected\" data-id=\"644\" href=\"/b-bikes/city-of-toronto/c644l1700273\">bikes</a>,\n",
       " <a class=\"category-selected\" data-id=\"109\" href=\"/b-books/city-of-toronto/c109l1700273\">books</a>,\n",
       " <a class=\"category-selected\" data-id=\"145\" href=\"/b-business-industrial/city-of-toronto/c145l1700273\">business, industrial</a>,\n",
       " <a class=\"category-selected\" data-id=\"103\" href=\"/b-camera-camcorder-lens/city-of-toronto/c103l1700273\">cameras, camcorders</a>,\n",
       " <a class=\"category-selected\" data-id=\"104\" href=\"/b-cd-dvd-blu-ray/city-of-toronto/c104l1700273\">cds, dvds, blu-ray</a>,\n",
       " <a class=\"category-selected\" data-id=\"274\" href=\"/b-clothing/city-of-toronto/c274l1700273\">clothing</a>]"
      ]
     },
     "execution_count": 44,
     "metadata": {},
     "output_type": "execute_result"
    }
   ],
   "source": [
    "div_categories[:20]"
   ]
  },
  {
   "cell_type": "markdown",
   "metadata": {},
   "source": [
    "From above, we can see the category listings over on the right: \"buy and sell\", \"services\", \"cars and vehicles\", etc"
   ]
  },
  {
   "cell_type": "markdown",
   "metadata": {},
   "source": [
    "### Now I will create a Python dictionary to map all the category listings to its respective URL"
   ]
  },
  {
   "cell_type": "code",
   "execution_count": 45,
   "metadata": {
    "collapsed": true
   },
   "outputs": [],
   "source": [
    "categories = {}\n",
    "for item in div_categories:\n",
    "    categories[item.get_text()] = base_url + item['href']"
   ]
  },
  {
   "cell_type": "markdown",
   "metadata": {},
   "source": [
    "### Let's see what the dictionary looks like:"
   ]
  },
  {
   "cell_type": "code",
   "execution_count": 46,
   "metadata": {
    "collapsed": false
   },
   "outputs": [
    {
     "data": {
      "text/plain": [
       "{'(more categories...)': 'http://www.kijiji.ca/b-resumes/city-of-toronto/c218l1700273',\n",
       " 'ATVs, snowmobiles': 'http://www.kijiji.ca/b-atv-snowmobile/city-of-toronto/c171l1700273',\n",
       " 'Canada': 'http://www.kijiji.ca/b-vacation-rentals-canada/c801l1700273',\n",
       " 'Caribbean': 'http://www.kijiji.ca/b-vacation-rentals-caribbean/c803l1700273',\n",
       " 'Mexico': 'http://www.kijiji.ca/b-vacation-rentals-mexico/c804l1700273',\n",
       " 'Other Countries': 'http://www.kijiji.ca/b-vacation-rentals-other-countries/c805l1700273',\n",
       " 'RVs, campers, trailers': 'http://www.kijiji.ca/b-rv-camper-trailer/city-of-toronto/c172l1700273',\n",
       " 'SUVs': 'http://www.kijiji.ca/b-cars-trucks/city-of-toronto/suv+crossover/c174l1700273a138',\n",
       " 'USA': 'http://www.kijiji.ca/b-vacation-rentals-usa/c802l1700273',\n",
       " 'accessories': 'http://www.kijiji.ca/b-pet-accessories/city-of-toronto/c115l1700273',\n",
       " 'accounting, mgmt': 'http://www.kijiji.ca/b-accounting-management-jobs/city-of-toronto/c58l1700273',\n",
       " 'activities, groups': 'http://www.kijiji.ca/b-activities-groups/city-of-toronto/c7l1700273',\n",
       " 'animal, pet services': 'http://www.kijiji.ca/b-pet-services/city-of-toronto/c143l1700273',\n",
       " 'apartments, condos': 'http://www.kijiji.ca/b-apartments-condos/city-of-toronto/c37l1700273',\n",
       " 'art, collectibles': 'http://www.kijiji.ca/b-art-collectibles/city-of-toronto/c12l1700273',\n",
       " 'artists, musicians': 'http://www.kijiji.ca/b-artists-musicians/city-of-toronto/c2l1700273',\n",
       " 'audio': 'http://www.kijiji.ca/b-audio/city-of-toronto/c767l1700273',\n",
       " 'auto parts, tires': 'http://www.kijiji.ca/b-auto-parts-tires/city-of-toronto/c31l1700273',\n",
       " 'automotive services': 'http://www.kijiji.ca/b-automotive-services/city-of-toronto/c142l1700273',\n",
       " 'baby items': 'http://www.kijiji.ca/b-baby-items/city-of-toronto/c253l1700273',\n",
       " 'bar, food, hospitality': 'http://www.kijiji.ca/b-bar-food-hospitality-jobs/city-of-toronto/c60l1700273',\n",
       " 'bikes': 'http://www.kijiji.ca/b-bikes/city-of-toronto/c644l1700273',\n",
       " 'birds for sale': 'http://www.kijiji.ca/b-birds/city-of-toronto/c135l1700273',\n",
       " 'boats, watercraft': 'http://www.kijiji.ca/b-boat-watercraft/city-of-toronto/c29l1700273',\n",
       " 'books': 'http://www.kijiji.ca/b-books/city-of-toronto/c109l1700273',\n",
       " 'business, industrial': 'http://www.kijiji.ca/b-business-industrial/city-of-toronto/c145l1700273',\n",
       " 'buy and sell': 'http://www.kijiji.ca/b-buy-sell/city-of-toronto/c10l1700273',\n",
       " 'cameras, camcorders': 'http://www.kijiji.ca/b-camera-camcorder-lens/city-of-toronto/c103l1700273',\n",
       " 'cars': 'http://www.kijiji.ca/b-cars-trucks/city-of-toronto/convertible__coupe__hatchback__other+body+type__sedan__wagon/c174l1700273a138',\n",
       " 'cars & vehicles': 'http://www.kijiji.ca/b-cars-vehicles/city-of-toronto/c27l1700273',\n",
       " 'cats, kittens for sale': 'http://www.kijiji.ca/b-cats-kittens/city-of-toronto/c125l1700273',\n",
       " 'cds, dvds, blu-ray': 'http://www.kijiji.ca/b-cd-dvd-blu-ray/city-of-toronto/c104l1700273',\n",
       " 'child care': 'http://www.kijiji.ca/b-childcare-resumes/city-of-toronto/c225l1700273',\n",
       " 'childcare, nanny': 'http://www.kijiji.ca/b-childcare-nanny-service/city-of-toronto/c84l1700273',\n",
       " 'classes, lessons': 'http://www.kijiji.ca/b-classes-lessons/city-of-toronto/c4l1700273',\n",
       " 'classic cars': 'http://www.kijiji.ca/b-classic-cars/city-of-toronto/c122l1700273',\n",
       " 'cleaners, cleaning': 'http://www.kijiji.ca/b-cleaners-cleaning-service/city-of-toronto/c160l1700273',\n",
       " 'cleaning, housekeeper': 'http://www.kijiji.ca/b-cleaning-housekeeper-jobs/city-of-toronto/c146l1700273',\n",
       " 'clothing': 'http://www.kijiji.ca/b-clothing/city-of-toronto/c274l1700273',\n",
       " 'commercial, office space': 'http://www.kijiji.ca/b-commercial-office-space/city-of-toronto/c40l1700273',\n",
       " 'community': 'http://www.kijiji.ca/b-community/city-of-toronto/c1l1700273',\n",
       " 'computer accessories': 'http://www.kijiji.ca/b-computer-accessories/city-of-toronto/c128l1700273',\n",
       " 'computers': 'http://www.kijiji.ca/b-computer/city-of-toronto/c16l1700273',\n",
       " 'condos for sale': 'http://www.kijiji.ca/b-condo-for-sale/city-of-toronto/c643l1700273',\n",
       " 'construction, trades': 'http://www.kijiji.ca/b-construction-trades-resumes/city-of-toronto/c224l1700273',\n",
       " 'customer service': 'http://www.kijiji.ca/b-customer-service-jobs/city-of-toronto/c147l1700273',\n",
       " 'dogs, puppies for sale': 'http://www.kijiji.ca/b-dogs-puppies/city-of-toronto/c126l1700273',\n",
       " 'driver, security': 'http://www.kijiji.ca/b-driver-security-jobs/city-of-toronto/c148l1700273',\n",
       " 'electronics': 'http://www.kijiji.ca/b-electronics/city-of-toronto/c15l1700273',\n",
       " 'entertainment': 'http://www.kijiji.ca/b-entertainment/city-of-toronto/c165l1700273',\n",
       " 'equestrian, livestock accessories': 'http://www.kijiji.ca/b-equestrian-livestock-accessories/city-of-toronto/c14996002l1700273',\n",
       " 'events': 'http://www.kijiji.ca/b-events/city-of-toronto/c289l1700273',\n",
       " 'financial, legal': 'http://www.kijiji.ca/b-financial-legal/city-of-toronto/c131l1700273',\n",
       " 'fish for sale': 'http://www.kijiji.ca/b-fish/city-of-toronto/c14654003l1700273',\n",
       " 'fitness, personal trainer': 'http://www.kijiji.ca/b-fitness-personal-trainer/city-of-toronto/c83l1700273',\n",
       " 'friendship, networking': 'http://www.kijiji.ca/b-friendship-networking/city-of-toronto/c634l1700273',\n",
       " 'furniture': 'http://www.kijiji.ca/b-furniture/city-of-toronto/c235l1700273',\n",
       " 'garage sales': 'http://www.kijiji.ca/b-garage-sale-yard-sale/city-of-toronto/c638l1700273',\n",
       " 'general labour': 'http://www.kijiji.ca/b-general-labour-resumes/city-of-toronto/c230l1700273',\n",
       " 'graphic, web design': 'http://www.kijiji.ca/b-graphic-web-design-jobs/city-of-toronto/c152l1700273',\n",
       " 'hair stylist, salon': 'http://www.kijiji.ca/b-hair-stylist-salon-jobs/city-of-toronto/c150l1700273',\n",
       " 'health, beauty': 'http://www.kijiji.ca/b-health-beauty/city-of-toronto/c166l1700273',\n",
       " 'health, special needs': 'http://www.kijiji.ca/b-health-special-needs/city-of-toronto/c140l1700273',\n",
       " 'healthcare': 'http://www.kijiji.ca/b-healthcare-jobs/city-of-toronto/c898l1700273',\n",
       " 'heavy equipment': 'http://www.kijiji.ca/b-heavy-equipment/city-of-toronto/c301l1700273',\n",
       " 'hobbies, crafts': 'http://www.kijiji.ca/b-hobbies-craft/city-of-toronto/c139l1700273',\n",
       " 'home - indoor': 'http://www.kijiji.ca/b-home-indoor/city-of-toronto/c717l1700273',\n",
       " 'home - outdoor': 'http://www.kijiji.ca/b-home-outdoor/city-of-toronto/c19l1700273',\n",
       " 'home appliances': 'http://www.kijiji.ca/b-home-appliance/city-of-toronto/c107l1700273',\n",
       " 'home renovation materials': 'http://www.kijiji.ca/b-home-renovation/city-of-toronto/c727l1700273',\n",
       " 'horses, ponies for sale': 'http://www.kijiji.ca/b-horses-ponies/city-of-toronto/c14996001l1700273',\n",
       " 'house rental': 'http://www.kijiji.ca/b-house-rental/city-of-toronto/c43l1700273',\n",
       " 'houses for sale': 'http://www.kijiji.ca/b-house-for-sale/city-of-toronto/c35l1700273',\n",
       " 'jewellery, watches': 'http://www.kijiji.ca/b-jewelry-watch/city-of-toronto/c133l1700273',\n",
       " 'jobs': 'http://www.kijiji.ca/b-jobs/city-of-toronto/c45l1700273',\n",
       " 'land for sale': 'http://www.kijiji.ca/b-land-for-sale/city-of-toronto/c641l1700273',\n",
       " 'livestock for sale': 'http://www.kijiji.ca/b-livestock/city-of-toronto/c217l1700273',\n",
       " 'long lost relationships': 'http://www.kijiji.ca/b-long-lost-relationships/city-of-toronto/c635l1700273',\n",
       " 'lost & found': 'http://www.kijiji.ca/b-lost-and-found/city-of-toronto/c120l1700273',\n",
       " 'missed connections': 'http://www.kijiji.ca/b-missed-connections/city-of-toronto/c636l1700273',\n",
       " 'motorcycles': 'http://www.kijiji.ca/b-motorcycles/city-of-toronto/c30l1700273',\n",
       " 'moving, storage': 'http://www.kijiji.ca/b-moving-storage/city-of-toronto/c144l1700273',\n",
       " 'music lessons': 'http://www.kijiji.ca/b-music-lessons/city-of-toronto/c86l1700273',\n",
       " 'musical instruments': 'http://www.kijiji.ca/b-musical-instrument/city-of-toronto/c17l1700273',\n",
       " 'new cars & trucks': 'http://www.kijiji.ca//kijiji.unhaggle.com',\n",
       " 'office mgr, receptionist': 'http://www.kijiji.ca/b-office-manager-receptionist-jobs/city-of-toronto/c46l1700273',\n",
       " 'other': 'http://www.kijiji.ca/b-other-jobs/city-of-toronto/c62l1700273',\n",
       " 'other pets for sale': 'http://www.kijiji.ca/b-other-pets/city-of-toronto/c114l1700273',\n",
       " 'over': 'http://www.kijiji.ca/b-cars-trucks/city-of-toronto/convertible__coupe__hatchback__other+body+type__sedan__wagon/c174l1700273a138?price=5000__',\n",
       " 'part time, students': 'http://www.kijiji.ca/b-part-time-student-jobs/city-of-toronto/c59l1700273',\n",
       " 'personals': 'http://www.kijiji.ca/b-personals/city-of-toronto/c63l1700273',\n",
       " 'pets': 'http://www.kijiji.ca/b-pets/city-of-toronto/c112l1700273',\n",
       " 'phones': 'http://www.kijiji.ca/b-phone-tablet/city-of-toronto/c132l1700273',\n",
       " 'photography, video': 'http://www.kijiji.ca/b-photography-video/city-of-toronto/c168l1700273',\n",
       " 'programmers, computer': 'http://www.kijiji.ca/b-programmer-computer-jobs/city-of-toronto/c54l1700273',\n",
       " 'real estate': 'http://www.kijiji.ca/b-real-estate/city-of-toronto/c34l1700273',\n",
       " 'real estate services': 'http://www.kijiji.ca/b-real-estate-service/city-of-toronto/c170l1700273',\n",
       " 'reptiles & amphibians for sale': 'http://www.kijiji.ca/b-reptiles-amphibians/city-of-toronto/c14654004l1700273',\n",
       " 'resumes': 'http://www.kijiji.ca/b-resumes/city-of-toronto/c218l1700273',\n",
       " 'rideshare': 'http://www.kijiji.ca/b-rideshare-carpool/city-of-toronto/c5l1700273',\n",
       " 'room rental, roommates': 'http://www.kijiji.ca/b-room-rental-roommate/city-of-toronto/c36l1700273',\n",
       " 'sales, retail sales': 'http://www.kijiji.ca/b-sales-retail-jobs/city-of-toronto/c61l1700273',\n",
       " 'services': 'http://www.kijiji.ca/b-services/city-of-toronto/c72l1700273',\n",
       " 'short term rentals': 'http://www.kijiji.ca/b-short-term-rental/city-of-toronto/c42l1700273',\n",
       " 'skilled trades': 'http://www.kijiji.ca/b-skilled-trades/city-of-toronto/c76l1700273',\n",
       " 'small animals for sale': 'http://www.kijiji.ca/b-small-animals/city-of-toronto/c14654005l1700273',\n",
       " 'sporting goods, exercise': 'http://www.kijiji.ca/b-sporting-goods-exercise/city-of-toronto/c111l1700273',\n",
       " 'storage, parking': 'http://www.kijiji.ca/b-storage-parking/city-of-toronto/c39l1700273',\n",
       " 'tickets': 'http://www.kijiji.ca/b-tickets/city-of-toronto/c14l1700273',\n",
       " 'tools': 'http://www.kijiji.ca/b-tool/city-of-toronto/c110l1700273',\n",
       " 'toys, games': 'http://www.kijiji.ca/b-toys-games/city-of-toronto/c108l1700273',\n",
       " 'travel, vacations': 'http://www.kijiji.ca/b-travel-vacations/city-of-toronto/c302l1700273',\n",
       " 'trucks': 'http://www.kijiji.ca/b-cars-trucks/city-of-toronto/pickup+truck/c174l1700273a138',\n",
       " 'tutors, languages': 'http://www.kijiji.ca/b-tutor-language-lessons/city-of-toronto/c169l1700273',\n",
       " 'tv, media, fashion': 'http://www.kijiji.ca/b-tv-media-fashion-jobs/city-of-toronto/c55l1700273',\n",
       " 'under': 'http://www.kijiji.ca/b-cars-trucks/city-of-toronto/convertible__coupe__hatchback__other+body+type__sedan__wagon/c174l1700273a138?price=__5000',\n",
       " 'used cars & trucks': 'http://www.kijiji.ca/b-cars-trucks/city-of-toronto/c174l1700273',\n",
       " 'vacation rentals': 'http://www.kijiji.ca/b-vacation-rentals/c800l1700273',\n",
       " 'vans': 'http://www.kijiji.ca/b-cars-trucks/city-of-toronto/mini+van/c174l1700273a138',\n",
       " 'video games, consoles': 'http://www.kijiji.ca/b-video-games-consoles/city-of-toronto/c141l1700273',\n",
       " 'volunteers': 'http://www.kijiji.ca/b-volunteers/city-of-toronto/c3l1700273',\n",
       " 'wedding': 'http://www.kijiji.ca/b-wedding-service/city-of-toronto/c79l1700273'}"
      ]
     },
     "execution_count": 46,
     "metadata": {},
     "output_type": "execute_result"
    }
   ],
   "source": [
    "categories"
   ]
  },
  {
   "cell_type": "markdown",
   "metadata": {},
   "source": [
    "### Now, I will make a list of just the keys from the category dictionary I created earlier:"
   ]
  },
  {
   "cell_type": "code",
   "execution_count": 47,
   "metadata": {
    "collapsed": false
   },
   "outputs": [],
   "source": [
    "category_list = [key for key in categories.keys()]"
   ]
  },
  {
   "cell_type": "markdown",
   "metadata": {},
   "source": [
    "### Now the fun part.  Below, I am using Jupyter interact decorator to create a drop-down widget.  I will pass the category_list that I just made to it.  The rest of the function is grabbing the listing's image url, title, description, price, etc., from which I will make a pandas data frame which is then outputted to the screen."
   ]
  },
  {
   "cell_type": "markdown",
   "metadata": {},
   "source": [
    "Unfortunately, this does NOT work for all listing categories, since some categories may not have a title or description, or some other reason.  But it works for most categories, especially categories that entail selling items."
   ]
  },
  {
   "cell_type": "code",
   "execution_count": 58,
   "metadata": {
    "collapsed": false
   },
   "outputs": [
    {
     "name": "stdout",
     "output_type": "stream",
     "text": [
      "http://www.kijiji.ca/b-resumes/city-of-toronto/c218l1700273\n"
     ]
    },
    {
     "data": {
      "text/html": [
       "<table border=\"1\" class=\"dataframe\">\n",
       "  <thead>\n",
       "    <tr style=\"text-align: right;\">\n",
       "      <th></th>\n",
       "      <th>Image</th>\n",
       "      <th>Comment</th>\n",
       "      <th>Details</th>\n",
       "    </tr>\n",
       "  </thead>\n",
       "  <tbody>\n",
       "    <tr>\n",
       "      <th>0</th>\n",
       "      <td><img src='http://i.ebayimg.com/00/s/MTYyWDMwMA==/z/y~wAAOSwnipWXKd3/$_2.JPG'></td>\n",
       "      <td>We are a fast growing company looking to hire new owner operators and company drivers. We offer a lease to own program for owner operators Brand new equipment with $0 down Very professional and…</td>\n",
       "      <td></td>\n",
       "    </tr>\n",
       "    <tr>\n",
       "      <th>1</th>\n",
       "      <td><img src='http://i.ebayimg.com/00/s/NDAxWDgwMA==/z/6e0AAOSwcBhWYhcc/$_2.JPG'></td>\n",
       "      <td>We are a Multi-residential Property Management Company seeking a full-time Receptionist. The Receptionist will be the first point of contact to our clients and will entail support to our Maintenance…</td>\n",
       "      <td></td>\n",
       "    </tr>\n",
       "    <tr>\n",
       "      <th>2</th>\n",
       "      <td><img src='//ca.classistatic.com/static/V/1762/img/placeholder.gif'></td>\n",
       "      <td>I am looking a full time job from 8:am to 5pm Monday to Friday. I have experienced taking care of children from newly born baby and toddlers or elderly care. I am kind, honest, hardworking,…</td>\n",
       "      <td></td>\n",
       "    </tr>\n",
       "    <tr>\n",
       "      <th>3</th>\n",
       "      <td><img src='http://i.ebayimg.com/00/s/MzExWDQ3MA==/z/ldQAAOSw5ZBWMYRD/$_2.JPG'></td>\n",
       "      <td>Toronto Winter Work, Competive sqft/rate. Simple houses. On site Framing Foreman. Zoom boom on site. Draw schedule in place. Contact Foreman for drawings and details 647 218 7200 Starting now.</td>\n",
       "      <td></td>\n",
       "    </tr>\n",
       "    <tr>\n",
       "      <th>4</th>\n",
       "      <td><img src='//ca.classistatic.com/static/V/1762/img/placeholder.gif'></td>\n",
       "      <td>I'm a professional kitchen installer with an experience of over 7 years. Have all the tools, car and WSIB insurance in place. Finished countless custom kitchens installations all over GTA. Able to…</td>\n",
       "      <td></td>\n",
       "    </tr>\n",
       "    <tr>\n",
       "      <th>5</th>\n",
       "      <td><img src='http://i.ebayimg.com/00/s/MjUwWDM4MA==/z/x-wAAOSw8-tWZPHh/$_2.JPG'></td>\n",
       "      <td>Professional Photography a videography for all types of your Commercial and residential (Indoor and outdoor) needs including: - Real state photography - Wedding - Engagement - Personal Portrait -…</td>\n",
       "      <td></td>\n",
       "    </tr>\n",
       "    <tr>\n",
       "      <th>6</th>\n",
       "      <td><img src='http://i.ebayimg.com/00/s/MjIxWDIyOA==/z/uR4AAOSwwE5WZPEc/$_2.JPG'></td>\n",
       "      <td>We are reliable , Experienced ,Farst and Fully licensed electrcian covering all kind electrial job all over GTA 24/7. Call us And let us to to the job for you .( Residencial , Commercial, Industrial…</td>\n",
       "      <td></td>\n",
       "    </tr>\n",
       "    <tr>\n",
       "      <th>7</th>\n",
       "      <td><img src='//ca.classistatic.com/static/V/1762/img/placeholder.gif'></td>\n",
       "      <td>WE ARE LOOKING FOR EXPERIENCE SWIMING INSTUCTOR OVER 2 YEARS OF EXPERIENCE AS A LIFEGUARD OR SWIM INSTRUCTOR WITH 2 MAJOR ORGANIZATIONS. FOR 2 KIDS AGE OF 7 AND 10 YEARS OLD WE HAVE ACCESS TO A POOL…</td>\n",
       "      <td></td>\n",
       "    </tr>\n",
       "    <tr>\n",
       "      <th>8</th>\n",
       "      <td><img src='//ca.classistatic.com/static/V/1762/img/placeholder.gif'></td>\n",
       "      <td>Licensed professional Electrician is looking for jobs such as: -Basement and kitchen renovation/Demolition -Bulb and ballast replacement -Commercial and multi-residential lighting retrofit -Parking…</td>\n",
       "      <td></td>\n",
       "    </tr>\n",
       "    <tr>\n",
       "      <th>9</th>\n",
       "      <td><img src='http://i.ebayimg.com/00/s/NDY5WDYyNQ==/$T2eC16h,!yME9s5qJF21BSFrb45dCg~~48_2.JPG'></td>\n",
       "      <td>CONTRACTOR, BIG OR SMALL, WE CAN DO IT EXCAVATION WORK AND DEMOLITION, WE HAVE 2 DUMP TRUCK TRI AXLE AND 3 EXCAVATOR, 5, 8 , 25 TON , 1- CASE CX50B 5 TON C/W ENCLOSED CAB W/ HEAT AND MINI EXCAVATO...</td>\n",
       "      <td></td>\n",
       "    </tr>\n",
       "    <tr>\n",
       "      <th>10</th>\n",
       "      <td><img src='http://i.ebayimg.com/00/s/MzY2WDM0NQ==/z/pbgAAOSwfZ1WZOq~/$_2.JPG'></td>\n",
       "      <td>* GET YOUR NEW AND IMPROVED COVER LETTER & RESUME TODAY * Do you have obvious gaps in work history? Have switched jobs frequently? Changed from one career field to another? Don’t worry, the Resume…</td>\n",
       "      <td></td>\n",
       "    </tr>\n",
       "    <tr>\n",
       "      <th>11</th>\n",
       "      <td><img src='http://i.ebayimg.com/00/s/NTMzWDgwMA==/z/jw8AAOSw~bFWG~oz/$_2.JPG'></td>\n",
       "      <td>Please visit my website: WebsiteSEO.Space. I offer the following services to enhance your business presence online: Website Design that delivers a strong online presence for your company. E-commerce…</td>\n",
       "      <td></td>\n",
       "    </tr>\n",
       "    <tr>\n",
       "      <th>12</th>\n",
       "      <td><img src='http://i.ebayimg.com/00/s/ODAwWDUzMQ==/z/1n8AAOSw8-tWZOgc/$_2.JPG'></td>\n",
       "      <td>Hi! I am looking for paid work and I have a lot of experience. I am always looking to expand my portfolio. If you want me to model please tell me the genre and aproximate time. If you want to see…</td>\n",
       "      <td></td>\n",
       "    </tr>\n",
       "    <tr>\n",
       "      <th>13</th>\n",
       "      <td><img src='//ca.classistatic.com/static/V/1762/img/placeholder.gif'></td>\n",
       "      <td>I am a fast learner that is looking to make some cash paid daily. Contact me if you have an orportunity. I am experience in customer service and own my own busines but i am looking to raise some…</td>\n",
       "      <td></td>\n",
       "    </tr>\n",
       "    <tr>\n",
       "      <th>14</th>\n",
       "      <td><img src='http://i.ebayimg.com/00/s/MTY1WDMwNQ==/z/FWMAAOSwfZ1WZOOn/$_2.JPG'></td>\n",
       "      <td>Twitter and Facebook Social media management for 6 Months for a one time pre-paid fee of $200! Only the first 100 clients can get this crazy deal! For a ONE TIME fee of $200 I will manage and post…</td>\n",
       "      <td></td>\n",
       "    </tr>\n",
       "    <tr>\n",
       "      <th>15</th>\n",
       "      <td><img src='//ca.classistatic.com/static/V/1762/img/placeholder.gif'></td>\n",
       "      <td>Many years experience in a variety of labour jobs, house renovations, construction, landscaping, I have a G drivers license with a perfect driving record. I can work very long hours 7 days a week,</td>\n",
       "      <td></td>\n",
       "    </tr>\n",
       "    <tr>\n",
       "      <th>16</th>\n",
       "      <td><img src='http://i.ebayimg.com/00/s/MzI3WDEwMjQ=/z/7f0AAOSwfZ1WZOGc/$_2.JPG'></td>\n",
       "      <td>Hi, I am Antony and looking for a part-time job at general labour, I have experience in construction, sales, cleaning, moving, helping on kitche, serving in bars. I am ready to work hard nights,…</td>\n",
       "      <td></td>\n",
       "    </tr>\n",
       "    <tr>\n",
       "      <th>17</th>\n",
       "      <td><img src='http://i.ebayimg.com/00/s/NDY2WDY0MA==/z/keYAAOSwI-BWGtEX/$_2.JPG'></td>\n",
       "      <td>I create training for staff ... to make them better employees. Cheap Ways To Train Your Staff ... and increase revenue Toll-free North America 1-855-9999-444 Adults like to learn without peer…</td>\n",
       "      <td></td>\n",
       "    </tr>\n",
       "    <tr>\n",
       "      <th>18</th>\n",
       "      <td><img src='http://i.ebayimg.com/00/s/ODAwWDYyMA==/z/0AcAAOSwp5JWZN6Q/$_2.JPG'></td>\n",
       "      <td>Do you need to reach buyers / clients across Ontario? At a controlled, reasonable cost? I can help. I architect media plans using a multitude of tactics and media tailored to your budget. Smart use…</td>\n",
       "      <td></td>\n",
       "    </tr>\n",
       "    <tr>\n",
       "      <th>19</th>\n",
       "      <td><img src='//ca.classistatic.com/static/V/1762/img/placeholder.gif'></td>\n",
       "      <td>Hi I have my small company, with excellent Portuguese cleaners, we do houses, office, condos after construction, Move in Move out Excellent references Pet friendly Please call me @ 647 766 5762 ...</td>\n",
       "      <td></td>\n",
       "    </tr>\n",
       "    <tr>\n",
       "      <th>20</th>\n",
       "      <td><img src='//ca.classistatic.com/static/V/1762/img/placeholder.gif'></td>\n",
       "      <td>Dear Sir, I would like to take this opportunity to submit my application and resume for the cashier position at your retail store. I believe that you are looking for an experienced and qualified…</td>\n",
       "      <td></td>\n",
       "    </tr>\n",
       "    <tr>\n",
       "      <th>21</th>\n",
       "      <td><img src='http://i.ebayimg.com/00/s/NTMzWDgwMA==/z/mgoAAOSwyQtV0fB3/$_2.JPG'></td>\n",
       "      <td>My name is Nathan Sabyan, I am 20 years old. I just recently graduated from Fleming College Lindsay(Frost Campus) from the Heavy Equipment course (August 2015). I have just recently been laid off…</td>\n",
       "      <td></td>\n",
       "    </tr>\n",
       "    <tr>\n",
       "      <th>22</th>\n",
       "      <td><img src='//ca.classistatic.com/static/V/1762/img/placeholder.gif'></td>\n",
       "      <td>Recherche opportunité unique comme la première représentante d'un nouveau produit ou service unique au Canada ou au Québec..Si comme 2e ne pas m'envoyer de courriel..Correspondance en Français ...</td>\n",
       "      <td></td>\n",
       "    </tr>\n",
       "    <tr>\n",
       "      <th>23</th>\n",
       "      <td><img src='//ca.classistatic.com/static/V/1762/img/placeholder.gif'></td>\n",
       "      <td>Hey Guys and Gals, I am a huge political news junkie for United States and Canadian news. I could talk for ages about current political events around the world. I am wondering if there is anyone ...</td>\n",
       "      <td></td>\n",
       "    </tr>\n",
       "    <tr>\n",
       "      <th>24</th>\n",
       "      <td><img src='http://i.ebayimg.com/00/s/Mjc1WDQwMA==/z/TEUAAOSw7FRWZNOM/$_2.JPG'></td>\n",
       "      <td>Hi, I am Antony and looking for part-time job as a helper for a general labour or a painter for construction. I have experience painting, drywall, and setting up ceilings during my summer job. I am…</td>\n",
       "      <td></td>\n",
       "    </tr>\n",
       "  </tbody>\n",
       "</table>"
      ],
      "text/plain": [
       "<IPython.core.display.HTML object>"
      ]
     },
     "metadata": {},
     "output_type": "display_data"
    }
   ],
   "source": [
    "pages = ['page-1', 'page-2', 'page-3', 'page-4', 'page-5', 'page-6', 'page-7', 'page-8', 'page-9']\n",
    "\n",
    "@interact\n",
    "def kijiji_listings(category = sorted(category_list), page = sorted(pages)):\n",
    "    if page == 'page-1':\n",
    "        print(categories[category])\n",
    "        html_cars = request.urlopen(categories[category])\n",
    "    else:\n",
    "        url = categories[category]\n",
    "        last_forward_slash = url.rfind('/')\n",
    "        beginning_url = url[:last_forward_slash+1]\n",
    "        ending_url = url[forward_slash:]\n",
    "        print(beginning_url + page + ending_url)\n",
    "        html_cars = request.urlopen(beginning_url + page + ending_url)\n",
    "\n",
    "    soup_cars = BeautifulSoup(html_cars, 'lxml')\n",
    "    \n",
    "    #tables = soup_cars.find_all('table',  class_ = re.compile('regular-ad|top-'))\n",
    "    tables = soup_cars.find_all('table')\n",
    "    \n",
    "    img_urls = []\n",
    "    for table in tables[1:]:\n",
    "        for row in table.find_all('td', class_='image'):\n",
    "            try:\n",
    "                img_urls.append(\"<img src='\" + row.div.img['src'] + \"'>\")\n",
    "            except:\n",
    "                img_urls.append(\"<img src='\" + row.img['src'] + \"'>\")\n",
    "                \n",
    "    titles = []\n",
    "    for table in tables[1:]:\n",
    "        for row in table.find_all('td', class_='description'):\n",
    "            titles.append(row.a.get_text().strip())\n",
    "            \n",
    "    comments = []\n",
    "    for table in tables[1:]:\n",
    "        for row in table.find_all('td', class_='description'):\n",
    "            comments.append(row.p.get_text().strip())\n",
    "            \n",
    "    details = []\n",
    "    for table in tables[1:]:\n",
    "        for row in table.find_all('td', class_='description'):\n",
    "            for item in row.find_all('p', class_='details'):\n",
    "                details.append(item.get_text().strip())\n",
    "    \n",
    "    prices = []\n",
    "    for table in tables[1:]:\n",
    "        for row in table.find_all('td', class_='price'):\n",
    "            try:\n",
    "                prices.append(float(row.get_text().replace('$','').replace(',','').strip()))\n",
    "            except:\n",
    "                prices.append(0.0)\n",
    "    \n",
    "    try:\n",
    "        df = pd.DataFrame({'Price':prices, 'Image':img_urls, 'Title':titles, 'Comment':comments, 'Details':details})\n",
    "        # Arrange the columns in a certain order\n",
    "        df = df[['Image','Title','Comment','Details','Price']]\n",
    "    # Some category listings don't have a price and title, so this script would bomb unless we leave them out\n",
    "    except:\n",
    "        df = pd.DataFrame({'Image':img_urls, 'Comment':comments, 'Details':details})\n",
    "        # Arrange the columns in a certain order\n",
    "        df = df[['Image','Comment','Details']]\n",
    "\n",
    "    \n",
    "    return HTML(df.to_html(escape=False))  # if escape is set to True, the images won't be rendered"
   ]
  },
  {
   "cell_type": "markdown",
   "metadata": {},
   "source": [
    "<br><br><br><br><br><br><br><br><br><br><br><br><br><br><br><br><br>"
   ]
  }
 ],
 "metadata": {
  "hide_input": false,
  "kernelspec": {
   "display_name": "Python 3",
   "language": "python",
   "name": "python3"
  },
  "language_info": {
   "codemirror_mode": {
    "name": "ipython",
    "version": 3
   },
   "file_extension": ".py",
   "mimetype": "text/x-python",
   "name": "python",
   "nbconvert_exporter": "python",
   "pygments_lexer": "ipython3",
   "version": "3.4.3"
  }
 },
 "nbformat": 4,
 "nbformat_minor": 0
}

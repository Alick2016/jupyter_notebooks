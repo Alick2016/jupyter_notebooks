{
 "cells": [
  {
   "cell_type": "markdown",
   "metadata": {},
   "source": [
    "<center><h1>Web Scraping Kijiji</h1><h3>Using Python and Beautiful Soup</h3></center>"
   ]
  },
  {
   "cell_type": "code",
   "execution_count": 3,
   "metadata": {
    "collapsed": true
   },
   "outputs": [],
   "source": [
    "import pandas as pd\n",
    "from IPython.display import HTML\n",
    "from bs4 import BeautifulSoup\n",
    "import urllib.request as request\n",
    "from ipywidgets import interact\n",
    "pd.set_option(\"display.max_rows\",1000)\n",
    "pd.set_option(\"display.max_columns\",20)\n",
    "pd.set_option(\"display.max_colwidth\", 200)"
   ]
  },
  {
   "cell_type": "markdown",
   "metadata": {},
   "source": [
    "### For this exercise, I will only be scraping the Toronto listings"
   ]
  },
  {
   "cell_type": "code",
   "execution_count": 4,
   "metadata": {
    "collapsed": false
   },
   "outputs": [],
   "source": [
    "base_url = 'http://www.kijiji.ca'\n",
    "toronto_url = 'http://www.kijiji.ca/h-city-of-toronto/1700273'\n",
    "html_kijiji = request.urlopen(toronto_url)\n",
    "\n",
    "soup_kijiji = BeautifulSoup(html_kijiji, 'lxml')"
   ]
  },
  {
   "cell_type": "markdown",
   "metadata": {},
   "source": [
    "Since I will be creating a drop-down widget containing all the listing categories, I looked at the source page to find where I can find a complete list of all available categories.  I found that I need to grab all the **&lt;a&gt;** elements that have a class attribute equals to **\"category-selected\"**"
   ]
  },
  {
   "cell_type": "code",
   "execution_count": 5,
   "metadata": {
    "collapsed": false
   },
   "outputs": [],
   "source": [
    "div_categories = soup_kijiji.find_all('a', class_='category-selected')"
   ]
  },
  {
   "cell_type": "markdown",
   "metadata": {},
   "source": [
    "### Let's look at the first 20 rows of the category list:"
   ]
  },
  {
   "cell_type": "code",
   "execution_count": 6,
   "metadata": {
    "collapsed": false
   },
   "outputs": [
    {
     "data": {
      "text/plain": [
       "[<a class=\"category-selected\" data-id=\"10\" href=\"/b-buy-sell/city-of-toronto/c10l1700273\">buy and sell</a>,\n",
       " <a class=\"category-selected\" data-id=\"72\" href=\"/b-services/city-of-toronto/c72l1700273\">services</a>,\n",
       " <a class=\"category-selected\" data-id=\"27\" href=\"/b-cars-vehicles/city-of-toronto/c27l1700273\">cars &amp; vehicles</a>,\n",
       " <a class=\"category-selected\" data-id=\"112\" href=\"/b-pets/city-of-toronto/c112l1700273\">pets</a>,\n",
       " <a class=\"category-selected\" data-id=\"800\" href=\"/b-vacation-rentals/c800l1700273\">vacation rentals</a>,\n",
       " <a class=\"category-selected\" data-id=\"1\" href=\"/b-community/city-of-toronto/c1l1700273\">community</a>,\n",
       " <a class=\"category-selected\" data-id=\"34\" href=\"/b-real-estate/city-of-toronto/c34l1700273\">real estate</a>,\n",
       " <a class=\"category-selected\" data-id=\"45\" href=\"/b-jobs/city-of-toronto/c45l1700273\">jobs</a>,\n",
       " <a class=\"category-selected\" data-id=\"218\" href=\"/b-resumes/city-of-toronto/c218l1700273\">resumes</a>,\n",
       " <a class=\"category-selected\" data-id=\"63\" href=\"/b-personals/city-of-toronto/c63l1700273\">personals</a>,\n",
       " <a class=\"category-selected\" data-id=\"10\" href=\"/b-buy-sell/city-of-toronto/c10l1700273\" id=\"category10\">buy and sell</a>,\n",
       " <a class=\"category-selected\" data-id=\"12\" href=\"/b-art-collectibles/city-of-toronto/c12l1700273\">art, collectibles</a>,\n",
       " <a class=\"category-selected\" data-id=\"767\" href=\"/b-audio/city-of-toronto/c767l1700273\">audio</a>,\n",
       " <a class=\"category-selected\" data-id=\"253\" href=\"/b-baby-items/city-of-toronto/c253l1700273\">baby items</a>,\n",
       " <a class=\"category-selected\" data-id=\"644\" href=\"/b-bikes/city-of-toronto/c644l1700273\">bikes</a>,\n",
       " <a class=\"category-selected\" data-id=\"109\" href=\"/b-books/city-of-toronto/c109l1700273\">books</a>,\n",
       " <a class=\"category-selected\" data-id=\"145\" href=\"/b-business-industrial/city-of-toronto/c145l1700273\">business, industrial</a>,\n",
       " <a class=\"category-selected\" data-id=\"103\" href=\"/b-camera-camcorder-lens/city-of-toronto/c103l1700273\">cameras, camcorders</a>,\n",
       " <a class=\"category-selected\" data-id=\"104\" href=\"/b-cd-dvd-blu-ray/city-of-toronto/c104l1700273\">cds, dvds, blu-ray</a>,\n",
       " <a class=\"category-selected\" data-id=\"274\" href=\"/b-clothing/city-of-toronto/c274l1700273\">clothing</a>]"
      ]
     },
     "execution_count": 6,
     "metadata": {},
     "output_type": "execute_result"
    }
   ],
   "source": [
    "div_categories[:20]"
   ]
  },
  {
   "cell_type": "markdown",
   "metadata": {},
   "source": [
    "From above, we can see the category listings over on the right: \"buy and sell\", \"services\", \"cars and vehicles\", etc"
   ]
  },
  {
   "cell_type": "markdown",
   "metadata": {},
   "source": [
    "### Now I will create a Python dictionary to map all the category listings to its respective URL"
   ]
  },
  {
   "cell_type": "code",
   "execution_count": 7,
   "metadata": {
    "collapsed": true
   },
   "outputs": [],
   "source": [
    "categories = {}\n",
    "for item in div_categories:\n",
    "    categories[item.get_text()] = base_url + item['href']"
   ]
  },
  {
   "cell_type": "markdown",
   "metadata": {},
   "source": [
    "### Let's see what the dictionary looks like:"
   ]
  },
  {
   "cell_type": "code",
   "execution_count": 8,
   "metadata": {
    "collapsed": false
   },
   "outputs": [
    {
     "data": {
      "text/plain": [
       "{'(more categories...)': 'http://www.kijiji.ca/b-resumes/city-of-toronto/c218l1700273',\n",
       " 'ATVs, snowmobiles': 'http://www.kijiji.ca/b-atv-snowmobile/city-of-toronto/c171l1700273',\n",
       " 'Canada': 'http://www.kijiji.ca/b-vacation-rentals-canada/c801l1700273',\n",
       " 'Caribbean': 'http://www.kijiji.ca/b-vacation-rentals-caribbean/c803l1700273',\n",
       " 'Mexico': 'http://www.kijiji.ca/b-vacation-rentals-mexico/c804l1700273',\n",
       " 'Other Countries': 'http://www.kijiji.ca/b-vacation-rentals-other-countries/c805l1700273',\n",
       " 'RVs, campers, trailers': 'http://www.kijiji.ca/b-rv-camper-trailer/city-of-toronto/c172l1700273',\n",
       " 'SUVs': 'http://www.kijiji.ca/b-cars-trucks/city-of-toronto/suv+crossover/c174l1700273a138',\n",
       " 'USA': 'http://www.kijiji.ca/b-vacation-rentals-usa/c802l1700273',\n",
       " 'accessories': 'http://www.kijiji.ca/b-pet-accessories/city-of-toronto/c115l1700273',\n",
       " 'accounting, mgmt': 'http://www.kijiji.ca/b-accounting-management-jobs/city-of-toronto/c58l1700273',\n",
       " 'activities, groups': 'http://www.kijiji.ca/b-activities-groups/city-of-toronto/c7l1700273',\n",
       " 'animal, pet services': 'http://www.kijiji.ca/b-pet-services/city-of-toronto/c143l1700273',\n",
       " 'apartments, condos': 'http://www.kijiji.ca/b-apartments-condos/city-of-toronto/c37l1700273',\n",
       " 'art, collectibles': 'http://www.kijiji.ca/b-art-collectibles/city-of-toronto/c12l1700273',\n",
       " 'artists, musicians': 'http://www.kijiji.ca/b-artists-musicians/city-of-toronto/c2l1700273',\n",
       " 'audio': 'http://www.kijiji.ca/b-audio/city-of-toronto/c767l1700273',\n",
       " 'auto parts, tires': 'http://www.kijiji.ca/b-auto-parts-tires/city-of-toronto/c31l1700273',\n",
       " 'automotive services': 'http://www.kijiji.ca/b-automotive-services/city-of-toronto/c142l1700273',\n",
       " 'baby items': 'http://www.kijiji.ca/b-baby-items/city-of-toronto/c253l1700273',\n",
       " 'bar, food, hospitality': 'http://www.kijiji.ca/b-bar-food-hospitality-jobs/city-of-toronto/c60l1700273',\n",
       " 'bikes': 'http://www.kijiji.ca/b-bikes/city-of-toronto/c644l1700273',\n",
       " 'birds for sale': 'http://www.kijiji.ca/b-birds/city-of-toronto/c135l1700273',\n",
       " 'boats, watercraft': 'http://www.kijiji.ca/b-boat-watercraft/city-of-toronto/c29l1700273',\n",
       " 'books': 'http://www.kijiji.ca/b-books/city-of-toronto/c109l1700273',\n",
       " 'business, industrial': 'http://www.kijiji.ca/b-business-industrial/city-of-toronto/c145l1700273',\n",
       " 'buy and sell': 'http://www.kijiji.ca/b-buy-sell/city-of-toronto/c10l1700273',\n",
       " 'cameras, camcorders': 'http://www.kijiji.ca/b-camera-camcorder-lens/city-of-toronto/c103l1700273',\n",
       " 'cars': 'http://www.kijiji.ca/b-cars-trucks/city-of-toronto/convertible__coupe__hatchback__other+body+type__sedan__wagon/c174l1700273a138',\n",
       " 'cars & vehicles': 'http://www.kijiji.ca/b-cars-vehicles/city-of-toronto/c27l1700273',\n",
       " 'cats, kittens for sale': 'http://www.kijiji.ca/b-cats-kittens/city-of-toronto/c125l1700273',\n",
       " 'cds, dvds, blu-ray': 'http://www.kijiji.ca/b-cd-dvd-blu-ray/city-of-toronto/c104l1700273',\n",
       " 'child care': 'http://www.kijiji.ca/b-childcare-resumes/city-of-toronto/c225l1700273',\n",
       " 'childcare, nanny': 'http://www.kijiji.ca/b-childcare-nanny-service/city-of-toronto/c84l1700273',\n",
       " 'classes, lessons': 'http://www.kijiji.ca/b-classes-lessons/city-of-toronto/c4l1700273',\n",
       " 'classic cars': 'http://www.kijiji.ca/b-classic-cars/city-of-toronto/c122l1700273',\n",
       " 'cleaners, cleaning': 'http://www.kijiji.ca/b-cleaners-cleaning-service/city-of-toronto/c160l1700273',\n",
       " 'cleaning, housekeeper': 'http://www.kijiji.ca/b-cleaning-housekeeper-jobs/city-of-toronto/c146l1700273',\n",
       " 'clothing': 'http://www.kijiji.ca/b-clothing/city-of-toronto/c274l1700273',\n",
       " 'commercial, office space': 'http://www.kijiji.ca/b-commercial-office-space/city-of-toronto/c40l1700273',\n",
       " 'community': 'http://www.kijiji.ca/b-community/city-of-toronto/c1l1700273',\n",
       " 'computer accessories': 'http://www.kijiji.ca/b-computer-accessories/city-of-toronto/c128l1700273',\n",
       " 'computers': 'http://www.kijiji.ca/b-computer/city-of-toronto/c16l1700273',\n",
       " 'condos for sale': 'http://www.kijiji.ca/b-condo-for-sale/city-of-toronto/c643l1700273',\n",
       " 'construction, trades': 'http://www.kijiji.ca/b-construction-trades-resumes/city-of-toronto/c224l1700273',\n",
       " 'customer service': 'http://www.kijiji.ca/b-customer-service-jobs/city-of-toronto/c147l1700273',\n",
       " 'dogs, puppies for sale': 'http://www.kijiji.ca/b-dogs-puppies/city-of-toronto/c126l1700273',\n",
       " 'driver, security': 'http://www.kijiji.ca/b-driver-security-jobs/city-of-toronto/c148l1700273',\n",
       " 'electronics': 'http://www.kijiji.ca/b-electronics/city-of-toronto/c15l1700273',\n",
       " 'entertainment': 'http://www.kijiji.ca/b-entertainment/city-of-toronto/c165l1700273',\n",
       " 'equestrian, livestock accessories': 'http://www.kijiji.ca/b-equestrian-livestock-accessories/city-of-toronto/c14996002l1700273',\n",
       " 'events': 'http://www.kijiji.ca/b-events/city-of-toronto/c289l1700273',\n",
       " 'financial, legal': 'http://www.kijiji.ca/b-financial-legal/city-of-toronto/c131l1700273',\n",
       " 'fish for sale': 'http://www.kijiji.ca/b-fish/city-of-toronto/c14654003l1700273',\n",
       " 'fitness, personal trainer': 'http://www.kijiji.ca/b-fitness-personal-trainer/city-of-toronto/c83l1700273',\n",
       " 'friendship, networking': 'http://www.kijiji.ca/b-friendship-networking/city-of-toronto/c634l1700273',\n",
       " 'furniture': 'http://www.kijiji.ca/b-furniture/city-of-toronto/c235l1700273',\n",
       " 'garage sales': 'http://www.kijiji.ca/b-garage-sale-yard-sale/city-of-toronto/c638l1700273',\n",
       " 'general labour': 'http://www.kijiji.ca/b-general-labour-resumes/city-of-toronto/c230l1700273',\n",
       " 'graphic, web design': 'http://www.kijiji.ca/b-graphic-web-design-jobs/city-of-toronto/c152l1700273',\n",
       " 'hair stylist, salon': 'http://www.kijiji.ca/b-hair-stylist-salon-jobs/city-of-toronto/c150l1700273',\n",
       " 'health, beauty': 'http://www.kijiji.ca/b-health-beauty/city-of-toronto/c166l1700273',\n",
       " 'health, special needs': 'http://www.kijiji.ca/b-health-special-needs/city-of-toronto/c140l1700273',\n",
       " 'healthcare': 'http://www.kijiji.ca/b-healthcare-jobs/city-of-toronto/c898l1700273',\n",
       " 'heavy equipment': 'http://www.kijiji.ca/b-heavy-equipment/city-of-toronto/c301l1700273',\n",
       " 'hobbies, crafts': 'http://www.kijiji.ca/b-hobbies-craft/city-of-toronto/c139l1700273',\n",
       " 'home - indoor': 'http://www.kijiji.ca/b-home-indoor/city-of-toronto/c717l1700273',\n",
       " 'home - outdoor': 'http://www.kijiji.ca/b-home-outdoor/city-of-toronto/c19l1700273',\n",
       " 'home appliances': 'http://www.kijiji.ca/b-home-appliance/city-of-toronto/c107l1700273',\n",
       " 'home renovation materials': 'http://www.kijiji.ca/b-home-renovation/city-of-toronto/c727l1700273',\n",
       " 'horses, ponies for sale': 'http://www.kijiji.ca/b-horses-ponies/city-of-toronto/c14996001l1700273',\n",
       " 'house rental': 'http://www.kijiji.ca/b-house-rental/city-of-toronto/c43l1700273',\n",
       " 'houses for sale': 'http://www.kijiji.ca/b-house-for-sale/city-of-toronto/c35l1700273',\n",
       " 'jewellery, watches': 'http://www.kijiji.ca/b-jewelry-watch/city-of-toronto/c133l1700273',\n",
       " 'jobs': 'http://www.kijiji.ca/b-jobs/city-of-toronto/c45l1700273',\n",
       " 'land for sale': 'http://www.kijiji.ca/b-land-for-sale/city-of-toronto/c641l1700273',\n",
       " 'livestock for sale': 'http://www.kijiji.ca/b-livestock/city-of-toronto/c217l1700273',\n",
       " 'long lost relationships': 'http://www.kijiji.ca/b-long-lost-relationships/city-of-toronto/c635l1700273',\n",
       " 'lost & found': 'http://www.kijiji.ca/b-lost-and-found/city-of-toronto/c120l1700273',\n",
       " 'missed connections': 'http://www.kijiji.ca/b-missed-connections/city-of-toronto/c636l1700273',\n",
       " 'motorcycles': 'http://www.kijiji.ca/b-motorcycles/city-of-toronto/c30l1700273',\n",
       " 'moving, storage': 'http://www.kijiji.ca/b-moving-storage/city-of-toronto/c144l1700273',\n",
       " 'music lessons': 'http://www.kijiji.ca/b-music-lessons/city-of-toronto/c86l1700273',\n",
       " 'musical instruments': 'http://www.kijiji.ca/b-musical-instrument/city-of-toronto/c17l1700273',\n",
       " 'new cars & trucks': 'http://www.kijiji.ca//kijiji.unhaggle.com',\n",
       " 'office mgr, receptionist': 'http://www.kijiji.ca/b-office-manager-receptionist-jobs/city-of-toronto/c46l1700273',\n",
       " 'other': 'http://www.kijiji.ca/b-other-jobs/city-of-toronto/c62l1700273',\n",
       " 'other pets for sale': 'http://www.kijiji.ca/b-other-pets/city-of-toronto/c114l1700273',\n",
       " 'over': 'http://www.kijiji.ca/b-cars-trucks/city-of-toronto/convertible__coupe__hatchback__other+body+type__sedan__wagon/c174l1700273a138?price=5000__',\n",
       " 'part time, students': 'http://www.kijiji.ca/b-part-time-student-jobs/city-of-toronto/c59l1700273',\n",
       " 'personals': 'http://www.kijiji.ca/b-personals/city-of-toronto/c63l1700273',\n",
       " 'pets': 'http://www.kijiji.ca/b-pets/city-of-toronto/c112l1700273',\n",
       " 'phones': 'http://www.kijiji.ca/b-phone-tablet/city-of-toronto/c132l1700273',\n",
       " 'photography, video': 'http://www.kijiji.ca/b-photography-video/city-of-toronto/c168l1700273',\n",
       " 'programmers, computer': 'http://www.kijiji.ca/b-programmer-computer-jobs/city-of-toronto/c54l1700273',\n",
       " 'real estate': 'http://www.kijiji.ca/b-real-estate/city-of-toronto/c34l1700273',\n",
       " 'real estate services': 'http://www.kijiji.ca/b-real-estate-service/city-of-toronto/c170l1700273',\n",
       " 'reptiles & amphibians for sale': 'http://www.kijiji.ca/b-reptiles-amphibians/city-of-toronto/c14654004l1700273',\n",
       " 'resumes': 'http://www.kijiji.ca/b-resumes/city-of-toronto/c218l1700273',\n",
       " 'rideshare': 'http://www.kijiji.ca/b-rideshare-carpool/city-of-toronto/c5l1700273',\n",
       " 'room rental, roommates': 'http://www.kijiji.ca/b-room-rental-roommate/city-of-toronto/c36l1700273',\n",
       " 'sales, retail sales': 'http://www.kijiji.ca/b-sales-retail-jobs/city-of-toronto/c61l1700273',\n",
       " 'services': 'http://www.kijiji.ca/b-services/city-of-toronto/c72l1700273',\n",
       " 'short term rentals': 'http://www.kijiji.ca/b-short-term-rental/city-of-toronto/c42l1700273',\n",
       " 'skilled trades': 'http://www.kijiji.ca/b-skilled-trades/city-of-toronto/c76l1700273',\n",
       " 'small animals for sale': 'http://www.kijiji.ca/b-small-animals/city-of-toronto/c14654005l1700273',\n",
       " 'sporting goods, exercise': 'http://www.kijiji.ca/b-sporting-goods-exercise/city-of-toronto/c111l1700273',\n",
       " 'storage, parking': 'http://www.kijiji.ca/b-storage-parking/city-of-toronto/c39l1700273',\n",
       " 'tickets': 'http://www.kijiji.ca/b-tickets/city-of-toronto/c14l1700273',\n",
       " 'tools': 'http://www.kijiji.ca/b-tool/city-of-toronto/c110l1700273',\n",
       " 'toys, games': 'http://www.kijiji.ca/b-toys-games/city-of-toronto/c108l1700273',\n",
       " 'travel, vacations': 'http://www.kijiji.ca/b-travel-vacations/city-of-toronto/c302l1700273',\n",
       " 'trucks': 'http://www.kijiji.ca/b-cars-trucks/city-of-toronto/pickup+truck/c174l1700273a138',\n",
       " 'tutors, languages': 'http://www.kijiji.ca/b-tutor-language-lessons/city-of-toronto/c169l1700273',\n",
       " 'tv, media, fashion': 'http://www.kijiji.ca/b-tv-media-fashion-jobs/city-of-toronto/c55l1700273',\n",
       " 'under': 'http://www.kijiji.ca/b-cars-trucks/city-of-toronto/convertible__coupe__hatchback__other+body+type__sedan__wagon/c174l1700273a138?price=__5000',\n",
       " 'used cars & trucks': 'http://www.kijiji.ca/b-cars-trucks/city-of-toronto/c174l1700273',\n",
       " 'vacation rentals': 'http://www.kijiji.ca/b-vacation-rentals/c800l1700273',\n",
       " 'vans': 'http://www.kijiji.ca/b-cars-trucks/city-of-toronto/mini+van/c174l1700273a138',\n",
       " 'video games, consoles': 'http://www.kijiji.ca/b-video-games-consoles/city-of-toronto/c141l1700273',\n",
       " 'volunteers': 'http://www.kijiji.ca/b-volunteers/city-of-toronto/c3l1700273',\n",
       " 'wedding': 'http://www.kijiji.ca/b-wedding-service/city-of-toronto/c79l1700273'}"
      ]
     },
     "execution_count": 8,
     "metadata": {},
     "output_type": "execute_result"
    }
   ],
   "source": [
    "categories"
   ]
  },
  {
   "cell_type": "markdown",
   "metadata": {},
   "source": [
    "### Now, I will make a list of just the keys from the category dictionary I created earlier:"
   ]
  },
  {
   "cell_type": "code",
   "execution_count": 9,
   "metadata": {
    "collapsed": false
   },
   "outputs": [],
   "source": [
    "category_list = [key for key in categories.keys()]"
   ]
  },
  {
   "cell_type": "markdown",
   "metadata": {},
   "source": [
    "### Now the fun part.  Below, I am using Jupyter interact decorator to create a drop-down widget.  I will pass the category_list that I just made to it.  The rest of the function is grabbing the listing's image url, title, description, price, etc., from which I will make a pandas data frame which is then outputted to the screen."
   ]
  },
  {
   "cell_type": "markdown",
   "metadata": {},
   "source": [
    "Unfortunately, this does NOT work for all listing categories, since some categories may not have a title or description, or some other reason.  But it works for most categories, especially categories that entail selling items."
   ]
  },
  {
   "cell_type": "code",
   "execution_count": 10,
   "metadata": {
    "collapsed": false
   },
   "outputs": [
    {
     "data": {
      "text/html": [
       "<table border=\"1\" class=\"dataframe\">\n",
       "  <thead>\n",
       "    <tr style=\"text-align: right;\">\n",
       "      <th></th>\n",
       "      <th>Image</th>\n",
       "      <th>Title</th>\n",
       "      <th>Comment</th>\n",
       "      <th>Details</th>\n",
       "      <th>Price</th>\n",
       "    </tr>\n",
       "  </thead>\n",
       "  <tbody>\n",
       "    <tr>\n",
       "      <th>0</th>\n",
       "      <td><img src='http://i.ebayimg.com/00/s/NzY4WDEwMjQ=/z/vQ0AAOSwo6lWPx-i/$_2.JPG'></td>\n",
       "      <td>2010 Ford Fusion SEL V6 AWD-LEATHER-ROOF-1 OWNER-CLEAN CARPOOF</td>\n",
       "      <td>Benchmark Automotive is pleased to offer this low kms Ford Fusion SEL....3.0 Litre V6 AWD....1 private owner since new....Local Ontario Canadian Vehicle....Clean Carproof...No Accidents...No…</td>\n",
       "      <td>64000km | Automatic</td>\n",
       "      <td>$14,995.00</td>\n",
       "    </tr>\n",
       "    <tr>\n",
       "      <th>1</th>\n",
       "      <td><img src='http://i.ebayimg.com/00/s/NjAwWDgwMA==/z/hVEAAOSwwE5WWJbM/$_2.JPG'></td>\n",
       "      <td>2013 Ford Focus 3 STANDARD CARS $3,799-$12,999 Sedan</td>\n",
       "      <td>Wow 3 standard cars available. 2013 Ford Focus SE 17,000 km full factory warranty. 2007 Volkswagon Golf 82,000 km $6,499, 2004 Acura EL 247,000 km $3,799 They are nice and clean in and out. Looks,…</td>\n",
       "      <td>17000km | Manual</td>\n",
       "      <td>Please Contact</td>\n",
       "    </tr>\n",
       "    <tr>\n",
       "      <th>2</th>\n",
       "      <td><img src='http://i.ebayimg.com/00/s/NjgxWDEwMjQ=/z/b5kAAOSwAKxWYrhF/$_2.JPG'></td>\n",
       "      <td>2012 Mercedes-Benz E350 BlueTEC Nav Leather PanoSunroof Backup C</td>\n",
       "      <td>Canadian car with Clean CarProof! Loaded with: BlueTEC Diesel! Navigation! Leather Interior! Panoramic Sunroof! Backup Camera! Xenon HID Headlights! LED Accent Lighting! Harman / Kardon Premium ...</td>\n",
       "      <td>71623km | Automatic | CarProof</td>\n",
       "      <td>$33,449.00</td>\n",
       "    </tr>\n",
       "    <tr>\n",
       "      <th>3</th>\n",
       "      <td><img src='http://i.ebayimg.com/00/s/NzY4WDEwMjQ=/z/-ygAAOSw585WUEYi/$_2.JPG'></td>\n",
       "      <td>2008 BMW M M3 CONVERTIBLE 6 SPD</td>\n",
       "      <td>This beautiful 2008 BMW M3 Convertible comes equipped with a Manual Transmission, Keyless Entry, Keyless Start, Leather Interior, Power Memory Seats, Navigation, Heated Seats, Bluetooth, M Sport…</td>\n",
       "      <td>77000km | Manual</td>\n",
       "      <td>$38,910.00</td>\n",
       "    </tr>\n",
       "    <tr>\n",
       "      <th>4</th>\n",
       "      <td><img src='http://i.ebayimg.com/00/s/NzY4WDEwMjQ=/z/yD4AAOSwnipWYWMF/$_2.JPG'></td>\n",
       "      <td>2008 Mazda MAZDA3 AUTO!!! LOADED!!! ROOF!!! ALLOYS!!!</td>\n",
       "      <td>AUTOMATIC!!! LOADED!!! SUNROOF!!! POWER WINDOWS, POWER LOCKS, A/C, ALLOYS!!! ................................................................................................ WE ARE EXCLUSIVE TO ...</td>\n",
       "      <td>216000km | Automatic</td>\n",
       "      <td>$3,990.00</td>\n",
       "    </tr>\n",
       "    <tr>\n",
       "      <th>5</th>\n",
       "      <td><img src='http://i.ebayimg.com/00/s/NjAwWDgwMA==/z/ALQAAOSwAKxWZOCh/$_2.JPG'></td>\n",
       "      <td>2004 Ford Taurus SEL Sedan</td>\n",
       "      <td>Original owner, no accidents. Well maintained, in excellent condition. Certified and Drive Clean Tested. Tan on tan cloth interior. 6 disc CD changer, premium sound system, sunroof, keyless entry…</td>\n",
       "      <td>82000km | Automatic</td>\n",
       "      <td>$4,600.00</td>\n",
       "    </tr>\n",
       "    <tr>\n",
       "      <th>6</th>\n",
       "      <td><img src='//ca.classistatic.com/static/V/1762/img/placeholder.gif'></td>\n",
       "      <td>Cadillac STS</td>\n",
       "      <td>32northstar motor really strong engin NO LEAKS. Interior is absolutely MINT,MINT ,everything works perfect, car needs brakes , basic brake job pads front& rear that's it !!</td>\n",
       "      <td>230000km | Automatic</td>\n",
       "      <td>$1,500.00</td>\n",
       "    </tr>\n",
       "    <tr>\n",
       "      <th>7</th>\n",
       "      <td><img src='http://i.ebayimg.com/00/s/NDgwWDY0MA==/z/9ZgAAOSwp5JWZOA6/$_2.JPG'></td>\n",
       "      <td>2006 Chevrolet Cobalt LS *AS IS*</td>\n",
       "      <td>Great on gas Well maintained A bit of rust under the driver's door Runs well.</td>\n",
       "      <td>202000km | Automatic</td>\n",
       "      <td>$1,800.00</td>\n",
       "    </tr>\n",
       "    <tr>\n",
       "      <th>8</th>\n",
       "      <td><img src='http://i.ebayimg.com/00/s/NDgwWDY0MA==/z/s6sAAOSwnipWZFyy/$_2.JPG'></td>\n",
       "      <td>2007 NISSAN MAXIMA SE</td>\n",
       "      <td>2007 NISSAN MAXIMA SE..GREY ON BLACK LEATHER CAR IS IN GREAT MECHANICAL SHAPE AND SHOW ROOM CONDITION! ONLY 159,000...FULLY LOADED PLEASE CHECK OUR WEB AT WWW.CFPOC.CA OVER 50 GOOD QUALITY USED CARS…</td>\n",
       "      <td>159123km | Automatic</td>\n",
       "      <td>$8,999.00</td>\n",
       "    </tr>\n",
       "    <tr>\n",
       "      <th>9</th>\n",
       "      <td><img src='http://i.ebayimg.com/00/s/NDgwWDY0MA==/z/3fMAAOSwfZ1WZODM/$_2.JPG'></td>\n",
       "      <td>2009 PONTIAC VIBE LT***NO ACCIDENTS***LIKE NEW** SUNROOF & MORE!</td>\n",
       "      <td>AUTO LINK MOTORS PROUD OMVIC & UCDA CERTIFIED DEALERSHIP 1614 Military Trail, Toronto. (647)618-8256 {2009 Pontiac Vibe Hatchback} >Quick & Fuel Efficient >CarProof Reports No Accident Vehicle, ...</td>\n",
       "      <td>172000km | Manual</td>\n",
       "      <td>$5,995.00</td>\n",
       "    </tr>\n",
       "    <tr>\n",
       "      <th>10</th>\n",
       "      <td><img src='http://i.ebayimg.com/00/s/NjAwWDgwMA==/z/~RcAAOSwAKxWZOBz/$_2.JPG'></td>\n",
       "      <td>2013 Dodge Viper GTS LAGUNA Coupe (2 door) **FINANCING AVAILABLE</td>\n",
       "      <td>2013 Dodge Viper GTS Laguna -Adrenaline Red -8.4 L V10 640 hp -Fully loaded -Carbon hood and trunk -Upgraded matte black wheels -Custom Viper car cover</td>\n",
       "      <td>4200km</td>\n",
       "      <td>$108,999.00</td>\n",
       "    </tr>\n",
       "    <tr>\n",
       "      <th>11</th>\n",
       "      <td><img src='http://i.ebayimg.com/00/s/NjAwWDgwMA==/z/70MAAOSwbdpWZN~B/$_2.JPG'></td>\n",
       "      <td>2006 Audi A4 Quattro</td>\n",
       "      <td>Vehicle description has everything from the regular a4. +tinted windows. I bought the car last year from a dealer ship. It has a warranty of 2 years. Since 1 yr passed it has a year remaining. Low…</td>\n",
       "      <td>142000km | Automatic</td>\n",
       "      <td>$10,500.00</td>\n",
       "    </tr>\n",
       "    <tr>\n",
       "      <th>12</th>\n",
       "      <td><img src='http://i.ebayimg.com/00/s/NjAwWDgwMA==/z/V7cAAOSwHQ9WZNwm/$_2.JPG'></td>\n",
       "      <td>2003 Acura RSX Premium Coupe (2 door)</td>\n",
       "      <td>Selling my 2003 Acura RSX Premium, tiptronic. Lady driven and well maintained. Oil changes every 5,000 km. 4 new Bridgestone all season tires just put on. Car has been parked underground and needs…</td>\n",
       "      <td>281000km | Automatic</td>\n",
       "      <td>$3,200.00</td>\n",
       "    </tr>\n",
       "    <tr>\n",
       "      <th>13</th>\n",
       "      <td><img src='http://i.ebayimg.com/00/s/MTAyNFgxMDI0/z/344AAOSw8-tWZN3D/$_2.JPG'></td>\n",
       "      <td>MUST GO $900.00</td>\n",
       "      <td>Drives Great!! Engine, transmission, oil is perfect. Passed ETest and safety perfectly Oil change every 3 months 4 new all season tires purchased in July except 1 tire needs a patch due to a nail.…</td>\n",
       "      <td>240000km | Manual</td>\n",
       "      <td>$900.00</td>\n",
       "    </tr>\n",
       "    <tr>\n",
       "      <th>14</th>\n",
       "      <td><img src='http://i.ebayimg.com/00/s/MTk0WDI1OQ==/z/AcIAAOSw8-tWZN72/$_2.JPG'></td>\n",
       "      <td>2006 Ford E-250 cargovan Other</td>\n",
       "      <td>this cargovan come with safty and e.test Air Conditioning Cruise control Power locks power mirror alarm Power windows pls call 6472863730 no email</td>\n",
       "      <td>152000km | Automatic</td>\n",
       "      <td>$5,800.00</td>\n",
       "    </tr>\n",
       "    <tr>\n",
       "      <th>15</th>\n",
       "      <td><img src='http://i.ebayimg.com/00/s/NjAwWDgwMA==/z/zCsAAOSwcBhWZN4H/$_2.JPG'></td>\n",
       "      <td>2001 Mazda Protege with Sun/Moon Roof & 4 Snow Tires on Car</td>\n",
       "      <td>For Sale a 2001 Mazda Protege 4 door 4 Cyl. automatic with power Sunroof/Moonroof air conditioning, PS/PB. The car has 4 good snow tires already installed on car. Wife got newer Hyundai so no room…</td>\n",
       "      <td>255288km</td>\n",
       "      <td>$500.00</td>\n",
       "    </tr>\n",
       "    <tr>\n",
       "      <th>16</th>\n",
       "      <td><img src='http://i.ebayimg.com/00/s/NjAwWDgwMA==/z/ucoAAOSwcBhWZN03/$_2.JPG'></td>\n",
       "      <td>2003 BMW 325i</td>\n",
       "      <td>Very clean, no rust, interior in mint condition. New H&R springs and OEM shocks on all four corners, new winter tires, new front brake rotors, pads and callipers. Heated front seats, sunroof, fully…</td>\n",
       "      <td>216300km | Automatic</td>\n",
       "      <td>$6,700.00</td>\n",
       "    </tr>\n",
       "    <tr>\n",
       "      <th>17</th>\n",
       "      <td><img src='http://i.ebayimg.com/00/s/NTMzWDgwMA==/z/V90AAOSwv-NWZNxx/$_2.JPG'></td>\n",
       "      <td>2006 Mazda RX-8 GT Other</td>\n",
       "      <td>Possibly open to trades (no fwd or automatics please, unless it is a winter beater) Car has: -Borla Catback -BHR Midpipe (selling with stock cat) -Mazdaspeed Intake -FA 500 Coilovers -Added OEM…</td>\n",
       "      <td>124000km | Manual</td>\n",
       "      <td>$8,799.00</td>\n",
       "    </tr>\n",
       "    <tr>\n",
       "      <th>18</th>\n",
       "      <td><img src='http://i.ebayimg.com/00/s/NjQxWDYwMA==/z/jJMAAOSwnH1WZNxe/$_2.JPG'></td>\n",
       "      <td>Mustang Real Saleen Body Kit</td>\n",
       "      <td>For sale a 2003 mustang with a real authentic Saleen body kit. Includes the front, back bumpers, side skirts, spoiler and side scoops. Very rare and hard to find. I love this car and it has been…</td>\n",
       "      <td>270000km | Automatic</td>\n",
       "      <td>$8,000.00</td>\n",
       "    </tr>\n",
       "    <tr>\n",
       "      <th>19</th>\n",
       "      <td><img src='http://i.ebayimg.com/00/s/MzYwWDY0MA==/z/W2IAAOSwv-NWZNyj/$_2.JPG'></td>\n",
       "      <td>2009 Honda Civic SI Sedan</td>\n",
       "      <td>2009 Honda Civic, vehicle is in good condition, has AC,Cruise control, abs breaks, sunroof, alloy rims, tinted windows,power windows, power locks, keyless entry, and much more vehicle had previous…</td>\n",
       "      <td>109000km | Manual</td>\n",
       "      <td>$6,950.00</td>\n",
       "    </tr>\n",
       "    <tr>\n",
       "      <th>20</th>\n",
       "      <td><img src='http://i.ebayimg.com/00/s/NDUwWDgwMA==/z/W~UAAOSwNphWZNhW/$_2.JPG'></td>\n",
       "      <td>2007 Toyota Camry Sedan - Excellent Condition</td>\n",
       "      <td>Selling my Toyota Camry 2007, comes with winter and summer tires with rims. Emission is done, just need a safety. Asking for $6800 without safety. For more information, please call Sultan at (519)…</td>\n",
       "      <td>190763km | Automatic</td>\n",
       "      <td>$6,800.00</td>\n",
       "    </tr>\n",
       "    <tr>\n",
       "      <th>21</th>\n",
       "      <td><img src='http://i.ebayimg.com/00/s/NTkyWDgwMA==/z/dJUAAOSwnH1WZNsJ/$_2.JPG'></td>\n",
       "      <td>BLACK RX-8 GT 166449KM MINT FULLY LOADED</td>\n",
       "      <td>must be seen, no rust, black color , manual 6 speed GT, all options for the model and very very clean strong and smooth drive, very powerful black/caramel leather interior 10/10 condition power…</td>\n",
       "      <td>166000km | Manual</td>\n",
       "      <td>$5,400.00</td>\n",
       "    </tr>\n",
       "    <tr>\n",
       "      <th>22</th>\n",
       "      <td><img src='http://i.ebayimg.com/00/s/NDgwWDY0MA==/z/z-IAAOSwv-NWZIU1/$_2.JPG'></td>\n",
       "      <td>2013 Audi S4 3.0T S-LINE NAVIGATION - Bang & Olufsen</td>\n",
       "      <td>VERY DESIRABLE WHITE ON BLACK LEATHER! BANG & OLURSEN SOUND SYSTEM! ALUMINUM PKG! NAVIGATION SYSTEM, BACK-UP CAMERA, CANADIAN CAR, HEATED FRONT&REAR SEATS, HEATED STEERING WHEEL, POWER TAILGATE AND…</td>\n",
       "      <td>37686km | Automatic</td>\n",
       "      <td>$40,885.00</td>\n",
       "    </tr>\n",
       "    <tr>\n",
       "      <th>23</th>\n",
       "      <td><img src='http://i.ebayimg.com/00/s/NDgwWDY0MA==/z/bKUAAOSwHQ9WZFyR/$_2.JPG'></td>\n",
       "      <td>2007 MERCEDES BENZ C-280 4 MATIC</td>\n",
       "      <td>2007 MERCEDES BENZ C-280 SILVER ON BLACK LEATHER LOW KM ONLY 110,900! CAR IS IN GREAT SHAPE AND RUNS PERFECTLY NO ACCIDENT! PLEASE CHECK OUR WEB AT WWW.CFPOC.CA OVER 50 GOOD QUALITY USED CARS IN…</td>\n",
       "      <td>110123km | Automatic</td>\n",
       "      <td>$9,999.00</td>\n",
       "    </tr>\n",
       "    <tr>\n",
       "      <th>24</th>\n",
       "      <td><img src='http://i.ebayimg.com/00/s/NjAwWDgwMA==/z/tuUAAOSwxN5WZNqo/$_2.JPG'></td>\n",
       "      <td>2001 Honda Accord Sedan</td>\n",
       "      <td>2001 Honda Accord V6 for sale. Very well maintained car, fully loaded, sunroof, leather seats, winter tires and much more. Car runs good and there is no problem with the car. Asking $1700. You can…</td>\n",
       "      <td>266km | Automatic</td>\n",
       "      <td>$1,700.00</td>\n",
       "    </tr>\n",
       "  </tbody>\n",
       "</table>"
      ],
      "text/plain": [
       "<IPython.core.display.HTML object>"
      ]
     },
     "metadata": {},
     "output_type": "display_data"
    }
   ],
   "source": [
    "@interact\n",
    "def kijiji_listings(category = sorted(category_list)):\n",
    "    html_cars = request.urlopen(categories[category])\n",
    "\n",
    "    soup_cars = BeautifulSoup(html_cars, 'lxml')\n",
    "    \n",
    "    #tables = soup_cars.find_all('table',  class_ = re.compile('regular-ad|top-'))\n",
    "    tables = soup_cars.find_all('table')\n",
    "    \n",
    "    img_urls = []\n",
    "    for table in tables[1:]:\n",
    "        for row in table.find_all('td', class_='image'):\n",
    "            try:\n",
    "                img_urls.append(\"<img src='\" + row.div.img['src'] + \"'>\")\n",
    "            except:\n",
    "                img_urls.append(\"<img src='\" + row.img['src'] + \"'>\")\n",
    "                \n",
    "    titles = []\n",
    "    for table in tables[1:]:\n",
    "        for row in table.find_all('td', class_='description'):\n",
    "            titles.append(row.a.get_text().strip())\n",
    "            \n",
    "    comments = []\n",
    "    for table in tables[1:]:\n",
    "        for row in table.find_all('td', class_='description'):\n",
    "            comments.append(row.p.get_text().strip())\n",
    "            \n",
    "    details = []\n",
    "    for table in tables[1:]:\n",
    "        for row in table.find_all('td', class_='description'):\n",
    "            for item in row.find_all('p', class_='details'):\n",
    "                details.append(item.get_text().strip())\n",
    "    \n",
    "    prices = []\n",
    "    for table in tables[1:]:\n",
    "        for row in table.find_all('td', class_='price'):\n",
    "            prices.append(row.get_text().strip())\n",
    "            \n",
    "    df = pd.DataFrame({'Price':prices, 'Image':img_urls, 'Title':titles, 'Comment':comments, 'Details':details})\n",
    "    # Arrange the columns in a certain order\n",
    "    df = df[['Image','Title','Comment','Details','Price']]\n",
    "\n",
    "    \n",
    "    return HTML(df.to_html(escape=False))  # if escape is set to True, the images won't be rendered"
   ]
  },
  {
   "cell_type": "markdown",
   "metadata": {},
   "source": [
    "<br><br><br><br><br><br><br><br><br><br><br><br><br><br><br><br><br>"
   ]
  }
 ],
 "metadata": {
  "kernelspec": {
   "display_name": "Python 3",
   "language": "python",
   "name": "python3"
  },
  "language_info": {
   "codemirror_mode": {
    "name": "ipython",
    "version": 3
   },
   "file_extension": ".py",
   "mimetype": "text/x-python",
   "name": "python",
   "nbconvert_exporter": "python",
   "pygments_lexer": "ipython3",
   "version": "3.4.3"
  }
 },
 "nbformat": 4,
 "nbformat_minor": 0
}

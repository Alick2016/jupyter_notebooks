{
 "cells": [
  {
   "cell_type": "code",
   "execution_count": 9,
   "metadata": {
    "collapsed": true
   },
   "outputs": [],
   "source": [
    "%matplotlib inline\n",
    "import pandas as pd\n",
    "import matplotlib.pyplot as plt\n",
    "from bs4 import BeautifulSoup\n",
    "import urllib.request as request\n",
    "import re\n",
    "pd.set_option(\"display.max_rows\",1000)\n",
    "pd.set_option(\"display.max_columns\",20)"
   ]
  },
  {
   "cell_type": "code",
   "execution_count": 20,
   "metadata": {
    "collapsed": false
   },
   "outputs": [],
   "source": [
    "base_url = 'http://www.kijiji.ca'\n",
    "toronto_url = 'http://www.kijiji.ca/h-city-of-toronto/1700273'\n",
    "html_kijiji = request.urlopen(toronto_url)\n",
    "\n",
    "soup_kijiji = BeautifulSoup(html_kijiji, 'lxml')"
   ]
  },
  {
   "cell_type": "code",
   "execution_count": 29,
   "metadata": {
    "collapsed": false
   },
   "outputs": [],
   "source": [
    "div = soup_kijiji.find_all('div', id='BrowseCategoriesList', class_='drop-down')"
   ]
  },
  {
   "cell_type": "code",
   "execution_count": 30,
   "metadata": {
    "collapsed": false
   },
   "outputs": [
    {
     "data": {
      "text/plain": [
       "[<div class=\"drop-down\" id=\"BrowseCategoriesList\">\n",
       " <ul>\n",
       " <li><a class=\"category-selected\" data-id=\"10\" href=\"/b-buy-sell/city-of-toronto/c10l1700273\">buy and sell</a></li>\n",
       " <li><a class=\"category-selected\" data-id=\"72\" href=\"/b-services/city-of-toronto/c72l1700273\">services</a></li>\n",
       " <li><a class=\"category-selected\" data-id=\"27\" href=\"/b-cars-vehicles/city-of-toronto/c27l1700273\">cars &amp; vehicles</a></li>\n",
       " <li><a class=\"category-selected\" data-id=\"112\" href=\"/b-pets/city-of-toronto/c112l1700273\">pets</a></li>\n",
       " <li><a class=\"category-selected\" data-id=\"800\" href=\"/b-vacation-rentals/c800l1700273\">vacation rentals</a></li>\n",
       " <li><a class=\"category-selected\" data-id=\"1\" href=\"/b-community/city-of-toronto/c1l1700273\">community</a></li>\n",
       " <li><a class=\"category-selected\" data-id=\"34\" href=\"/b-real-estate/city-of-toronto/c34l1700273\">real estate</a></li>\n",
       " <li><a class=\"category-selected\" data-id=\"45\" href=\"/b-jobs/city-of-toronto/c45l1700273\">jobs</a></li>\n",
       " <li><a class=\"category-selected\" data-id=\"218\" href=\"/b-resumes/city-of-toronto/c218l1700273\">resumes</a></li>\n",
       " <li><a class=\"category-selected\" data-id=\"63\" href=\"/b-personals/city-of-toronto/c63l1700273\">personals</a></li>\n",
       " <li><a class=\"\" data-id=\"1000000\" href=\"/b-city-of-toronto/l1700273?ad=wanted\">Want Ads</a></li>\n",
       " <li><a class=\"\" data-id=\"1000001\" href=\"/b-city-of-toronto/l1700273?ad=offering&amp;price-type=free\">Free Stuff</a></li>\n",
       " <li><a class=\"\" data-id=\"1000002\" href=\"/b-city-of-toronto/l1700273?price-type=swap-trade\">Swap / Trades</a></li>\n",
       " </ul>\n",
       " </div>]"
      ]
     },
     "execution_count": 30,
     "metadata": {},
     "output_type": "execute_result"
    }
   ],
   "source": [
    "div"
   ]
  },
  {
   "cell_type": "markdown",
   "metadata": {},
   "source": [
    "### Let's create a Python dictionary that will map their categories to their repective relative url"
   ]
  },
  {
   "cell_type": "code",
   "execution_count": 53,
   "metadata": {
    "collapsed": false
   },
   "outputs": [],
   "source": [
    "categories = {}\n",
    "for item in div:\n",
    "    for row in item.find_all('li'):\n",
    "        categories[row.a.get_text()] = row.a['href']"
   ]
  },
  {
   "cell_type": "code",
   "execution_count": 54,
   "metadata": {
    "collapsed": false
   },
   "outputs": [
    {
     "data": {
      "text/plain": [
       "{'Free Stuff': '/b-city-of-toronto/l1700273?ad=offering&price-type=free',\n",
       " 'Swap / Trades': '/b-city-of-toronto/l1700273?price-type=swap-trade',\n",
       " 'Want Ads': '/b-city-of-toronto/l1700273?ad=wanted',\n",
       " 'buy and sell': '/b-buy-sell/city-of-toronto/c10l1700273',\n",
       " 'cars & vehicles': '/b-cars-vehicles/city-of-toronto/c27l1700273',\n",
       " 'community': '/b-community/city-of-toronto/c1l1700273',\n",
       " 'jobs': '/b-jobs/city-of-toronto/c45l1700273',\n",
       " 'personals': '/b-personals/city-of-toronto/c63l1700273',\n",
       " 'pets': '/b-pets/city-of-toronto/c112l1700273',\n",
       " 'real estate': '/b-real-estate/city-of-toronto/c34l1700273',\n",
       " 'resumes': '/b-resumes/city-of-toronto/c218l1700273',\n",
       " 'services': '/b-services/city-of-toronto/c72l1700273',\n",
       " 'vacation rentals': '/b-vacation-rentals/c800l1700273'}"
      ]
     },
     "execution_count": 54,
     "metadata": {},
     "output_type": "execute_result"
    }
   ],
   "source": [
    "categories"
   ]
  },
  {
   "cell_type": "code",
   "execution_count": 55,
   "metadata": {
    "collapsed": false
   },
   "outputs": [],
   "source": [
    "df = pd.read_html(base_url+categories['cars & vehicles'])"
   ]
  },
  {
   "cell_type": "code",
   "execution_count": 56,
   "metadata": {
    "collapsed": false
   },
   "outputs": [
    {
     "data": {
      "text/plain": [
       "[    0   1   2   3   4   5   6   7   8   9\n",
       " 0 NaN NaN NaN NaN NaN NaN NaN NaN NaN NaN,\n",
       "     0   1                                                  2          3   4\n",
       " 0 NaN NaN  2007 Honda Civic LX SPORT **YOU CERTIFY, YOU S...  $4,900.00 NaN,\n",
       "     0   1                                                  2          3   4\n",
       " 0 NaN NaN  2005 Ford Focus SES Hatchback 2 sets of rims a...  $2,300.00 NaN,\n",
       "     0   1                                                  2           3   4\n",
       " 0 NaN NaN  2012 Dodge Journey RT//AWD READY FOR WINTER//7...  $18,532.00 NaN,\n",
       "     0   1                                                  2           3   4\n",
       " 0 NaN NaN  2013 Ford Fusion Auto Navigation FWD Heated Se...  $14,777.00 NaN,\n",
       "     0   1                                                  2           3   4\n",
       " 0 NaN NaN  2014 Dodge Grand Caravan 4dr Wgn 30th Annivers...  $24,995.00 NaN,\n",
       "     0   1                                                  2           3  \\\n",
       " 0 NaN NaN  2012 Toyota FJ Cruiser ONE OWNER OFF LEASE  Of...  $30,944.00   \n",
       " \n",
       "                  4  \n",
       " 0  < 3 minutes ago  ,\n",
       "     0   1                                                  2               3  \\\n",
       " 0 NaN NaN  2008 Mitsubishi Outlander XLS  Cooksville Hyun...  Please Contact   \n",
       " \n",
       "                  4  \n",
       " 0  < 3 minutes ago  ,\n",
       "     0   1                                                  2          3  \\\n",
       " 0 NaN NaN  2004 Chevrolet Express Minivan, Van  2004 chev...  $6,800.00   \n",
       " \n",
       "                  4  \n",
       " 0  < 4 minutes ago  ,\n",
       "     0   1                                                  2               3  \\\n",
       " 0 NaN NaN  E60 bmw CAM and CRANK SENSORS for sale E60 BMW...  Please Contact   \n",
       " \n",
       "                  4  \n",
       " 0  < 5 minutes ago  ,\n",
       "     0   1                                                  2        3  \\\n",
       " 0 NaN NaN  FORD FOCUS 2013 MICHELIN WINTER TIRES 205/60/1...  $650.00   \n",
       " \n",
       "                  4  \n",
       " 0  < 6 minutes ago  ,\n",
       "     0   1                                                  2          3  \\\n",
       " 0 NaN NaN  2000 Dodge Durango SLT PLUS  2000 Dodge Durang...  $3,800.00   \n",
       " \n",
       "                  4  \n",
       " 0  < 6 minutes ago  ,\n",
       "     0   1                                                  2           3  \\\n",
       " 0 NaN NaN  Clean and Spacious Toyota Venza v6 low kms Cle...  $16,000.00   \n",
       " \n",
       "                  4  \n",
       " 0  < 8 minutes ago  ,\n",
       "     0   1                                                  2        3  \\\n",
       " 0 NaN NaN  4 x 100 mini cooper rims $200  Mini cooper rim...  $200.00   \n",
       " \n",
       "                  4  \n",
       " 0  < 9 minutes ago  ,\n",
       "     0   1                                                  2           3  \\\n",
       " 0 NaN NaN  2012 Ford F-250 Extended cab 2wd gas long box ...  $29,800.00   \n",
       " \n",
       "                  4  \n",
       " 0  < 9 minutes ago  ,\n",
       "     0   1                                                  2          3  \\\n",
       " 0 NaN NaN  2006 Ford E-250 Cargo Van  2006 Ford E-250 Car...  $7,500.00   \n",
       " \n",
       "                  4  \n",
       " 0  < 9 minutes ago  ,\n",
       "     0   1                                                  2           3  \\\n",
       " 0 NaN NaN  2009 Land Rover Range Rover Sport HSE SPORT NA...  $26,988.00   \n",
       " \n",
       "                  4  \n",
       " 0  < 9 minutes ago  ,\n",
       "     0   1                                                  2       3  \\\n",
       " 0 NaN NaN  225 50 17 hankook tires $50  Set of 4 hankook ...  $50.00   \n",
       " \n",
       "                  4  \n",
       " 0  < 9 minutes ago  ,\n",
       "     0   1                                                  2        3  \\\n",
       " 0 NaN NaN  HONDA CIVIC 2012 FACTORY RIMS WITH 205/55/16 W...  $450.00   \n",
       " \n",
       "                   4  \n",
       " 0  < 10 minutes ago  ,\n",
       "     0   1                                                  2       3  \\\n",
       " 0 NaN NaN  Car seat attachable seat warmer (seat cover)! ...  $35.00   \n",
       " \n",
       "                   4  \n",
       " 0  < 10 minutes ago  ,\n",
       "     0   1                                                  2          3  \\\n",
       " 0 NaN NaN  2008 Mitsubishi Outlander ES SUV, Crossover  O...  $5,299.00   \n",
       " \n",
       "                   4  \n",
       " 0  < 11 minutes ago  ,\n",
       "     0   1                                                  2          3  \\\n",
       " 0 NaN NaN  2001 z 120  2001 z 120, good condition never a...  $1,600.00   \n",
       " \n",
       "                   4  \n",
       " 0  < 11 minutes ago  ,\n",
       "     0   1                                                  2       3  \\\n",
       " 0 NaN NaN  6 five litre gas tanks  6 five litre gas tanks...  $30.00   \n",
       " \n",
       "                   4  \n",
       " 0  < 12 minutes ago  ,\n",
       "     0   1                                                  2       3  \\\n",
       " 0 NaN NaN  2 tires  P255/70 R16 In very good condition Ca...  $80.00   \n",
       " \n",
       "                   4  \n",
       " 0  < 12 minutes ago  ,\n",
       "     0   1                                                  2       3  \\\n",
       " 0 NaN NaN  Winter tire chains, almost Brand New  Winter t...  $60.00   \n",
       " \n",
       "                   4  \n",
       " 0  < 13 minutes ago  ,\n",
       "     0   1                                                  2       3  \\\n",
       " 0 NaN NaN  2002 Buick Rendezvous,7 passengers seats 4 sal...  $99.00   \n",
       " \n",
       "                   4  \n",
       " 0  < 13 minutes ago  ]"
      ]
     },
     "execution_count": 56,
     "metadata": {},
     "output_type": "execute_result"
    }
   ],
   "source": [
    "df"
   ]
  }
 ],
 "metadata": {
  "kernelspec": {
   "display_name": "Python 3",
   "language": "python",
   "name": "python3"
  },
  "language_info": {
   "codemirror_mode": {
    "name": "ipython",
    "version": 3
   },
   "file_extension": ".py",
   "mimetype": "text/x-python",
   "name": "python",
   "nbconvert_exporter": "python",
   "pygments_lexer": "ipython3",
   "version": "3.4.3"
  }
 },
 "nbformat": 4,
 "nbformat_minor": 0
}

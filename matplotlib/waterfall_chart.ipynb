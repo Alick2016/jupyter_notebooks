{
 "cells": [
  {
   "cell_type": "markdown",
   "metadata": {},
   "source": [
    "<center><h1>Making Waterfall Charts Using Python</h1></center>"
   ]
  },
  {
   "cell_type": "markdown",
   "metadata": {},
   "source": [
    "Original code from [Chris Moffitt](http://pbpython.com/waterfall-chart.html) with slight modification to set_ylim() line and added color logic to handle negative values."
   ]
  },
  {
   "cell_type": "markdown",
   "metadata": {},
   "source": [
    "You can now make waterfall charts with Excel 2016 without having to do some chart gymnastics. You can also make waterfall charts with Python too. For quick one-offs, I would definitely stick with Excel 2016, but if you need to make a lot of waterfall charts or need it to be automated, this script could come in handy. In this script, you only need to modify a few lines. The script expects a two-column table with the values or amounts in the column labeled \"amount\"."
   ]
  },
  {
   "cell_type": "code",
   "execution_count": 4,
   "metadata": {
    "collapsed": false,
    "run_control": {
     "read_only": false
    }
   },
   "outputs": [
    {
     "data": {
      "image/png": "[encoded data removed]",
      "text/plain": [
       "<matplotlib.figure.Figure at 0x7fd1dfbb1780>"
      ]
     },
     "metadata": {},
     "output_type": "display_data"
    }
   ],
   "source": [
    "%matplotlib inline\n",
    "import numpy as np\n",
    "import pandas as pd\n",
    "import matplotlib.pyplot as plt\n",
    "import seaborn as sns\n",
    "from matplotlib.ticker import FuncFormatter\n",
    "\n",
    "# Format numbers to currency\n",
    "def money(x, pos):\n",
    "    'The two args are the value and tick position'\n",
    "    return \"${:,.0f}\".format(x)\n",
    "formatter = FuncFormatter(money)\n",
    "\n",
    "# If reading from Excel file\n",
    "#trans = pd.read_excel(r'D:\\path_to_your.xlsx', index_col=0 )\n",
    "title = 'Waterfall Example'\n",
    "xaxis_label = 'Transaction Type'\n",
    "yaxis_label = ''\n",
    "\n",
    "# Data to plot. Do not include a total, it will be calculated\n",
    "index = ['sales','returns','credit fees','rebates','late charges','shipping']\n",
    "data = {'amount': [350000,-30000,-7500,-25000,95000,-7000]}\n",
    "\n",
    "# Store data and create a blank series to use for the waterfall\n",
    "trans = pd.DataFrame(data=data,index=index)\n",
    "blank = trans.amount.cumsum().shift(1).fillna(0)\n",
    "\n",
    "# Assign color to bars: if value is negative, make color of bar red, otherwise, blue\n",
    "# colors can be color name, RGB (normalized to 0 to 1, so divide by 2255), or hex\n",
    "colors = []\n",
    "for value in trans.values:\n",
    "    if value < 0:\n",
    "        colors.append((1, 0.2, 0.2)) # RGB(255,51,51) but divide each by 255, so it becomes (1,0.2,0.2)\n",
    "    else:\n",
    "        colors.append((0.6,0.6,1))   # RGB(153,153,255)\n",
    "\n",
    "# Get the net total number for the final element in the waterfall\n",
    "total = trans.sum().amount\n",
    "trans.loc[\"net\"] = total\n",
    "blank.loc[\"net\"] = total\n",
    "\n",
    "# The steps graphically show the levels as well as used for label placement\n",
    "step = blank.reset_index(drop=True).repeat(3).shift(-1)\n",
    "step[1::3] = np.nan\n",
    "\n",
    "# When plotting the last element, we want to show the full bar,\n",
    "# Set the blank to 0\n",
    "blank.loc[\"net\"] = 0\n",
    "\n",
    "# Plot and label\n",
    "my_plot = trans.plot(kind='bar', stacked=True, bottom=blank,legend=None, figsize=(10, 5),\n",
    "                     title=title, color=colors)\n",
    "my_plot.plot(step.index, step.values,'k')\n",
    "my_plot.set_xlabel(xaxis_label)\n",
    "my_plot.set_ylabel(yaxis_label)\n",
    "\n",
    "# Format the axis for dollars\n",
    "my_plot.yaxis.set_major_formatter(formatter)\n",
    "\n",
    "# Get the y-axis position for the labels\n",
    "y_height = trans.amount.cumsum().shift(1).fillna(0)\n",
    "\n",
    "# Get an offset so labels don't sit right on top of the bar\n",
    "max = trans.max()\n",
    "neg_offset = max / 25\n",
    "pos_offset = max / 50\n",
    "plot_offset = int(max / 15)\n",
    "\n",
    "# Start label loop\n",
    "loop = 0\n",
    "for index, row in trans.iterrows():\n",
    "    # For the last item in the list, we don't want to double count\n",
    "    if row['amount'] == total:\n",
    "        y = y_height[loop]\n",
    "    else:\n",
    "        y = y_height[loop] + row['amount']\n",
    "    # Determine if we want a neg or pos offset\n",
    "    if row['amount'] > 0:\n",
    "        y += pos_offset\n",
    "    else:\n",
    "        y -= neg_offset\n",
    "    my_plot.annotate(\"{:,.0f}\".format(row['amount']),(loop,y),ha=\"center\")\n",
    "    loop+=1\n",
    "\n",
    "# Scale up the y axis so there is room for the labels\n",
    "my_plot.set_ylim(0, trans.max().values + int(plot_offset))\n",
    "# Rotate the labels\n",
    "my_plot.set_xticklabels(trans.index,rotation=0)\n",
    "# my_plot.get_figure().savefig(\"waterfall.png\",dpi=200,bbox_inches='tight')\n",
    "plt.show()"
   ]
  }
 ],
 "metadata": {
  "hide_input": false,
  "kernelspec": {
   "display_name": "Python 3",
   "language": "python",
   "name": "python3"
  },
  "language_info": {
   "codemirror_mode": {
    "name": "ipython",
    "version": 3
   },
   "file_extension": ".py",
   "mimetype": "text/x-python",
   "name": "python",
   "nbconvert_exporter": "python",
   "pygments_lexer": "ipython3",
   "version": "3.5.1"
  }
 },
 "nbformat": 4,
 "nbformat_minor": 0
}

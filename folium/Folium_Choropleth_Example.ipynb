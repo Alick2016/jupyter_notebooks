{
 "cells": [
  {
   "cell_type": "markdown",
   "metadata": {},
   "source": [
    "It appears there is a bug.  The html renders in Firefox, but not in Chrome or Chromium.  See issue [#90](https://github.com/python-visualization/folium/issues/90)"
   ]
  },
  {
   "cell_type": "code",
   "execution_count": 2,
   "metadata": {
    "collapsed": true
   },
   "outputs": [],
   "source": [
    "import folium\n",
    "import pandas as pd\n",
    "\n",
    "state_geo = '/home/pybokeh/Downloads/us-states.json'\n",
    "state_unemployment = '/home/pybokeh/Downloads/US_Unemployment_Oct2012.csv'\n",
    "\n",
    "state_data = pd.read_csv(state_unemployment)\n",
    "\n",
    "#Let Folium determine the scale\n",
    "map = folium.Map(location=[48, -102], zoom_start=3)\n",
    "map.geo_json(geo_path=state_geo, data=state_data,\n",
    "             columns=['State', 'Unemployment'],\n",
    "             key_on='feature.id',\n",
    "             fill_color='YlGn', fill_opacity=0.7, line_opacity=0.2,\n",
    "             legend_name='Unemployment Rate (%)')\n",
    "map.create_map(path='/home/pybokeh/Downloads/us_states_notebook.html')"
   ]
  },
  {
   "cell_type": "code",
   "execution_count": 1,
   "metadata": {
    "collapsed": false
   },
   "outputs": [],
   "source": [
    "import folium\n",
    "import pandas as pd\n",
    "\n",
    "state_geo = r'/home/pybokeh/Downloads/us-states.json'\n",
    "state_unemployment = r'/home/pybokeh/Downloads/US_Unemployment_Oct2012.csv'\n",
    "\n",
    "state_data = pd.read_csv(state_unemployment)\n",
    "\n",
    "#Let Folium determine the scale\n",
    "states = folium.Map(location=[48, -102], zoom_start=3)\n",
    "states.geo_json(geo_path=state_geo, data=state_data,\n",
    "                columns=['State', 'Unemployment'],\n",
    "                key_on='feature.id',\n",
    "                fill_color='YlGn', fill_opacity=0.7, line_opacity=0.2,\n",
    "                legend_name='Unemployment Rate (%)')\n",
    "states.create_map(path='/home/pybokeh/Downloads/us_state_map.html')\n",
    "\n",
    "#Let's define our own scale and change the line opacity\n",
    "states2 = folium.Map(location=[48, -102], zoom_start=3)\n",
    "states2.geo_json(geo_path=state_geo, data=state_data,\n",
    "                 columns=['State', 'Unemployment'],\n",
    "                 threshold_scale=[5, 6, 7, 8, 9, 10],\n",
    "                 key_on='feature.id',\n",
    "                 fill_color='BuPu', fill_opacity=0.7, line_opacity=0.5,\n",
    "                 legend_name='Unemployment Rate (%)',\n",
    "                 reset=True)\n",
    "states2.create_map(path='/home/pybokeh/Downloads/us_state_map_2.html')"
   ]
  },
  {
   "cell_type": "code",
   "execution_count": 7,
   "metadata": {
    "collapsed": true
   },
   "outputs": [],
   "source": [
    "stamen = folium.Map(location=[45.5236, -122.6750], tiles='Stamen Toner',\n",
    "                    zoom_start=13)\n",
    "stamen.create_map(path='/home/pybokeh/Downloads/stamen_toner.html')"
   ]
  }
 ],
 "metadata": {
  "kernelspec": {
   "display_name": "Python 3",
   "language": "python",
   "name": "python3"
  },
  "language_info": {
   "codemirror_mode": {
    "name": "ipython",
    "version": 3
   },
   "file_extension": ".py",
   "mimetype": "text/x-python",
   "name": "python",
   "nbconvert_exporter": "python",
   "pygments_lexer": "ipython3",
   "version": "3.4.2"
  }
 },
 "nbformat": 4,
 "nbformat_minor": 0
}

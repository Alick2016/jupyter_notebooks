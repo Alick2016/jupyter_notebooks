{
 "cells": [
  {
   "cell_type": "markdown",
   "metadata": {},
   "source": [
    "### This is heading"
   ]
  },
  {
   "cell_type": "code",
   "execution_count": 4,
   "metadata": {
    "collapsed": true,
    "run_control": {
     "read_only": false
    }
   },
   "outputs": [],
   "source": [
    "import sqlite3\n",
    "import pandas as pd"
   ]
  },
  {
   "cell_type": "code",
   "execution_count": 10,
   "metadata": {
    "collapsed": true,
    "run_control": {
     "read_only": false
    }
   },
   "outputs": [],
   "source": [
    "conn = sqlite3.connect('/home/pybokeh/databases/nba.db')"
   ]
  },
  {
   "cell_type": "code",
   "execution_count": 11,
   "metadata": {
    "collapsed": false,
    "run_control": {
     "read_only": false
    }
   },
   "outputs": [],
   "source": [
    "sql = '''\n",
    "select *\n",
    "\n",
    "from player_game_stats\n",
    "\n",
    "limit 5\n",
    "'''\n",
    "sample = pd.read_sql_query(sql, conn)"
   ]
  },
  {
   "cell_type": "code",
   "execution_count": 12,
   "metadata": {
    "collapsed": false,
    "run_control": {
     "read_only": false
    }
   },
   "outputs": [
    {
     "data": {
      "text/html": [
       "<div>\n",
       "<table border=\"1\" class=\"dataframe\">\n",
       "  <thead>\n",
       "    <tr style=\"text-align: right;\">\n",
       "      <th></th>\n",
       "      <th>id</th>\n",
       "      <th>name_pos</th>\n",
       "      <th>team_name</th>\n",
       "      <th>GP</th>\n",
       "      <th>GS</th>\n",
       "      <th>MIN</th>\n",
       "      <th>PPG</th>\n",
       "      <th>OFFR</th>\n",
       "      <th>DEFR</th>\n",
       "      <th>RPG</th>\n",
       "      <th>APG</th>\n",
       "      <th>SPG</th>\n",
       "      <th>BPG</th>\n",
       "      <th>TPG</th>\n",
       "      <th>FPG</th>\n",
       "      <th>A2TO</th>\n",
       "      <th>PER</th>\n",
       "    </tr>\n",
       "  </thead>\n",
       "  <tbody>\n",
       "    <tr>\n",
       "      <th>0</th>\n",
       "      <td>25</td>\n",
       "      <td>Metta World Peace, SF</td>\n",
       "      <td>Los Angeles Lakers</td>\n",
       "      <td>35</td>\n",
       "      <td>5</td>\n",
       "      <td>16.9</td>\n",
       "      <td>5.0</td>\n",
       "      <td>0.5</td>\n",
       "      <td>2.0</td>\n",
       "      <td>2.5</td>\n",
       "      <td>0.8</td>\n",
       "      <td>0.63</td>\n",
       "      <td>0.31</td>\n",
       "      <td>0.4</td>\n",
       "      <td>1.9</td>\n",
       "      <td>1.8</td>\n",
       "      <td>8.3</td>\n",
       "    </tr>\n",
       "    <tr>\n",
       "      <th>1</th>\n",
       "      <td>91</td>\n",
       "      <td>Elton Brand, PF</td>\n",
       "      <td>Philadelphia 76ers</td>\n",
       "      <td>17</td>\n",
       "      <td>1</td>\n",
       "      <td>13.2</td>\n",
       "      <td>4.1</td>\n",
       "      <td>0.5</td>\n",
       "      <td>3.2</td>\n",
       "      <td>3.7</td>\n",
       "      <td>1.1</td>\n",
       "      <td>0.53</td>\n",
       "      <td>0.47</td>\n",
       "      <td>0.6</td>\n",
       "      <td>1.9</td>\n",
       "      <td>1.6</td>\n",
       "      <td>11.4</td>\n",
       "    </tr>\n",
       "    <tr>\n",
       "      <th>2</th>\n",
       "      <td>110</td>\n",
       "      <td>Kobe Bryant, SF</td>\n",
       "      <td>Los Angeles Lakers</td>\n",
       "      <td>66</td>\n",
       "      <td>66</td>\n",
       "      <td>28.2</td>\n",
       "      <td>17.6</td>\n",
       "      <td>0.6</td>\n",
       "      <td>3.1</td>\n",
       "      <td>3.7</td>\n",
       "      <td>2.8</td>\n",
       "      <td>0.94</td>\n",
       "      <td>0.20</td>\n",
       "      <td>2.0</td>\n",
       "      <td>1.7</td>\n",
       "      <td>1.4</td>\n",
       "      <td>14.9</td>\n",
       "    </tr>\n",
       "    <tr>\n",
       "      <th>3</th>\n",
       "      <td>136</td>\n",
       "      <td>Vince Carter, SG</td>\n",
       "      <td>Memphis Grizzlies</td>\n",
       "      <td>60</td>\n",
       "      <td>3</td>\n",
       "      <td>16.8</td>\n",
       "      <td>6.6</td>\n",
       "      <td>0.5</td>\n",
       "      <td>1.9</td>\n",
       "      <td>2.4</td>\n",
       "      <td>0.9</td>\n",
       "      <td>0.63</td>\n",
       "      <td>0.27</td>\n",
       "      <td>0.6</td>\n",
       "      <td>1.7</td>\n",
       "      <td>1.6</td>\n",
       "      <td>12.8</td>\n",
       "    </tr>\n",
       "    <tr>\n",
       "      <th>4</th>\n",
       "      <td>165</td>\n",
       "      <td>Jamal Crawford, SG</td>\n",
       "      <td>Los Angeles Clippers</td>\n",
       "      <td>79</td>\n",
       "      <td>5</td>\n",
       "      <td>26.9</td>\n",
       "      <td>14.2</td>\n",
       "      <td>0.3</td>\n",
       "      <td>1.6</td>\n",
       "      <td>1.8</td>\n",
       "      <td>2.3</td>\n",
       "      <td>0.66</td>\n",
       "      <td>0.15</td>\n",
       "      <td>1.4</td>\n",
       "      <td>1.5</td>\n",
       "      <td>1.6</td>\n",
       "      <td>14.0</td>\n",
       "    </tr>\n",
       "  </tbody>\n",
       "</table>\n",
       "</div>"
      ],
      "text/plain": [
       "    id               name_pos             team_name  GP  GS   MIN   PPG  OFFR  \\\n",
       "0   25  Metta World Peace, SF    Los Angeles Lakers  35   5  16.9   5.0   0.5   \n",
       "1   91        Elton Brand, PF    Philadelphia 76ers  17   1  13.2   4.1   0.5   \n",
       "2  110        Kobe Bryant, SF    Los Angeles Lakers  66  66  28.2  17.6   0.6   \n",
       "3  136       Vince Carter, SG     Memphis Grizzlies  60   3  16.8   6.6   0.5   \n",
       "4  165     Jamal Crawford, SG  Los Angeles Clippers  79   5  26.9  14.2   0.3   \n",
       "\n",
       "   DEFR  RPG  APG   SPG   BPG  TPG  FPG  A2TO   PER  \n",
       "0   2.0  2.5  0.8  0.63  0.31  0.4  1.9   1.8   8.3  \n",
       "1   3.2  3.7  1.1  0.53  0.47  0.6  1.9   1.6  11.4  \n",
       "2   3.1  3.7  2.8  0.94  0.20  2.0  1.7   1.4  14.9  \n",
       "3   1.9  2.4  0.9  0.63  0.27  0.6  1.7   1.6  12.8  \n",
       "4   1.6  1.8  2.3  0.66  0.15  1.4  1.5   1.6  14.0  "
      ]
     },
     "execution_count": 12,
     "metadata": {},
     "output_type": "execute_result"
    }
   ],
   "source": [
    "sample.head()"
   ]
  },
  {
   "cell_type": "code",
   "execution_count": 1,
   "metadata": {
    "collapsed": false
   },
   "outputs": [
    {
     "name": "stdout",
     "output_type": "stream",
     "text": [
      "in /home/pybokeh/.jupyter/jupyter_notebook_config.json\n",
      "- migrating keys from server_extensions to nbserver_extensions\n",
      "-   moving extension nbextensions\n",
      "- removing key NotebookApp.server_extensions\n",
      "\n"
     ]
    }
   ],
   "source": [
    "from jupyter_core.paths import jupyter_config_path\n",
    "from traitlets.config.manager import BaseJSONConfigManager\n",
    "\n",
    "config_basename, section_name = 'jupyter_notebook_config', 'NotebookApp'\n",
    "old_key, new_key = 'server_extensions', 'nbserver_extensions'\n",
    "for config_dir in jupyter_config_path():\n",
    "    cm = BaseJSONConfigManager(config_dir=config_dir)\n",
    "    config = cm.get(config_basename)\n",
    "    section = config.get(section_name, {})\n",
    "    if old_key not in section:\n",
    "        continue\n",
    "    print('in {}'.format(cm.file_name(config_basename)))\n",
    "    print('- migrating keys from {} to {}'.format(old_key, new_key))\n",
    "    for servext in section[old_key]:\n",
    "        print('-   moving extension {}'.format(servext))\n",
    "        section.setdefault(new_key, {})[servext] = True\n",
    "    print('- removing key {}.{}'.format(section_name, old_key))\n",
    "    section[old_key] = None\n",
    "    print('')\n",
    "    cm.update(config_basename, config)"
   ]
  }
 ],
 "metadata": {
  "_draft": {
   "nbviewer_url": "https://gist.github.com/304be9f0412b3216bc32b426d96d27be"
  },
  "gist": {
   "data": {
    "description": "1_throwaway/Untitled.ipynb",
    "public": true
   },
   "id": "304be9f0412b3216bc32b426d96d27be"
  },
  "hide_input": false,
  "kernelspec": {
   "display_name": "Python 3",
   "language": "python",
   "name": "python3"
  },
  "language_info": {
   "codemirror_mode": {
    "name": "ipython",
    "version": 3
   },
   "file_extension": ".py",
   "mimetype": "text/x-python",
   "name": "python",
   "nbconvert_exporter": "python",
   "pygments_lexer": "ipython3",
   "version": "3.5.1"
  }
 },
 "nbformat": 4,
 "nbformat_minor": 0
}

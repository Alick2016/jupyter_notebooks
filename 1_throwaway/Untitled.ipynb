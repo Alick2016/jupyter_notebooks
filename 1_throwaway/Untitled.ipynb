{
 "cells": [
  {
   "cell_type": "code",
   "execution_count": 8,
   "metadata": {
    "collapsed": false,
    "run_control": {
     "read_only": false
    }
   },
   "outputs": [],
   "source": [
    "%matplotlib inline\n",
    "from pandas_datareader import data as web\n",
    "from datetime import datetime\n",
    "import pandas as pd\n",
    "import matplotlib.pyplot as plt\n",
    "\n",
    "stocks = {'tech':['GOOGL', 'MSFT', 'LNKD', 'YHOO', 'FB','HPQ','AMZN'],\n",
    "          'auto':['TM','F','GM','HMC','NSANY','HYMTF'],\n",
    "          'housing':['HD','WMT','LOW']\n",
    "          }\n",
    "\n",
    "start_date = datetime(2016,1,1)\n",
    "end_date = datetime(2016, 4, 21)\n",
    "\n",
    "def get_px(stock, start, end):\n",
    "    return web.get_data_yahoo(stock, start, end)['Adj Close']\n",
    "\n",
    "df = pd.DataFrame({n: get_px(n, start_date, end_date) for n in stocks['tech']})"
   ]
  },
  {
   "cell_type": "code",
   "execution_count": 9,
   "metadata": {
    "collapsed": false,
    "run_control": {
     "read_only": false
    }
   },
   "outputs": [
    {
     "data": {
      "text/html": [
       "<div>\n",
       "<table border=\"1\" class=\"dataframe\">\n",
       "  <thead>\n",
       "    <tr style=\"text-align: right;\">\n",
       "      <th></th>\n",
       "      <th>AMZN</th>\n",
       "      <th>FB</th>\n",
       "      <th>GOOGL</th>\n",
       "      <th>HPQ</th>\n",
       "      <th>LNKD</th>\n",
       "      <th>MSFT</th>\n",
       "      <th>YHOO</th>\n",
       "    </tr>\n",
       "    <tr>\n",
       "      <th>Date</th>\n",
       "      <th></th>\n",
       "      <th></th>\n",
       "      <th></th>\n",
       "      <th></th>\n",
       "      <th></th>\n",
       "      <th></th>\n",
       "      <th></th>\n",
       "    </tr>\n",
       "  </thead>\n",
       "  <tbody>\n",
       "    <tr>\n",
       "      <th>2016-01-04</th>\n",
       "      <td>636.989990</td>\n",
       "      <td>102.220001</td>\n",
       "      <td>759.440002</td>\n",
       "      <td>11.471342</td>\n",
       "      <td>225.550003</td>\n",
       "      <td>54.409346</td>\n",
       "      <td>31.400000</td>\n",
       "    </tr>\n",
       "    <tr>\n",
       "      <th>2016-01-05</th>\n",
       "      <td>633.789978</td>\n",
       "      <td>102.730003</td>\n",
       "      <td>761.530029</td>\n",
       "      <td>11.580122</td>\n",
       "      <td>229.000000</td>\n",
       "      <td>54.657563</td>\n",
       "      <td>32.200001</td>\n",
       "    </tr>\n",
       "    <tr>\n",
       "      <th>2016-01-06</th>\n",
       "      <td>632.650024</td>\n",
       "      <td>102.970001</td>\n",
       "      <td>759.330017</td>\n",
       "      <td>11.164780</td>\n",
       "      <td>226.080002</td>\n",
       "      <td>53.664692</td>\n",
       "      <td>32.160000</td>\n",
       "    </tr>\n",
       "    <tr>\n",
       "      <th>2016-01-07</th>\n",
       "      <td>607.940002</td>\n",
       "      <td>97.919998</td>\n",
       "      <td>741.000000</td>\n",
       "      <td>10.650548</td>\n",
       "      <td>217.000000</td>\n",
       "      <td>51.798093</td>\n",
       "      <td>30.160000</td>\n",
       "    </tr>\n",
       "    <tr>\n",
       "      <th>2016-01-08</th>\n",
       "      <td>607.049988</td>\n",
       "      <td>97.330002</td>\n",
       "      <td>730.909973</td>\n",
       "      <td>10.462655</td>\n",
       "      <td>215.899994</td>\n",
       "      <td>51.956956</td>\n",
       "      <td>30.629999</td>\n",
       "    </tr>\n",
       "  </tbody>\n",
       "</table>\n",
       "</div>"
      ],
      "text/plain": [
       "                  AMZN          FB       GOOGL        HPQ        LNKD  \\\n",
       "Date                                                                    \n",
       "2016-01-04  636.989990  102.220001  759.440002  11.471342  225.550003   \n",
       "2016-01-05  633.789978  102.730003  761.530029  11.580122  229.000000   \n",
       "2016-01-06  632.650024  102.970001  759.330017  11.164780  226.080002   \n",
       "2016-01-07  607.940002   97.919998  741.000000  10.650548  217.000000   \n",
       "2016-01-08  607.049988   97.330002  730.909973  10.462655  215.899994   \n",
       "\n",
       "                 MSFT       YHOO  \n",
       "Date                              \n",
       "2016-01-04  54.409346  31.400000  \n",
       "2016-01-05  54.657563  32.200001  \n",
       "2016-01-06  53.664692  32.160000  \n",
       "2016-01-07  51.798093  30.160000  \n",
       "2016-01-08  51.956956  30.629999  "
      ]
     },
     "execution_count": 9,
     "metadata": {},
     "output_type": "execute_result"
    }
   ],
   "source": [
    "df.head()"
   ]
  }
 ],
 "metadata": {
  "hide_input": false,
  "kernelspec": {
   "display_name": "Python 3",
   "language": "python",
   "name": "python3"
  },
  "language_info": {
   "codemirror_mode": {
    "name": "ipython",
    "version": 3
   },
   "file_extension": ".py",
   "mimetype": "text/x-python",
   "name": "python",
   "nbconvert_exporter": "python",
   "pygments_lexer": "ipython3",
   "version": "3.5.1"
  }
 },
 "nbformat": 4,
 "nbformat_minor": 0
}

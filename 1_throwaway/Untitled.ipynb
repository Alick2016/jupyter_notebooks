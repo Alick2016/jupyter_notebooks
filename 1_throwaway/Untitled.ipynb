{
 "cells": [
  {
   "cell_type": "code",
   "execution_count": 1,
   "metadata": {
    "collapsed": false
   },
   "outputs": [
    {
     "name": "stdout",
     "output_type": "stream",
     "text": [
      "hello\n"
     ]
    }
   ],
   "source": [
    "print('hello')"
   ]
  },
  {
   "cell_type": "code",
   "execution_count": 1,
   "metadata": {
    "collapsed": true,
    "run_control": {
     "read_only": false
    }
   },
   "outputs": [],
   "source": []
  },
  {
   "cell_type": "code",
   "execution_count": 2,
   "metadata": {
    "collapsed": false,
    "run_control": {
     "read_only": false
    }
   },
   "outputs": [
    {
     "name": "stdout",
     "output_type": "stream",
     "text": [
      "Help on method from_formula in module statsmodels.base.model:\n",
      "\n",
      "from_formula(formula, data, subset=None, *args, **kwargs) method of builtins.type instance\n",
      "    Create a Model from a formula and dataframe.\n",
      "    \n",
      "    Parameters\n",
      "    ----------\n",
      "    formula : str or generic Formula object\n",
      "        The formula specifying the model\n",
      "    data : array-like\n",
      "        The data for the model. See Notes.\n",
      "    subset : array-like\n",
      "        An array-like object of booleans, integers, or index values that\n",
      "        indicate the subset of df to use in the model. Assumes df is a\n",
      "        `pandas.DataFrame`\n",
      "    args : extra arguments\n",
      "        These are passed to the model\n",
      "    kwargs : extra keyword arguments\n",
      "        These are passed to the model with one exception. The\n",
      "        ``eval_env`` keyword is passed to patsy. It can be either a\n",
      "        :class:`patsy:patsy.EvalEnvironment` object or an integer\n",
      "        indicating the depth of the namespace to use. For example, the\n",
      "        default ``eval_env=0`` uses the calling namespace. If you wish\n",
      "        to use a \"clean\" environment set ``eval_env=-1``.\n",
      "    \n",
      "    \n",
      "    Returns\n",
      "    -------\n",
      "    model : Model instance\n",
      "    \n",
      "    Notes\n",
      "    ------\n",
      "    data must define __getitem__ with the keys in the formula terms\n",
      "    args and kwargs are passed on to the model instantiation. E.g.,\n",
      "    a numpy structured or rec array, a dictionary, or a pandas DataFrame.\n",
      "\n"
     ]
    }
   ],
   "source": [
    "help(sm.poisson)"
   ]
  },
  {
   "cell_type": "code",
   "execution_count": 3,
   "metadata": {
    "collapsed": false,
    "run_control": {
     "read_only": false
    }
   },
   "outputs": [
    {
     "data": {
      "text/plain": [
       "Index(['VIN', 'FAIL_SHORT_PARTNO', 'FAIL_SHORT_PARTNAME', 'FAIL_PARTNO',\n",
       "       'FAIL_PART_DESC', 'PART_COST_USD', 'CLAIM_COST_USD',\n",
       "       'DAYS_TO_FAIL_MINZERO', 'MILES_TO_FAIL', 'RO_DATE', 'AF_OFF_DATE',\n",
       "       'DESTINATION_CODE', 'MODEL_YEAR', 'FACTORY_CODE', 'MODEL_NAME', 'DOORS',\n",
       "       'GRADE_SHORT', 'ENGINE_CYLINDERS', 'TRANSMISSION', 'SEATS_LEATHER',\n",
       "       'ENGINE_SERIES', 'FOUR_WHEEL_DRIVE', 'NAVIGATION', 'AF_OFF_YR_MTH',\n",
       "       'RO_YR_MTH', 'PRI_LAB_OPRTN_CD', 'CLM_SK', 'VIN_SK', 'CLM_NO',\n",
       "       'CLAIM_DLR_NO', 'DEFECT_CODE'],\n",
       "      dtype='object')"
      ]
     },
     "execution_count": 3,
     "metadata": {},
     "output_type": "execute_result"
    }
   ],
   "source": [
    "df.columns"
   ]
  },
  {
   "cell_type": "code",
   "execution_count": 23,
   "metadata": {
    "collapsed": false,
    "run_control": {
     "read_only": false
    }
   },
   "outputs": [
    {
     "data": {
      "text/plain": [
       "<matplotlib.figure.Figure at 0x7f43531e1ba8>"
      ]
     },
     "metadata": {},
     "output_type": "display_data"
    },
    {
     "data": {
      "image/png": "[encoded data removed]",
      "text/plain": [
       "<matplotlib.figure.Figure at 0x7f43531e1860>"
      ]
     },
     "metadata": {},
     "output_type": "display_data"
    }
   ],
   "source": [
    "df.hist(column='DAYS_TO_FAIL_MINZERO', by='GRADE_SHORT')\n",
    "plt.show()"
   ]
  }
 ],
 "metadata": {
  "hide_input": false,
  "kernelspec": {
   "display_name": "Python 3",
   "language": "python",
   "name": "python3"
  },
  "language_info": {
   "codemirror_mode": {
    "name": "ipython",
    "version": 3
   },
   "file_extension": ".py",
   "mimetype": "text/x-python",
   "name": "python",
   "nbconvert_exporter": "python",
   "pygments_lexer": "ipython3",
   "version": "3.5.1"
  }
 },
 "nbformat": 4,
 "nbformat_minor": 0
}

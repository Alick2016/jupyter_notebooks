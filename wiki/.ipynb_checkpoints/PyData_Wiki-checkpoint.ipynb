{
 "cells": [
  {
   "cell_type": "markdown",
   "metadata": {},
   "source": [
    "<center><h1>Python For Data Analysis Wiki</h1></center>"
   ]
  },
  {
   "cell_type": "markdown",
   "metadata": {},
   "source": [
    "This wiki does not cover teaching Python.  This wiki assumes basic prior knowledge of Python programming with the focus on using it for data analysis."
   ]
  },
  {
   "cell_type": "markdown",
   "metadata": {
    "run_control": {
     "read_only": false
    }
   },
   "source": [
    "## Setting up a Python 3.X environment / Using virtual environments / Popular IDEs"
   ]
  },
  {
   "cell_type": "markdown",
   "metadata": {},
   "source": [
    "- **Ananconda / Miniconda3 distribution by Continuum Analytics (highly recommended for Windows users)**\n",
    "    - Get the Miniconda3 installer [here](http://conda.pydata.org/miniconda.html)\n",
    "    - [How-To conda command](http://nbviewer.jupyter.org/github/pybokeh/jupyter_notebooks/blob/master/conda/conda_howto.ipynb): making virtual environments, installing/uninstall packages, etc\n",
    "        - [Official Conda cheat sheet](http://conda.pydata.org/docs/_downloads/conda-cheatsheet.pdf)   \n",
    "- **Popular IDEs**\n",
    "    - [PyCharm Community Edition](https://www.jetbrains.com/pycharm/features/) More resource intensive IDE\n",
    "    - [Sublime Text](https://www.sublimetext.com/) A fast, light-weight IDE\n",
    "        - [How I setup Sublime Text 3 for interactive data analysis](http://nbviewer.jupyter.org/github/pybokeh/jupyter_notebooks/blob/master/sublime_text/ST3_For_Interactive_Data_Analysis.ipynb)\n",
    "    - [Jupyter Notebook](http://jupyter.org/) (not an IDE, but very useful for exploratory data analysis and reproducibility.  Also check out [literate programming](https://en.wikipedia.org/wiki/Literate_programming)).\n",
    "    - [Yhat Rodeo](https://www.yhat.com/products/rodeo) An IDE for data science\n",
    "    - [Spyder IDE](https://pythonhosted.org/spyder/) (more familiar to people with MATLAB background)\n",
    "    - VIM :)"
   ]
  },
  {
   "cell_type": "markdown",
   "metadata": {},
   "source": [
    "### My Python environment:"
   ]
  },
  {
   "cell_type": "markdown",
   "metadata": {},
   "source": [
    "- Python 3.X installed in virtual environment using Miniconda 3 at home and work\n",
    "- Jupyter notebook for prototyping purposes and debugging, then finalize using Sublime Text 3 in VIM emulation mode."
   ]
  },
  {
   "cell_type": "markdown",
   "metadata": {},
   "source": [
    "## Data Ingestion From Various Sources"
   ]
  },
  {
   "cell_type": "markdown",
   "metadata": {},
   "source": [
    "- Reading several file types as input using [Pandas](http://pandas.pydata.org/pandas-docs/stable/io.html)\n",
    "- Connecting to an ODBC data source using [pyodbc](https://nbviewer.jupyter.org/github/pybokeh/jupyter_notebooks/blob/master/pandas/PandasCheatSheet.ipynb#database)  Drivers available for working with MySQL / MariaDB / PostgreSQL / or even ORDBs using SqlAlchemy\n",
    "- Web-scraping using [BeautifulSoup](http://www.crummy.com/software/BeautifulSoup/bs4/doc/) or [lxml](http://lxml.de/)\n",
    "- [Excel files](http://www.python-excel.org/)\n",
    "- \"Largish\" data ingestion using [Dask](http://dask.pydata.org) (data larger than RAM, but fits on hard drive) - But you should still try to use a database!"
   ]
  },
  {
   "cell_type": "markdown",
   "metadata": {},
   "source": [
    "## Data Clean-up / Transformation"
   ]
  },
  {
   "cell_type": "markdown",
   "metadata": {},
   "source": [
    "- [Tidying Data](https://www.ibm.com/developerworks/community/blogs/jfp/entry/Tidy_Data_In_Python?lang=en)\n",
    "- [Pandas Cheat Sheet](https://nbviewer.jupyter.org/github/pybokeh/jupyter_notebooks/blob/master/pandas/PandasCheatSheet.ipynb)\n",
    "- Using [xlwings](https://nbviewer.jupyter.org/github/pybokeh/jupyter_notebooks/blob/master/xlwings/Excel_Formatting.ipynb) to replace Excel VBA"
   ]
  },
  {
   "cell_type": "markdown",
   "metadata": {},
   "source": [
    "## Data Visualization"
   ]
  },
  {
   "cell_type": "markdown",
   "metadata": {},
   "source": [
    "- [MATPLOTLIB](http://matplotlib.org/)\n",
    "    - But [this](http://nbviewer.jupyter.org/github/jrjohansson/scientific-python-lectures/blob/master/Lecture-4-Matplotlib.ipynb) should be the official tutorial\n",
    "- Don't forget, [pandas](http://pandas.pydata.org/pandas-docs/stable/visualization.html) has a wrapper around matplotlib, so you can plot [directly](http://pandas.pydata.org/pandas-docs/stable/api.html#api-dataframe-plotting) from pandas dataframes/series\n",
    "    - So you can do something like:\n",
    "    \n",
    "    df.plot.hist() or df.plot.bar() or df.plot.boxplot, etc\n",
    "    \n",
    "    \n",
    "- [seaborn](https://stanford.edu/~mwaskom/software/seaborn/)  For more fancier-looking stat charts\n",
    "- [bokeh](http://bokeh.pydata.org/en/latest/)  javascript-based\n",
    "- [plotly](https://plot.ly/python/)  javascript-based\n",
    "- [lightning](http://lightning-viz.org/)  javascript-based\n",
    "- Yhat [ggplot](http://blog.yhat.com/posts/ggplot-for-python.html) (development dead?)\n",
    "- Dashboard frameworks similar to R's Shiny\n",
    "    - [Spyre](https://github.com/adamhajari/spyre/blob/master/README.md)\n",
    "    - [Pyxley](http://multithreaded.stitchfix.com/blog/2015/07/16/pyxley/)"
   ]
  },
  {
   "cell_type": "markdown",
   "metadata": {},
   "source": [
    "## Data Summarization / Statistics using Scipy or Pandas"
   ]
  },
  {
   "cell_type": "markdown",
   "metadata": {},
   "source": [
    "- Summary statistics using Pandas\n",
    "- [Distribution fitting and Q-Q Plot](http://nbviewer.jupyter.org/github/pybokeh/jupyter_notebooks/blob/master/statistics/Testing_For_Normality_and_Distribution_Fitting.ipynb)\n",
    "- Linear regression / correlation\n",
    "- Bootstrap method\n",
    "- Shuffling method"
   ]
  },
  {
   "cell_type": "markdown",
   "metadata": {},
   "source": [
    "## For the aspiring Polyglot"
   ]
  },
  {
   "cell_type": "markdown",
   "metadata": {},
   "source": [
    "- [Using R from Python via jupyter notebook](https://nbviewer.jupyter.org/github/pybokeh/jupyter_notebooks/blob/master/pandas/PandasCheatSheet.ipynb#rpy2)\n",
    "- Using Python from within R using [rPython](http://www.r-bloggers.com/calling-python-from-r-with-rpython/) (Windows supported?) [rPython-win](https://github.com/cjgb/rPython-win)\n",
    "- [Comparison](http://nbviewer.jupyter.org/urls/gist.githubusercontent.com/TomAugspurger/6e052140eaa5fdb6e8c0/raw/811585624e843f3f80b9b6fe89e18119d7d2d73c/dplyr_pandas.ipynb) of R's dplyr and Pandas\n",
    "- Python clone of R's dplyr called [dplython](https://github.com/dodger487/dplython)!  Python 2.7 only, but support for Python 3 coming.\n",
    "- Other related polyglot technologies inspired by the Jupyter project\n",
    "    - [Beaker notebook](http://beakernotebook.com/) (Java-based)\n",
    "    - [Apache Zeppelin](https://zeppelin.incubator.apache.org/) (Java-based)"
   ]
  },
  {
   "cell_type": "markdown",
   "metadata": {},
   "source": [
    "## Other useful resources"
   ]
  },
  {
   "cell_type": "markdown",
   "metadata": {},
   "source": [
    "- Probably the most [comprehensive resource](http://people.duke.edu/~ccc14/sta-663/) on using Python for scientific computing I have ever seen\n",
    "- Practical Business Python [website](http://pbpython.com/)\n",
    "- Chris Albon's Python and R [scripts](http://chrisalbon.com/)"
   ]
  }
 ],
 "metadata": {
  "hide_input": false,
  "kernelspec": {
   "display_name": "Python 3",
   "language": "python",
   "name": "python3"
  },
  "language_info": {
   "codemirror_mode": {
    "name": "ipython",
    "version": 3
   },
   "file_extension": ".py",
   "mimetype": "text/x-python",
   "name": "python",
   "nbconvert_exporter": "python",
   "pygments_lexer": "ipython3",
   "version": "3.5.1"
  }
 },
 "nbformat": 4,
 "nbformat_minor": 0
}

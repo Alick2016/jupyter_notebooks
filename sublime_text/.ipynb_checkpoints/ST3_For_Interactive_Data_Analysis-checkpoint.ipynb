{
 "cells": [
  {
   "cell_type": "markdown",
   "metadata": {
    "run_control": {
     "read_only": false
    }
   },
   "source": [
    "# How I setup Sublime Text 3 for Interactive Data Analysis Work"
   ]
  },
  {
   "cell_type": "markdown",
   "metadata": {},
   "source": [
    "Inspired by projects like jupyter notebooks and Yhat's Rodeo, I thought to myself that it would be great if I could mimic them in my Sublime Text 3 text editor.  After much trial and error, Googling, and searching SO, I finally found a setup that was simple and basic, yet close to what I want."
   ]
  },
  {
   "cell_type": "markdown",
   "metadata": {},
   "source": [
    "FYI: I use Continuum IO's [miniconda/conda](http://conda.pydata.org/miniconda.html) to create Python virtual environments.  So I'll be setting up ST3 to use a specific Python interpreter located at:<br>/home/pybokeh/miniconda3/envs/jupyter/bin/python"
   ]
  },
  {
   "cell_type": "markdown",
   "metadata": {},
   "source": [
    "### Step 1: Enable Vinatage / VIM mode"
   ]
  },
  {
   "cell_type": "markdown",
   "metadata": {},
   "source": [
    "Go to \"Preferences\" --> \"Settings - User\", then add:"
   ]
  },
  {
   "cell_type": "code",
   "execution_count": null,
   "metadata": {
    "collapsed": true
   },
   "outputs": [],
   "source": [
    "\"ignored_packages\":[],\n",
    "\"translate_tabs_to_spaces\": false,\n",
    "\"vintage_start_in_command_mode\": true"
   ]
  },
  {
   "cell_type": "markdown",
   "metadata": {},
   "source": [
    "### Step 2: Install Package Control - go [here](https://packagecontrol.io/installation) for instructions"
   ]
  },
  {
   "cell_type": "markdown",
   "metadata": {},
   "source": [
    "### Step 3: Install Anaconda and setup up specific Python interpreter at project level"
   ]
  },
  {
   "cell_type": "markdown",
   "metadata": {},
   "source": [
    "See [\"Overriding details per project\"](http://damnwidget.github.io/anaconda/anaconda_settings/)"
   ]
  },
  {
   "cell_type": "markdown",
   "metadata": {},
   "source": [
    "Go to: \"Preferences\" --> \"Package Control\", then select \"Install Package\". Then choose \"Anaconda\"."
   ]
  },
  {
   "cell_type": "markdown",
   "metadata": {},
   "source": [
    "Save \"Project As\" (ie 'jupyter')\n",
    "Then edit project and add the following to the json file:"
   ]
  },
  {
   "cell_type": "code",
   "execution_count": null,
   "metadata": {
    "collapsed": true
   },
   "outputs": [],
   "source": [
    "\"settings\":\n",
    "{\n",
    "\t\"python_interpreter\": \"/home/pybokeh/miniconda3/envs/jupyter/bin/python\"\n",
    "}"
   ]
  },
  {
   "cell_type": "markdown",
   "metadata": {},
   "source": [
    "Then make Sublime build your Python scripts using the Anaconda interpreter:\n",
    "Go to \"Tools\" --> \"Build System\", then check \"Anaconda Python Builder\""
   ]
  },
  {
   "cell_type": "markdown",
   "metadata": {},
   "source": [
    "### Step 4: Install SublimeREPL"
   ]
  },
  {
   "cell_type": "markdown",
   "metadata": {},
   "source": [
    "Setup SublimeREPL to use the Python interpreter from the virtual environment\n",
    "Go to \"Preferences\" --> \"Package Settings\" --> \"SublimeREPL\" --> \"Settings - User\"\n",
    "Then add:"
   ]
  },
  {
   "cell_type": "code",
   "execution_count": null,
   "metadata": {
    "collapsed": true
   },
   "outputs": [],
   "source": [
    "\"default_extend_env\": {\"PATH\": \"/home/pybokeh/miniconda3/envs/jupyter/bin:{PATH}\"}"
   ]
  },
  {
   "cell_type": "markdown",
   "metadata": {},
   "source": [
    "### Step 5: Bind Ctrl+ENTER to execute highlighted code"
   ]
  },
  {
   "cell_type": "markdown",
   "metadata": {},
   "source": [
    "Go to: \"Preferences\" --> \"Key Bindings - User\", then add:"
   ]
  },
  {
   "cell_type": "code",
   "execution_count": null,
   "metadata": {
    "collapsed": true
   },
   "outputs": [],
   "source": [
    "{\"keys\": [\"ctrl+enter\"], \"command\": \"repl_transfer_current\", \n",
    " \"args\": {\"scope\": \"selection\"}\n",
    "}"
   ]
  },
  {
   "cell_type": "markdown",
   "metadata": {},
   "source": [
    "### Step 6: Split the screen vertically, making the bottom screen my REPL"
   ]
  },
  {
   "cell_type": "markdown",
   "metadata": {},
   "source": [
    "Go to: \"View\" --> \"Layout\", then choose \"Rows 2\""
   ]
  },
  {
   "cell_type": "markdown",
   "metadata": {},
   "source": [
    "### Step 7: Launch the REPL in the bottom screen"
   ]
  },
  {
   "cell_type": "markdown",
   "metadata": {},
   "source": [
    "Go to: \"Tools\" --> \"SublimeREPL\" --> \"Python\" --> \"Python\""
   ]
  }
 ],
 "metadata": {
  "hide_input": false,
  "kernelspec": {
   "display_name": "Python 3",
   "language": "python",
   "name": "python3"
  },
  "language_info": {
   "codemirror_mode": {
    "name": "ipython",
    "version": 3
   },
   "file_extension": ".py",
   "mimetype": "text/x-python",
   "name": "python",
   "nbconvert_exporter": "python",
   "pygments_lexer": "ipython3",
   "version": "3.5.1"
  }
 },
 "nbformat": 4,
 "nbformat_minor": 0
}

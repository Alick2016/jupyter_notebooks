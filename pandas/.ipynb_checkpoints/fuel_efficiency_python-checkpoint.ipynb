{
 "cells": [
  {
   "cell_type": "markdown",
   "metadata": {},
   "source": [
    "<center><h1>Analyzing Automobile Fuel Economy Data</h1><h3>Using Python</h3></center>"
   ]
  },
  {
   "cell_type": "markdown",
   "metadata": {},
   "source": [
    "Data source: [http://www.fueleconomy.gov/feg/ws/index.shtml](http://www.fueleconomy.gov/feg/ws/index.shtml)<br>\n",
    "Data file: [http://www.fueleconomy.gov/feg/epadata/vehicles.csv.zip](http://www.fueleconomy.gov/feg/epadata/vehicles.csv.zip)<br>\n",
    "Data meta data: [http://www.fueleconomy.gov/feg/ws/index.shtml#vehicle](http://www.fueleconomy.gov/feg/ws/index.shtml#vehicle)"
   ]
  },
  {
   "cell_type": "markdown",
   "metadata": {},
   "source": [
    "#### I've installed the usual packages for data analyis and plotting:"
   ]
  },
  {
   "cell_type": "code",
   "execution_count": 3,
   "metadata": {
    "collapsed": false
   },
   "outputs": [],
   "source": [
    "%matplotlib inline\n",
    "import pandas as pd\n",
    "import numpy as np\n",
    "import matplotlib.pyplot as plt\n",
    "from pivottablejs import pivot_ui\n",
    "import warnings\n",
    "warnings.filterwarnings('ignore')\n",
    "pd.options.display.max_columns = 999"
   ]
  },
  {
   "cell_type": "code",
   "execution_count": 4,
   "metadata": {
    "collapsed": false
   },
   "outputs": [],
   "source": [
    "# I've downloaded the csv file, so let's see what's in it\n",
    "vehicles = pd.read_csv('/home/pybokeh/temp/vehicles.csv')"
   ]
  },
  {
   "cell_type": "code",
   "execution_count": 6,
   "metadata": {
    "collapsed": false
   },
   "outputs": [
    {
     "data": {
      "text/html": [
       "\n",
       "        <iframe\n",
       "            width=\"100%\"\n",
       "            height=\"500\"\n",
       "            src=\"pivottablejs.html\"\n",
       "            frameborder=\"0\"\n",
       "            allowfullscreen\n",
       "        ></iframe>\n",
       "        "
      ],
      "text/plain": [
       "<IPython.lib.display.IFrame at 0x7f58b597cb70>"
      ]
     },
     "execution_count": 6,
     "metadata": {},
     "output_type": "execute_result"
    }
   ],
   "source": [
    "pivot_ui(vehicles)"
   ]
  },
  {
   "cell_type": "code",
   "execution_count": 7,
   "metadata": {
    "collapsed": false
   },
   "outputs": [
    {
     "data": {
      "text/html": [
       "\n",
       "        <iframe\n",
       "            width=\"100%\"\n",
       "            height=\"500\"\n",
       "            src=\"pivottablejs.html\"\n",
       "            frameborder=\"0\"\n",
       "            allowfullscreen\n",
       "        ></iframe>\n",
       "        "
      ],
      "text/plain": [
       "<IPython.lib.display.IFrame at 0x7f58b597cbe0>"
      ]
     },
     "execution_count": 7,
     "metadata": {},
     "output_type": "execute_result"
    }
   ],
   "source": [
    "pivot_ui(vehicles)"
   ]
  },
  {
   "cell_type": "code",
   "execution_count": 8,
   "metadata": {
    "collapsed": false
   },
   "outputs": [
    {
     "data": {
      "text/html": [
       "\n",
       "        <iframe\n",
       "            width=\"100%\"\n",
       "            height=\"500\"\n",
       "            src=\"pivottablejs.html\"\n",
       "            frameborder=\"0\"\n",
       "            allowfullscreen\n",
       "        ></iframe>\n",
       "        "
      ],
      "text/plain": [
       "<IPython.lib.display.IFrame at 0x7f58b597cc88>"
      ]
     },
     "execution_count": 8,
     "metadata": {},
     "output_type": "execute_result"
    }
   ],
   "source": [
    "pivot_ui(vehicles)"
   ]
  },
  {
   "cell_type": "markdown",
   "metadata": {},
   "source": [
    "### If you rather observe the columns vertically, we can transpose the dataframe:"
   ]
  },
  {
   "cell_type": "code",
   "execution_count": 4,
   "metadata": {
    "collapsed": false
   },
   "outputs": [
    {
     "data": {
      "text/html": [
       "<div>\n",
       "<table border=\"1\" class=\"dataframe\">\n",
       "  <thead>\n",
       "    <tr style=\"text-align: right;\">\n",
       "      <th></th>\n",
       "      <th>0</th>\n",
       "    </tr>\n",
       "  </thead>\n",
       "  <tbody>\n",
       "    <tr>\n",
       "      <th>barrels08</th>\n",
       "      <td>15.6894</td>\n",
       "    </tr>\n",
       "    <tr>\n",
       "      <th>barrelsA08</th>\n",
       "      <td>0</td>\n",
       "    </tr>\n",
       "    <tr>\n",
       "      <th>charge120</th>\n",
       "      <td>0</td>\n",
       "    </tr>\n",
       "    <tr>\n",
       "      <th>charge240</th>\n",
       "      <td>0</td>\n",
       "    </tr>\n",
       "    <tr>\n",
       "      <th>city08</th>\n",
       "      <td>19</td>\n",
       "    </tr>\n",
       "    <tr>\n",
       "      <th>city08U</th>\n",
       "      <td>0</td>\n",
       "    </tr>\n",
       "    <tr>\n",
       "      <th>cityA08</th>\n",
       "      <td>0</td>\n",
       "    </tr>\n",
       "    <tr>\n",
       "      <th>cityA08U</th>\n",
       "      <td>0</td>\n",
       "    </tr>\n",
       "    <tr>\n",
       "      <th>cityCD</th>\n",
       "      <td>0</td>\n",
       "    </tr>\n",
       "    <tr>\n",
       "      <th>cityE</th>\n",
       "      <td>0</td>\n",
       "    </tr>\n",
       "    <tr>\n",
       "      <th>cityUF</th>\n",
       "      <td>0</td>\n",
       "    </tr>\n",
       "    <tr>\n",
       "      <th>co2</th>\n",
       "      <td>-1</td>\n",
       "    </tr>\n",
       "    <tr>\n",
       "      <th>co2A</th>\n",
       "      <td>-1</td>\n",
       "    </tr>\n",
       "    <tr>\n",
       "      <th>co2TailpipeAGpm</th>\n",
       "      <td>0</td>\n",
       "    </tr>\n",
       "    <tr>\n",
       "      <th>co2TailpipeGpm</th>\n",
       "      <td>423.19</td>\n",
       "    </tr>\n",
       "    <tr>\n",
       "      <th>comb08</th>\n",
       "      <td>21</td>\n",
       "    </tr>\n",
       "    <tr>\n",
       "      <th>comb08U</th>\n",
       "      <td>0</td>\n",
       "    </tr>\n",
       "    <tr>\n",
       "      <th>combA08</th>\n",
       "      <td>0</td>\n",
       "    </tr>\n",
       "    <tr>\n",
       "      <th>combA08U</th>\n",
       "      <td>0</td>\n",
       "    </tr>\n",
       "    <tr>\n",
       "      <th>combE</th>\n",
       "      <td>0</td>\n",
       "    </tr>\n",
       "    <tr>\n",
       "      <th>combinedCD</th>\n",
       "      <td>0</td>\n",
       "    </tr>\n",
       "    <tr>\n",
       "      <th>combinedUF</th>\n",
       "      <td>0</td>\n",
       "    </tr>\n",
       "    <tr>\n",
       "      <th>cylinders</th>\n",
       "      <td>4</td>\n",
       "    </tr>\n",
       "    <tr>\n",
       "      <th>displ</th>\n",
       "      <td>2</td>\n",
       "    </tr>\n",
       "    <tr>\n",
       "      <th>drive</th>\n",
       "      <td>Rear-Wheel Drive</td>\n",
       "    </tr>\n",
       "    <tr>\n",
       "      <th>engId</th>\n",
       "      <td>9011</td>\n",
       "    </tr>\n",
       "    <tr>\n",
       "      <th>eng_dscr</th>\n",
       "      <td>(FFS)</td>\n",
       "    </tr>\n",
       "    <tr>\n",
       "      <th>feScore</th>\n",
       "      <td>-1</td>\n",
       "    </tr>\n",
       "    <tr>\n",
       "      <th>fuelCost08</th>\n",
       "      <td>1600</td>\n",
       "    </tr>\n",
       "    <tr>\n",
       "      <th>fuelCostA08</th>\n",
       "      <td>0</td>\n",
       "    </tr>\n",
       "    <tr>\n",
       "      <th>...</th>\n",
       "      <td>...</td>\n",
       "    </tr>\n",
       "    <tr>\n",
       "      <th>rangeCity</th>\n",
       "      <td>0</td>\n",
       "    </tr>\n",
       "    <tr>\n",
       "      <th>rangeCityA</th>\n",
       "      <td>0</td>\n",
       "    </tr>\n",
       "    <tr>\n",
       "      <th>rangeHwy</th>\n",
       "      <td>0</td>\n",
       "    </tr>\n",
       "    <tr>\n",
       "      <th>rangeHwyA</th>\n",
       "      <td>0</td>\n",
       "    </tr>\n",
       "    <tr>\n",
       "      <th>trany</th>\n",
       "      <td>Manual 5-spd</td>\n",
       "    </tr>\n",
       "    <tr>\n",
       "      <th>UCity</th>\n",
       "      <td>23.3333</td>\n",
       "    </tr>\n",
       "    <tr>\n",
       "      <th>UCityA</th>\n",
       "      <td>0</td>\n",
       "    </tr>\n",
       "    <tr>\n",
       "      <th>UHighway</th>\n",
       "      <td>35</td>\n",
       "    </tr>\n",
       "    <tr>\n",
       "      <th>UHighwayA</th>\n",
       "      <td>0</td>\n",
       "    </tr>\n",
       "    <tr>\n",
       "      <th>VClass</th>\n",
       "      <td>Two Seaters</td>\n",
       "    </tr>\n",
       "    <tr>\n",
       "      <th>year</th>\n",
       "      <td>1985</td>\n",
       "    </tr>\n",
       "    <tr>\n",
       "      <th>youSaveSpend</th>\n",
       "      <td>-1250</td>\n",
       "    </tr>\n",
       "    <tr>\n",
       "      <th>guzzler</th>\n",
       "      <td>NaN</td>\n",
       "    </tr>\n",
       "    <tr>\n",
       "      <th>trans_dscr</th>\n",
       "      <td>NaN</td>\n",
       "    </tr>\n",
       "    <tr>\n",
       "      <th>tCharger</th>\n",
       "      <td>NaN</td>\n",
       "    </tr>\n",
       "    <tr>\n",
       "      <th>sCharger</th>\n",
       "      <td>NaN</td>\n",
       "    </tr>\n",
       "    <tr>\n",
       "      <th>atvType</th>\n",
       "      <td>NaN</td>\n",
       "    </tr>\n",
       "    <tr>\n",
       "      <th>fuelType2</th>\n",
       "      <td>NaN</td>\n",
       "    </tr>\n",
       "    <tr>\n",
       "      <th>rangeA</th>\n",
       "      <td>NaN</td>\n",
       "    </tr>\n",
       "    <tr>\n",
       "      <th>evMotor</th>\n",
       "      <td>NaN</td>\n",
       "    </tr>\n",
       "    <tr>\n",
       "      <th>mfrCode</th>\n",
       "      <td>NaN</td>\n",
       "    </tr>\n",
       "    <tr>\n",
       "      <th>c240Dscr</th>\n",
       "      <td>NaN</td>\n",
       "    </tr>\n",
       "    <tr>\n",
       "      <th>charge240b</th>\n",
       "      <td>0</td>\n",
       "    </tr>\n",
       "    <tr>\n",
       "      <th>c240bDscr</th>\n",
       "      <td>NaN</td>\n",
       "    </tr>\n",
       "    <tr>\n",
       "      <th>createdOn</th>\n",
       "      <td>Tue Jan 01 00:00:00 EST 2013</td>\n",
       "    </tr>\n",
       "    <tr>\n",
       "      <th>modifiedOn</th>\n",
       "      <td>Tue Jan 01 00:00:00 EST 2013</td>\n",
       "    </tr>\n",
       "    <tr>\n",
       "      <th>startStop</th>\n",
       "      <td>NaN</td>\n",
       "    </tr>\n",
       "    <tr>\n",
       "      <th>phevCity</th>\n",
       "      <td>0</td>\n",
       "    </tr>\n",
       "    <tr>\n",
       "      <th>phevHwy</th>\n",
       "      <td>0</td>\n",
       "    </tr>\n",
       "    <tr>\n",
       "      <th>phevComb</th>\n",
       "      <td>0</td>\n",
       "    </tr>\n",
       "  </tbody>\n",
       "</table>\n",
       "<p>83 rows × 1 columns</p>\n",
       "</div>"
      ],
      "text/plain": [
       "                                            0\n",
       "barrels08                             15.6894\n",
       "barrelsA08                                  0\n",
       "charge120                                   0\n",
       "charge240                                   0\n",
       "city08                                     19\n",
       "city08U                                     0\n",
       "cityA08                                     0\n",
       "cityA08U                                    0\n",
       "cityCD                                      0\n",
       "cityE                                       0\n",
       "cityUF                                      0\n",
       "co2                                        -1\n",
       "co2A                                       -1\n",
       "co2TailpipeAGpm                             0\n",
       "co2TailpipeGpm                         423.19\n",
       "comb08                                     21\n",
       "comb08U                                     0\n",
       "combA08                                     0\n",
       "combA08U                                    0\n",
       "combE                                       0\n",
       "combinedCD                                  0\n",
       "combinedUF                                  0\n",
       "cylinders                                   4\n",
       "displ                                       2\n",
       "drive                        Rear-Wheel Drive\n",
       "engId                                    9011\n",
       "eng_dscr                                (FFS)\n",
       "feScore                                    -1\n",
       "fuelCost08                               1600\n",
       "fuelCostA08                                 0\n",
       "...                                       ...\n",
       "rangeCity                                   0\n",
       "rangeCityA                                  0\n",
       "rangeHwy                                    0\n",
       "rangeHwyA                                   0\n",
       "trany                            Manual 5-spd\n",
       "UCity                                 23.3333\n",
       "UCityA                                      0\n",
       "UHighway                                   35\n",
       "UHighwayA                                   0\n",
       "VClass                            Two Seaters\n",
       "year                                     1985\n",
       "youSaveSpend                            -1250\n",
       "guzzler                                   NaN\n",
       "trans_dscr                                NaN\n",
       "tCharger                                  NaN\n",
       "sCharger                                  NaN\n",
       "atvType                                   NaN\n",
       "fuelType2                                 NaN\n",
       "rangeA                                    NaN\n",
       "evMotor                                   NaN\n",
       "mfrCode                                   NaN\n",
       "c240Dscr                                  NaN\n",
       "charge240b                                  0\n",
       "c240bDscr                                 NaN\n",
       "createdOn        Tue Jan 01 00:00:00 EST 2013\n",
       "modifiedOn       Tue Jan 01 00:00:00 EST 2013\n",
       "startStop                                 NaN\n",
       "phevCity                                    0\n",
       "phevHwy                                     0\n",
       "phevComb                                    0\n",
       "\n",
       "[83 rows x 1 columns]"
      ]
     },
     "execution_count": 4,
     "metadata": {},
     "output_type": "execute_result"
    }
   ],
   "source": [
    "vehicles.head(1).transpose()"
   ]
  },
  {
   "cell_type": "markdown",
   "metadata": {},
   "source": [
    "#### Let's say you are wondering how the overall combined fuel economy (highway + city) has improved with each successive model year of gasoline-based automobiles, how would you find out?"
   ]
  },
  {
   "cell_type": "markdown",
   "metadata": {},
   "source": [
    "Looking at the data [metadata](http://www.fueleconomy.gov/feg/ws/index.shtml#vehicle), looks like I need to filter based off of \"fuelType\", \"fuelType1\", \"fuelType2\", and \"atvType\"."
   ]
  },
  {
   "cell_type": "markdown",
   "metadata": {},
   "source": [
    "**Looks like we can't filter using \"fuelType\" since there are categories like \"Gasoline and natural gas\" which we don't want if we're just looking for gas only vehicles.**"
   ]
  },
  {
   "cell_type": "code",
   "execution_count": 5,
   "metadata": {
    "collapsed": false
   },
   "outputs": [
    {
     "data": {
      "text/plain": [
       "Regular                        24616\n",
       "Premium                         9524\n",
       "Gasoline or E85                 1164\n",
       "Diesel                          1090\n",
       "Premium or E85                   116\n",
       "Electricity                       95\n",
       "Midgrade                          61\n",
       "CNG                               60\n",
       "Gasoline or natural gas           20\n",
       "Regular Gas and Electricity       14\n",
       "Premium Gas or Electricity        14\n",
       "Premium and Electricity            9\n",
       "Gasoline or propane                8\n",
       "Regular Gas or Electricity         1\n",
       "Name: fuelType, dtype: int64"
      ]
     },
     "execution_count": 5,
     "metadata": {},
     "output_type": "execute_result"
    }
   ],
   "source": [
    "vehicles.fuelType.value_counts()"
   ]
  },
  {
   "cell_type": "markdown",
   "metadata": {},
   "source": [
    "**Looks like we can use \"fuelType1\" as the primary column to filter with**"
   ]
  },
  {
   "cell_type": "code",
   "execution_count": 6,
   "metadata": {
    "collapsed": false
   },
   "outputs": [
    {
     "data": {
      "text/plain": [
       "Regular Gasoline     25823\n",
       "Premium Gasoline      9663\n",
       "Diesel                1090\n",
       "Electricity             95\n",
       "Midgrade Gasoline       61\n",
       "Natural Gas             60\n",
       "Name: fuelType1, dtype: int64"
      ]
     },
     "execution_count": 6,
     "metadata": {},
     "output_type": "execute_result"
    }
   ],
   "source": [
    "vehicles.fuelType1.value_counts()"
   ]
  },
  {
   "cell_type": "code",
   "execution_count": 7,
   "metadata": {
    "collapsed": false
   },
   "outputs": [
    {
     "data": {
      "text/plain": [
       "E85            1280\n",
       "Electricity      38\n",
       "Natural Gas      20\n",
       "Propane           8\n",
       "Name: fuelType2, dtype: int64"
      ]
     },
     "execution_count": 7,
     "metadata": {},
     "output_type": "execute_result"
    }
   ],
   "source": [
    "vehicles.fuelType2.value_counts()"
   ]
  },
  {
   "cell_type": "code",
   "execution_count": 8,
   "metadata": {
    "collapsed": false
   },
   "outputs": [
    {
     "data": {
      "text/plain": [
       "FFV               1280\n",
       "Diesel            1018\n",
       "Hybrid             424\n",
       "EV                  95\n",
       "CNG                 50\n",
       "Plug-in Hybrid      38\n",
       "Bifuel (CNG)        20\n",
       "Bifuel (LPG)         8\n",
       "Name: atvType, dtype: int64"
      ]
     },
     "execution_count": 8,
     "metadata": {},
     "output_type": "execute_result"
    }
   ],
   "source": [
    "vehicles.atvType.value_counts()"
   ]
  },
  {
   "cell_type": "markdown",
   "metadata": {},
   "source": [
    "### Our first attempt to filter our data to just gasoline powered vehicles"
   ]
  },
  {
   "cell_type": "code",
   "execution_count": 9,
   "metadata": {
    "collapsed": false
   },
   "outputs": [],
   "source": [
    "# Ensure automobile only takes gasoline as fuel\n",
    "criteria1 = vehicles.fuelType1.isin(['Regular Gasoline','Premium Gasoline','Midgrade Gasoline'])\n",
    "\n",
    "# Ensure it doesn't have a secondary fuel source\n",
    "criteria2 = vehicles.fuelType2.isnull()\n",
    "\n",
    "# I noticed after applying criteria 1 and 2, there were hybrids in my list under the atvType column\n",
    "# So I want to ensure hybrids are excluded as well\n",
    "criteria3 = vehicles.atvType != 'Hybrid'"
   ]
  },
  {
   "cell_type": "code",
   "execution_count": 10,
   "metadata": {
    "collapsed": false
   },
   "outputs": [],
   "source": [
    "# Apply the criteria\n",
    "gas_vehicle_non_hybrid = vehicles[criteria1 & criteria2 & criteria3]"
   ]
  },
  {
   "cell_type": "code",
   "execution_count": 16,
   "metadata": {
    "collapsed": false
   },
   "outputs": [
    {
     "data": {
      "text/html": [
       "<div>\n",
       "<table border=\"1\" class=\"dataframe\">\n",
       "  <thead>\n",
       "    <tr style=\"text-align: right;\">\n",
       "      <th></th>\n",
       "      <th>fuelType1</th>\n",
       "      <th>fuelType2</th>\n",
       "    </tr>\n",
       "  </thead>\n",
       "  <tbody>\n",
       "    <tr>\n",
       "      <th>0</th>\n",
       "      <td>Regular Gasoline</td>\n",
       "      <td>NaN</td>\n",
       "    </tr>\n",
       "    <tr>\n",
       "      <th>1</th>\n",
       "      <td>Regular Gasoline</td>\n",
       "      <td>NaN</td>\n",
       "    </tr>\n",
       "    <tr>\n",
       "      <th>2</th>\n",
       "      <td>Regular Gasoline</td>\n",
       "      <td>NaN</td>\n",
       "    </tr>\n",
       "    <tr>\n",
       "      <th>3</th>\n",
       "      <td>Regular Gasoline</td>\n",
       "      <td>NaN</td>\n",
       "    </tr>\n",
       "    <tr>\n",
       "      <th>4</th>\n",
       "      <td>Premium Gasoline</td>\n",
       "      <td>NaN</td>\n",
       "    </tr>\n",
       "    <tr>\n",
       "      <th>5</th>\n",
       "      <td>Regular Gasoline</td>\n",
       "      <td>NaN</td>\n",
       "    </tr>\n",
       "    <tr>\n",
       "      <th>6</th>\n",
       "      <td>Regular Gasoline</td>\n",
       "      <td>NaN</td>\n",
       "    </tr>\n",
       "    <tr>\n",
       "      <th>7</th>\n",
       "      <td>Regular Gasoline</td>\n",
       "      <td>NaN</td>\n",
       "    </tr>\n",
       "    <tr>\n",
       "      <th>8</th>\n",
       "      <td>Regular Gasoline</td>\n",
       "      <td>NaN</td>\n",
       "    </tr>\n",
       "    <tr>\n",
       "      <th>9</th>\n",
       "      <td>Regular Gasoline</td>\n",
       "      <td>NaN</td>\n",
       "    </tr>\n",
       "    <tr>\n",
       "      <th>10</th>\n",
       "      <td>Regular Gasoline</td>\n",
       "      <td>NaN</td>\n",
       "    </tr>\n",
       "    <tr>\n",
       "      <th>11</th>\n",
       "      <td>Regular Gasoline</td>\n",
       "      <td>NaN</td>\n",
       "    </tr>\n",
       "    <tr>\n",
       "      <th>12</th>\n",
       "      <td>Regular Gasoline</td>\n",
       "      <td>NaN</td>\n",
       "    </tr>\n",
       "    <tr>\n",
       "      <th>13</th>\n",
       "      <td>Regular Gasoline</td>\n",
       "      <td>NaN</td>\n",
       "    </tr>\n",
       "    <tr>\n",
       "      <th>14</th>\n",
       "      <td>Regular Gasoline</td>\n",
       "      <td>NaN</td>\n",
       "    </tr>\n",
       "    <tr>\n",
       "      <th>15</th>\n",
       "      <td>Regular Gasoline</td>\n",
       "      <td>NaN</td>\n",
       "    </tr>\n",
       "    <tr>\n",
       "      <th>16</th>\n",
       "      <td>Regular Gasoline</td>\n",
       "      <td>NaN</td>\n",
       "    </tr>\n",
       "    <tr>\n",
       "      <th>17</th>\n",
       "      <td>Regular Gasoline</td>\n",
       "      <td>NaN</td>\n",
       "    </tr>\n",
       "    <tr>\n",
       "      <th>18</th>\n",
       "      <td>Premium Gasoline</td>\n",
       "      <td>NaN</td>\n",
       "    </tr>\n",
       "    <tr>\n",
       "      <th>19</th>\n",
       "      <td>Premium Gasoline</td>\n",
       "      <td>NaN</td>\n",
       "    </tr>\n",
       "    <tr>\n",
       "      <th>20</th>\n",
       "      <td>Premium Gasoline</td>\n",
       "      <td>NaN</td>\n",
       "    </tr>\n",
       "    <tr>\n",
       "      <th>21</th>\n",
       "      <td>Premium Gasoline</td>\n",
       "      <td>NaN</td>\n",
       "    </tr>\n",
       "    <tr>\n",
       "      <th>22</th>\n",
       "      <td>Regular Gasoline</td>\n",
       "      <td>NaN</td>\n",
       "    </tr>\n",
       "    <tr>\n",
       "      <th>23</th>\n",
       "      <td>Regular Gasoline</td>\n",
       "      <td>NaN</td>\n",
       "    </tr>\n",
       "    <tr>\n",
       "      <th>24</th>\n",
       "      <td>Regular Gasoline</td>\n",
       "      <td>NaN</td>\n",
       "    </tr>\n",
       "    <tr>\n",
       "      <th>25</th>\n",
       "      <td>Regular Gasoline</td>\n",
       "      <td>NaN</td>\n",
       "    </tr>\n",
       "    <tr>\n",
       "      <th>26</th>\n",
       "      <td>Regular Gasoline</td>\n",
       "      <td>NaN</td>\n",
       "    </tr>\n",
       "    <tr>\n",
       "      <th>27</th>\n",
       "      <td>Regular Gasoline</td>\n",
       "      <td>NaN</td>\n",
       "    </tr>\n",
       "    <tr>\n",
       "      <th>28</th>\n",
       "      <td>Regular Gasoline</td>\n",
       "      <td>NaN</td>\n",
       "    </tr>\n",
       "    <tr>\n",
       "      <th>29</th>\n",
       "      <td>Regular Gasoline</td>\n",
       "      <td>NaN</td>\n",
       "    </tr>\n",
       "    <tr>\n",
       "      <th>...</th>\n",
       "      <td>...</td>\n",
       "      <td>...</td>\n",
       "    </tr>\n",
       "    <tr>\n",
       "      <th>70</th>\n",
       "      <td>Premium Gasoline</td>\n",
       "      <td>NaN</td>\n",
       "    </tr>\n",
       "    <tr>\n",
       "      <th>71</th>\n",
       "      <td>Regular Gasoline</td>\n",
       "      <td>NaN</td>\n",
       "    </tr>\n",
       "    <tr>\n",
       "      <th>72</th>\n",
       "      <td>Regular Gasoline</td>\n",
       "      <td>NaN</td>\n",
       "    </tr>\n",
       "    <tr>\n",
       "      <th>73</th>\n",
       "      <td>Regular Gasoline</td>\n",
       "      <td>NaN</td>\n",
       "    </tr>\n",
       "    <tr>\n",
       "      <th>74</th>\n",
       "      <td>Regular Gasoline</td>\n",
       "      <td>NaN</td>\n",
       "    </tr>\n",
       "    <tr>\n",
       "      <th>75</th>\n",
       "      <td>Regular Gasoline</td>\n",
       "      <td>NaN</td>\n",
       "    </tr>\n",
       "    <tr>\n",
       "      <th>76</th>\n",
       "      <td>Regular Gasoline</td>\n",
       "      <td>NaN</td>\n",
       "    </tr>\n",
       "    <tr>\n",
       "      <th>77</th>\n",
       "      <td>Premium Gasoline</td>\n",
       "      <td>NaN</td>\n",
       "    </tr>\n",
       "    <tr>\n",
       "      <th>78</th>\n",
       "      <td>Premium Gasoline</td>\n",
       "      <td>NaN</td>\n",
       "    </tr>\n",
       "    <tr>\n",
       "      <th>79</th>\n",
       "      <td>Premium Gasoline</td>\n",
       "      <td>NaN</td>\n",
       "    </tr>\n",
       "    <tr>\n",
       "      <th>80</th>\n",
       "      <td>Regular Gasoline</td>\n",
       "      <td>NaN</td>\n",
       "    </tr>\n",
       "    <tr>\n",
       "      <th>81</th>\n",
       "      <td>Regular Gasoline</td>\n",
       "      <td>NaN</td>\n",
       "    </tr>\n",
       "    <tr>\n",
       "      <th>82</th>\n",
       "      <td>Regular Gasoline</td>\n",
       "      <td>NaN</td>\n",
       "    </tr>\n",
       "    <tr>\n",
       "      <th>83</th>\n",
       "      <td>Regular Gasoline</td>\n",
       "      <td>NaN</td>\n",
       "    </tr>\n",
       "    <tr>\n",
       "      <th>84</th>\n",
       "      <td>Regular Gasoline</td>\n",
       "      <td>NaN</td>\n",
       "    </tr>\n",
       "    <tr>\n",
       "      <th>85</th>\n",
       "      <td>Regular Gasoline</td>\n",
       "      <td>NaN</td>\n",
       "    </tr>\n",
       "    <tr>\n",
       "      <th>86</th>\n",
       "      <td>Regular Gasoline</td>\n",
       "      <td>NaN</td>\n",
       "    </tr>\n",
       "    <tr>\n",
       "      <th>87</th>\n",
       "      <td>Regular Gasoline</td>\n",
       "      <td>NaN</td>\n",
       "    </tr>\n",
       "    <tr>\n",
       "      <th>88</th>\n",
       "      <td>Regular Gasoline</td>\n",
       "      <td>NaN</td>\n",
       "    </tr>\n",
       "    <tr>\n",
       "      <th>89</th>\n",
       "      <td>Regular Gasoline</td>\n",
       "      <td>NaN</td>\n",
       "    </tr>\n",
       "    <tr>\n",
       "      <th>90</th>\n",
       "      <td>Regular Gasoline</td>\n",
       "      <td>NaN</td>\n",
       "    </tr>\n",
       "    <tr>\n",
       "      <th>91</th>\n",
       "      <td>Regular Gasoline</td>\n",
       "      <td>NaN</td>\n",
       "    </tr>\n",
       "    <tr>\n",
       "      <th>92</th>\n",
       "      <td>Regular Gasoline</td>\n",
       "      <td>NaN</td>\n",
       "    </tr>\n",
       "    <tr>\n",
       "      <th>93</th>\n",
       "      <td>Regular Gasoline</td>\n",
       "      <td>NaN</td>\n",
       "    </tr>\n",
       "    <tr>\n",
       "      <th>94</th>\n",
       "      <td>Regular Gasoline</td>\n",
       "      <td>NaN</td>\n",
       "    </tr>\n",
       "    <tr>\n",
       "      <th>95</th>\n",
       "      <td>Regular Gasoline</td>\n",
       "      <td>NaN</td>\n",
       "    </tr>\n",
       "    <tr>\n",
       "      <th>96</th>\n",
       "      <td>Regular Gasoline</td>\n",
       "      <td>NaN</td>\n",
       "    </tr>\n",
       "    <tr>\n",
       "      <th>97</th>\n",
       "      <td>Regular Gasoline</td>\n",
       "      <td>NaN</td>\n",
       "    </tr>\n",
       "    <tr>\n",
       "      <th>98</th>\n",
       "      <td>Regular Gasoline</td>\n",
       "      <td>NaN</td>\n",
       "    </tr>\n",
       "    <tr>\n",
       "      <th>99</th>\n",
       "      <td>Premium Gasoline</td>\n",
       "      <td>NaN</td>\n",
       "    </tr>\n",
       "  </tbody>\n",
       "</table>\n",
       "<p>100 rows × 2 columns</p>\n",
       "</div>"
      ],
      "text/plain": [
       "           fuelType1 fuelType2\n",
       "0   Regular Gasoline       NaN\n",
       "1   Regular Gasoline       NaN\n",
       "2   Regular Gasoline       NaN\n",
       "3   Regular Gasoline       NaN\n",
       "4   Premium Gasoline       NaN\n",
       "5   Regular Gasoline       NaN\n",
       "6   Regular Gasoline       NaN\n",
       "7   Regular Gasoline       NaN\n",
       "8   Regular Gasoline       NaN\n",
       "9   Regular Gasoline       NaN\n",
       "10  Regular Gasoline       NaN\n",
       "11  Regular Gasoline       NaN\n",
       "12  Regular Gasoline       NaN\n",
       "13  Regular Gasoline       NaN\n",
       "14  Regular Gasoline       NaN\n",
       "15  Regular Gasoline       NaN\n",
       "16  Regular Gasoline       NaN\n",
       "17  Regular Gasoline       NaN\n",
       "18  Premium Gasoline       NaN\n",
       "19  Premium Gasoline       NaN\n",
       "20  Premium Gasoline       NaN\n",
       "21  Premium Gasoline       NaN\n",
       "22  Regular Gasoline       NaN\n",
       "23  Regular Gasoline       NaN\n",
       "24  Regular Gasoline       NaN\n",
       "25  Regular Gasoline       NaN\n",
       "26  Regular Gasoline       NaN\n",
       "27  Regular Gasoline       NaN\n",
       "28  Regular Gasoline       NaN\n",
       "29  Regular Gasoline       NaN\n",
       "..               ...       ...\n",
       "70  Premium Gasoline       NaN\n",
       "71  Regular Gasoline       NaN\n",
       "72  Regular Gasoline       NaN\n",
       "73  Regular Gasoline       NaN\n",
       "74  Regular Gasoline       NaN\n",
       "75  Regular Gasoline       NaN\n",
       "76  Regular Gasoline       NaN\n",
       "77  Premium Gasoline       NaN\n",
       "78  Premium Gasoline       NaN\n",
       "79  Premium Gasoline       NaN\n",
       "80  Regular Gasoline       NaN\n",
       "81  Regular Gasoline       NaN\n",
       "82  Regular Gasoline       NaN\n",
       "83  Regular Gasoline       NaN\n",
       "84  Regular Gasoline       NaN\n",
       "85  Regular Gasoline       NaN\n",
       "86  Regular Gasoline       NaN\n",
       "87  Regular Gasoline       NaN\n",
       "88  Regular Gasoline       NaN\n",
       "89  Regular Gasoline       NaN\n",
       "90  Regular Gasoline       NaN\n",
       "91  Regular Gasoline       NaN\n",
       "92  Regular Gasoline       NaN\n",
       "93  Regular Gasoline       NaN\n",
       "94  Regular Gasoline       NaN\n",
       "95  Regular Gasoline       NaN\n",
       "96  Regular Gasoline       NaN\n",
       "97  Regular Gasoline       NaN\n",
       "98  Regular Gasoline       NaN\n",
       "99  Premium Gasoline       NaN\n",
       "\n",
       "[100 rows x 2 columns]"
      ]
     },
     "execution_count": 16,
     "metadata": {},
     "output_type": "execute_result"
    }
   ],
   "source": [
    "gas_vehicle_non_hybrid[['fuelType1','fuelType2']].head(100)"
   ]
  },
  {
   "cell_type": "code",
   "execution_count": 79,
   "metadata": {
    "collapsed": false
   },
   "outputs": [],
   "source": [
    "# Group the data by model year\n",
    "grouped = gas_vehicle_non_hybrid.groupby(['year'])"
   ]
  },
  {
   "cell_type": "code",
   "execution_count": 80,
   "metadata": {
    "collapsed": false
   },
   "outputs": [],
   "source": [
    "# Get the average mpg for each model year\n",
    "average = grouped['comb08'].agg(np.mean)"
   ]
  },
  {
   "cell_type": "code",
   "execution_count": 81,
   "metadata": {
    "collapsed": false
   },
   "outputs": [
    {
     "data": {
      "image/png": "[encoded data removed]",
      "text/plain": [
       "<matplotlib.figure.Figure at 0x8dc5110>"
      ]
     },
     "metadata": {},
     "output_type": "display_data"
    }
   ],
   "source": [
    "# Let's plot the average mpg with each model year\n",
    "average.plot()\n",
    "plt.title(\"Average Combined Overall MPG by Model Year\", weight='bold')\n",
    "plt.show()"
   ]
  },
  {
   "cell_type": "markdown",
   "metadata": {},
   "source": [
    "**If you're wondering why the decline in fuel economy beginning around mid-90s, more weight was subsequently added to the vehicles as more safety features were added (additional airbags, reinforced metals in frames and doors).  Also, during this time, is the introduction of more SUVs.  Sadly, data set does not include vehicle weight.**"
   ]
  },
  {
   "cell_type": "markdown",
   "metadata": {},
   "source": [
    "## Let's compare combined (city + hwy) average overall mpg of gasonline-based Honda/Acura vs Toyota/Lexus"
   ]
  },
  {
   "cell_type": "code",
   "execution_count": 82,
   "metadata": {
    "collapsed": false
   },
   "outputs": [],
   "source": [
    "criteria1 = vehicles.fuelType1.isin(['Regular Gasoline','Premium Gasoline','Midgrade Gasoline'])\n",
    "criteria2 = vehicles.fuelType2.isnull()\n",
    "criteria3 = vehicles.atvType != 'Hybrid'\n",
    "criteria4 = vehicles.make.isin(['Honda','Acura','Toyota','Lexus'])\n",
    "\n",
    "honda_toyota_vehicle_non_hybrid = vehicles[criteria1 & criteria2 & criteria3 & criteria4]"
   ]
  },
  {
   "cell_type": "code",
   "execution_count": 83,
   "metadata": {
    "collapsed": false
   },
   "outputs": [],
   "source": [
    "# Since I need to plot honda and toyota data on same plot, I had to resort to creating a dataframe\n",
    "# using pandas pivot_table method instead of the groupby / agg() method that I did above\n",
    "honda_toyota_average = honda_toyota_vehicle_non_hybrid.pivot_table('comb08', index='year',\n",
    "    columns='make', aggfunc='mean')"
   ]
  },
  {
   "cell_type": "code",
   "execution_count": 84,
   "metadata": {
    "collapsed": false
   },
   "outputs": [
    {
     "data": {
      "image/png": "[encoded data removed]",
      "text/plain": [
       "<matplotlib.figure.Figure at 0x8899ad0>"
      ]
     },
     "metadata": {},
     "output_type": "display_data"
    }
   ],
   "source": [
    "honda_toyota_average.plot()\n",
    "plt.title(\"Overall Average MPG of Honda vs Toyota by Model Year\")\n",
    "plt.show()"
   ]
  },
  {
   "cell_type": "markdown",
   "metadata": {},
   "source": [
    "**Wow didn't know Toyota lagged this much in fuel economy behind Honda for gas-based vehicles in recent years.  Maybe they focused on hybrid/electric motor efficiency?<br><br>\n",
    "Chart above is somewhat misleading because I know for a fact Toyota has a larger fleet of larger vehicles and pickup trucks compared to Honda, which probably skewed their MPG to lower values.**"
   ]
  },
  {
   "cell_type": "markdown",
   "metadata": {},
   "source": [
    "### So to make things fair, let's limit our Honda/Toyota data to just smaller vehicles:"
   ]
  },
  {
   "cell_type": "markdown",
   "metadata": {},
   "source": [
    "- Compact Cars\n",
    "- Subcompact Cars\n",
    "- Midsize Cars\n",
    "- Large Cars"
   ]
  },
  {
   "cell_type": "markdown",
   "metadata": {},
   "source": [
    "Looking at the [metadata](http://www.fueleconomy.gov/feg/ws/index.shtml#vehicle) again, we can filter by vehicle class using the VClass column."
   ]
  },
  {
   "cell_type": "code",
   "execution_count": 85,
   "metadata": {
    "collapsed": false
   },
   "outputs": [
    {
     "data": {
      "text/plain": [
       "Compact Cars                          5341\n",
       "Subcompact Cars                       4733\n",
       "Midsize Cars                          4193\n",
       "Standard Pickup Trucks                2354\n",
       "Sport Utility Vehicle - 4WD           2090\n",
       "Two Seaters                           1810\n",
       "Large Cars                            1759\n",
       "Sport Utility Vehicle - 2WD           1627\n",
       "Small Station Wagons                  1467\n",
       "Special Purpose Vehicles              1455\n",
       "Minicompact Cars                      1194\n",
       "Standard Pickup Trucks 2WD            1153\n",
       "Vans                                  1141\n",
       "Standard Pickup Trucks 4WD             954\n",
       "Midsize-Large Station Wagons           643\n",
       "Special Purpose Vehicle 2WD            590\n",
       "Small Pickup Trucks                    538\n",
       "Midsize Station Wagons                 526\n",
       "Vans, Cargo Type                       438\n",
       "Small Pickup Trucks 2WD                418\n",
       "Small Sport Utility Vehicle 4WD        399\n",
       "Standard Sport Utility Vehicle 4WD     330\n",
       "Minivan - 2WD                          330\n",
       "Small Sport Utility Vehicle 2WD        311\n",
       "Vans, Passenger Type                   301\n",
       "Special Purpose Vehicle 4WD            298\n",
       "Small Pickup Trucks 4WD                202\n",
       "Standard Sport Utility Vehicle 2WD     141\n",
       "Minivan - 4WD                           45\n",
       "Standard Pickup Trucks/2wd               4\n",
       "Special Purpose Vehicles/2wd             2\n",
       "Vans Passenger                           2\n",
       "Special Purpose Vehicles/4wd             2\n",
       "Special Purpose Vehicle                  1\n",
       "Name: VClass, dtype: int64"
      ]
     },
     "execution_count": 85,
     "metadata": {},
     "output_type": "execute_result"
    }
   ],
   "source": [
    "vehicles.VClass.value_counts()"
   ]
  },
  {
   "cell_type": "code",
   "execution_count": 86,
   "metadata": {
    "collapsed": false
   },
   "outputs": [],
   "source": [
    "criteria1 = vehicles.fuelType1.isin(['Regular Gasoline','Premium Gasoline','Midgrade Gasoline'])\n",
    "criteria2 = vehicles.fuelType2.isnull()\n",
    "criteria3 = vehicles.atvType != 'Hybrid'\n",
    "criteria4 = vehicles.make.isin(['Honda','Acura','Toyota','Lexus'])\n",
    "criteria5 = vehicles.VClass.isin(['Compact Cars','Subcompact Cars','Midsize Cars', 'Large Cars',\n",
    "                                  'Sport Utility Vehicel','Minivan'])\n",
    "\n",
    "honda_toyota_vehicle_non_hybrid = vehicles[criteria1 & criteria2 & criteria3 & criteria4\n",
    "                                           & criteria5]\n",
    "\n",
    "honda_toyota_average = honda_toyota_vehicle_non_hybrid.pivot_table('comb08', index='year',\n",
    "    columns='make', aggfunc='mean')"
   ]
  },
  {
   "cell_type": "markdown",
   "metadata": {},
   "source": [
    "### Before we plot the data, let's make sure we got the data we expect"
   ]
  },
  {
   "cell_type": "code",
   "execution_count": 87,
   "metadata": {
    "collapsed": false
   },
   "outputs": [
    {
     "data": {
      "text/plain": [
       "Subcompact Cars    604\n",
       "Compact Cars       414\n",
       "Midsize Cars       340\n",
       "Large Cars          38\n",
       "Name: VClass, dtype: int64"
      ]
     },
     "execution_count": 87,
     "metadata": {},
     "output_type": "execute_result"
    }
   ],
   "source": [
    "# You never know, there could be leading or trailing whitespace(s) which cause us \n",
    "# to miss the data\n",
    "honda_toyota_vehicle_non_hybrid.VClass.value_counts()"
   ]
  },
  {
   "cell_type": "code",
   "execution_count": 88,
   "metadata": {
    "collapsed": false
   },
   "outputs": [
    {
     "data": {
      "image/png": "[encoded data removed]",
      "text/plain": [
       "<matplotlib.figure.Figure at 0x8880ff0>"
      ]
     },
     "metadata": {},
     "output_type": "display_data"
    }
   ],
   "source": [
    "honda_toyota_average.plot()\n",
    "plt.title(\"Overall Average MPG of Honda vs Toyota Compact/Subcompact/Midsize Cars\")\n",
    "plt.show()"
   ]
  },
  {
   "cell_type": "markdown",
   "metadata": {},
   "source": [
    "### Wow, look at how things are different.  In recent years, Toyota has had a slight edge over Honda.  But Lexus' MPG has been pretty stagnant."
   ]
  }
 ],
 "metadata": {
  "kernelspec": {
   "display_name": "Python 3",
   "language": "python",
   "name": "python3"
  },
  "language_info": {
   "codemirror_mode": {
    "name": "ipython",
    "version": 3
   },
   "file_extension": ".py",
   "mimetype": "text/x-python",
   "name": "python",
   "nbconvert_exporter": "python",
   "pygments_lexer": "ipython3",
   "version": "3.4.3"
  }
 },
 "nbformat": 4,
 "nbformat_minor": 0
}

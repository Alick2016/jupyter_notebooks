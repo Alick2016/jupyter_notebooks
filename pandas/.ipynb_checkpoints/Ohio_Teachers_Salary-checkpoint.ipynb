{
 "cells": [
  {
   "cell_type": "markdown",
   "metadata": {},
   "source": [
    "# <center>Summarizing Ohio Teachers' Salary Using Python and Pandas Library</center>"
   ]
  },
  {
   "cell_type": "markdown",
   "metadata": {},
   "source": [
    "This IPython notebook demonstrates how to do basic data cleaning and analysis on a csv or Excel file containing salary information of Ohio's teachers.  We will be using the Python programming language and Pandas data analysis package to perform the data analysis."
   ]
  },
  {
   "cell_type": "markdown",
   "metadata": {},
   "source": [
    "I obtained Ohio teachers' salary information from Ohio's state treasurer's <a href='http://www.tos.ohio.gov/Transparency_Teacher.aspx'>web site</a>."
   ]
  },
  {
   "cell_type": "markdown",
   "metadata": {},
   "source": [
    "<a name='top'></a>"
   ]
  },
  {
   "cell_type": "markdown",
   "metadata": {},
   "source": [
    "# Fetching The Data"
   ]
  },
  {
   "cell_type": "markdown",
   "metadata": {},
   "source": [
    "You can get the data (xlsx file) directly from the Ohio treasurer's web site (*can take a couple minutes*):"
   ]
  },
  {
   "cell_type": "code",
   "execution_count": 147,
   "metadata": {
    "collapsed": false
   },
   "outputs": [],
   "source": [
    "%matplotlib inline\n",
    "import matplotlib.pyplot as plt\n",
    "import seaborn as sns"
   ]
  },
  {
   "cell_type": "code",
   "execution_count": 2,
   "metadata": {
    "collapsed": false
   },
   "outputs": [],
   "source": [
    "import pandas as pd\n",
    "from urllib import request\n",
    "f = request.urlopen(\"http://www.tos.ohio.gov/Documents/Transparency/2014-2015%20School%20year%20Staff%20Salary%20Information.xlsx\")\n",
    "ohio = pd.read_excel(f, \"Data Tab\")"
   ]
  },
  {
   "cell_type": "markdown",
   "metadata": {},
   "source": [
    "#### Now let's take a peek at our data.  But Pandas can be finicky on how it views the dataframe.  So let's do some customization per this [FAQ](http://pandas.pydata.org/pandas-docs/stable/faq.html):"
   ]
  },
  {
   "cell_type": "code",
   "execution_count": 149,
   "metadata": {
    "collapsed": false
   },
   "outputs": [
    {
     "data": {
      "text/html": [
       "<div>\n",
       "<table border=\"1\" class=\"dataframe\">\n",
       "  <thead>\n",
       "    <tr style=\"text-align: right;\">\n",
       "      <th></th>\n",
       "      <th>LAST_NAME</th>\n",
       "      <th>FIRST_NAME</th>\n",
       "      <th>EDUCATION_LEVEL</th>\n",
       "      <th>JOB_DESCRIPTION</th>\n",
       "      <th>DISTRICT_NAME</th>\n",
       "      <th>SCHOOL_NAME</th>\n",
       "      <th>CITY_NAME</th>\n",
       "      <th>PAY_AMOUNT</th>\n",
       "      <th>DAYS_WORKED</th>\n",
       "      <th>HOURS_WORKED_PER_DAY</th>\n",
       "    </tr>\n",
       "  </thead>\n",
       "  <tbody>\n",
       "    <tr>\n",
       "      <th>0</th>\n",
       "      <td>LONGDEN</td>\n",
       "      <td>CHERYL</td>\n",
       "      <td>Masters</td>\n",
       "      <td>Tutor/Small Group Instructor Assignment (Serve...</td>\n",
       "      <td>Ashtabula Area City</td>\n",
       "      <td>Lakeside High School</td>\n",
       "      <td>Ashtabula</td>\n",
       "      <td>23544</td>\n",
       "      <td>185</td>\n",
       "      <td>7.00</td>\n",
       "    </tr>\n",
       "    <tr>\n",
       "      <th>1</th>\n",
       "      <td>SIKES</td>\n",
       "      <td>LINDA</td>\n",
       "      <td>Masters</td>\n",
       "      <td>Counseling Assignment</td>\n",
       "      <td>Yellow Springs Exempted Village</td>\n",
       "      <td>Yellow Springs/McKinney High School</td>\n",
       "      <td>Yellow Springs</td>\n",
       "      <td>83781</td>\n",
       "      <td>194</td>\n",
       "      <td>7.00</td>\n",
       "    </tr>\n",
       "    <tr>\n",
       "      <th>2</th>\n",
       "      <td>SMITH</td>\n",
       "      <td>SHERRY</td>\n",
       "      <td>Masters</td>\n",
       "      <td>Other Professional \u0013 Other Assignment</td>\n",
       "      <td>Greene County ESC</td>\n",
       "      <td>Greene County ESC</td>\n",
       "      <td>Yellow Springs</td>\n",
       "      <td>27241</td>\n",
       "      <td>112</td>\n",
       "      <td>8.00</td>\n",
       "    </tr>\n",
       "    <tr>\n",
       "      <th>3</th>\n",
       "      <td>BALOG</td>\n",
       "      <td>GEORGE</td>\n",
       "      <td>Masters</td>\n",
       "      <td>Teacher Assignment</td>\n",
       "      <td>Dayton City</td>\n",
       "      <td>Stivers School For The Arts</td>\n",
       "      <td>Dayton</td>\n",
       "      <td>37684</td>\n",
       "      <td>200</td>\n",
       "      <td>4.35</td>\n",
       "    </tr>\n",
       "    <tr>\n",
       "      <th>4</th>\n",
       "      <td>BAUER</td>\n",
       "      <td>RICHARD</td>\n",
       "      <td>Masters</td>\n",
       "      <td>Teacher Assignment</td>\n",
       "      <td>North Olmsted City</td>\n",
       "      <td>North Olmsted Middle School</td>\n",
       "      <td>North Olmsted</td>\n",
       "      <td>92964</td>\n",
       "      <td>185</td>\n",
       "      <td>7.50</td>\n",
       "    </tr>\n",
       "  </tbody>\n",
       "</table>\n",
       "</div>"
      ],
      "text/plain": [
       "  LAST_NAME FIRST_NAME EDUCATION_LEVEL  \\\n",
       "0   LONGDEN     CHERYL         Masters   \n",
       "1     SIKES      LINDA         Masters   \n",
       "2     SMITH     SHERRY         Masters   \n",
       "3     BALOG     GEORGE         Masters   \n",
       "4     BAUER    RICHARD         Masters   \n",
       "\n",
       "                                     JOB_DESCRIPTION  \\\n",
       "0  Tutor/Small Group Instructor Assignment (Serve...   \n",
       "1                              Counseling Assignment   \n",
       "2              Other Professional \u0013 Other Assignment   \n",
       "3                                 Teacher Assignment   \n",
       "4                                 Teacher Assignment   \n",
       "\n",
       "                     DISTRICT_NAME                          SCHOOL_NAME  \\\n",
       "0              Ashtabula Area City                 Lakeside High School   \n",
       "1  Yellow Springs Exempted Village  Yellow Springs/McKinney High School   \n",
       "2                Greene County ESC                    Greene County ESC   \n",
       "3                      Dayton City          Stivers School For The Arts   \n",
       "4               North Olmsted City          North Olmsted Middle School   \n",
       "\n",
       "        CITY_NAME  PAY_AMOUNT  DAYS_WORKED  HOURS_WORKED_PER_DAY  \n",
       "0       Ashtabula       23544          185                  7.00  \n",
       "1  Yellow Springs       83781          194                  7.00  \n",
       "2  Yellow Springs       27241          112                  8.00  \n",
       "3          Dayton       37684          200                  4.35  \n",
       "4   North Olmsted       92964          185                  7.50  "
      ]
     },
     "execution_count": 149,
     "metadata": {},
     "output_type": "execute_result"
    }
   ],
   "source": [
    "pd.options.display.max_rows=100\n",
    "pd.options.display.max_columns=20\n",
    "ohio.head()  # Display first 5 rows of data"
   ]
  },
  {
   "cell_type": "markdown",
   "metadata": {},
   "source": [
    "#### I also like to see if there are any Null values in our dataframe.  So we need to change the view behavior to get what I call the summary view:"
   ]
  },
  {
   "cell_type": "code",
   "execution_count": 9,
   "metadata": {
    "collapsed": false
   },
   "outputs": [
    {
     "name": "stdout",
     "output_type": "stream",
     "text": [
      "<class 'pandas.core.frame.DataFrame'>\n",
      "Int64Index: 339695 entries, 0 to 339694\n",
      "Data columns (total 10 columns):\n",
      "LAST NAME               339679 non-null object\n",
      "FIRST NAME              339677 non-null object\n",
      "EDUCATION LEVEL         339695 non-null object\n",
      "JOB DESCRIPTION         339695 non-null object\n",
      "DISTRICT NAME           339568 non-null object\n",
      "SCHOOL NAME             333571 non-null object\n",
      "CITY NAME               333571 non-null object\n",
      "PAY AMOUNT              339695 non-null float64\n",
      "DAYS WORKED             339695 non-null int64\n",
      "HOURS WORKED PER DAY    339695 non-null float64\n",
      "dtypes: float64(2), int64(1), object(7)\n",
      "memory usage: 28.5+ MB\n"
     ]
    }
   ],
   "source": [
    "ohio.info()"
   ]
  },
  {
   "cell_type": "markdown",
   "metadata": {},
   "source": [
    "# Data Clean-Up"
   ]
  },
  {
   "cell_type": "markdown",
   "metadata": {},
   "source": [
    "[[back to top](#top)]"
   ]
  },
  {
   "cell_type": "markdown",
   "metadata": {},
   "source": [
    "#### There are apparently some blank/null values in some of the columns.  We are going to use the fillna() function to fill missing values with whatever we want.  I will fill them with 'missing'.  Since the missing values are from columns that do not contain numeric values, this is not a concern for us normally."
   ]
  },
  {
   "cell_type": "code",
   "execution_count": 10,
   "metadata": {
    "collapsed": false
   },
   "outputs": [
    {
     "name": "stdout",
     "output_type": "stream",
     "text": [
      "<class 'pandas.core.frame.DataFrame'>\n",
      "Int64Index: 339695 entries, 0 to 339694\n",
      "Data columns (total 10 columns):\n",
      "LAST NAME               339695 non-null object\n",
      "FIRST NAME              339695 non-null object\n",
      "EDUCATION LEVEL         339695 non-null object\n",
      "JOB DESCRIPTION         339695 non-null object\n",
      "DISTRICT NAME           339695 non-null object\n",
      "SCHOOL NAME             339695 non-null object\n",
      "CITY NAME               339695 non-null object\n",
      "PAY AMOUNT              339695 non-null float64\n",
      "DAYS WORKED             339695 non-null int64\n",
      "HOURS WORKED PER DAY    339695 non-null float64\n",
      "dtypes: float64(2), int64(1), object(7)\n",
      "memory usage: 28.5+ MB\n"
     ]
    }
   ],
   "source": [
    "# Fill in missing values with \"missing\".  Use inplace=True so that we don't need to create a new data set\n",
    "ohio.fillna({'LAST NAME':'missing','FIRST NAME':'missing','DISTRICT NAME':'missing','COUNTY NAME':'missing',\n",
    "             'SCHOOL NAME':'missing','CITY NAME':'missing'}, inplace=True)\n",
    "ohio.info()"
   ]
  },
  {
   "cell_type": "markdown",
   "metadata": {},
   "source": [
    "#### Now, none of our columns have missing values.  It is important to fill in missing values or else they may not be included in counts we do later on.  But since none of the missing values were numeric values, we are ok anyway."
   ]
  },
  {
   "cell_type": "markdown",
   "metadata": {},
   "source": [
    "#### Another way to find out what the data type is for each of our columns in our dataframe is to use the dtypes attribute:"
   ]
  },
  {
   "cell_type": "code",
   "execution_count": 11,
   "metadata": {
    "collapsed": false
   },
   "outputs": [
    {
     "data": {
      "text/plain": [
       "LAST NAME                object\n",
       "FIRST NAME               object\n",
       "EDUCATION LEVEL          object\n",
       "JOB DESCRIPTION          object\n",
       "DISTRICT NAME            object\n",
       "SCHOOL NAME              object\n",
       "CITY NAME                object\n",
       "PAY AMOUNT              float64\n",
       "DAYS WORKED               int64\n",
       "HOURS WORKED PER DAY    float64\n",
       "dtype: object"
      ]
     },
     "execution_count": 11,
     "metadata": {},
     "output_type": "execute_result"
    }
   ],
   "source": [
    "ohio.dtypes"
   ]
  },
  {
   "cell_type": "markdown",
   "metadata": {},
   "source": [
    "#### I think it is also a good idea to replace empty white spaces with underscores in column names so that you can refer to them using dot notation instead of bracket notation (ex. df.First_Name instead of df['First Name'])."
   ]
  },
  {
   "cell_type": "code",
   "execution_count": 13,
   "metadata": {
    "collapsed": false
   },
   "outputs": [],
   "source": [
    "ohio.columns = [column.replace(\" \",\"_\") for column in ohio.columns]"
   ]
  },
  {
   "cell_type": "code",
   "execution_count": 14,
   "metadata": {
    "collapsed": false
   },
   "outputs": [
    {
     "data": {
      "text/plain": [
       "Index(['LAST_NAME', 'FIRST_NAME', 'EDUCATION_LEVEL', 'JOB_DESCRIPTION',\n",
       "       'DISTRICT_NAME', 'SCHOOL_NAME', 'CITY_NAME', 'PAY_AMOUNT',\n",
       "       'DAYS_WORKED', 'HOURS_WORKED_PER_DAY'],\n",
       "      dtype='object')"
      ]
     },
     "execution_count": 14,
     "metadata": {},
     "output_type": "execute_result"
    }
   ],
   "source": [
    "ohio.columns"
   ]
  },
  {
   "cell_type": "markdown",
   "metadata": {},
   "source": [
    "# Basic Summary Counts"
   ]
  },
  {
   "cell_type": "markdown",
   "metadata": {},
   "source": [
    "[[back to top](#top)]"
   ]
  },
  {
   "cell_type": "markdown",
   "metadata": {},
   "source": [
    "#### Let's see what kind and how many school-related jobs are there in Ohio using the value_counts() function.  You can accomplish the same using the groupby(), but the value_counts() is more succinct:"
   ]
  },
  {
   "cell_type": "code",
   "execution_count": 30,
   "metadata": {
    "collapsed": false
   },
   "outputs": [
    {
     "data": {
      "text/plain": [
       "Teacher Assignment                                                                              105012\n",
       "Coaching Assignment                                                                              42177\n",
       "Advisor Assignment                                                                               26250\n",
       "Vehicle Operating (Bus) Assignment                                                               13858\n",
       "Food Service Assignment                                                                          13493\n",
       "Other Extra/Intra \u0013 Curricular Activities Assignment                                             12564\n",
       "Teaching Aide Assignment                                                                         12015\n",
       "Custodian Assignment                                                                             11966\n",
       "Clerical Assignment                                                                              11400\n",
       "Instructional Paraprofessional Assignment                                                         9865\n",
       "Supplemental Service Teaching Assignment (Serves Students with Disability Conditions Only)        8423\n",
       "Other Professional \u0013 Educational Assignment                                                       6987\n",
       "Monitoring Assignment                                                                             5024\n",
       "Tutor/Small Group Instructor Assignment (Serves Students Without Disability Conditions Only)      4711\n",
       "Counseling Assignment                                                                             3982\n",
       "Principal Assignment                                                                              3514\n",
       "Remedial Specialist Assignment                                                                    3504\n",
       "Speech and Language Therapist Assignment                                                          2762\n",
       "Coordinator Assignment                                                                            2360\n",
       "Psychologist Assignment                                                                           2318\n",
       "Name: JOB_DESCRIPTION, dtype: int64"
      ]
     },
     "execution_count": 30,
     "metadata": {},
     "output_type": "execute_result"
    }
   ],
   "source": [
    "ohio.JOB_DESCRIPTION.value_counts()[:20]  # Let's just see the top 20"
   ]
  },
  {
   "cell_type": "markdown",
   "metadata": {},
   "source": [
    "#### As expected, most of the jobs at schools are teachers (\"Teacher Assignment\")."
   ]
  },
  {
   "cell_type": "markdown",
   "metadata": {},
   "source": [
    "# Filtering Data Sets Using SQL-like Criteria"
   ]
  },
  {
   "cell_type": "markdown",
   "metadata": {},
   "source": [
    "[[back to top](#top)]"
   ]
  },
  {
   "cell_type": "markdown",
   "metadata": {},
   "source": [
    "Before we start filtering data, we should try to get a feel for the scope or range of our data elements.  I'm curious what the distribution of days worked and hours worked look like:"
   ]
  },
  {
   "cell_type": "code",
   "execution_count": 146,
   "metadata": {
    "collapsed": false
   },
   "outputs": [
    {
     "data": {
      "text/plain": [
       "<matplotlib.axes._subplots.AxesSubplot at 0x7f81ca67df60>"
      ]
     },
     "execution_count": 146,
     "metadata": {},
     "output_type": "execute_result"
    },
    {
     "data": {
      "image/png": "[encoded data removed]",
      "text/plain": [
       "<matplotlib.figure.Figure at 0x7f81f2eddba8>"
      ]
     },
     "metadata": {},
     "output_type": "display_data"
    }
   ],
   "source": [
    "ohio.DAYS_WORKED.plot.hist()"
   ]
  },
  {
   "cell_type": "code",
   "execution_count": 145,
   "metadata": {
    "collapsed": false
   },
   "outputs": [
    {
     "data": {
      "text/plain": [
       "<matplotlib.axes._subplots.AxesSubplot at 0x7f81f414bda0>"
      ]
     },
     "execution_count": 145,
     "metadata": {},
     "output_type": "execute_result"
    },
    {
     "data": {
      "image/png": "[encoded data removed]",
      "text/plain": [
       "<matplotlib.figure.Figure at 0x7f81f11e0978>"
      ]
     },
     "metadata": {},
     "output_type": "display_data"
    }
   ],
   "source": [
    "ohio.DAYS_WORKED.plot.box()"
   ]
  },
  {
   "cell_type": "code",
   "execution_count": 39,
   "metadata": {
    "collapsed": false
   },
   "outputs": [
    {
     "data": {
      "text/plain": [
       "count    339695.000000\n",
       "mean        157.015841\n",
       "std          74.376387\n",
       "min           0.000000\n",
       "25%         146.000000\n",
       "50%         184.000000\n",
       "75%         189.000000\n",
       "max         365.000000\n",
       "Name: DAYS_WORKED, dtype: float64"
      ]
     },
     "execution_count": 39,
     "metadata": {},
     "output_type": "execute_result"
    }
   ],
   "source": [
    "ohio.DAYS_WORKED.describe()"
   ]
  },
  {
   "cell_type": "code",
   "execution_count": 43,
   "metadata": {
    "collapsed": false
   },
   "outputs": [
    {
     "data": {
      "text/plain": [
       "<matplotlib.axes._subplots.AxesSubplot at 0x7f81ec2a0a90>"
      ]
     },
     "execution_count": 43,
     "metadata": {},
     "output_type": "execute_result"
    },
    {
     "data": {
      "image/png": "[encoded data removed]",
      "text/plain": [
       "<matplotlib.figure.Figure at 0x7f81ec113588>"
      ]
     },
     "metadata": {},
     "output_type": "display_data"
    }
   ],
   "source": [
    "ohio.HOURS_WORKED_PER_DAY.plot.hist()"
   ]
  },
  {
   "cell_type": "markdown",
   "metadata": {},
   "source": [
    "#### I expect hours worked per day to be mostly 8 hours, but surprisingly, median hours worked is 7 hours:"
   ]
  },
  {
   "cell_type": "code",
   "execution_count": 148,
   "metadata": {
    "collapsed": false
   },
   "outputs": [
    {
     "data": {
      "text/plain": [
       "count    339695.000000\n",
       "mean          5.261061\n",
       "std           2.952619\n",
       "min           0.000000\n",
       "25%           2.500000\n",
       "50%           7.000000\n",
       "75%           7.500000\n",
       "max          15.000000\n",
       "Name: HOURS_WORKED_PER_DAY, dtype: float64"
      ]
     },
     "execution_count": 148,
     "metadata": {},
     "output_type": "execute_result"
    }
   ],
   "source": [
    "ohio.HOURS_WORKED_PER_DAY.describe()"
   ]
  },
  {
   "cell_type": "code",
   "execution_count": 88,
   "metadata": {
    "collapsed": false
   },
   "outputs": [
    {
     "data": {
      "image/png": "[encoded data removed]",
      "text/plain": [
       "<matplotlib.figure.Figure at 0x7f81f192c940>"
      ]
     },
     "metadata": {},
     "output_type": "display_data"
    }
   ],
   "source": [
    "ohio.query('HOURS_WORKED_PER_DAY >= 6').HOURS_WORKED_PER_DAY.groupby(ohio.HOURS_WORKED_PER_DAY).count().plot.bar()\n",
    "fig = plt.gcf()\n",
    "fig.set_size_inches(20,8)"
   ]
  },
  {
   "cell_type": "markdown",
   "metadata": {},
   "source": [
    "**I find it intersting that there are significant amount of teachers working 7, 7.5, and 8 hours per day.  I wonder those working 7 or 7.5 hours per day qualify as full time?**"
   ]
  },
  {
   "cell_type": "code",
   "execution_count": 80,
   "metadata": {
    "collapsed": false
   },
   "outputs": [
    {
     "data": {
      "text/plain": [
       "HOURS_WORKED_PER_DAY\n",
       "7.00     39023\n",
       "7.01         1\n",
       "7.02         1\n",
       "7.04         1\n",
       "7.05        66\n",
       "7.06         1\n",
       "7.08       422\n",
       "7.10       308\n",
       "7.12         5\n",
       "7.13        10\n",
       "7.15        44\n",
       "7.16        76\n",
       "7.17       303\n",
       "7.20       289\n",
       "7.21         4\n",
       "7.22         1\n",
       "7.23         1\n",
       "7.24         1\n",
       "7.25     14122\n",
       "7.26         1\n",
       "7.27         1\n",
       "7.30       508\n",
       "7.32         1\n",
       "7.33      2547\n",
       "7.34       369\n",
       "7.35        24\n",
       "7.36         2\n",
       "7.37         1\n",
       "7.38         2\n",
       "7.39         1\n",
       "7.40        45\n",
       "7.41         1\n",
       "7.42       917\n",
       "7.43         3\n",
       "7.45        10\n",
       "7.46         4\n",
       "7.47         1\n",
       "7.48         2\n",
       "7.50     56845\n",
       "7.52         2\n",
       "7.53         1\n",
       "7.55         3\n",
       "7.57         1\n",
       "7.58       243\n",
       "7.59         1\n",
       "7.60        51\n",
       "7.62         1\n",
       "7.63         1\n",
       "7.66        99\n",
       "7.67      1811\n",
       "7.68         2\n",
       "7.70        25\n",
       "7.71         1\n",
       "7.72         2\n",
       "7.75      5450\n",
       "7.76         1\n",
       "7.77         1\n",
       "7.78         1\n",
       "7.79         1\n",
       "7.80        32\n",
       "7.82         2\n",
       "7.83       145\n",
       "7.84         1\n",
       "7.87         3\n",
       "7.90        24\n",
       "7.91         6\n",
       "7.92        14\n",
       "7.93         2\n",
       "7.94         1\n",
       "7.95         3\n",
       "7.97         1\n",
       "7.99         1\n",
       "8.00     57053\n",
       "8.08         4\n",
       "8.25        15\n",
       "8.27         1\n",
       "8.30         1\n",
       "8.33        19\n",
       "8.50       296\n",
       "8.60         4\n",
       "8.70         3\n",
       "8.71         3\n",
       "8.75         3\n",
       "9.00        80\n",
       "9.25         5\n",
       "9.34         1\n",
       "9.43         5\n",
       "9.50         1\n",
       "9.70         1\n",
       "10.00       57\n",
       "10.16        3\n",
       "10.88        4\n",
       "11.18        1\n",
       "12.29        1\n",
       "12.50        1\n",
       "15.00        1\n",
       "dtype: int64"
      ]
     },
     "execution_count": 80,
     "metadata": {},
     "output_type": "execute_result"
    }
   ],
   "source": [
    "s = ohio.HOURS_WORKED_PER_DAY.groupby(ohio.HOURS_WORKED_PER_DAY).count()\n",
    "s[s.index >= 7]"
   ]
  },
  {
   "cell_type": "markdown",
   "metadata": {},
   "source": [
    "### Now that we have a feel of what our data looks like, let's do some SQL-like filtering"
   ]
  },
  {
   "cell_type": "markdown",
   "metadata": {},
   "source": [
    "#### Let's assume, I'm only interested in a certain school district and teaching positions like in Dublin, Ohio, pay amount greater than zero, and are full-time teachers (worked a least 6 months and work at least 7 hours per day):"
   ]
  },
  {
   "cell_type": "code",
   "execution_count": 81,
   "metadata": {
    "collapsed": false
   },
   "outputs": [],
   "source": [
    "# dublin = ohio.query(\"DISTRICT_NAME == 'Dublin City' & PAY_AMOUNT > 0 & JOB_DESCRIPTION == 'Teacher Assignment' & 'DAYS_WORKED' > 180 & 'HOURS_WORKED_PER_DAY' >= 8\")\n",
    "dublin_teachers = ohio.query(\"DISTRICT_NAME == 'Dublin City' \\\n",
    "                     & PAY_AMOUNT > 0 \\\n",
    "                     & JOB_DESCRIPTION == 'Teacher Assignment' \\\n",
    "                     & DAYS_WORKED >= 180 \\\n",
    "                     & HOURS_WORKED_PER_DAY >= 7 \\\n",
    "                    \")"
   ]
  },
  {
   "cell_type": "markdown",
   "metadata": {},
   "source": [
    "#### Let's look at some sample data by using panda's head() function:"
   ]
  },
  {
   "cell_type": "code",
   "execution_count": 82,
   "metadata": {
    "collapsed": false
   },
   "outputs": [
    {
     "data": {
      "text/html": [
       "<div>\n",
       "<table border=\"1\" class=\"dataframe\">\n",
       "  <thead>\n",
       "    <tr style=\"text-align: right;\">\n",
       "      <th></th>\n",
       "      <th>LAST_NAME</th>\n",
       "      <th>FIRST_NAME</th>\n",
       "      <th>EDUCATION_LEVEL</th>\n",
       "      <th>JOB_DESCRIPTION</th>\n",
       "      <th>DISTRICT_NAME</th>\n",
       "      <th>SCHOOL_NAME</th>\n",
       "      <th>CITY_NAME</th>\n",
       "      <th>PAY_AMOUNT</th>\n",
       "      <th>DAYS_WORKED</th>\n",
       "      <th>HOURS_WORKED_PER_DAY</th>\n",
       "    </tr>\n",
       "  </thead>\n",
       "  <tbody>\n",
       "    <tr>\n",
       "      <th>145</th>\n",
       "      <td>HULL</td>\n",
       "      <td>JAMES</td>\n",
       "      <td>Bachelors</td>\n",
       "      <td>Teacher Assignment</td>\n",
       "      <td>Dublin City</td>\n",
       "      <td>Willard Grizzell Middle School</td>\n",
       "      <td>Dublin</td>\n",
       "      <td>83668</td>\n",
       "      <td>185</td>\n",
       "      <td>8</td>\n",
       "    </tr>\n",
       "    <tr>\n",
       "      <th>1685</th>\n",
       "      <td>FOGG</td>\n",
       "      <td>KATHERINE</td>\n",
       "      <td>Masters</td>\n",
       "      <td>Teacher Assignment</td>\n",
       "      <td>Dublin City</td>\n",
       "      <td>Dublin Jerome High School</td>\n",
       "      <td>Dublin</td>\n",
       "      <td>95704</td>\n",
       "      <td>185</td>\n",
       "      <td>8</td>\n",
       "    </tr>\n",
       "    <tr>\n",
       "      <th>1708</th>\n",
       "      <td>SAUNDERS</td>\n",
       "      <td>JANE</td>\n",
       "      <td>Masters</td>\n",
       "      <td>Teacher Assignment</td>\n",
       "      <td>Dublin City</td>\n",
       "      <td>Dublin Coffman High School</td>\n",
       "      <td>Dublin</td>\n",
       "      <td>89435</td>\n",
       "      <td>185</td>\n",
       "      <td>8</td>\n",
       "    </tr>\n",
       "    <tr>\n",
       "      <th>2891</th>\n",
       "      <td>SIBBERSON</td>\n",
       "      <td>FRANCES</td>\n",
       "      <td>Masters</td>\n",
       "      <td>Teacher Assignment</td>\n",
       "      <td>Dublin City</td>\n",
       "      <td>Indian Run Elementary School</td>\n",
       "      <td>Dublin</td>\n",
       "      <td>96204</td>\n",
       "      <td>185</td>\n",
       "      <td>8</td>\n",
       "    </tr>\n",
       "    <tr>\n",
       "      <th>3464</th>\n",
       "      <td>KUDART</td>\n",
       "      <td>KATRINA</td>\n",
       "      <td>Bachelors</td>\n",
       "      <td>Teacher Assignment</td>\n",
       "      <td>Dublin City</td>\n",
       "      <td>Eli Pinney Elementary School</td>\n",
       "      <td>Dublin</td>\n",
       "      <td>83668</td>\n",
       "      <td>185</td>\n",
       "      <td>8</td>\n",
       "    </tr>\n",
       "  </tbody>\n",
       "</table>\n",
       "</div>"
      ],
      "text/plain": [
       "      LAST_NAME FIRST_NAME EDUCATION_LEVEL     JOB_DESCRIPTION DISTRICT_NAME  \\\n",
       "145        HULL      JAMES       Bachelors  Teacher Assignment   Dublin City   \n",
       "1685       FOGG  KATHERINE         Masters  Teacher Assignment   Dublin City   \n",
       "1708   SAUNDERS       JANE         Masters  Teacher Assignment   Dublin City   \n",
       "2891  SIBBERSON    FRANCES         Masters  Teacher Assignment   Dublin City   \n",
       "3464     KUDART    KATRINA       Bachelors  Teacher Assignment   Dublin City   \n",
       "\n",
       "                         SCHOOL_NAME CITY_NAME  PAY_AMOUNT  DAYS_WORKED  \\\n",
       "145   Willard Grizzell Middle School    Dublin       83668          185   \n",
       "1685       Dublin Jerome High School    Dublin       95704          185   \n",
       "1708      Dublin Coffman High School    Dublin       89435          185   \n",
       "2891    Indian Run Elementary School    Dublin       96204          185   \n",
       "3464    Eli Pinney Elementary School    Dublin       83668          185   \n",
       "\n",
       "      HOURS_WORKED_PER_DAY  \n",
       "145                      8  \n",
       "1685                     8  \n",
       "1708                     8  \n",
       "2891                     8  \n",
       "3464                     8  "
      ]
     },
     "execution_count": 82,
     "metadata": {},
     "output_type": "execute_result"
    }
   ],
   "source": [
    "dublin_teachers.head()"
   ]
  },
  {
   "cell_type": "markdown",
   "metadata": {},
   "source": [
    "# Basic Summary Statistics"
   ]
  },
  {
   "cell_type": "markdown",
   "metadata": {},
   "source": [
    "#### Summary statistics on columns containing numeric values using pandas describe() function:"
   ]
  },
  {
   "cell_type": "code",
   "execution_count": 86,
   "metadata": {
    "collapsed": false
   },
   "outputs": [
    {
     "data": {
      "text/plain": [
       "count      787.000000\n",
       "mean     76081.168996\n",
       "std      16489.738718\n",
       "min      27416.000000\n",
       "25%      61267.000000\n",
       "50%      80491.000000\n",
       "75%      91357.000000\n",
       "max      98284.000000\n",
       "Name: PAY_AMOUNT, dtype: float64"
      ]
     },
     "execution_count": 86,
     "metadata": {},
     "output_type": "execute_result"
    }
   ],
   "source": [
    "dublin_teachers.PAY_AMOUNT.describe()"
   ]
  },
  {
   "cell_type": "markdown",
   "metadata": {},
   "source": [
    "Wow, Dublin city teachers are paid pretty well on average."
   ]
  },
  {
   "cell_type": "markdown",
   "metadata": {},
   "source": [
    "## Simple Visualization"
   ]
  },
  {
   "cell_type": "markdown",
   "metadata": {},
   "source": [
    "[[back top top](#top)]"
   ]
  },
  {
   "cell_type": "markdown",
   "metadata": {},
   "source": [
    "#### Let's create a histogram of Dublin City Teachers Salary"
   ]
  },
  {
   "cell_type": "code",
   "execution_count": 85,
   "metadata": {
    "collapsed": false
   },
   "outputs": [
    {
     "data": {
      "image/png": "[encoded data removed]",
      "text/plain": [
       "<matplotlib.figure.Figure at 0x7f81f0be4320>"
      ]
     },
     "metadata": {},
     "output_type": "display_data"
    }
   ],
   "source": [
    "dublin_teachers.PAY_AMOUNT.hist()\n",
    "plt.title(\"Dublin City Teachers Salary Histogram\", weight='bold')\n",
    "plt.xlabel(\"Salary\")\n",
    "plt.ylabel(\"Frequency/Qty\")\n",
    "plt.show()"
   ]
  },
  {
   "cell_type": "markdown",
   "metadata": {},
   "source": [
    "#### Now, let's create a list of highest median teacher salaries by district and city across all of Ohio.<br> But, before we do, we should probably check if there are sample sizes that are too low using groupby() function:"
   ]
  },
  {
   "cell_type": "code",
   "execution_count": 108,
   "metadata": {
    "collapsed": false
   },
   "outputs": [
    {
     "data": {
      "text/plain": [
       "DISTRICT_NAME                                   CITY_NAME    \n",
       "Morgan Local                                    Stockport        1\n",
       "Eastern Local                                   Reedsville       1\n",
       "Nelsonville-York City                           Nelsonville      1\n",
       "Life Skills High School of Cleveland            Cleveland        1\n",
       "Weathersfield Local                             Mineral Ridge    1\n",
       "Jackson City                                    Jackson          1\n",
       "Wooster City                                    missing          1\n",
       "New Albany-Plain Local                          New Albany       1\n",
       "Cliff Park High School                          Springfield      1\n",
       "Southeastern Local                              missing          1\n",
       "Southwest Local                                 Miamitown        1\n",
       "Norwood Conversion Community School             Norwood          1\n",
       "Cincinnati Generation Academy                   Cincinnati       1\n",
       "Hope Academy for Autism                         Warren           1\n",
       "River Gate High School                          Warren           1\n",
       "Fredericktown Local                             Fredericktown    1\n",
       "Imagine Integrity Academy                       Columbus         1\n",
       "Toledo SMART Elementary School                  Toledo           1\n",
       "Marshall High School                            Middletown       1\n",
       "Medina County Joint Vocational School District  missing          1\n",
       "Name: PAY_AMOUNT, dtype: int64"
      ]
     },
     "execution_count": 108,
     "metadata": {},
     "output_type": "execute_result"
    }
   ],
   "source": [
    "ohio_teachers = ohio.query(\"PAY_AMOUNT > 0 \\\n",
    "                     & JOB_DESCRIPTION == 'Teacher Assignment' \\\n",
    "                     & DAYS_WORKED >= 180 \\\n",
    "                     & HOURS_WORKED_PER_DAY >= 7 \\\n",
    "                    \")\n",
    "\n",
    "ohio_teachers_counts = ohio_teachers.groupby(['DISTRICT_NAME','CITY_NAME']).count()\n",
    "ohio_teachers_counts.PAY_AMOUNT.sort_values(ascending=True)[:20]"
   ]
  },
  {
   "cell_type": "markdown",
   "metadata": {},
   "source": [
    "**But I much prefer using the pivot_table() function:**"
   ]
  },
  {
   "cell_type": "code",
   "execution_count": 118,
   "metadata": {
    "collapsed": false
   },
   "outputs": [],
   "source": [
    "ohio_teachers_counts = pd.pivot_table(ohio_teachers, index=['DISTRICT_NAME','CITY_NAME'], values='DAYS_WORKED', aggfunc='count')\n",
    "#ohio_teacher_counts.sort_values(ascending=True)[:20]"
   ]
  },
  {
   "cell_type": "markdown",
   "metadata": {},
   "source": [
    "# Merging Data Sets"
   ]
  },
  {
   "cell_type": "markdown",
   "metadata": {},
   "source": [
    "[[back to top](#top)]"
   ]
  },
  {
   "cell_type": "markdown",
   "metadata": {},
   "source": [
    "#### As you can see, we have school districts with just one teacher for some reason.  We need to filter them out if we want make a list of top median salaries statistically meaningful.  First, we need to make a data set containing the median salaries and then merge it with the teacher counts data set above using the concat() function:"
   ]
  },
  {
   "cell_type": "code",
   "execution_count": 105,
   "metadata": {
    "collapsed": false
   },
   "outputs": [
    {
     "data": {
      "text/plain": [
       "DISTRICT_NAME                                   CITY_NAME         \n",
       "Orange City                                     missing               92572.0\n",
       "Beachwood City                                  Beachwood             92549.0\n",
       "Orange City                                     Pepper Pike           90610.0\n",
       "Mayfield City                                   Gates Mills           89642.0\n",
       "Medina County Joint Vocational School District  missing               89237.0\n",
       "Polaris                                         Middleburg Heights    86723.0\n",
       "Cleveland Heights-University Heights City       University Hts        85251.0\n",
       "Sycamore Community City                         Loveland              84635.0\n",
       "Rocky River City                                Rocky River           83837.0\n",
       "Shaker Heights City                             Shaker Heights        83362.0\n",
       "Solon City                                      Twinsburg             83046.0\n",
       "Brecksville-Broadview Heights City              Brecksville           82779.0\n",
       "Eastland-Fairfield Career/Tech                  missing               82644.5\n",
       "Worthington City                                Columbus              82027.0\n",
       "Mayfield City                                   Mayfield              81128.0\n",
       "Dublin City                                     Powell                80742.0\n",
       "                                                Dublin                80533.0\n",
       "Brecksville-Broadview Heights City              Broadview Heights     80368.0\n",
       "Upper Arlington City                            Upper Arlington       80349.0\n",
       "Revere Local                                    missing               80265.0\n",
       "Name: PAY_AMOUNT, dtype: float64"
      ]
     },
     "execution_count": 105,
     "metadata": {},
     "output_type": "execute_result"
    }
   ],
   "source": [
    "ohio_teachers = ohio.query(\"PAY_AMOUNT > 0 \\\n",
    "                     & JOB_DESCRIPTION == 'Teacher Assignment' \\\n",
    "                     & DAYS_WORKED >= 180 \\\n",
    "                     & HOURS_WORKED_PER_DAY >= 7 \\\n",
    "                    \")\n",
    "\n",
    "top_districts = pd.pivot_table(ohio_teachers, index=['DISTRICT_NAME','CITY_NAME'], values='PAY_AMOUNT', aggfunc='median')\n",
    "top_districts.sort_values(ascending=False)[:20]"
   ]
  },
  {
   "cell_type": "markdown",
   "metadata": {},
   "source": [
    "#### Above, we have the median salaries.  Hmmm, Oak Hills Local has a median salary of over $100,000.  But, I wonder how many teachers are in that school district?  Next, we are going to merge this data set with the teacher counts data set using the concat() function to find out:"
   ]
  },
  {
   "cell_type": "code",
   "execution_count": 138,
   "metadata": {
    "collapsed": false
   },
   "outputs": [
    {
     "data": {
      "text/html": [
       "<div>\n",
       "<table border=\"1\" class=\"dataframe\">\n",
       "  <thead>\n",
       "    <tr style=\"text-align: right;\">\n",
       "      <th></th>\n",
       "      <th></th>\n",
       "      <th>Median</th>\n",
       "      <th>Count</th>\n",
       "    </tr>\n",
       "    <tr>\n",
       "      <th>DISTRICT_NAME</th>\n",
       "      <th>CITY_NAME</th>\n",
       "      <th></th>\n",
       "      <th></th>\n",
       "    </tr>\n",
       "  </thead>\n",
       "  <tbody>\n",
       "    <tr>\n",
       "      <th>Orange City</th>\n",
       "      <th>missing</th>\n",
       "      <td>92572.0</td>\n",
       "      <td>3</td>\n",
       "    </tr>\n",
       "    <tr>\n",
       "      <th>Beachwood City</th>\n",
       "      <th>Beachwood</th>\n",
       "      <td>92549.0</td>\n",
       "      <td>113</td>\n",
       "    </tr>\n",
       "    <tr>\n",
       "      <th>Orange City</th>\n",
       "      <th>Pepper Pike</th>\n",
       "      <td>90610.0</td>\n",
       "      <td>147</td>\n",
       "    </tr>\n",
       "    <tr>\n",
       "      <th>Mayfield City</th>\n",
       "      <th>Gates Mills</th>\n",
       "      <td>89642.0</td>\n",
       "      <td>7</td>\n",
       "    </tr>\n",
       "    <tr>\n",
       "      <th>Medina County Joint Vocational School District</th>\n",
       "      <th>missing</th>\n",
       "      <td>89237.0</td>\n",
       "      <td>1</td>\n",
       "    </tr>\n",
       "    <tr>\n",
       "      <th>Polaris</th>\n",
       "      <th>Middleburg Heights</th>\n",
       "      <td>86723.0</td>\n",
       "      <td>45</td>\n",
       "    </tr>\n",
       "    <tr>\n",
       "      <th>Cleveland Heights-University Heights City</th>\n",
       "      <th>University Hts</th>\n",
       "      <td>85251.0</td>\n",
       "      <td>26</td>\n",
       "    </tr>\n",
       "    <tr>\n",
       "      <th>Sycamore Community City</th>\n",
       "      <th>Loveland</th>\n",
       "      <td>84635.0</td>\n",
       "      <td>25</td>\n",
       "    </tr>\n",
       "    <tr>\n",
       "      <th>Rocky River City</th>\n",
       "      <th>Rocky River</th>\n",
       "      <td>83837.0</td>\n",
       "      <td>125</td>\n",
       "    </tr>\n",
       "    <tr>\n",
       "      <th>Shaker Heights City</th>\n",
       "      <th>Shaker Heights</th>\n",
       "      <td>83362.0</td>\n",
       "      <td>322</td>\n",
       "    </tr>\n",
       "    <tr>\n",
       "      <th>Solon City</th>\n",
       "      <th>Twinsburg</th>\n",
       "      <td>83046.0</td>\n",
       "      <td>37</td>\n",
       "    </tr>\n",
       "    <tr>\n",
       "      <th>Brecksville-Broadview Heights City</th>\n",
       "      <th>Brecksville</th>\n",
       "      <td>82779.0</td>\n",
       "      <td>74</td>\n",
       "    </tr>\n",
       "    <tr>\n",
       "      <th>Eastland-Fairfield Career/Tech</th>\n",
       "      <th>missing</th>\n",
       "      <td>82644.5</td>\n",
       "      <td>6</td>\n",
       "    </tr>\n",
       "    <tr>\n",
       "      <th>Worthington City</th>\n",
       "      <th>Columbus</th>\n",
       "      <td>82027.0</td>\n",
       "      <td>192</td>\n",
       "    </tr>\n",
       "    <tr>\n",
       "      <th>Mayfield City</th>\n",
       "      <th>Mayfield</th>\n",
       "      <td>81128.0</td>\n",
       "      <td>31</td>\n",
       "    </tr>\n",
       "    <tr>\n",
       "      <th rowspan=\"2\" valign=\"top\">Dublin City</th>\n",
       "      <th>Powell</th>\n",
       "      <td>80742.0</td>\n",
       "      <td>29</td>\n",
       "    </tr>\n",
       "    <tr>\n",
       "      <th>Dublin</th>\n",
       "      <td>80533.0</td>\n",
       "      <td>730</td>\n",
       "    </tr>\n",
       "    <tr>\n",
       "      <th>Brecksville-Broadview Heights City</th>\n",
       "      <th>Broadview Heights</th>\n",
       "      <td>80368.0</td>\n",
       "      <td>115</td>\n",
       "    </tr>\n",
       "    <tr>\n",
       "      <th>Upper Arlington City</th>\n",
       "      <th>Upper Arlington</th>\n",
       "      <td>80349.0</td>\n",
       "      <td>383</td>\n",
       "    </tr>\n",
       "    <tr>\n",
       "      <th>Revere Local</th>\n",
       "      <th>missing</th>\n",
       "      <td>80265.0</td>\n",
       "      <td>1</td>\n",
       "    </tr>\n",
       "    <tr>\n",
       "      <th>Bexley City</th>\n",
       "      <th>Bexley</th>\n",
       "      <td>80140.5</td>\n",
       "      <td>122</td>\n",
       "    </tr>\n",
       "    <tr>\n",
       "      <th>Danbury Local</th>\n",
       "      <th>Lakeside</th>\n",
       "      <td>79975.0</td>\n",
       "      <td>8</td>\n",
       "    </tr>\n",
       "    <tr>\n",
       "      <th rowspan=\"2\" valign=\"top\">South Euclid-Lyndhurst City</th>\n",
       "      <th>South Euclid</th>\n",
       "      <td>79945.0</td>\n",
       "      <td>69</td>\n",
       "    </tr>\n",
       "    <tr>\n",
       "      <th>Lyndhurst</th>\n",
       "      <td>79797.0</td>\n",
       "      <td>93</td>\n",
       "    </tr>\n",
       "    <tr>\n",
       "      <th>Hudson City</th>\n",
       "      <th>Hudson</th>\n",
       "      <td>79763.0</td>\n",
       "      <td>258</td>\n",
       "    </tr>\n",
       "    <tr>\n",
       "      <th>Indian Hill Exempted Village</th>\n",
       "      <th>Cincinnati</th>\n",
       "      <td>79737.0</td>\n",
       "      <td>118</td>\n",
       "    </tr>\n",
       "    <tr>\n",
       "      <th>Eastland-Fairfield Career/Tech</th>\n",
       "      <th>Groveport</th>\n",
       "      <td>79574.0</td>\n",
       "      <td>42</td>\n",
       "    </tr>\n",
       "    <tr>\n",
       "      <th>Hilliard City</th>\n",
       "      <th>Hilliard</th>\n",
       "      <td>79421.0</td>\n",
       "      <td>714</td>\n",
       "    </tr>\n",
       "    <tr>\n",
       "      <th>Chagrin Falls Exempted Village</th>\n",
       "      <th>Chagrin Falls</th>\n",
       "      <td>79420.0</td>\n",
       "      <td>96</td>\n",
       "    </tr>\n",
       "    <tr>\n",
       "      <th>Miami Valley Career Tech</th>\n",
       "      <th>missing</th>\n",
       "      <td>79270.0</td>\n",
       "      <td>127</td>\n",
       "    </tr>\n",
       "    <tr>\n",
       "      <th>Southwest Local</th>\n",
       "      <th>Miamitown</th>\n",
       "      <td>78977.0</td>\n",
       "      <td>1</td>\n",
       "    </tr>\n",
       "    <tr>\n",
       "      <th>Solon City</th>\n",
       "      <th>Solon</th>\n",
       "      <td>78951.0</td>\n",
       "      <td>199</td>\n",
       "    </tr>\n",
       "    <tr>\n",
       "      <th>South Euclid-Lyndhurst City</th>\n",
       "      <th>Cleveland</th>\n",
       "      <td>78879.0</td>\n",
       "      <td>30</td>\n",
       "    </tr>\n",
       "    <tr>\n",
       "      <th>Cleveland Heights-University Heights City</th>\n",
       "      <th>Cleveland Heights</th>\n",
       "      <td>78655.0</td>\n",
       "      <td>431</td>\n",
       "    </tr>\n",
       "    <tr>\n",
       "      <th>Norwood Conversion Community School</th>\n",
       "      <th>Norwood</th>\n",
       "      <td>78500.0</td>\n",
       "      <td>1</td>\n",
       "    </tr>\n",
       "    <tr>\n",
       "      <th>Greene County Vocational School District</th>\n",
       "      <th>Xenia</th>\n",
       "      <td>78429.0</td>\n",
       "      <td>36</td>\n",
       "    </tr>\n",
       "    <tr>\n",
       "      <th>U S Grant</th>\n",
       "      <th>Bethel</th>\n",
       "      <td>78417.0</td>\n",
       "      <td>6</td>\n",
       "    </tr>\n",
       "    <tr>\n",
       "      <th>Maumee City</th>\n",
       "      <th>Maumee</th>\n",
       "      <td>78340.0</td>\n",
       "      <td>130</td>\n",
       "    </tr>\n",
       "    <tr>\n",
       "      <th>Put-In-Bay Local</th>\n",
       "      <th>Put-In-Bay</th>\n",
       "      <td>78330.0</td>\n",
       "      <td>7</td>\n",
       "    </tr>\n",
       "    <tr>\n",
       "      <th>Ottawa Hills Local</th>\n",
       "      <th>Toledo</th>\n",
       "      <td>78217.5</td>\n",
       "      <td>52</td>\n",
       "    </tr>\n",
       "    <tr>\n",
       "      <th>Westlake City</th>\n",
       "      <th>Westlake</th>\n",
       "      <td>77680.0</td>\n",
       "      <td>202</td>\n",
       "    </tr>\n",
       "    <tr>\n",
       "      <th>Medina County Joint Vocational School District</th>\n",
       "      <th>Medina</th>\n",
       "      <td>77606.0</td>\n",
       "      <td>57</td>\n",
       "    </tr>\n",
       "    <tr>\n",
       "      <th>Bay Village City</th>\n",
       "      <th>Bay Village</th>\n",
       "      <td>77272.0</td>\n",
       "      <td>140</td>\n",
       "    </tr>\n",
       "    <tr>\n",
       "      <th>Independence Local</th>\n",
       "      <th>Independence</th>\n",
       "      <td>77226.0</td>\n",
       "      <td>64</td>\n",
       "    </tr>\n",
       "    <tr>\n",
       "      <th>North Olmsted City</th>\n",
       "      <th>North Olmsted</th>\n",
       "      <td>77223.0</td>\n",
       "      <td>209</td>\n",
       "    </tr>\n",
       "    <tr>\n",
       "      <th>Hilliard City</th>\n",
       "      <th>Columbus</th>\n",
       "      <td>77138.0</td>\n",
       "      <td>44</td>\n",
       "    </tr>\n",
       "    <tr>\n",
       "      <th>Warrensville Heights City</th>\n",
       "      <th>missing</th>\n",
       "      <td>77035.0</td>\n",
       "      <td>34</td>\n",
       "    </tr>\n",
       "    <tr>\n",
       "      <th>Madeira City</th>\n",
       "      <th>Madeira</th>\n",
       "      <td>76989.0</td>\n",
       "      <td>25</td>\n",
       "    </tr>\n",
       "    <tr>\n",
       "      <th>Southwest Local</th>\n",
       "      <th>Harrison</th>\n",
       "      <td>76940.0</td>\n",
       "      <td>9</td>\n",
       "    </tr>\n",
       "    <tr>\n",
       "      <th>Rossford Exempted Village</th>\n",
       "      <th>Rossford</th>\n",
       "      <td>76853.5</td>\n",
       "      <td>70</td>\n",
       "    </tr>\n",
       "  </tbody>\n",
       "</table>\n",
       "</div>"
      ],
      "text/plain": [
       "                                                                    Median  \\\n",
       "DISTRICT_NAME                                  CITY_NAME                     \n",
       "Orange City                                    missing             92572.0   \n",
       "Beachwood City                                 Beachwood           92549.0   \n",
       "Orange City                                    Pepper Pike         90610.0   \n",
       "Mayfield City                                  Gates Mills         89642.0   \n",
       "Medina County Joint Vocational School District missing             89237.0   \n",
       "Polaris                                        Middleburg Heights  86723.0   \n",
       "Cleveland Heights-University Heights City      University Hts      85251.0   \n",
       "Sycamore Community City                        Loveland            84635.0   \n",
       "Rocky River City                               Rocky River         83837.0   \n",
       "Shaker Heights City                            Shaker Heights      83362.0   \n",
       "Solon City                                     Twinsburg           83046.0   \n",
       "Brecksville-Broadview Heights City             Brecksville         82779.0   \n",
       "Eastland-Fairfield Career/Tech                 missing             82644.5   \n",
       "Worthington City                               Columbus            82027.0   \n",
       "Mayfield City                                  Mayfield            81128.0   \n",
       "Dublin City                                    Powell              80742.0   \n",
       "                                               Dublin              80533.0   \n",
       "Brecksville-Broadview Heights City             Broadview Heights   80368.0   \n",
       "Upper Arlington City                           Upper Arlington     80349.0   \n",
       "Revere Local                                   missing             80265.0   \n",
       "Bexley City                                    Bexley              80140.5   \n",
       "Danbury Local                                  Lakeside            79975.0   \n",
       "South Euclid-Lyndhurst City                    South Euclid        79945.0   \n",
       "                                               Lyndhurst           79797.0   \n",
       "Hudson City                                    Hudson              79763.0   \n",
       "Indian Hill Exempted Village                   Cincinnati          79737.0   \n",
       "Eastland-Fairfield Career/Tech                 Groveport           79574.0   \n",
       "Hilliard City                                  Hilliard            79421.0   \n",
       "Chagrin Falls Exempted Village                 Chagrin Falls       79420.0   \n",
       "Miami Valley Career Tech                       missing             79270.0   \n",
       "Southwest Local                                Miamitown           78977.0   \n",
       "Solon City                                     Solon               78951.0   \n",
       "South Euclid-Lyndhurst City                    Cleveland           78879.0   \n",
       "Cleveland Heights-University Heights City      Cleveland Heights   78655.0   \n",
       "Norwood Conversion Community School            Norwood             78500.0   \n",
       "Greene County Vocational School District       Xenia               78429.0   \n",
       "U S Grant                                      Bethel              78417.0   \n",
       "Maumee City                                    Maumee              78340.0   \n",
       "Put-In-Bay Local                               Put-In-Bay          78330.0   \n",
       "Ottawa Hills Local                             Toledo              78217.5   \n",
       "Westlake City                                  Westlake            77680.0   \n",
       "Medina County Joint Vocational School District Medina              77606.0   \n",
       "Bay Village City                               Bay Village         77272.0   \n",
       "Independence Local                             Independence        77226.0   \n",
       "North Olmsted City                             North Olmsted       77223.0   \n",
       "Hilliard City                                  Columbus            77138.0   \n",
       "Warrensville Heights City                      missing             77035.0   \n",
       "Madeira City                                   Madeira             76989.0   \n",
       "Southwest Local                                Harrison            76940.0   \n",
       "Rossford Exempted Village                      Rossford            76853.5   \n",
       "\n",
       "                                                                   Count  \n",
       "DISTRICT_NAME                                  CITY_NAME                  \n",
       "Orange City                                    missing                 3  \n",
       "Beachwood City                                 Beachwood             113  \n",
       "Orange City                                    Pepper Pike           147  \n",
       "Mayfield City                                  Gates Mills             7  \n",
       "Medina County Joint Vocational School District missing                 1  \n",
       "Polaris                                        Middleburg Heights     45  \n",
       "Cleveland Heights-University Heights City      University Hts         26  \n",
       "Sycamore Community City                        Loveland               25  \n",
       "Rocky River City                               Rocky River           125  \n",
       "Shaker Heights City                            Shaker Heights        322  \n",
       "Solon City                                     Twinsburg              37  \n",
       "Brecksville-Broadview Heights City             Brecksville            74  \n",
       "Eastland-Fairfield Career/Tech                 missing                 6  \n",
       "Worthington City                               Columbus              192  \n",
       "Mayfield City                                  Mayfield               31  \n",
       "Dublin City                                    Powell                 29  \n",
       "                                               Dublin                730  \n",
       "Brecksville-Broadview Heights City             Broadview Heights     115  \n",
       "Upper Arlington City                           Upper Arlington       383  \n",
       "Revere Local                                   missing                 1  \n",
       "Bexley City                                    Bexley                122  \n",
       "Danbury Local                                  Lakeside                8  \n",
       "South Euclid-Lyndhurst City                    South Euclid           69  \n",
       "                                               Lyndhurst              93  \n",
       "Hudson City                                    Hudson                258  \n",
       "Indian Hill Exempted Village                   Cincinnati            118  \n",
       "Eastland-Fairfield Career/Tech                 Groveport              42  \n",
       "Hilliard City                                  Hilliard              714  \n",
       "Chagrin Falls Exempted Village                 Chagrin Falls          96  \n",
       "Miami Valley Career Tech                       missing               127  \n",
       "Southwest Local                                Miamitown               1  \n",
       "Solon City                                     Solon                 199  \n",
       "South Euclid-Lyndhurst City                    Cleveland              30  \n",
       "Cleveland Heights-University Heights City      Cleveland Heights     431  \n",
       "Norwood Conversion Community School            Norwood                 1  \n",
       "Greene County Vocational School District       Xenia                  36  \n",
       "U S Grant                                      Bethel                  6  \n",
       "Maumee City                                    Maumee                130  \n",
       "Put-In-Bay Local                               Put-In-Bay              7  \n",
       "Ottawa Hills Local                             Toledo                 52  \n",
       "Westlake City                                  Westlake              202  \n",
       "Medina County Joint Vocational School District Medina                 57  \n",
       "Bay Village City                               Bay Village           140  \n",
       "Independence Local                             Independence           64  \n",
       "North Olmsted City                             North Olmsted         209  \n",
       "Hilliard City                                  Columbus               44  \n",
       "Warrensville Heights City                      missing                34  \n",
       "Madeira City                                   Madeira                25  \n",
       "Southwest Local                                Harrison                9  \n",
       "Rossford Exempted Village                      Rossford               70  "
      ]
     },
     "execution_count": 138,
     "metadata": {},
     "output_type": "execute_result"
    }
   ],
   "source": [
    "# Concatenate the 2 data sets along the column axis (axis=1) and label the 2 columns as median and count\n",
    "top_median_salary = pd.concat([top_districts, ohio_teachers_counts], axis=1, keys=['Median','Count'])\n",
    "top_median_salary.sort_values(by='Median', ascending=False, inplace=True)\n",
    "top_median_salary.head(50)"
   ]
  },
  {
   "cell_type": "code",
   "execution_count": 140,
   "metadata": {
    "collapsed": false
   },
   "outputs": [
    {
     "data": {
      "text/plain": [
       "count    1216.000000\n",
       "mean       65.718750\n",
       "std       127.024374\n",
       "min         1.000000\n",
       "25%        13.000000\n",
       "50%        30.000000\n",
       "75%        72.000000\n",
       "max      2683.000000\n",
       "Name: Count, dtype: float64"
      ]
     },
     "execution_count": 140,
     "metadata": {},
     "output_type": "execute_result"
    }
   ],
   "source": [
    "top_median_salary.Count.describe()"
   ]
  },
  {
   "cell_type": "markdown",
   "metadata": {},
   "source": [
    "#### Looks like the merge worked, but next we need to filter out the districts with low teacher counts.  There are school districts with high median salaries, but they had only 1 teacher!  So to make our top list meaningful, we should probably make our data set contain districts with more than 13 teachers:"
   ]
  },
  {
   "cell_type": "markdown",
   "metadata": {},
   "source": [
    "## Top 25 Highest Median Salaries of Ohio School Teachers by District and City"
   ]
  },
  {
   "cell_type": "markdown",
   "metadata": {},
   "source": [
    "[[back to top](#top)]"
   ]
  },
  {
   "cell_type": "code",
   "execution_count": 142,
   "metadata": {
    "collapsed": false
   },
   "outputs": [
    {
     "data": {
      "text/html": [
       "<div>\n",
       "<table border=\"1\" class=\"dataframe\">\n",
       "  <thead>\n",
       "    <tr style=\"text-align: right;\">\n",
       "      <th></th>\n",
       "      <th></th>\n",
       "      <th>Median</th>\n",
       "      <th>Count</th>\n",
       "    </tr>\n",
       "    <tr>\n",
       "      <th>DISTRICT_NAME</th>\n",
       "      <th>CITY_NAME</th>\n",
       "      <th></th>\n",
       "      <th></th>\n",
       "    </tr>\n",
       "  </thead>\n",
       "  <tbody>\n",
       "    <tr>\n",
       "      <th>Beachwood City</th>\n",
       "      <th>Beachwood</th>\n",
       "      <td>92549.0</td>\n",
       "      <td>113</td>\n",
       "    </tr>\n",
       "    <tr>\n",
       "      <th>Orange City</th>\n",
       "      <th>Pepper Pike</th>\n",
       "      <td>90610.0</td>\n",
       "      <td>147</td>\n",
       "    </tr>\n",
       "    <tr>\n",
       "      <th>Polaris</th>\n",
       "      <th>Middleburg Heights</th>\n",
       "      <td>86723.0</td>\n",
       "      <td>45</td>\n",
       "    </tr>\n",
       "    <tr>\n",
       "      <th>Cleveland Heights-University Heights City</th>\n",
       "      <th>University Hts</th>\n",
       "      <td>85251.0</td>\n",
       "      <td>26</td>\n",
       "    </tr>\n",
       "    <tr>\n",
       "      <th>Sycamore Community City</th>\n",
       "      <th>Loveland</th>\n",
       "      <td>84635.0</td>\n",
       "      <td>25</td>\n",
       "    </tr>\n",
       "    <tr>\n",
       "      <th>Rocky River City</th>\n",
       "      <th>Rocky River</th>\n",
       "      <td>83837.0</td>\n",
       "      <td>125</td>\n",
       "    </tr>\n",
       "    <tr>\n",
       "      <th>Shaker Heights City</th>\n",
       "      <th>Shaker Heights</th>\n",
       "      <td>83362.0</td>\n",
       "      <td>322</td>\n",
       "    </tr>\n",
       "    <tr>\n",
       "      <th>Solon City</th>\n",
       "      <th>Twinsburg</th>\n",
       "      <td>83046.0</td>\n",
       "      <td>37</td>\n",
       "    </tr>\n",
       "    <tr>\n",
       "      <th>Brecksville-Broadview Heights City</th>\n",
       "      <th>Brecksville</th>\n",
       "      <td>82779.0</td>\n",
       "      <td>74</td>\n",
       "    </tr>\n",
       "    <tr>\n",
       "      <th>Worthington City</th>\n",
       "      <th>Columbus</th>\n",
       "      <td>82027.0</td>\n",
       "      <td>192</td>\n",
       "    </tr>\n",
       "    <tr>\n",
       "      <th>Mayfield City</th>\n",
       "      <th>Mayfield</th>\n",
       "      <td>81128.0</td>\n",
       "      <td>31</td>\n",
       "    </tr>\n",
       "    <tr>\n",
       "      <th rowspan=\"2\" valign=\"top\">Dublin City</th>\n",
       "      <th>Powell</th>\n",
       "      <td>80742.0</td>\n",
       "      <td>29</td>\n",
       "    </tr>\n",
       "    <tr>\n",
       "      <th>Dublin</th>\n",
       "      <td>80533.0</td>\n",
       "      <td>730</td>\n",
       "    </tr>\n",
       "    <tr>\n",
       "      <th>Brecksville-Broadview Heights City</th>\n",
       "      <th>Broadview Heights</th>\n",
       "      <td>80368.0</td>\n",
       "      <td>115</td>\n",
       "    </tr>\n",
       "    <tr>\n",
       "      <th>Upper Arlington City</th>\n",
       "      <th>Upper Arlington</th>\n",
       "      <td>80349.0</td>\n",
       "      <td>383</td>\n",
       "    </tr>\n",
       "    <tr>\n",
       "      <th>Bexley City</th>\n",
       "      <th>Bexley</th>\n",
       "      <td>80140.5</td>\n",
       "      <td>122</td>\n",
       "    </tr>\n",
       "    <tr>\n",
       "      <th rowspan=\"2\" valign=\"top\">South Euclid-Lyndhurst City</th>\n",
       "      <th>South Euclid</th>\n",
       "      <td>79945.0</td>\n",
       "      <td>69</td>\n",
       "    </tr>\n",
       "    <tr>\n",
       "      <th>Lyndhurst</th>\n",
       "      <td>79797.0</td>\n",
       "      <td>93</td>\n",
       "    </tr>\n",
       "    <tr>\n",
       "      <th>Hudson City</th>\n",
       "      <th>Hudson</th>\n",
       "      <td>79763.0</td>\n",
       "      <td>258</td>\n",
       "    </tr>\n",
       "    <tr>\n",
       "      <th>Indian Hill Exempted Village</th>\n",
       "      <th>Cincinnati</th>\n",
       "      <td>79737.0</td>\n",
       "      <td>118</td>\n",
       "    </tr>\n",
       "    <tr>\n",
       "      <th>Eastland-Fairfield Career/Tech</th>\n",
       "      <th>Groveport</th>\n",
       "      <td>79574.0</td>\n",
       "      <td>42</td>\n",
       "    </tr>\n",
       "    <tr>\n",
       "      <th>Hilliard City</th>\n",
       "      <th>Hilliard</th>\n",
       "      <td>79421.0</td>\n",
       "      <td>714</td>\n",
       "    </tr>\n",
       "    <tr>\n",
       "      <th>Chagrin Falls Exempted Village</th>\n",
       "      <th>Chagrin Falls</th>\n",
       "      <td>79420.0</td>\n",
       "      <td>96</td>\n",
       "    </tr>\n",
       "    <tr>\n",
       "      <th>Miami Valley Career Tech</th>\n",
       "      <th>missing</th>\n",
       "      <td>79270.0</td>\n",
       "      <td>127</td>\n",
       "    </tr>\n",
       "    <tr>\n",
       "      <th>Solon City</th>\n",
       "      <th>Solon</th>\n",
       "      <td>78951.0</td>\n",
       "      <td>199</td>\n",
       "    </tr>\n",
       "  </tbody>\n",
       "</table>\n",
       "</div>"
      ],
      "text/plain": [
       "                                                               Median  Count\n",
       "DISTRICT_NAME                             CITY_NAME                         \n",
       "Beachwood City                            Beachwood           92549.0    113\n",
       "Orange City                               Pepper Pike         90610.0    147\n",
       "Polaris                                   Middleburg Heights  86723.0     45\n",
       "Cleveland Heights-University Heights City University Hts      85251.0     26\n",
       "Sycamore Community City                   Loveland            84635.0     25\n",
       "Rocky River City                          Rocky River         83837.0    125\n",
       "Shaker Heights City                       Shaker Heights      83362.0    322\n",
       "Solon City                                Twinsburg           83046.0     37\n",
       "Brecksville-Broadview Heights City        Brecksville         82779.0     74\n",
       "Worthington City                          Columbus            82027.0    192\n",
       "Mayfield City                             Mayfield            81128.0     31\n",
       "Dublin City                               Powell              80742.0     29\n",
       "                                          Dublin              80533.0    730\n",
       "Brecksville-Broadview Heights City        Broadview Heights   80368.0    115\n",
       "Upper Arlington City                      Upper Arlington     80349.0    383\n",
       "Bexley City                               Bexley              80140.5    122\n",
       "South Euclid-Lyndhurst City               South Euclid        79945.0     69\n",
       "                                          Lyndhurst           79797.0     93\n",
       "Hudson City                               Hudson              79763.0    258\n",
       "Indian Hill Exempted Village              Cincinnati          79737.0    118\n",
       "Eastland-Fairfield Career/Tech            Groveport           79574.0     42\n",
       "Hilliard City                             Hilliard            79421.0    714\n",
       "Chagrin Falls Exempted Village            Chagrin Falls       79420.0     96\n",
       "Miami Valley Career Tech                  missing             79270.0    127\n",
       "Solon City                                Solon               78951.0    199"
      ]
     },
     "execution_count": 142,
     "metadata": {},
     "output_type": "execute_result"
    }
   ],
   "source": [
    "top_median_salary = top_median_salary.query('Count > 13')\n",
    "top_median_salary.head(25)"
   ]
  },
  {
   "cell_type": "markdown",
   "metadata": {},
   "source": [
    "#### So now, we have our list of top 25 median salaries by school districts in all of the state of Ohio with at least 14 teachers.<br>It's a shame there isn't information on time in service or years worked of these workers, which would have allowed for more meaningful analysis."
   ]
  },
  {
   "cell_type": "markdown",
   "metadata": {},
   "source": [
    "[[back to top](#top)]"
   ]
  }
 ],
 "metadata": {
  "kernelspec": {
   "display_name": "Python 3",
   "language": "python",
   "name": "python3"
  },
  "language_info": {
   "codemirror_mode": {
    "name": "ipython",
    "version": 3
   },
   "file_extension": ".py",
   "mimetype": "text/x-python",
   "name": "python",
   "nbconvert_exporter": "python",
   "pygments_lexer": "ipython3",
   "version": "3.4.4"
  }
 },
 "nbformat": 4,
 "nbformat_minor": 0
}

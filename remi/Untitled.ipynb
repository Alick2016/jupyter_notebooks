{
 "cells": [
  {
   "cell_type": "code",
   "execution_count": 6,
   "metadata": {
    "collapsed": false
   },
   "outputs": [
    {
     "data": {
      "text/plain": [
       "False"
      ]
     },
     "execution_count": 6,
     "metadata": {},
     "output_type": "execute_result"
    }
   ],
   "source": [
    "import sys\n",
    "sys.version_info < (3,)"
   ]
  },
  {
   "cell_type": "code",
   "execution_count": 9,
   "metadata": {
    "collapsed": true
   },
   "outputs": [],
   "source": [
    "import remi.gui as gui\n",
    "from remi import start, App"
   ]
  },
  {
   "cell_type": "code",
   "execution_count": 31,
   "metadata": {
    "collapsed": false
   },
   "outputs": [
    {
     "ename": "AttributeError",
     "evalue": "type object 'TextInput' has no attribute 'attributes'",
     "output_type": "error",
     "traceback": [
      "\u001b[1;31m---------------------------------------------------------------------------\u001b[0m",
      "\u001b[1;31mAttributeError\u001b[0m                            Traceback (most recent call last)",
      "\u001b[1;32m<ipython-input-31-c54ed733ed8a>\u001b[0m in \u001b[0;36m<module>\u001b[1;34m()\u001b[0m\n\u001b[1;32m----> 1\u001b[1;33m \u001b[0mgui\u001b[0m\u001b[1;33m.\u001b[0m\u001b[0mTextInput\u001b[0m\u001b[1;33m.\u001b[0m\u001b[0mattributes\u001b[0m\u001b[1;33m[\u001b[0m\u001b[1;36m0\u001b[0m\u001b[1;33m]\u001b[0m\u001b[1;33m\u001b[0m\u001b[0m\n\u001b[0m",
      "\u001b[1;31mAttributeError\u001b[0m: type object 'TextInput' has no attribute 'attributes'"
     ]
    }
   ],
   "source": [
    "gui.Tab"
   ]
  },
  {
   "cell_type": "code",
   "execution_count": 34,
   "metadata": {
    "collapsed": false
   },
   "outputs": [
    {
     "name": "stderr",
     "output_type": "stream",
     "text": [
      "Indexing schema. This will take a second...finished!\n"
     ]
    }
   ],
   "source": [
    "import pandas as pd\n",
    "from db import DB\n",
    "\n",
    "db = DB(filename=\"/home/pybokeh/Dropbox/data_sets/nba\", dbtype=\"sqlite\")\n",
    "\n",
    "sql = \"\"\"\n",
    "        select *\n",
    "\n",
    "        from player_game_stats\n",
    "\n",
    "        where\n",
    "        team_name like '{{ name }}';\"\"\"\n",
    "\n",
    "token = 'Cav'\n",
    "\n",
    "parameter = '%' + token + '%'\n",
    "\n",
    "params = [\n",
    "          {\"name\": parameter}\n",
    "         ]\n",
    "\n",
    "row_data = db.query(sql, data=params).values"
   ]
  },
  {
   "cell_type": "code",
   "execution_count": 43,
   "metadata": {
    "collapsed": false
   },
   "outputs": [
    {
     "data": {
      "text/plain": [
       "array([510, 'Shawn Marion, SF', 'Cleveland Cavaliers', 30, 22, 23.1, 5.6,\n",
       "       1.0, 2.5, 3.5, 1.1, 0.63, 0.73, 0.7, 1.1, 1.5, 10.6], dtype=object)"
      ]
     },
     "execution_count": 43,
     "metadata": {},
     "output_type": "execute_result"
    }
   ],
   "source": [
    "row_data[0]"
   ]
  }
 ],
 "metadata": {
  "kernelspec": {
   "display_name": "Python 3",
   "language": "python",
   "name": "python3"
  },
  "language_info": {
   "codemirror_mode": {
    "name": "ipython",
    "version": 3
   },
   "file_extension": ".py",
   "mimetype": "text/x-python",
   "name": "python",
   "nbconvert_exporter": "python",
   "pygments_lexer": "ipython3",
   "version": "3.4.3"
  }
 },
 "nbformat": 4,
 "nbformat_minor": 0
}

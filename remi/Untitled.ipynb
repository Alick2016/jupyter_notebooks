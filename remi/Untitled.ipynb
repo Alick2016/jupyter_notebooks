{
 "cells": [
  {
   "cell_type": "code",
   "execution_count": 1,
   "metadata": {
    "collapsed": true
   },
   "outputs": [],
   "source": [
    "import remi.gui as gui\n",
    "from remi import start, App"
   ]
  },
  {
   "cell_type": "code",
   "execution_count": 5,
   "metadata": {
    "collapsed": false
   },
   "outputs": [
    {
     "name": "stdout",
     "output_type": "stream",
     "text": [
      "Help on class Widget in module remi.gui:\n",
      "\n",
      "class Widget(Tag)\n",
      " |  base class for gui widgets.\n",
      " |  \n",
      " |  In html, it is a DIV tag    \n",
      " |  the \"self.type\" attribute specifies the HTML tag representation    \n",
      " |  the \"self.attributes[]\" attribute specifies the HTML attributes like \"style\" \"class\" \"id\" \n",
      " |  the \"self.style[]\" attribute specifies the CSS style content like \"font\" \"color\". \n",
      " |  It will be packet togheter with \"self.attributes\"\n",
      " |  \n",
      " |  Method resolution order:\n",
      " |      Widget\n",
      " |      Tag\n",
      " |      builtins.object\n",
      " |  \n",
      " |  Methods defined here:\n",
      " |  \n",
      " |  __init__(self, w=1, h=1, layout_orientation=True, widget_spacing=0)\n",
      " |      w = numeric with\n",
      " |      h = numeric height\n",
      " |      layout_orientation = specifies the \"float\" css attribute\n",
      " |      widget_spacing = specifies the \"margin\" css attribute for the children\n",
      " |  \n",
      " |  append(self, key, value)\n",
      " |      it allows to add child widgets to this.\n",
      " |      \n",
      " |      The key can be everything you want, in order to access to the\n",
      " |      specific child in this way 'widget.children[key]'.\n",
      " |  \n",
      " |  hide(self)\n",
      " |      The root window is restored after a show\n",
      " |  \n",
      " |  onblur(self)\n",
      " |  \n",
      " |  onclick(self)\n",
      " |  \n",
      " |  onfocus(self)\n",
      " |  \n",
      " |  repr(self, client, include_children=True)\n",
      " |      it is used to automatically represent the widget to HTML format\n",
      " |      packs all the attributes, children and so on.\n",
      " |  \n",
      " |  set_on_blur_listener(self, listener, funcname)\n",
      " |  \n",
      " |  set_on_click_listener(self, listener, funcname)\n",
      " |  \n",
      " |  set_on_focus_listener(self, listener, funcname)\n",
      " |  \n",
      " |  show(self, baseAppInstance)\n",
      " |      Allows to show the widget as root window\n",
      " |  \n",
      " |  ----------------------------------------------------------------------\n",
      " |  Data and other attributes defined here:\n",
      " |  \n",
      " |  LAYOUT_HORIZONTAL = True\n",
      " |  \n",
      " |  LAYOUT_VERTICAL = False\n",
      " |  \n",
      " |  ----------------------------------------------------------------------\n",
      " |  Methods inherited from Tag:\n",
      " |  \n",
      " |  __setitem__(self, key, value)\n",
      " |      it is used for fast access to 'self.attributes[]'.\n",
      " |  \n",
      " |  remove(self, child)\n",
      " |  \n",
      " |  ----------------------------------------------------------------------\n",
      " |  Data descriptors inherited from Tag:\n",
      " |  \n",
      " |  __dict__\n",
      " |      dictionary for instance variables (if defined)\n",
      " |  \n",
      " |  __weakref__\n",
      " |      list of weak references to the object (if defined)\n",
      "\n"
     ]
    }
   ],
   "source": [
    "help(gui.Widget)"
   ]
  }
 ],
 "metadata": {
  "kernelspec": {
   "display_name": "Python 3",
   "language": "python",
   "name": "python3"
  },
  "language_info": {
   "codemirror_mode": {
    "name": "ipython",
    "version": 3
   },
   "file_extension": ".py",
   "mimetype": "text/x-python",
   "name": "python",
   "nbconvert_exporter": "python",
   "pygments_lexer": "ipython3",
   "version": "3.4.3"
  }
 },
 "nbformat": 4,
 "nbformat_minor": 0
}

{
 "cells": [
  {
   "cell_type": "code",
   "execution_count": 3,
   "metadata": {
    "collapsed": false,
    "run_control": {
     "read_only": false
    }
   },
   "outputs": [
    {
     "name": "stdout",
     "output_type": "stream",
     "text": [
      "Enter the VIN: 5J6RM3H30FL012517\n",
      "VIN: 5J6RM3H30FL012517\n",
      "Vehicle AF On date: 2015-03-11\n",
      "LET date:  2015-03-11\n",
      "Digging in: \\\\naslet01p\\elpdata\\2015\\201503\\20150311\\\n",
      "Digging in: \\\\naslet01p\\elpdata\\2015\\201503\\20150311\\MassPro\n",
      "Digging in: \\\\naslet01p\\elpdata\\2015\\201503\\20150311\\MassPro\\1LINE\n",
      "Adding XML file: \\\\naslet01p\\elpdata\\2015\\201503\\20150311\\MassPro\\1LINE\\5J6RM3H30FL012517_20150311_102557_Z01_NCAT-TST-_Pass_0_1.xml\n",
      "Adding XML file: \\\\naslet01p\\elpdata\\2015\\201503\\20150311\\MassPro\\1LINE\\5J6RM3H30FL012517_20150311_102606_Z01_NCAT-TST-_Pass_0_1.xml\n",
      "Adding XML file: \\\\naslet01p\\elpdata\\2015\\201503\\20150311\\MassPro\\1LINE\\5J6RM3H30FL012517_20150311_102742_Z01_FT1X-AA5-_Pass_0_1.xml\n",
      "Adding XML file: \\\\naslet01p\\elpdata\\2015\\201503\\20150311\\MassPro\\1LINE\\5J6RM3H30FL012517_20150311_102745_Z01_FT1X-AA5-_Pass_0_1.xml\n",
      "Adding XML file: \\\\naslet01p\\elpdata\\2015\\201503\\20150311\\MassPro\\1LINE\\5J6RM3H30FL012517_20150311_102752_Z01_FT1X-AA5-_Pass_0_1.xml\n",
      "Adding XML file: \\\\naslet01p\\elpdata\\2015\\201503\\20150311\\MassPro\\1LINE\\5J6RM3H30FL012517_20150311_103713_U20_FT1X-AA5-000_Pass_0_1.xml\n",
      "Adding XML file: \\\\naslet01p\\elpdata\\2015\\201503\\20150311\\MassPro\\1LINE\\5J6RM3H30FL012517_20150311_110338_U45_FT1X-AA5-000_Pass_0_1.xml\n",
      "Digging in: \\\\naslet01p\\elpdata\\2015\\201503\\20150311\\Test\n",
      "Digging in: \\\\naslet01p\\elpdata\\2015\\201503\\20150311\\Test\\1LINE\n",
      "Adding XML file: \\\\naslet01p\\elpdata\\2015\\201503\\20150311\\Test\\1LINE\\5J6RM3H30FL012517_20150311_095804_A35_FT1X-AA5-000_Pass_1_1.xml\n",
      "Tar file was not found\n",
      "LET date:  2015-03-12\n",
      "Digging in: \\\\naslet01p\\elpdata\\2015\\201503\\20150312\\\n",
      "Digging in: \\\\naslet01p\\elpdata\\2015\\201503\\20150312\\MassPro\n",
      "Digging in: \\\\naslet01p\\elpdata\\2015\\201503\\20150312\\MassPro\\1LINE\n",
      "Digging in: \\\\naslet01p\\elpdata\\2015\\201503\\20150312\\Test\n",
      "Digging in: \\\\naslet01p\\elpdata\\2015\\201503\\20150312\\Test\\1LINE\n",
      "Tar file was not found\n",
      "\n",
      "\n",
      "8 XML files found for VIN: 5J6RM3H30FL012517\n",
      "\\\\naslet01p\\elpdata\\2015\\201503\\20150311\\MassPro\\1LINE\\5J6RM3H30FL012517_20150311_102557_Z01_NCAT-TST-_Pass_0_1.xml\n",
      "\\\\naslet01p\\elpdata\\2015\\201503\\20150311\\MassPro\\1LINE\\5J6RM3H30FL012517_20150311_102606_Z01_NCAT-TST-_Pass_0_1.xml\n",
      "\\\\naslet01p\\elpdata\\2015\\201503\\20150311\\MassPro\\1LINE\\5J6RM3H30FL012517_20150311_102742_Z01_FT1X-AA5-_Pass_0_1.xml\n",
      "\\\\naslet01p\\elpdata\\2015\\201503\\20150311\\MassPro\\1LINE\\5J6RM3H30FL012517_20150311_102745_Z01_FT1X-AA5-_Pass_0_1.xml\n",
      "\\\\naslet01p\\elpdata\\2015\\201503\\20150311\\MassPro\\1LINE\\5J6RM3H30FL012517_20150311_102752_Z01_FT1X-AA5-_Pass_0_1.xml\n",
      "\\\\naslet01p\\elpdata\\2015\\201503\\20150311\\MassPro\\1LINE\\5J6RM3H30FL012517_20150311_103713_U20_FT1X-AA5-000_Pass_0_1.xml\n",
      "\\\\naslet01p\\elpdata\\2015\\201503\\20150311\\MassPro\\1LINE\\5J6RM3H30FL012517_20150311_110338_U45_FT1X-AA5-000_Pass_0_1.xml\n",
      "\\\\naslet01p\\elpdata\\2015\\201503\\20150311\\Test\\1LINE\\5J6RM3H30FL012517_20150311_095804_A35_FT1X-AA5-000_Pass_1_1.xml\n",
      "\n",
      "\n",
      "Scanning for audio serial in file: \\\\naslet01p\\elpdata\\2015\\201503\\20150311\\MassPro\\1LINE\\5J6RM3H30FL012517_20150311_102557_Z01_NCAT-TST-_Pass_0_1.xml\n",
      "No audio unit serial # found\n",
      "Scanning for audio serial in file: \\\\naslet01p\\elpdata\\2015\\201503\\20150311\\MassPro\\1LINE\\5J6RM3H30FL012517_20150311_102606_Z01_NCAT-TST-_Pass_0_1.xml\n",
      "No audio unit serial # found\n",
      "Scanning for audio serial in file: \\\\naslet01p\\elpdata\\2015\\201503\\20150311\\MassPro\\1LINE\\5J6RM3H30FL012517_20150311_102742_Z01_FT1X-AA5-_Pass_0_1.xml\n",
      "No audio unit serial # found\n",
      "Scanning for audio serial in file: \\\\naslet01p\\elpdata\\2015\\201503\\20150311\\MassPro\\1LINE\\5J6RM3H30FL012517_20150311_102745_Z01_FT1X-AA5-_Pass_0_1.xml\n",
      "No audio unit serial # found\n",
      "Scanning for audio serial in file: \\\\naslet01p\\elpdata\\2015\\201503\\20150311\\MassPro\\1LINE\\5J6RM3H30FL012517_20150311_102752_Z01_FT1X-AA5-_Pass_0_1.xml\n",
      "No audio unit serial # found\n",
      "Scanning for audio serial in file: \\\\naslet01p\\elpdata\\2015\\201503\\20150311\\MassPro\\1LINE\\5J6RM3H30FL012517_20150311_103713_U20_FT1X-AA5-000_Pass_0_1.xml\n",
      "No audio unit serial # found\n",
      "Scanning for audio serial in file: \\\\naslet01p\\elpdata\\2015\\201503\\20150311\\MassPro\\1LINE\\5J6RM3H30FL012517_20150311_110338_U45_FT1X-AA5-000_Pass_0_1.xml\n",
      "Audio serial #: 15542004\n",
      "testtime: 2015-03-11T11:03:30\n",
      "Scanning for audio serial in file: \\\\naslet01p\\elpdata\\2015\\201503\\20150311\\Test\\1LINE\\5J6RM3H30FL012517_20150311_095804_A35_FT1X-AA5-000_Pass_1_1.xml\n",
      "No audio unit serial # found\n"
     ]
    }
   ],
   "source": [
    "import LetTests as let\n",
    "import os, shutil\n",
    "\n",
    "def main(vin):\n",
    "    files = let.getXmlFiles(vin, let.getLetDrive(vin), let.getVehBuildDate(vin))\n",
    "    #files = let.getXmlFiles(vin, let.getLetDrive(vin), '2011-08-25')  # Manually enter a date if no LET files were found via normal search\n",
    "\n",
    "    print(\"\\n\")\n",
    "    print(len(files), \"XML files found for VIN:\", vin)\n",
    "\n",
    "    for file in files:\n",
    "        print(file)\n",
    "\n",
    "    print(\"\\n\")\n",
    "    for file in files:\n",
    "        #let.print_fcm_angles(file)\n",
    "        #let.print_fcm_check(file)\n",
    "        #let.print_fcm_serial(file)\n",
    "        #let.print_fcm_clear(file)\n",
    "        \n",
    "        #let.print_lwc_angles(file)\n",
    "        \n",
    "        #let.print_bsi_serial(file)\n",
    "        \n",
    "        #let.print_tpms_id(file)\n",
    "        #let.print_acc_radar_angles(file)\n",
    "        let.print_audio_serial(file)\n",
    "        #let.print_ptrain_dtc(file)\n",
    "        \n",
    "    # Remove tempdata folder for the next time we run this script\n",
    "    if os.access(\"tempdata\", os.F_OK):\n",
    "        print(\"Removing tempdata directory...\")\n",
    "        shutil.rmtree(\"tempdata\")\n",
    "        print(\"tempdata directory successfully deleted\")\n",
    "\n",
    "vin = input(\"Enter the VIN: \")\n",
    "main(vin)"
   ]
  }
 ],
 "metadata": {
  "kernelspec": {
   "display_name": "Python 3",
   "language": "python",
   "name": "python3"
  },
  "language_info": {
   "codemirror_mode": {
    "name": "ipython",
    "version": 3
   },
   "file_extension": ".py",
   "mimetype": "text/x-python",
   "name": "python",
   "nbconvert_exporter": "python",
   "pygments_lexer": "ipython3",
   "version": "3.4.3"
  }
 },
 "nbformat": 4,
 "nbformat_minor": 0
}

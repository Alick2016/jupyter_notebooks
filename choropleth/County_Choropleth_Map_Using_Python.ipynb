{
 "cells": [
  {
   "cell_type": "code",
   "execution_count": null,
   "metadata": {
    "collapsed": true,
    "run_control": {
     "read_only": false
    }
   },
   "outputs": [],
   "source": [
    "import csv\n",
    "from bs4 import BeautifulSoup\n",
    " \n",
    "mw_col_ratio = {}\n",
    "reader = csv.reader(open('wages_fips.csv'), delimiter=\",\")\n",
    "for row in reader:\n",
    "    try:\n",
    "        fips = row[1]\n",
    "        ratio = float( row[2].strip())\n",
    "        mw_col_ratio[fips] = ratio\n",
    "    except:\n",
    "        pass\n",
    " \n",
    "svg = open('counties.svg', 'r').read()\n",
    " \n",
    "soup = BeautifulSoup(svg, selfClosingTags=['defs','sodipodi:namedview'])\n",
    " \n",
    "paths = soup.findAll('path')\n",
    " \n",
    "colors = [\"#ffffcc\", \"#fecc5c\", \"#fd8d3c\", \"#f03b20\", \"#bd0026\"]\n",
    " \n",
    "path_style = 'font-size:12px;fill-rule:nonzero;stroke:#000000;stroke-opacity:1;stroke-width:0.1;stroke-miterlimit:4;stroke-dasharray:none;stroke-linecap:butt;marker-start:none;stroke-linejoin:bevel;fill:'\n",
    " \n",
    "for p in paths:\n",
    "   \n",
    "    if p['id'] not in [\"State_Lines\", \"separator\"]:\n",
    "        try:\n",
    "            ratio = mw_col_ratio[p['id']]\n",
    "        except:\n",
    "            continue\n",
    "           \n",
    "        if ratio >= 1:\n",
    "            color_class = 0\n",
    "        elif ratio > 0.875:\n",
    "            color_class = 1\n",
    "        elif ratio > 0.75:\n",
    "            color_class = 2\n",
    "        elif ratio > 0.625:\n",
    "            color_class = 3\n",
    "        else:\n",
    "            color_class = 4\n",
    " \n",
    "        color = colors[color_class]\n",
    "        p['style'] = path_style + color\n",
    "               \n",
    "print(soup.prettify())"
   ]
  }
 ],
 "metadata": {
  "kernelspec": {
   "display_name": "Python 3",
   "language": "python",
   "name": "python3"
  },
  "language_info": {
   "codemirror_mode": {
    "name": "ipython",
    "version": 3
   },
   "file_extension": ".py",
   "mimetype": "text/x-python",
   "name": "python",
   "nbconvert_exporter": "python",
   "pygments_lexer": "ipython3",
   "version": "3.4.3"
  }
 },
 "nbformat": 4,
 "nbformat_minor": 0
}

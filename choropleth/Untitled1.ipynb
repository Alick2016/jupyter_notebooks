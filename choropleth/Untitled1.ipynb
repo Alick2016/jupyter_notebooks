{
 "cells": [
  {
   "cell_type": "code",
   "execution_count": null,
   "metadata": {
    "collapsed": true,
    "run_control": {
     "read_only": false
    }
   },
   "outputs": [],
   "source": [
    "library(choroplethr)\n",
    "library(choroplethrMaps)\n",
    "data(df_pop_county)\n",
    "head(df_pop_county)"
   ]
  }
 ],
 "metadata": {
  "kernelspec": {
   "display_name": "R",
   "language": "",
   "name": "ir"
  }
 },
 "nbformat": 4,
 "nbformat_minor": 0
}

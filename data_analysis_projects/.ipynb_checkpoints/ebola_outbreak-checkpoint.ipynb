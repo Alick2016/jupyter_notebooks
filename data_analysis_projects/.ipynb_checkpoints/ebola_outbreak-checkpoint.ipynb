{
 "cells": [
  {
   "cell_type": "markdown",
   "metadata": {},
   "source": [
    "This problem set will focus on data visualization, specifically on Ebola data. I'm sure you've read various news reports on the recent ebola outbreaks. But what's really happening with the outbreak? Is it going away? Is it getting worse? Well, why not find out for yourself?\n",
    " \n",
    "For this assignment, you should pick a specific country in the African data, and focus on creating relevant visualizations for that specific country: https://github.com/tristantao/ebola\n",
    " \n",
    "Here are the steps required.\n",
    " \n",
    "Step 1. Aggregation\n",
    "The individual datasets are separately prepared (for example): https://github.com/tristantao/ebola/tree/master/liberia_data\n",
    "You'll need to either aggregate the individual CSVs into a single workable dataset.\n",
    " \n",
    "Step 2. Visualization\n",
    "Build visualizations for the aggregated data. There are different visualizations you can build (a line graph is a good start). Also, there are different variables you can visualize (Total death/s in confirmed cases, New Case/s (Probable), total confirmed cases, and a lot more). Think about which variables might be interesting / meaningful. You're also free to find additional data (geographical data etc), but make sure you cite your sources!\n",
    " \n",
    "There are some sample visualizations here: http://www.bbc.com/news/world-africa-28755033"
   ]
  }
 ],
 "metadata": {
  "kernelspec": {
   "display_name": "Python 3",
   "language": "python",
   "name": "python3"
  },
  "language_info": {
   "codemirror_mode": {
    "name": "ipython",
    "version": 3
   },
   "file_extension": ".py",
   "mimetype": "text/x-python",
   "name": "python",
   "nbconvert_exporter": "python",
   "pygments_lexer": "ipython3",
   "version": "3.4.2"
  }
 },
 "nbformat": 4,
 "nbformat_minor": 0
}

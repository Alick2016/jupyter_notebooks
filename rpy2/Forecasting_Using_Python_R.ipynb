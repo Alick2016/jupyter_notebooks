{
 "cells": [
  {
   "cell_type": "markdown",
   "metadata": {},
   "source": [
    "<center><h1>Forecasting Stock Ticker Data Using Python and R</h1></center>"
   ]
  },
  {
   "cell_type": "markdown",
   "metadata": {},
   "source": [
    "This is just a simple example to show how easy it is to use Python and R together.  The reasons I am using R in addition to Python is because R has such a vast array of available statistical packages that Python currently don't have or not as easily accessible. So I would typically do the data manipulation in Python and then when it comes to the actual statistical heavy-lifting, I use R.   Another reason why I still use R from time to time, is because R's ggplot2 plotting library is awesome.  But there is a Python port of ggplot2 made by [Yhat](http://blog.yhathq.com/posts/ggplot-for-python.html).  But it still has some ways to go to be good for production use.\n",
    "\n",
    "After you have Python/IPython [notebook](http://ipython.org/install.html) installed and set up, you just need to install R first and then rpy2.  In this example, it is assumed you have installed the [Pandas](http://pandas.pydata.org/) library.\n",
    "\n",
    "You install R by going [here](http://www.r-project.org/) or do a: sudo apt-get install r-base if you're on a Ubuntu-based machine.  Then install rpy2 by executing pip at the console/terminal: pip install rpy2\n",
    "\n",
    "<strong>NOTE:</strong> On Windows 7, it'll be hit or miss.  At least for me, I would get weird unformatted output to the IPython notebook from R on a Windows 7 machine.  rpy2's own website also state they do not fully support Windows, which is too bad since I have to use Windows at work.  But generating charts still worked on Windows and you can still get formatted output from the terminal console that you've launched ipython notebook server from.\n",
    "\n",
    "My setup:\n",
    "- Python 3.4.3 installed using Anaconda distribution using miniconda3 [installer](http://conda.pydata.org/miniconda.html).  Who wants to wait for your favorite libraries to compile?  Not me.  Use Anaconda!\n",
    "- Xubuntu 14.04\n",
    "- IPython version 3.1.0\n",
    "- R version 3.2.1 (installed via: sudo apt-get install r-base)\n",
    "- rpy2 version 2.6.0 (installed via: pip install rpy2 because rpy2 is not available in the Anaconda distribution)"
   ]
  },
  {
   "cell_type": "markdown",
   "metadata": {},
   "source": [
    "## Obtaining stock ticker data"
   ]
  },
  {
   "cell_type": "markdown",
   "metadata": {},
   "source": [
    "The pandas library has a really nice built-in interface to Yahoo's stock data."
   ]
  },
  {
   "cell_type": "code",
   "execution_count": 2,
   "metadata": {
    "collapsed": false
   },
   "outputs": [],
   "source": [
    "from pandas_datareader import data as web\n",
    "from datetime import datetime\n",
    "import pandas as pd\n",
    "\n",
    "ticker = 'HMC'                 # Honda Motor Company\n",
    "start = datetime(2014, 1, 1)\n",
    "end = datetime(2015, 6, 19)\n",
    "\n",
    "df=web.DataReader(ticker, 'yahoo', start, end)"
   ]
  },
  {
   "cell_type": "code",
   "execution_count": 3,
   "metadata": {
    "collapsed": false
   },
   "outputs": [
    {
     "data": {
      "text/html": [
       "<div>\n",
       "<table border=\"1\" class=\"dataframe\">\n",
       "  <thead>\n",
       "    <tr style=\"text-align: right;\">\n",
       "      <th></th>\n",
       "      <th>Open</th>\n",
       "      <th>High</th>\n",
       "      <th>Low</th>\n",
       "      <th>Close</th>\n",
       "      <th>Volume</th>\n",
       "      <th>Adj Close</th>\n",
       "    </tr>\n",
       "    <tr>\n",
       "      <th>Date</th>\n",
       "      <th></th>\n",
       "      <th></th>\n",
       "      <th></th>\n",
       "      <th></th>\n",
       "      <th></th>\n",
       "      <th></th>\n",
       "    </tr>\n",
       "  </thead>\n",
       "  <tbody>\n",
       "    <tr>\n",
       "      <th>2014-01-02</th>\n",
       "      <td>41.099998</td>\n",
       "      <td>41.130001</td>\n",
       "      <td>40.599998</td>\n",
       "      <td>40.689999</td>\n",
       "      <td>179400</td>\n",
       "      <td>40.689999</td>\n",
       "    </tr>\n",
       "    <tr>\n",
       "      <th>2014-01-03</th>\n",
       "      <td>40.680000</td>\n",
       "      <td>40.820000</td>\n",
       "      <td>40.500000</td>\n",
       "      <td>40.689999</td>\n",
       "      <td>191900</td>\n",
       "      <td>40.689999</td>\n",
       "    </tr>\n",
       "    <tr>\n",
       "      <th>2014-01-06</th>\n",
       "      <td>41.080002</td>\n",
       "      <td>41.380001</td>\n",
       "      <td>40.660000</td>\n",
       "      <td>40.799999</td>\n",
       "      <td>277000</td>\n",
       "      <td>40.799999</td>\n",
       "    </tr>\n",
       "    <tr>\n",
       "      <th>2014-01-07</th>\n",
       "      <td>40.669998</td>\n",
       "      <td>40.810001</td>\n",
       "      <td>40.560001</td>\n",
       "      <td>40.709999</td>\n",
       "      <td>207000</td>\n",
       "      <td>40.709999</td>\n",
       "    </tr>\n",
       "    <tr>\n",
       "      <th>2014-01-08</th>\n",
       "      <td>40.720001</td>\n",
       "      <td>40.720001</td>\n",
       "      <td>40.500000</td>\n",
       "      <td>40.650002</td>\n",
       "      <td>258100</td>\n",
       "      <td>40.650002</td>\n",
       "    </tr>\n",
       "  </tbody>\n",
       "</table>\n",
       "</div>"
      ],
      "text/plain": [
       "                 Open       High        Low      Close  Volume  Adj Close\n",
       "Date                                                                     \n",
       "2014-01-02  41.099998  41.130001  40.599998  40.689999  179400  40.689999\n",
       "2014-01-03  40.680000  40.820000  40.500000  40.689999  191900  40.689999\n",
       "2014-01-06  41.080002  41.380001  40.660000  40.799999  277000  40.799999\n",
       "2014-01-07  40.669998  40.810001  40.560001  40.709999  207000  40.709999\n",
       "2014-01-08  40.720001  40.720001  40.500000  40.650002  258100  40.650002"
      ]
     },
     "execution_count": 3,
     "metadata": {},
     "output_type": "execute_result"
    }
   ],
   "source": [
    "df.head()   # Let's look at the first 5 rows of our data set"
   ]
  },
  {
   "cell_type": "markdown",
   "metadata": {},
   "source": [
    "**The x-axis data (\"Date\") can't be a dataframe index so we'll have to convert it to an actual column:**"
   ]
  },
  {
   "cell_type": "code",
   "execution_count": 4,
   "metadata": {
    "collapsed": false
   },
   "outputs": [],
   "source": [
    "df.reset_index(level=0, inplace=True)"
   ]
  },
  {
   "cell_type": "code",
   "execution_count": 5,
   "metadata": {
    "collapsed": false
   },
   "outputs": [
    {
     "data": {
      "text/html": [
       "<div>\n",
       "<table border=\"1\" class=\"dataframe\">\n",
       "  <thead>\n",
       "    <tr style=\"text-align: right;\">\n",
       "      <th></th>\n",
       "      <th>Date</th>\n",
       "      <th>Open</th>\n",
       "      <th>High</th>\n",
       "      <th>Low</th>\n",
       "      <th>Close</th>\n",
       "      <th>Volume</th>\n",
       "      <th>Adj Close</th>\n",
       "    </tr>\n",
       "  </thead>\n",
       "  <tbody>\n",
       "    <tr>\n",
       "      <th>0</th>\n",
       "      <td>2014-01-02</td>\n",
       "      <td>41.099998</td>\n",
       "      <td>41.130001</td>\n",
       "      <td>40.599998</td>\n",
       "      <td>40.689999</td>\n",
       "      <td>179400</td>\n",
       "      <td>40.689999</td>\n",
       "    </tr>\n",
       "    <tr>\n",
       "      <th>1</th>\n",
       "      <td>2014-01-03</td>\n",
       "      <td>40.680000</td>\n",
       "      <td>40.820000</td>\n",
       "      <td>40.500000</td>\n",
       "      <td>40.689999</td>\n",
       "      <td>191900</td>\n",
       "      <td>40.689999</td>\n",
       "    </tr>\n",
       "    <tr>\n",
       "      <th>2</th>\n",
       "      <td>2014-01-06</td>\n",
       "      <td>41.080002</td>\n",
       "      <td>41.380001</td>\n",
       "      <td>40.660000</td>\n",
       "      <td>40.799999</td>\n",
       "      <td>277000</td>\n",
       "      <td>40.799999</td>\n",
       "    </tr>\n",
       "    <tr>\n",
       "      <th>3</th>\n",
       "      <td>2014-01-07</td>\n",
       "      <td>40.669998</td>\n",
       "      <td>40.810001</td>\n",
       "      <td>40.560001</td>\n",
       "      <td>40.709999</td>\n",
       "      <td>207000</td>\n",
       "      <td>40.709999</td>\n",
       "    </tr>\n",
       "    <tr>\n",
       "      <th>4</th>\n",
       "      <td>2014-01-08</td>\n",
       "      <td>40.720001</td>\n",
       "      <td>40.720001</td>\n",
       "      <td>40.500000</td>\n",
       "      <td>40.650002</td>\n",
       "      <td>258100</td>\n",
       "      <td>40.650002</td>\n",
       "    </tr>\n",
       "  </tbody>\n",
       "</table>\n",
       "</div>"
      ],
      "text/plain": [
       "        Date       Open       High        Low      Close  Volume  Adj Close\n",
       "0 2014-01-02  41.099998  41.130001  40.599998  40.689999  179400  40.689999\n",
       "1 2014-01-03  40.680000  40.820000  40.500000  40.689999  191900  40.689999\n",
       "2 2014-01-06  41.080002  41.380001  40.660000  40.799999  277000  40.799999\n",
       "3 2014-01-07  40.669998  40.810001  40.560001  40.709999  207000  40.709999\n",
       "4 2014-01-08  40.720001  40.720001  40.500000  40.650002  258100  40.650002"
      ]
     },
     "execution_count": 5,
     "metadata": {},
     "output_type": "execute_result"
    }
   ],
   "source": [
    "df.head()"
   ]
  },
  {
   "cell_type": "markdown",
   "metadata": {},
   "source": [
    "The dataframe index is now a column (\"Date\")."
   ]
  },
  {
   "cell_type": "markdown",
   "metadata": {},
   "source": [
    "### Load the rpy2 extension so that we can interact with R"
   ]
  },
  {
   "cell_type": "code",
   "execution_count": 6,
   "metadata": {
    "collapsed": false
   },
   "outputs": [],
   "source": [
    "%load_ext rpy2.ipython"
   ]
  },
  {
   "cell_type": "markdown",
   "metadata": {},
   "source": [
    "### Pass the pandas dataframe to R as an input.  Other options can be found [here](http://ipython.org/ipython-doc/stable/config/extensions/rmagic.html)."
   ]
  },
  {
   "cell_type": "code",
   "execution_count": 7,
   "metadata": {
    "collapsed": false
   },
   "outputs": [],
   "source": [
    "%R -i df"
   ]
  },
  {
   "cell_type": "markdown",
   "metadata": {},
   "source": [
    "## Now plot the stock ticker Closing price using R's ggplot2 library"
   ]
  },
  {
   "cell_type": "code",
   "execution_count": 8,
   "metadata": {
    "collapsed": false
   },
   "outputs": [
    {
     "data": {
      "image/png": "[encoded data removed]"
     },
     "metadata": {},
     "output_type": "display_data"
    }
   ],
   "source": [
    "%%R -w 800 -h 500 -u px # Set size of chart.  Instead of px, you can also choose 'in', 'cm', or 'mm'\n",
    "df = as.data.frame(df)  # ensure dataframe that was passed in from Python will be R's dataframe type\n",
    "library(ggplot2)\n",
    "library(scales)\n",
    "p = ggplot(df, aes(df$Date, df$Adj.Close))\n",
    "p = p + \n",
    "    geom_line() +\n",
    "    ggtitle(\"HMC Closing Price\") +\n",
    "    scale_x_datetime(labels=date_format(\"%Y-%m\"), breaks=\"3 months\", minor_breaks=\"1 month\") +\n",
    "    xlab(\"Date\") +\n",
    "    ylab(\"Price\")\n",
    "print(p)"
   ]
  },
  {
   "cell_type": "markdown",
   "metadata": {},
   "source": [
    "## Let's forecast using R's forecast package"
   ]
  },
  {
   "cell_type": "code",
   "execution_count": 12,
   "metadata": {
    "collapsed": false
   },
   "outputs": [
    {
     "name": "stdout",
     "output_type": "stream",
     "text": [
      "\n",
      "Error in decompose(ts(x[1L:wind], start = start(x), frequency = f), seasonal) : \n",
      "  time series has no or less than 2 periods\n"
     ]
    }
   ],
   "source": [
    "%%R\n",
    "library(forecast)\n",
    "HoltWinters(df$Adj.Close)  # We're usign Holt-Winters, but there are several other models to choose from"
   ]
  },
  {
   "cell_type": "markdown",
   "metadata": {},
   "source": [
    "#### Error message just means no seasonality was detected.  So we will not use gamma in our model."
   ]
  },
  {
   "cell_type": "markdown",
   "metadata": {},
   "source": [
    "## Let's output a summary of our H-W model"
   ]
  },
  {
   "cell_type": "code",
   "execution_count": 9,
   "metadata": {
    "collapsed": false
   },
   "outputs": [
    {
     "data": {
      "text/plain": [
       "\n",
       "Forecast method: HoltWinters\n",
       "\n",
       "Model Information:\n",
       "Holt-Winters exponential smoothing with trend and without seasonal component.\n",
       "\n",
       "Call:\n",
       "HoltWinters(x = df$Adj.Close, gamma = FALSE)\n",
       "\n",
       "Smoothing parameters:\n",
       " alpha: 0.9958192\n",
       " beta : 0\n",
       " gamma: FALSE\n",
       "\n",
       "Coefficients:\n",
       "      [,1]\n",
       "a 32.48021\n",
       "b  0.00000\n",
       "\n",
       "Error measures:\n",
       "                      ME      RMSE       MAE         MPE     MAPE      MASE\n",
       "Training set -0.02246391 0.4151351 0.3016036 -0.05416424 0.894788 0.9982537\n",
       "                     ACF1\n",
       "Training set -0.002765243\n",
       "\n",
       "Forecasts:\n",
       "    Point Forecast    Lo 80    Hi 80    Lo 95    Hi 95\n",
       "370       32.48021 31.94825 33.01217 31.66664 33.29378\n",
       "371       32.48021 31.72947 33.23095 31.33206 33.62837\n",
       "372       32.48021 31.56139 33.39903 31.07500 33.88542\n",
       "373       32.48021 31.41962 33.54080 30.85818 34.10224\n",
       "374       32.48021 31.29468 33.66574 30.66710 34.29332\n",
       "375       32.48021 31.18171 33.77871 30.49433 34.46609\n",
       "376       32.48021 31.07781 33.88261 30.33543 34.62499\n",
       "377       32.48021 30.98110 33.97933 30.18751 34.77291\n",
       "378       32.48021 30.89025 34.07017 30.04858 34.91184\n",
       "379       32.48021 30.80432 34.15610 29.91716 35.04326\n",
       "380       32.48021 30.72259 34.23783 29.79217 35.16825\n",
       "381       32.48021 30.64450 34.31592 29.67273 35.28769\n",
       "382       32.48021 30.56959 34.39083 29.55817 35.40225\n",
       "383       32.48021 30.49751 34.46291 29.44794 35.51248\n",
       "384       32.48021 30.42797 34.53245 29.34157 35.61885\n",
       "385       32.48021 30.36070 34.59972 29.23870 35.72172\n",
       "386       32.48021 30.29550 34.66492 29.13899 35.82143\n",
       "387       32.48021 30.23219 34.72823 29.04217 35.91825\n",
       "388       32.48021 30.17062 34.78980 28.94800 36.01242\n",
       "389       32.48021 30.11065 34.84977 28.85628 36.10414\n"
      ]
     },
     "metadata": {},
     "output_type": "display_data"
    }
   ],
   "source": [
    "%%R\n",
    "hwm = HoltWinters(df$Adj.Close, gamma=FALSE)\n",
    "hwf = forecast.HoltWinters(hwm, h=20)  # forecast out to 20 time periods\n",
    "summary(hwf)"
   ]
  },
  {
   "cell_type": "markdown",
   "metadata": {},
   "source": [
    "#### Above is our point forecasts and their respective 80th- and 95th-percentile confidence intervals"
   ]
  },
  {
   "cell_type": "markdown",
   "metadata": {},
   "source": [
    "## Now let's plot the actual data and forecast together with confidence intervals"
   ]
  },
  {
   "cell_type": "code",
   "execution_count": 13,
   "metadata": {
    "collapsed": false
   },
   "outputs": [
    {
     "data": {
      "image/png": "[encoded data removed]"
     },
     "metadata": {},
     "output_type": "display_data"
    }
   ],
   "source": [
    "%%R -w 800 -h 500 -u px\n",
    "plot.forecast(hwf)"
   ]
  },
  {
   "cell_type": "markdown",
   "metadata": {},
   "source": [
    "The darker grey region represents the 80th percentile, while the lighter grey region represents the 95th percentile.  Using the 95th percentile forecast, Honda's stock can be anywhere from \\$28.86 to \\$36.10 after 20 months since June 19, 2015."
   ]
  }
 ],
 "metadata": {
  "kernelspec": {
   "display_name": "Python 3",
   "language": "python",
   "name": "python3"
  },
  "language_info": {
   "codemirror_mode": {
    "name": "ipython",
    "version": 3
   },
   "file_extension": ".py",
   "mimetype": "text/x-python",
   "name": "python",
   "nbconvert_exporter": "python",
   "pygments_lexer": "ipython3",
   "version": "3.4.3"
  }
 },
 "nbformat": 4,
 "nbformat_minor": 0
}

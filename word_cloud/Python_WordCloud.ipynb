{
 "cells": [
  {
   "cell_type": "code",
   "execution_count": 39,
   "metadata": {
    "collapsed": true,
    "run_control": {
     "read_only": false
    }
   },
   "outputs": [],
   "source": [
    "%matplotlib inline\n",
    "import matplotlib.pyplot as plt\n",
    "import pandas as pd\n",
    "import numpy as np\n",
    "pd.set_option(\"display.max_rows\",1000)\n",
    "pd.set_option(\"display.max_columns\",100)"
   ]
  },
  {
   "cell_type": "code",
   "execution_count": 40,
   "metadata": {
    "collapsed": false,
    "run_control": {
     "read_only": false
    }
   },
   "outputs": [
    {
     "name": "stderr",
     "output_type": "stream",
     "text": [
      "/home/pybokeh/miniconda3/envs/jupyter/lib/python3.4/site-packages/pandas/io/parsers.py:1159: DtypeWarning: Columns (0,19) have mixed types. Specify dtype option on import or set low_memory=False.\n",
      "  data = self._reader.read(nrows)\n"
     ]
    }
   ],
   "source": [
    "df = pd.read_csv('/home/pybokeh/Downloads/LoanStats3c.csv', skiprows=1)\n",
    "df = df[:20]"
   ]
  },
  {
   "cell_type": "code",
   "execution_count": 41,
   "metadata": {
    "collapsed": false,
    "run_control": {
     "read_only": false
    }
   },
   "outputs": [],
   "source": [
    "emp_title = df['emp_title']"
   ]
  },
  {
   "cell_type": "code",
   "execution_count": 42,
   "metadata": {
    "collapsed": false,
    "run_control": {
     "read_only": false
    }
   },
   "outputs": [
    {
     "data": {
      "text/plain": [
       "pandas.core.series.Series"
      ]
     },
     "execution_count": 42,
     "metadata": {},
     "output_type": "execute_result"
    }
   ],
   "source": [
    "type(emp_title)"
   ]
  },
  {
   "cell_type": "code",
   "execution_count": 43,
   "metadata": {
    "collapsed": false,
    "run_control": {
     "read_only": false
    }
   },
   "outputs": [],
   "source": [
    "strWords = ''\n",
    "for value in emp_title:\n",
    "    strWords = strWords + ' ' + str(value)"
   ]
  },
  {
   "cell_type": "code",
   "execution_count": 44,
   "metadata": {
    "collapsed": false,
    "run_control": {
     "read_only": false
    }
   },
   "outputs": [
    {
     "data": {
      "image/png": "[encoded data removed]",
      "text/plain": [
       "<matplotlib.figure.Figure at 0xa66227ac>"
      ]
     },
     "metadata": {},
     "output_type": "display_data"
    },
    {
     "data": {
      "image/png": "[encoded data removed]",
      "text/plain": [
       "<matplotlib.figure.Figure at 0xa71b792c>"
      ]
     },
     "metadata": {},
     "output_type": "display_data"
    }
   ],
   "source": [
    "from os import path\n",
    "from scipy.misc import imread\n",
    "import matplotlib.pyplot as plt\n",
    "from wordcloud import WordCloud, STOPWORDS\n",
    "d = path.dirname('/home/pybokeh/Downloads/')\n",
    "# Read the whole text.\n",
    "text = strWords\n",
    "#text = open(path.join(d, 'alice.txt')).read()\n",
    "\n",
    "# read the mask image\n",
    "# taken from\n",
    "# http://www.stencilry.org/stencils/movies/alice%20in%20wonderland/255fk.jpg\n",
    "alice_mask = imread(path.join(d, \"alice_mask.png\"), flatten=True)\n",
    "wc = WordCloud(background_color=\"white\", max_words=2000, mask=alice_mask,\n",
    "stopwords=STOPWORDS.add(\"said\"))\n",
    "# generate word cloud\n",
    "wc.generate(text)\n",
    "# store to file\n",
    "wc.to_file(path.join(d, \"alice.png\"))\n",
    "# show\n",
    "plt.imshow(wc)\n",
    "plt.axis(\"off\")\n",
    "plt.figure()\n",
    "plt.imshow(alice_mask, cmap=plt.cm.gray)\n",
    "plt.axis(\"off\")\n",
    "plt.show()"
   ]
  },
  {
   "cell_type": "code",
   "execution_count": 30,
   "metadata": {
    "collapsed": false,
    "run_control": {
     "read_only": false
    }
   },
   "outputs": [
    {
     "data": {
      "text/plain": [
       "'/home/pybokeh/Downloads'"
      ]
     },
     "execution_count": 30,
     "metadata": {},
     "output_type": "execute_result"
    }
   ],
   "source": [
    "d"
   ]
  },
  {
   "cell_type": "code",
   "execution_count": 31,
   "metadata": {
    "collapsed": true,
    "run_control": {
     "read_only": false
    }
   },
   "outputs": [],
   "source": [
    "alice = path.join(d, \"alice_mask.png\")"
   ]
  },
  {
   "cell_type": "code",
   "execution_count": 32,
   "metadata": {
    "collapsed": false,
    "run_control": {
     "read_only": false
    }
   },
   "outputs": [
    {
     "name": "stdout",
     "output_type": "stream",
     "text": [
      "/home/pybokeh/Downloads/alice_mask.png\n"
     ]
    }
   ],
   "source": [
    "print(alice)"
   ]
  },
  {
   "cell_type": "code",
   "execution_count": 35,
   "metadata": {
    "collapsed": false
   },
   "outputs": [
    {
     "data": {
      "text/plain": [
       "\"Project Gutenberg's Alice's Adventures in Wonderland, by Lewis Carroll\\n\\nThis eBook is for the use of anyone anywhere at \""
      ]
     },
     "execution_count": 35,
     "metadata": {},
     "output_type": "execute_result"
    }
   ],
   "source": [
    "text[:120]"
   ]
  },
  {
   "cell_type": "code",
   "execution_count": 38,
   "metadata": {
    "collapsed": false
   },
   "outputs": [
    {
     "name": "stdout",
     "output_type": "stream",
     "text": [
      "Linux-3.16.0-31-generic-i686-with-debian-jessie-sid\n",
      "setuptools 14.3\n",
      "seaborn 0.5.1\n",
      "clyent 0.3.2\n",
      "image 1.3.4\n",
      "folium 0.1.3\n",
      "pip 6.0.8\n",
      "patsy 0.3.0\n",
      "rpy2 2.5.6\n",
      "wordcloud 1.0.0\n",
      "statsmodels 0.6.1\n",
      "Jinja2 2.7.3\n",
      "PyYAML 3.11\n",
      "Cython 0.22\n",
      "pandas 0.15.2\n",
      "pytz 2014.9\n",
      "requests 2.5.3\n",
      "Django 1.7.7\n",
      "pyzmq 14.5.0\n",
      "ipython 3.0.0\n",
      "tornado 4.1\n",
      "html5lib 0.999\n",
      "MarkupSafe 0.23\n",
      "Pillow 2.7.0\n",
      "numpy 1.9.2\n",
      "matplotlib 1.4.3\n",
      "Pygments 2.0.2\n",
      "jsonschema 2.4.0\n",
      "terminado 0.5\n",
      "binstar 0.10.1\n",
      "scipy 0.15.1\n",
      "six 1.9.0\n",
      "python-dateutil 2.1\n",
      "pyparsing 2.0.3\n",
      "ptyprocess 0.4\n",
      "beautifulsoup4 4.3.2\n",
      "mistune 0.5\n",
      "lxml 3.4.2\n"
     ]
    }
   ],
   "source": [
    "import platform\n",
    "import pip\n",
    "\n",
    "print(platform.platform())\n",
    "modules = pip.get_installed_distributions()\n",
    "for m in modules:\n",
    "    print(m)"
   ]
  }
 ],
 "metadata": {
  "kernelspec": {
   "display_name": "Python 3",
   "language": "python",
   "name": "python3"
  },
  "language_info": {
   "codemirror_mode": {
    "name": "ipython",
    "version": 3
   },
   "file_extension": ".py",
   "mimetype": "text/x-python",
   "name": "python",
   "nbconvert_exporter": "python",
   "pygments_lexer": "ipython3",
   "version": "3.4.3"
  }
 },
 "nbformat": 4,
 "nbformat_minor": 0
}
